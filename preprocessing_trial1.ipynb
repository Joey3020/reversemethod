{
 "cells": [
  {
   "cell_type": "code",
   "execution_count": 12,
   "metadata": {},
   "outputs": [],
   "source": [
    "import pandas as pd\n",
    "import numpy as np\n",
    "import matplotlib.pyplot as plt\n",
    "import cv2\n",
    "import os\n",
    "import torch\n",
    "from tqdm import tqdm"
   ]
  },
  {
   "cell_type": "code",
   "execution_count": 13,
   "metadata": {},
   "outputs": [],
   "source": [
    "PATH = 'testdata(small).xlsx'\n",
    "data = pd.read_excel(open(PATH, 'rb'), sheet_name='Sheet1', header=None)\n",
    "data = data.to_numpy()\n",
    "label = pd.read_excel(open(PATH, 'rb'), sheet_name='Sheet2', header=None)\n",
    "label = torch.from_numpy( np.array(label) ).float()\n"
   ]
  },
  {
   "cell_type": "code",
   "execution_count": 14,
   "metadata": {},
   "outputs": [
    {
     "data": {
      "image/png": "[encoded data removed]",
      "text/plain": [
       "<Figure size 36x36 with 1 Axes>"
      ]
     },
     "metadata": {
      "needs_background": "light"
     },
     "output_type": "display_data"
    }
   ],
   "source": [
    "fig = plt.figure(frameon=False)\n",
    "fig.set_size_inches(0.5, 0.5)\n",
    "ax = plt.Axes(fig, [0., 0., 1., 1.])\n",
    "ax.set_axis_off()\n",
    "fig.add_axes(ax)\n",
    "for i in range(len(data)):\n",
    "    img = data[i]\n",
    "    ax.imshow(img.reshape(-1, 64), aspect='auto')\n",
    "    path = 'images\\%d th_fig.jpg'%i\n",
    "    fig.savefig(path)"
   ]
  },
  {
   "cell_type": "code",
   "execution_count": 15,
   "metadata": {},
   "outputs": [
    {
     "name": "stderr",
     "output_type": "stream",
     "text": [
      "2it [00:00, 17.91it/s]\n"
     ]
    }
   ],
   "source": [
    "import os\n",
    "images = []\n",
    "data_path = ['train', 'val']\n",
    "for i, dp in tqdm(enumerate(data_path)):\n",
    "    curpath = os.path.join('images', dp)\n",
    "    for f in os.listdir(curpath):\n",
    "        path = os.path.join(curpath, f)\n",
    "        img = cv2.imread(path)\n",
    "        images.append(np.array(img))"
   ]
  },
  {
   "cell_type": "code",
   "execution_count": 10,
   "metadata": {},
   "outputs": [
    {
     "name": "stdout",
     "output_type": "stream",
     "text": [
      "[[[ 35 226 213]\n",
      "  [ 27 221 209]\n",
      "  [ 21 222 213]\n",
      "  ...\n",
      "  [147 105  52]\n",
      "  [146 101  57]\n",
      "  [146 100  59]]\n",
      "\n",
      " [[ 32 224 213]\n",
      "  [ 26 221 211]\n",
      "  [ 22 224 217]\n",
      "  ...\n",
      "  [139  88  56]\n",
      "  [136  82  59]\n",
      "  [134  78  59]]\n",
      "\n",
      " [[ 31 224 214]\n",
      "  [ 26 223 215]\n",
      "  [ 24 226 225]\n",
      "  ...\n",
      "  [121  51  64]\n",
      "  [117  44  66]\n",
      "  [115  41  67]]\n",
      "\n",
      " ...\n",
      "\n",
      " [[ 40 232 202]\n",
      "  [ 33 222 191]\n",
      "  [ 37 219 185]\n",
      "  ...\n",
      "  [138 135  31]\n",
      "  [138 134  32]\n",
      "  [138 135  31]]\n",
      "\n",
      " [[ 35 230 204]\n",
      "  [ 30 223 197]\n",
      "  [ 35 223 198]\n",
      "  ...\n",
      "  [141 120  38]\n",
      "  [140 119  38]\n",
      "  [140 119  37]]\n",
      "\n",
      " [[ 33 229 206]\n",
      "  [ 29 223 200]\n",
      "  [ 34 225 204]\n",
      "  ...\n",
      "  [143 113  42]\n",
      "  [142 112  41]\n",
      "  [141 111  40]]]\n"
     ]
    }
   ],
   "source": [
    "print(images[0])"
   ]
  },
  {
   "cell_type": "code",
   "execution_count": 6,
   "metadata": {},
   "outputs": [
    {
     "data": {
      "image/png": "[encoded data removed]",
      "text/plain": [
       "<Figure size 432x288 with 1 Axes>"
      ]
     },
     "metadata": {
      "needs_background": "light"
     },
     "output_type": "display_data"
    },
    {
     "name": "stdout",
     "output_type": "stream",
     "text": [
      "[[[ 35 226 213]\n",
      "  [ 27 221 209]\n",
      "  [ 21 222 213]\n",
      "  ...\n",
      "  [147 105  52]\n",
      "  [146 101  57]\n",
      "  [146 100  59]]\n",
      "\n",
      " [[ 32 224 213]\n",
      "  [ 26 221 211]\n",
      "  [ 22 224 217]\n",
      "  ...\n",
      "  [139  88  56]\n",
      "  [136  82  59]\n",
      "  [134  78  59]]\n",
      "\n",
      " [[ 31 224 214]\n",
      "  [ 26 223 215]\n",
      "  [ 24 226 225]\n",
      "  ...\n",
      "  [121  51  64]\n",
      "  [117  44  66]\n",
      "  [115  41  67]]\n",
      "\n",
      " ...\n",
      "\n",
      " [[ 40 232 202]\n",
      "  [ 33 222 191]\n",
      "  [ 37 219 185]\n",
      "  ...\n",
      "  [138 135  31]\n",
      "  [138 134  32]\n",
      "  [138 135  31]]\n",
      "\n",
      " [[ 35 230 204]\n",
      "  [ 30 223 197]\n",
      "  [ 35 223 198]\n",
      "  ...\n",
      "  [141 120  38]\n",
      "  [140 119  38]\n",
      "  [140 119  37]]\n",
      "\n",
      " [[ 33 229 206]\n",
      "  [ 29 223 200]\n",
      "  [ 34 225 204]\n",
      "  ...\n",
      "  [143 113  42]\n",
      "  [142 112  41]\n",
      "  [141 111  40]]]\n"
     ]
    }
   ],
   "source": [
    "for i, img in enumerate(images):\n",
    "    img = np.array(img)\n",
    "    plt.imshow(img)\n",
    "    plt.show()\n",
    "    print(img)\n",
    "    break\n"
   ]
  },
  {
   "cell_type": "code",
   "execution_count": null,
   "metadata": {},
   "outputs": [],
   "source": []
  }
 ],
 "metadata": {
  "kernelspec": {
   "display_name": "Python 3",
   "language": "python",
   "name": "python3"
  },
  "language_info": {
   "codemirror_mode": {
    "name": "ipython",
    "version": 3
   },
   "file_extension": ".py",
   "mimetype": "text/x-python",
   "name": "python",
   "nbconvert_exporter": "python",
   "pygments_lexer": "ipython3",
   "version": "3.7.5"
  }
 },
 "nbformat": 4,
 "nbformat_minor": 2
}

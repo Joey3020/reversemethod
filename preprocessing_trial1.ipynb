{
 "cells": [
  {
   "cell_type": "code",
   "execution_count": 1,
   "metadata": {},
   "outputs": [],
   "source": [
    "import pandas as pd\n",
    "import numpy as np\n",
    "import matplotlib.pyplot as plt\n",
    "import cv2\n",
    "import os\n",
    "import torch\n",
    "from tqdm import tqdm"
   ]
  },
  {
   "cell_type": "code",
   "execution_count": 8,
   "metadata": {},
   "outputs": [
    {
     "name": "stderr",
     "output_type": "stream",
     "text": [
      "100%|██████████████████████████████████████████████████████████████████████████████| 1000/1000 [07:58<00:00,  2.09it/s]\n"
     ]
    },
    {
     "data": {
      "image/png": "[encoded data removed]",
      "text/plain": [
       "<Figure size 36x36 with 1 Axes>"
      ]
     },
     "metadata": {
      "needs_background": "light"
     },
     "output_type": "display_data"
    }
   ],
   "source": [
    "#for ii in range(8):\n",
    "#    idx = ii + 1\n",
    "#    print(idx)\n",
    "BASE_PATH = 'big'\n",
    "#    FILE_NAME = 'valdata%d.xlsx'%idx\n",
    "FILE_NAME = 'testdata.xlsx'\n",
    "PATH = os.path.join('data', BASE_PATH, FILE_NAME)\n",
    "data = pd.read_excel(open(PATH, 'rb'), sheet_name='Sheet1', header=None)\n",
    "data = data.to_numpy()\n",
    "label = pd.read_excel(open(PATH, 'rb'), sheet_name='Sheet2', header=None)\n",
    "label = torch.from_numpy( np.array(label) ).float()\n",
    "fig = plt.figure(frameon=False)\n",
    "fig.set_size_inches(0.5, 0.5)\n",
    "ax = plt.Axes(fig, [0., 0., 1., 1.])\n",
    "ax.set_axis_off()\n",
    "fig.add_axes(ax)\n",
    "for i in tqdm(range(len(data))):\n",
    "    img = data[i]\n",
    "    ax.imshow(img.reshape(-1, 64), aspect='auto')\n",
    "    #path = 'images\\%d th_fig.jpg'%(1000*ii + i)\n",
    "    path = 'images\\%d th_fig.jpg'%i\n",
    "    fig.savefig(path)"
   ]
  },
  {
   "cell_type": "code",
   "execution_count": null,
   "metadata": {},
   "outputs": [],
   "source": [
    "import os\n",
    "images = []\n",
    "data_path = ['train', 'val']\n",
    "for i, dp in tqdm(enumerate(data_path)):\n",
    "    curpath = os.path.join('images', dp)\n",
    "    for f in os.listdir(curpath):\n",
    "        path = os.path.join(curpath, f)\n",
    "        img = cv2.imread(path)\n",
    "        images.append(np.array(img))"
   ]
  },
  {
   "cell_type": "code",
   "execution_count": null,
   "metadata": {},
   "outputs": [],
   "source": [
    "print(images[0])"
   ]
  },
  {
   "cell_type": "code",
   "execution_count": null,
   "metadata": {},
   "outputs": [],
   "source": [
    "for i, img in enumerate(images):\n",
    "    img = np.array(img)\n",
    "    plt.imshow(img)\n",
    "    plt.show()\n",
    "    print(img)\n",
    "    break\n"
   ]
  },
  {
   "cell_type": "code",
   "execution_count": null,
   "metadata": {},
   "outputs": [],
   "source": []
  }
 ],
 "metadata": {
  "kernelspec": {
   "display_name": "Python 3",
   "language": "python",
   "name": "python3"
  },
  "language_info": {
   "codemirror_mode": {
    "name": "ipython",
    "version": 3
   },
   "file_extension": ".py",
   "mimetype": "text/x-python",
   "name": "python",
   "nbconvert_exporter": "python",
   "pygments_lexer": "ipython3",
   "version": "3.7.5"
  }
 },
 "nbformat": 4,
 "nbformat_minor": 2
}

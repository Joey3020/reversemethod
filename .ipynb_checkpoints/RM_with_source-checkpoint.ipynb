{
 "cells": [
  {
   "cell_type": "code",
   "execution_count": 4,
   "metadata": {},
   "outputs": [
    {
     "name": "stdout",
     "output_type": "stream",
     "text": [
      "cpu\n"
     ]
    }
   ],
   "source": [
    "import numpy as np\n",
    "import pandas as pd\n",
    "import torch\n",
    "import torch.nn as nn\n",
    "import torch.nn.functional as F\n",
    "import torch.optim as optim\n",
    "import matplotlib.pyplot as plt\n",
    "import math\n",
    "import tqdm\n",
    "\n",
    "USE_GPU = True\n",
    "if USE_GPU and torch.cuda.is_available():\n",
    "    device = torch.device('cuda')\n",
    "else:\n",
    "    device = torch.device('cpu')\n",
    "print(device)\n",
    "\n",
    "LOAD_DATA = True"
   ]
  },
  {
   "cell_type": "code",
   "execution_count": 5,
   "metadata": {},
   "outputs": [],
   "source": [
    "class DataLoader():\n",
    "    def __init__(self, batch_size, path):\n",
    "        self.batch_size = batch_size\n",
    "        self.path = path\n",
    "        self.current_batch = 0\n",
    "        # load data\n",
    "        input1_pd = pd.read_excel(open(self.path, 'rb'), sheet_name = 'Sheet1', header = None)\n",
    "        input_ten = torch.from_numpy( np.array(input1_pd) ).float()\n",
    "        self.input = input_ten.reshape(-1,1,64,64)\n",
    "        \n",
    "        label_ab_pd = pd.read_excel(open(self.path, 'rb'), sheet_name = 'Sheet2', header = None)\n",
    "        self.label_ab = torch.from_numpy( np.array(label_ab_pd) ).float()\n",
    "        \n",
    "        label_xyd = pd.read_excel(open(self.path, 'rb'), sheet_name = 'Sheet3', header = None)\n",
    "        self.label_xyd = torch.from_numpy( np.array(label_xyd) )\n",
    "        \n",
    "        self.data_size = len(label_ab_pd.index)\n",
    "        print(self.data_size)\n",
    "    \n",
    "    def getbatchnum(self):\n",
    "        return math.ceil(self.data_size / self.batch_size)\n",
    "    \n",
    "    def getbatch(self):\n",
    "        current_batch = self.current_batch\n",
    "        length = self.batchsize\n",
    "\n",
    "        if current_batch + length <= self.data_size :\n",
    "            data_return = self.input[ current_batch : current_batch + length ]\n",
    "            self.current_batch += length\n",
    "            return data_return, self.label_ab[ current_batch : current_batch + length ], self.label_xyd[ current_batch : current_batch + length ]\n",
    "        else:\n",
    "            data_return = self.input[ current_batch : -1 ]\n",
    "            self.current_batch = 0\n",
    "            return data_return, self.label_ab[ current_batch : -1], self.label_xyd[ current_batch : -1 ]\n",
    "        \n",
    "    def reset(self): #어디까지 리턴했는지 초기화\n",
    "        self.current_batch = 0\n",
    "        "
   ]
  },
  {
   "cell_type": "code",
   "execution_count": 7,
   "metadata": {},
   "outputs": [
    {
     "ename": "TypeError",
     "evalue": "__init__() missing 1 required positional argument: 'path'",
     "output_type": "error",
     "traceback": [
      "\u001b[1;31m---------------------------------------------------------------------------\u001b[0m",
      "\u001b[1;31mTypeError\u001b[0m                                 Traceback (most recent call last)",
      "\u001b[1;32m<ipython-input-7-59752647100b>\u001b[0m in \u001b[0;36m<module>\u001b[1;34m\u001b[0m\n\u001b[0;32m      3\u001b[0m     \u001b[0mtestpath\u001b[0m \u001b[1;33m=\u001b[0m \u001b[1;34m'testdata.xlsx'\u001b[0m\u001b[1;33m\u001b[0m\u001b[1;33m\u001b[0m\u001b[0m\n\u001b[0;32m      4\u001b[0m \u001b[1;33m\u001b[0m\u001b[0m\n\u001b[1;32m----> 5\u001b[1;33m     \u001b[0mtraindata\u001b[0m \u001b[1;33m=\u001b[0m \u001b[0mDataLoader\u001b[0m\u001b[1;33m(\u001b[0m\u001b[0mtrainpath\u001b[0m\u001b[1;33m)\u001b[0m\u001b[1;33m\u001b[0m\u001b[1;33m\u001b[0m\u001b[0m\n\u001b[0m\u001b[0;32m      6\u001b[0m     \u001b[0mtestdata\u001b[0m \u001b[1;33m=\u001b[0m \u001b[0mDataLoader\u001b[0m\u001b[1;33m(\u001b[0m\u001b[0mtestpath\u001b[0m\u001b[1;33m)\u001b[0m\u001b[1;33m\u001b[0m\u001b[1;33m\u001b[0m\u001b[0m\n",
      "\u001b[1;31mTypeError\u001b[0m: __init__() missing 1 required positional argument: 'path'"
     ]
    }
   ],
   "source": [
    "if LOAD_DATA:\n",
    "    trainpath = 'traindata.xlsx'\n",
    "    testpath = 'testdata.xlsx'\n",
    "    \n",
    "    traindata = DataLoader(batch_size = 32, path = trainpath)\n",
    "    testdata = DataLoader(batch_size = 32, path = testpath)"
   ]
  },
  {
   "cell_type": "code",
   "execution_count": 6,
   "metadata": {},
   "outputs": [],
   "source": [
    "class Net(nn.Module):\n",
    "    def __init__(self):\n",
    "        super.__init__()\n",
    "        \n",
    "        self.cnn = nn.Sequential(\n",
    "            nn.Conv2d(1, 16, kernel_size=3, padding=1),\n",
    "            nn.ReLU(),\n",
    "            nn.BatchNorm2d(16),\n",
    "            nn.Conv2d(16, 16, kernel_size=3, padding=1),\n",
    "            nn.ReLU(),\n",
    "            nn.MaxPool2d(2, 2),\n",
    "            #32 x 32 x 16\n",
    "            \n",
    "            nn.Conv2d(16, 24, kernel_size=3, padding=1),\n",
    "            nn.ReLU(),\n",
    "            nn.Conv2d(24, 24, kernel_size=3, padding=1),\n",
    "            nn.ReLU(),\n",
    "            nn.MaxPool2d(2, 2),\n",
    "            #16 x 16 x 24\n",
    "            \n",
    "            nn.Conv2d(24, 32, kernel_size=3, padding=1),\n",
    "            nn.ReLU(),\n",
    "            nn.Conv2d(32, 32, kernel_size=3, padding=1),\n",
    "            nn.ReLU(),\n",
    "            nn.MaxPool2d(2, 2),\n",
    "            #8 x 8 x 32\n",
    "            \n",
    "            nn.Conv2d(32, 40, kernel_size=3, padding=1),\n",
    "            nn.ReLU(),\n",
    "            nn.MaxPool2d(2, 2),\n",
    "            #4 x 4 x 40\n",
    "            \n",
    "            nn.Conv2d(40, 48, kernel_size=3, padding=1),\n",
    "            nn.ReLU(),\n",
    "            nn.MaxPool2d(2, 2)\n",
    "            #2 x 2 x 48\n",
    "        )\n",
    "        self.fcc = nn.Sequential(\n",
    "            nn.Linear(192, 96),\n",
    "            nn.ReLU(),\n",
    "            nn.Dropout(0.4),\n",
    "            nn.Linear(96, 48),\n",
    "            nn.Linear(48, 5)\n",
    "        )\n",
    "    def forward(self, x):\n",
    "        output = self.cnn(x)\n",
    "        output = output.view(output.size(0), -1)\n",
    "        output = self.fcc(output)\n",
    "        return output"
   ]
  },
  {
   "cell_type": "code",
   "execution_count": null,
   "metadata": {},
   "outputs": [],
   "source": []
  }
 ],
 "metadata": {
  "kernelspec": {
   "display_name": "Python 3",
   "language": "python",
   "name": "python3"
  },
  "language_info": {
   "codemirror_mode": {
    "name": "ipython",
    "version": 3
   },
   "file_extension": ".py",
   "mimetype": "text/x-python",
   "name": "python",
   "nbconvert_exporter": "python",
   "pygments_lexer": "ipython3",
   "version": "3.7.5"
  }
 },
 "nbformat": 4,
 "nbformat_minor": 2
}

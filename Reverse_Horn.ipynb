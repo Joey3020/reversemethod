{
  "nbformat": 4,
  "nbformat_minor": 0,
  "metadata": {
    "colab": {
      "name": "Reverse_Horn.ipynb",
      "provenance": [],
      "collapsed_sections": []
    },
    "kernelspec": {
      "name": "python3",
      "display_name": "Python 3"
    },
    "accelerator": "GPU"
  },
  "cells": [
    {
      "cell_type": "code",
      "metadata": {
        "id": "XHXbki16o6mc",
        "colab_type": "code",
        "colab": {}
      },
      "source": [
        "from google.colab import drive\n",
        "drive.mount('/content/gdrive')\n",
        "#4/0AEpufuJ_nbX2dmW9b_yXFnB9ZujzNhSBbcBUvxn2H0lTVVMyz4e-Q0"
      ],
      "execution_count": 0,
      "outputs": []
    },
    {
      "cell_type": "code",
      "metadata": {
        "id": "hrc7AsPh2Pgg",
        "colab_type": "code",
        "colab": {}
      },
      "source": [
        "pip install neptune-client"
      ],
      "execution_count": 0,
      "outputs": []
    },
    {
      "cell_type": "code",
      "metadata": {
        "id": "qoHR0QPR2YlU",
        "colab_type": "code",
        "outputId": "09adc559-550e-4744-d57e-c82d257ccdf5",
        "colab": {
          "base_uri": "https://localhost:8080/",
          "height": 34
        }
      },
      "source": [
        "import neptune\n",
        "\n",
        "neptune.init(\n",
        "    api_token=\"eyJhcGlfYWRkcmVzcyI6Imh0dHBzOi8vdWkubmVwdHVuZS5haSIsImFwaV91cmwiOiJodHRwczovL3VpLm5lcHR1bmUuYWkiLCJhcGlfa2V5IjoiZjY2Y2M1MjktNzljYy00MTFjLWE1NTQtOTAxYTFhMmNjM2VhIn0=\",\n",
        "    project_qualified_name=\"joey0320/reverse-2\"\n",
        ")"
      ],
      "execution_count": 0,
      "outputs": [
        {
          "output_type": "execute_result",
          "data": {
            "text/plain": [
              "Project(joey0320/reverse-2)"
            ]
          },
          "metadata": {
            "tags": []
          },
          "execution_count": 3
        }
      ]
    },
    {
      "cell_type": "code",
      "metadata": {
        "id": "jSAXXsmEo-9E",
        "colab_type": "code",
        "colab": {}
      },
      "source": [
        "import sys\n",
        "sys.path.append('/content/libs')"
      ],
      "execution_count": 0,
      "outputs": []
    },
    {
      "cell_type": "code",
      "metadata": {
        "id": "SaZJF1kKpXRt",
        "colab_type": "code",
        "outputId": "21bfca4d-566f-45e5-969d-fbb99c5947a0",
        "colab": {
          "base_uri": "https://localhost:8080/",
          "height": 68
        }
      },
      "source": [
        "import numpy as np\n",
        "import pandas as pd\n",
        "from pandas import DataFrame\n",
        "import torch\n",
        "import torch.nn as nn\n",
        "import torch.nn.functional as F\n",
        "import torch.optim as optim\n",
        "from torch.utils.data import Dataset\n",
        "from torch.utils.data import DataLoader\n",
        "from torch.utils.data import ConcatDataset\n",
        "import matplotlib.pyplot as plt\n",
        "import math\n",
        "import os\n",
        "from tqdm import tqdm\n",
        "import time\n",
        "import cv2\n",
        "from DataCaller import DataCaller\n",
        "from EarlyStopper import *\n",
        "from Net import *\n",
        "from train_test import *\n",
        "from utils import *\n",
        "\n",
        "#use gpu    please somebody buy me a gpu .......\n",
        "USE_GPU = True\n",
        "if USE_GPU and torch.cuda.is_available():\n",
        "    device = torch.device('cuda')\n",
        "else:\n",
        "    device = torch.device('cpu')\n",
        "print(device)\n",
        "\n",
        "#Global variables\n",
        "config = {\n",
        "    'load_data':True,\n",
        "    'load_test_data':True,\n",
        "\n",
        "    'batch_size':12,\n",
        "    'val_batch_size':16,\n",
        "    'learning_rate':2e-4,\n",
        "    'epochs':1000,\n",
        "    'patience':3,\n",
        "\n",
        "    'img_size':64,\n",
        "    'img_channels':4,\n",
        "\n",
        "    'train_label_size':6,\n",
        "    #'test_label_size':3,\n",
        "    'test_label_size':6,\n",
        "\n",
        "    'output1':2,\n",
        "    'output2':2,\n",
        "    'result_label':4,\n",
        "\n",
        "    'weight':torch.tensor([1.0, 1.0, 1.0, 0.1]),\n",
        "}\n",
        "MODEL_NAME = f\"model-{int(time.time())}\"\n",
        "neptune.create_experiment(name='rev1', params=config, upload_source_files=['libs/DataCaller.py',\n",
        "                                                                           'libs/EarlyStopper.py',\n",
        "                                                                           'libs/Net.py',\n",
        "                                                                           'libs/train_test.py',\n",
        "                                                                           'libs/utils.py'])\n"
      ],
      "execution_count": 0,
      "outputs": [
        {
          "output_type": "stream",
          "text": [
            "cuda\n",
            "https://ui.neptune.ai/joey0320/reverse-2/e/REV1-108\n"
          ],
          "name": "stdout"
        },
        {
          "output_type": "execute_result",
          "data": {
            "text/plain": [
              "Experiment(REV1-108)"
            ]
          },
          "metadata": {
            "tags": []
          },
          "execution_count": 5
        }
      ]
    },
    {
      "cell_type": "code",
      "metadata": {
        "id": "2chq-Jsw9mz_",
        "colab_type": "code",
        "colab": {}
      },
      "source": [
        "BASE_PATH = '/content/gdrive/My Drive/Colab Notebooks/Reverse_Method_Horn/data'\n",
        "TRAIN_DATA_PATH = os.path.join(BASE_PATH, '8th_gen/train')\n",
        "VAL_DATA_PATH = os.path.join(BASE_PATH, '8th_gen/val')\n",
        "TEST_DATA_PATH = os.path.join(BASE_PATH, '8th_gen/test')"
      ],
      "execution_count": 0,
      "outputs": []
    },
    {
      "cell_type": "code",
      "metadata": {
        "id": "cmAN4Ewzvcy4",
        "colab_type": "code",
        "colab": {}
      },
      "source": [
        "if config['load_data']:\n",
        "    trainsets = []\n",
        "    valsets = []\n",
        "    for f in tqdm(os.listdir(TRAIN_DATA_PATH)):\n",
        "      path = os.path.join(TRAIN_DATA_PATH, f)\n",
        "      trainset = DataCaller(path, config['img_size'], config['train_label_size'])\n",
        "      print(trainset.__len__())\n",
        "      trainsets.append(trainset)\n",
        "\n",
        "    for f in tqdm(os.listdir(VAL_DATA_PATH)):\n",
        "      path  = os.path.join(VAL_DATA_PATH, f)\n",
        "      valset = DataCaller(path, config['img_size'], config['train_label_size'])\n",
        "      print(valset.__len__())\n",
        "      valsets.append(valset)\n",
        "\n",
        "if config['load_test_data']:\n",
        "    testsets = []\n",
        "    for f in tqdm(os.listdir(TEST_DATA_PATH)):\n",
        "      path  = os.path.join(TEST_DATA_PATH, f)\n",
        "      testset = DataCaller(path, config['img_size'], config['test_label_size'])\n",
        "      print(testset.__len__())\n",
        "      testsets.append(testset)\n",
        "\n",
        "    trainset = ConcatDataset(trainsets)\n",
        "    print(trainset.__len__())\n",
        "    valset = ConcatDataset(valsets)\n",
        "    print(valset.__len__())\n",
        "    testset = ConcatDataset(testsets)\n",
        "    print(testset.__len__())  "
      ],
      "execution_count": 0,
      "outputs": []
    },
    {
      "cell_type": "code",
      "metadata": {
        "id": "seySEJ3Fwg98",
        "colab_type": "code",
        "colab": {}
      },
      "source": [
        "   #define dataloaders\n",
        "trainloader = DataLoader(trainset, batch_size = config['batch_size'], shuffle=True)\n",
        "valloader = DataLoader(valset, batch_size=config['batch_size'], shuffle=True)\n",
        "testloader = DataLoader(testset, batch_size=1, shuffle=False)"
      ],
      "execution_count": 0,
      "outputs": []
    },
    {
      "cell_type": "code",
      "metadata": {
        "id": "kMN0-kVlyNDu",
        "colab_type": "code",
        "colab": {}
      },
      "source": [
        "cnt = 0\n",
        "for i, data in enumerate(trainloader):\n",
        "    x, y = data\n",
        "    filter_input(x)\n",
        "    x = np.array(x)\n",
        "    x = x.reshape(-1, config['img_channels'], config['img_size'], config['img_size'])\n",
        "\n",
        "    print(x.shape)\n",
        "    print(x[0])\n",
        "    print(x[0].shape)\n",
        "\n",
        "    print(y[0])\n",
        "    cnt += 1\n",
        "    if cnt==1:\n",
        "      break"
      ],
      "execution_count": 0,
      "outputs": []
    },
    {
      "cell_type": "code",
      "metadata": {
        "id": "T0sPRedVy59B",
        "colab_type": "code",
        "outputId": "3047e9e5-d3f5-4f7d-9f2c-111706caea66",
        "colab": {
          "base_uri": "https://localhost:8080/",
          "height": 1000
        }
      },
      "source": [
        "net = Net(config['img_channels'], config['output1'], config['output2'])\n",
        "net.to(device)\n",
        "print(net)\n",
        "train_losses, valid_losses = train(net, trainloader, valloader, config['weight'], config['epochs'], config['learning_rate'], \n",
        "                                   config['img_channels'], config['img_size'], MODEL_NAME, \n",
        "                                   config['patience'], 1, device)"
      ],
      "execution_count": 0,
      "outputs": [
        {
          "output_type": "stream",
          "text": [
            "\r  0%|          | 0/1000 [00:00<?, ?it/s]"
          ],
          "name": "stderr"
        },
        {
          "output_type": "stream",
          "text": [
            "Net(\n",
            "  (cnn): Sequential(\n",
            "    (0): Conv2d(4, 12, kernel_size=(3, 3), stride=(1, 1), padding=(1, 1))\n",
            "    (1): BatchNorm2d(12, eps=1e-05, momentum=0.1, affine=True, track_running_stats=True)\n",
            "    (2): ReLU()\n",
            "    (3): MaxPool2d(kernel_size=2, stride=2, padding=0, dilation=1, ceil_mode=False)\n",
            "    (4): Conv2d(12, 16, kernel_size=(3, 3), stride=(1, 1), padding=(1, 1))\n",
            "    (5): BatchNorm2d(16, eps=1e-05, momentum=0.1, affine=True, track_running_stats=True)\n",
            "    (6): ReLU()\n",
            "    (7): MaxPool2d(kernel_size=2, stride=2, padding=0, dilation=1, ceil_mode=False)\n",
            "    (8): Conv2d(16, 32, kernel_size=(3, 3), stride=(1, 1), padding=(1, 1))\n",
            "    (9): BatchNorm2d(32, eps=1e-05, momentum=0.1, affine=True, track_running_stats=True)\n",
            "    (10): ReLU()\n",
            "    (11): MaxPool2d(kernel_size=2, stride=2, padding=0, dilation=1, ceil_mode=False)\n",
            "    (12): Conv2d(32, 48, kernel_size=(3, 3), stride=(1, 1), padding=(1, 1))\n",
            "    (13): BatchNorm2d(48, eps=1e-05, momentum=0.1, affine=True, track_running_stats=True)\n",
            "    (14): ReLU()\n",
            "    (15): MaxPool2d(kernel_size=2, stride=2, padding=0, dilation=1, ceil_mode=False)\n",
            "    (16): Conv2d(48, 60, kernel_size=(3, 3), stride=(1, 1), padding=(1, 1))\n",
            "    (17): ReLU()\n",
            "    (18): MaxPool2d(kernel_size=2, stride=2, padding=0, dilation=1, ceil_mode=False)\n",
            "  )\n",
            "  (fccAB): Sequential(\n",
            "    (0): Linear(in_features=240, out_features=120, bias=True)\n",
            "    (1): ReLU()\n",
            "    (2): Linear(in_features=120, out_features=30, bias=True)\n",
            "    (3): ReLU()\n",
            "    (4): Linear(in_features=30, out_features=2, bias=True)\n",
            "  )\n",
            "  (fccdt): Sequential(\n",
            "    (0): Linear(in_features=240, out_features=120, bias=True)\n",
            "    (1): ReLU()\n",
            "    (2): Linear(in_features=120, out_features=30, bias=True)\n",
            "    (3): ReLU()\n",
            "    (4): Linear(in_features=30, out_features=2, bias=True)\n",
            "  )\n",
            ")\n"
          ],
          "name": "stdout"
        },
        {
          "output_type": "stream",
          "text": [
            "\r  0%|          | 1/1000 [00:13<3:41:16, 13.29s/it]"
          ],
          "name": "stderr"
        },
        {
          "output_type": "stream",
          "text": [
            "\n",
            "loss :  2.8849232005505336 val loss :  0.9407603771258624 \n",
            "\n",
            "Validation loss decreased (inf --> 0.940760).  Saving model ...\n"
          ],
          "name": "stdout"
        },
        {
          "output_type": "stream",
          "text": [
            "\r  0%|          | 2/1000 [00:25<3:37:10, 13.06s/it]"
          ],
          "name": "stderr"
        },
        {
          "output_type": "stream",
          "text": [
            "\n",
            "loss :  0.5836545308218116 val loss :  0.33958133068094903 \n",
            "\n",
            "Validation loss decreased (0.940760 --> 0.339581).  Saving model ...\n"
          ],
          "name": "stdout"
        },
        {
          "output_type": "stream",
          "text": [
            "\r  0%|          | 3/1000 [00:38<3:33:58, 12.88s/it]"
          ],
          "name": "stderr"
        },
        {
          "output_type": "stream",
          "text": [
            "\n",
            "loss :  0.3344313992347036 val loss :  0.33228936835996103 \n",
            "\n",
            "Validation loss decreased (0.339581 --> 0.332289).  Saving model ...\n"
          ],
          "name": "stdout"
        },
        {
          "output_type": "stream",
          "text": [
            "\r  0%|          | 4/1000 [00:50<3:31:41, 12.75s/it]"
          ],
          "name": "stderr"
        },
        {
          "output_type": "stream",
          "text": [
            "\n",
            "loss :  0.24451312197106226 val loss :  0.19736042414974964 \n",
            "\n",
            "Validation loss decreased (0.332289 --> 0.197360).  Saving model ...\n"
          ],
          "name": "stdout"
        },
        {
          "output_type": "stream",
          "text": [
            "\r  0%|          | 5/1000 [01:03<3:31:27, 12.75s/it]"
          ],
          "name": "stderr"
        },
        {
          "output_type": "stream",
          "text": [
            "\n",
            "loss :  0.19790836715982074 val loss :  0.2318721279883996 \n",
            "\n",
            "EarlyStopping counter: 1 out of 3\n"
          ],
          "name": "stdout"
        },
        {
          "output_type": "stream",
          "text": [
            "\r  1%|          | 6/1000 [01:15<3:29:33, 12.65s/it]"
          ],
          "name": "stderr"
        },
        {
          "output_type": "stream",
          "text": [
            "\n",
            "loss :  0.16641905915701674 val loss :  0.15066084001436192 \n",
            "\n",
            "Validation loss decreased (0.197360 --> 0.150661).  Saving model ...\n"
          ],
          "name": "stdout"
        },
        {
          "output_type": "stream",
          "text": [
            "\r  1%|          | 7/1000 [01:28<3:28:38, 12.61s/it]"
          ],
          "name": "stderr"
        },
        {
          "output_type": "stream",
          "text": [
            "\n",
            "loss :  0.14625493056894767 val loss :  0.12619350557653314 \n",
            "\n",
            "Validation loss decreased (0.150661 --> 0.126194).  Saving model ...\n"
          ],
          "name": "stdout"
        },
        {
          "output_type": "stream",
          "text": [
            "\r  1%|          | 8/1000 [01:41<3:28:29, 12.61s/it]"
          ],
          "name": "stderr"
        },
        {
          "output_type": "stream",
          "text": [
            "\n",
            "loss :  0.122872877381742 val loss :  0.11322537261960852 \n",
            "\n",
            "Validation loss decreased (0.126194 --> 0.113225).  Saving model ...\n"
          ],
          "name": "stdout"
        },
        {
          "output_type": "stream",
          "text": [
            "\r  1%|          | 9/1000 [01:53<3:27:44, 12.58s/it]"
          ],
          "name": "stderr"
        },
        {
          "output_type": "stream",
          "text": [
            "\n",
            "loss :  0.1120551844100867 val loss :  0.11363584527538882 \n",
            "\n",
            "EarlyStopping counter: 1 out of 3\n"
          ],
          "name": "stdout"
        },
        {
          "output_type": "stream",
          "text": [
            "\r  1%|          | 10/1000 [02:06<3:27:20, 12.57s/it]"
          ],
          "name": "stderr"
        },
        {
          "output_type": "stream",
          "text": [
            "\n",
            "loss :  0.10133295245468617 val loss :  0.10047816507454611 \n",
            "\n",
            "Validation loss decreased (0.113225 --> 0.100478).  Saving model ...\n"
          ],
          "name": "stdout"
        },
        {
          "output_type": "stream",
          "text": [
            "\r  1%|          | 11/1000 [02:18<3:26:40, 12.54s/it]"
          ],
          "name": "stderr"
        },
        {
          "output_type": "stream",
          "text": [
            "\n",
            "loss :  0.0914642735304577 val loss :  0.08978581003462657 \n",
            "\n",
            "Validation loss decreased (0.100478 --> 0.089786).  Saving model ...\n"
          ],
          "name": "stdout"
        },
        {
          "output_type": "stream",
          "text": [
            "\r  1%|          | 12/1000 [02:31<3:26:27, 12.54s/it]"
          ],
          "name": "stderr"
        },
        {
          "output_type": "stream",
          "text": [
            "\n",
            "loss :  0.07976198758486482 val loss :  0.07537660056836584 \n",
            "\n",
            "Validation loss decreased (0.089786 --> 0.075377).  Saving model ...\n"
          ],
          "name": "stdout"
        },
        {
          "output_type": "stream",
          "text": [
            "\r  1%|▏         | 13/1000 [02:43<3:26:01, 12.52s/it]"
          ],
          "name": "stderr"
        },
        {
          "output_type": "stream",
          "text": [
            "\n",
            "loss :  0.07548685878249152 val loss :  0.1743742515707118 \n",
            "\n",
            "EarlyStopping counter: 1 out of 3\n"
          ],
          "name": "stdout"
        },
        {
          "output_type": "stream",
          "text": [
            "\r  1%|▏         | 14/1000 [02:56<3:26:07, 12.54s/it]"
          ],
          "name": "stderr"
        },
        {
          "output_type": "stream",
          "text": [
            "\n",
            "loss :  0.0742076341985237 val loss :  0.12108422596103106 \n",
            "\n",
            "EarlyStopping counter: 2 out of 3\n"
          ],
          "name": "stdout"
        },
        {
          "output_type": "stream",
          "text": [
            "\r  2%|▏         | 15/1000 [03:08<3:25:41, 12.53s/it]"
          ],
          "name": "stderr"
        },
        {
          "output_type": "stream",
          "text": [
            "\n",
            "loss :  0.06771801570519095 val loss :  0.0714508246184669 \n",
            "\n",
            "Validation loss decreased (0.075377 --> 0.071451).  Saving model ...\n"
          ],
          "name": "stdout"
        },
        {
          "output_type": "stream",
          "text": [
            "\r  2%|▏         | 16/1000 [03:21<3:25:01, 12.50s/it]"
          ],
          "name": "stderr"
        },
        {
          "output_type": "stream",
          "text": [
            "\n",
            "loss :  0.06355047819248977 val loss :  0.07205651714824714 \n",
            "\n",
            "EarlyStopping counter: 1 out of 3\n"
          ],
          "name": "stdout"
        },
        {
          "output_type": "stream",
          "text": [
            "\r  2%|▏         | 17/1000 [03:33<3:24:44, 12.50s/it]"
          ],
          "name": "stderr"
        },
        {
          "output_type": "stream",
          "text": [
            "\n",
            "loss :  0.057786574447971015 val loss :  0.07076196566733539 \n",
            "\n",
            "Validation loss decreased (0.071451 --> 0.070762).  Saving model ...\n"
          ],
          "name": "stdout"
        },
        {
          "output_type": "stream",
          "text": [
            "\r  2%|▏         | 18/1000 [03:46<3:25:03, 12.53s/it]"
          ],
          "name": "stderr"
        },
        {
          "output_type": "stream",
          "text": [
            "\n",
            "loss :  0.055813684156608014 val loss :  0.06370908766188937 \n",
            "\n",
            "Validation loss decreased (0.070762 --> 0.063709).  Saving model ...\n"
          ],
          "name": "stdout"
        },
        {
          "output_type": "stream",
          "text": [
            "\r  2%|▏         | 19/1000 [03:58<3:25:09, 12.55s/it]"
          ],
          "name": "stderr"
        },
        {
          "output_type": "stream",
          "text": [
            "\n",
            "loss :  0.05209537667710157 val loss :  0.06357436084276082 \n",
            "\n",
            "Validation loss decreased (0.063709 --> 0.063574).  Saving model ...\n"
          ],
          "name": "stdout"
        },
        {
          "output_type": "stream",
          "text": [
            "\r  2%|▏         | 20/1000 [04:11<3:25:20, 12.57s/it]"
          ],
          "name": "stderr"
        },
        {
          "output_type": "stream",
          "text": [
            "\n",
            "loss :  0.0502945668161625 val loss :  0.06961764401604986 \n",
            "\n",
            "EarlyStopping counter: 1 out of 3\n"
          ],
          "name": "stdout"
        },
        {
          "output_type": "stream",
          "text": [
            "\r  2%|▏         | 21/1000 [04:24<3:25:34, 12.60s/it]"
          ],
          "name": "stderr"
        },
        {
          "output_type": "stream",
          "text": [
            "\n",
            "loss :  0.045560777649904294 val loss :  0.04962037336558868 \n",
            "\n",
            "Validation loss decreased (0.063574 --> 0.049620).  Saving model ...\n"
          ],
          "name": "stdout"
        },
        {
          "output_type": "stream",
          "text": [
            "\r  2%|▏         | 22/1000 [04:36<3:26:53, 12.69s/it]"
          ],
          "name": "stderr"
        },
        {
          "output_type": "stream",
          "text": [
            "\n",
            "loss :  0.04401236606229629 val loss :  0.051299543796568856 \n",
            "\n",
            "EarlyStopping counter: 1 out of 3\n"
          ],
          "name": "stdout"
        },
        {
          "output_type": "stream",
          "text": [
            "\r  2%|▏         | 23/1000 [04:49<3:26:30, 12.68s/it]"
          ],
          "name": "stderr"
        },
        {
          "output_type": "stream",
          "text": [
            "\n",
            "loss :  0.04139122740498611 val loss :  0.06635351491789533 \n",
            "\n",
            "EarlyStopping counter: 2 out of 3\n",
            "\n",
            "loss :  0.03961801580552544 val loss :  0.05718733781837245 \n",
            "\n",
            "EarlyStopping counter: 3 out of 3\n",
            "Early stopping\n"
          ],
          "name": "stdout"
        }
      ]
    },
    {
      "cell_type": "code",
      "metadata": {
        "id": "dmbg-WJww7dL",
        "colab_type": "code",
        "outputId": "a898b02e-17c8-493f-89ef-928e421b4225",
        "colab": {
          "base_uri": "https://localhost:8080/",
          "height": 585
        }
      },
      "source": [
        "graph_limit = 1\n",
        "save_plot(train_losses, valid_losses, graph_limit)\n",
        "neptune.log_artifact('loss_plot.png')"
      ],
      "execution_count": 0,
      "outputs": [
        {
          "output_type": "display_data",
          "data": {
            "image/png": "[encoded data removed]",
            "text/plain": [
              "<Figure size 720x576 with 1 Axes>"
            ]
          },
          "metadata": {
            "tags": [],
            "needs_background": "light"
          }
        }
      ]
    },
    {
      "cell_type": "code",
      "metadata": {
        "id": "X_y19qJy30tm",
        "colab_type": "code",
        "outputId": "26725ffa-d22e-4c64-864c-fc77872b548b",
        "colab": {
          "base_uri": "https://localhost:8080/",
          "height": 853
        }
      },
      "source": [
        "net.load_state_dict(torch.load('checkpoint.pt'))\n",
        "\n",
        "test(net, testloader, config['img_channels'], config['img_size'], config['result_label'], device)\n",
        "neptune.log_artifact('predictions.xlsx')\n",
        "neptune.log_artifact('model.log')"
      ],
      "execution_count": 0,
      "outputs": [
        {
          "output_type": "stream",
          "text": [
            "[array([[8.589835 , 2.4250226, 2.9630158, 0.7304061]], dtype=float32), array([[8.980608 , 2.8740015, 2.0409093, 0.7235248]], dtype=float32), array([[9.215814 , 1.3759123, 3.3743725, 0.7774575]], dtype=float32), array([[10.977724 ,  3.7080133,  3.4122272,  0.3207212]], dtype=float32), array([[4.5933223, 1.2575598, 1.5109808, 0.6726497]], dtype=float32), array([[13.0227165,  3.2323341,  5.0627503,  0.4085099]], dtype=float32), array([[8.401841 , 1.379627 , 3.0441794, 0.3632319]], dtype=float32), array([[10.827754 ,  3.489319 ,  2.8227806,  0.7724863]], dtype=float32), array([[11.718207  ,  2.146408  ,  3.967138  ,  0.77327955]],\n",
            "      dtype=float32), array([[8.243809  , 1.9897159 , 2.6065402 , 0.26452917]], dtype=float32), array([[9.422667 , 4.010014 , 2.311899 , 0.8910941]], dtype=float32), array([[5.8428345 , 2.1922166 , 1.4888749 , 0.37723494]], dtype=float32), array([[13.386272 ,  2.1052911,  4.5548596,  0.3558321]], dtype=float32), array([[10.450664  ,  3.95651   ,  4.113355  ,  0.78484356]],\n",
            "      dtype=float32), array([[6.8536286 , 2.5025327 , 1.3096932 , 0.31804675]], dtype=float32), array([[6.098548 , 1.5288775, 1.9400791, 0.7204284]], dtype=float32), array([[9.315972 , 1.633589 , 2.8897216, 0.7485106]], dtype=float32), array([[6.7690196, 1.2627308, 2.8271468, 0.6686274]], dtype=float32), array([[10.073981 ,  1.586592 ,  3.2914505,  0.385549 ]], dtype=float32), array([[7.549524  , 1.692706  , 2.4873035 , 0.26510555]], dtype=float32), array([[8.893579  , 3.4567332 , 2.7210333 , 0.19693775]], dtype=float32), array([[12.975209  ,  4.190651  ,  3.414717  ,  0.55428404]],\n",
            "      dtype=float32), array([[12.050833 ,  4.0821953,  4.4116898,  0.7310985]], dtype=float32), array([[11.515012  ,  1.8090658 ,  4.181653  ,  0.64950657]],\n",
            "      dtype=float32), array([[11.82243   ,  2.6246526 ,  3.1055562 ,  0.33023423]],\n",
            "      dtype=float32), array([[11.319683 ,  2.673918 ,  4.004012 ,  0.7183721]], dtype=float32), array([[7.726958  , 2.6930828 , 2.755478  , 0.48312557]], dtype=float32), array([[8.578564  , 2.825004  , 2.0108726 , 0.69459176]], dtype=float32), array([[8.379019  , 2.6845973 , 2.4721181 , 0.14128001]], dtype=float32), array([[6.3241806, 1.4838159, 1.991293 , 0.2805196]], dtype=float32), array([[9.121063 , 3.18439  , 1.9782101, 0.1646217]], dtype=float32), array([[7.3723    , 2.91721   , 1.4240003 , 0.18324833]], dtype=float32), array([[6.6635156, 1.2927574, 2.3802478, 0.6418604]], dtype=float32), array([[10.191397  ,  2.0578413 ,  3.090201  ,  0.25250357]],\n",
            "      dtype=float32), array([[12.625477  ,  1.9947973 ,  4.223995  ,  0.36877996]],\n",
            "      dtype=float32), array([[7.6146903 , 1.4642407 , 2.683244  , 0.43437374]], dtype=float32), array([[9.322298 , 3.275944 , 2.180933 , 0.4720204]], dtype=float32), array([[8.799762  , 3.575986  , 2.8062456 , 0.30953902]], dtype=float32), array([[7.962358  , 1.3407559 , 2.9121017 , 0.82592005]], dtype=float32), array([[11.028811 ,  3.2251253,  2.5620701,  0.6111967]], dtype=float32), array([[5.6195426 , 2.0152845 , 1.1917161 , 0.26902157]], dtype=float32), array([[6.464631  , 1.419786  , 2.0808752 , 0.35723454]], dtype=float32), array([[7.566635  , 2.6878197 , 1.7967161 , 0.45715874]], dtype=float32), array([[8.761608  , 3.042255  , 1.6852528 , 0.09627722]], dtype=float32), array([[8.96858   , 1.784238  , 2.8978443 , 0.72583693]], dtype=float32), array([[7.150512  , 2.6109438 , 1.716844  , 0.42707473]], dtype=float32), array([[6.8535104, 2.5414543, 2.1313477, 0.530595 ]], dtype=float32), array([[12.982351  ,  4.2894154 ,  3.653632  ,  0.63624054]],\n",
            "      dtype=float32), array([[8.21871  , 2.8509521, 1.3935004, 0.3339904]], dtype=float32), array([[9.07714  , 3.4556684, 2.9140081, 0.3921876]], dtype=float32), array([[7.390987  , 1.9322714 , 2.6993713 , 0.78377026]], dtype=float32), array([[10.315901 ,  3.8557622,  3.5305507,  0.8339792]], dtype=float32), array([[9.724672  , 1.3964229 , 3.2582576 , 0.28391266]], dtype=float32), array([[9.228462  , 3.4615793 , 3.1357973 , 0.77223915]], dtype=float32), array([[7.6598697 , 2.9946487 , 2.0096936 , 0.09979919]], dtype=float32), array([[6.905218 , 2.38232  , 1.6673278, 0.3351195]], dtype=float32), array([[7.7385397 , 2.6115673 , 2.2420938 , 0.84271187]], dtype=float32), array([[10.5748   ,  4.664104 ,  3.785089 ,  0.9365917]], dtype=float32), array([[11.389708  ,  4.5513353 ,  3.7665453 ,  0.48687196]],\n",
            "      dtype=float32), array([[13.190264  ,  4.4626203 ,  4.780895  ,  0.59732854]],\n",
            "      dtype=float32), array([[9.753971  , 1.4324056 , 3.4422896 , 0.51066077]], dtype=float32), array([[10.342949 ,  2.365685 ,  3.3736494,  0.9546737]], dtype=float32), array([[6.468566 , 1.1543058, 2.2610803, 0.6698264]], dtype=float32), array([[10.158213 ,  1.7719631,  3.2861822,  0.4330737]], dtype=float32), array([[10.409057  ,  3.1102943 ,  3.2136266 ,  0.23164038]],\n",
            "      dtype=float32), array([[8.454645 , 1.4368935, 2.914403 , 0.6508453]], dtype=float32), array([[10.559404 ,  3.5274944,  2.7986107,  0.5491335]], dtype=float32), array([[10.255134 ,  2.991755 ,  3.2122335,  0.209365 ]], dtype=float32), array([[9.508549 , 3.3330445, 1.9184022, 0.1425952]], dtype=float32), array([[11.122556  ,  3.9458885 ,  3.5122716 ,  0.65369356]],\n",
            "      dtype=float32), array([[12.319981  ,  3.5794363 ,  5.0623164 ,  0.62512606]],\n",
            "      dtype=float32), array([[6.7308726, 1.5356878, 1.8598582, 0.2256882]], dtype=float32), array([[9.547616  , 3.5352921 , 3.1513135 , 0.37132812]], dtype=float32), array([[10.60645  ,  1.6851208,  3.896649 ,  0.8524073]], dtype=float32), array([[8.951018  , 3.2535312 , 2.8204753 , 0.43611848]], dtype=float32), array([[12.363194 ,  2.3275025,  3.7630215,  0.3182025]], dtype=float32), array([[8.114546 , 1.4759253, 2.9959342, 0.613852 ]], dtype=float32), array([[9.249289  , 3.0346112 , 1.7370455 , 0.07397367]], dtype=float32), array([[5.7982225 , 1.1663547 , 1.6476365 , 0.29297644]], dtype=float32), array([[11.007345  ,  1.7506591 ,  3.944073  ,  0.48298138]],\n",
            "      dtype=float32), array([[7.441704  , 2.6144428 , 1.6268885 , 0.45060277]], dtype=float32), array([[11.279655 ,  1.7723616,  4.3043737,  0.5480854]], dtype=float32), array([[13.059757 ,  2.4728906,  4.504895 ,  0.3192578]], dtype=float32), array([[9.394944  , 2.1635127 , 3.1276302 , 0.61468184]], dtype=float32), array([[10.408859  ,  3.346648  ,  2.4915884 ,  0.34603113]],\n",
            "      dtype=float32), array([[6.88533   , 2.5275674 , 1.7125108 , 0.46177447]], dtype=float32), array([[10.1554985,  3.2899032,  3.294509 ,  0.5718785]], dtype=float32), array([[8.225236  , 3.0173817 , 2.8978298 , 0.80482864]], dtype=float32), array([[6.5278354 , 1.8833506 , 2.113791  , 0.31190133]], dtype=float32), array([[3.7640564 , 1.3831857 , 1.2344381 , 0.36628318]], dtype=float32), array([[6.2072315, 1.8566105, 1.8874043, 0.7348701]], dtype=float32), array([[9.351673  , 3.254801  , 1.8473009 , 0.81850034]], dtype=float32), array([[11.444794  ,  4.209322  ,  3.1152875 ,  0.68688035]],\n",
            "      dtype=float32), array([[11.4094   ,  2.0330791,  3.888434 ,  0.7823895]], dtype=float32), array([[13.271702  ,  2.0125682 ,  4.4222274 ,  0.47022814]],\n",
            "      dtype=float32), array([[6.8718204 , 2.1671362 , 2.2229288 , 0.61867136]], dtype=float32), array([[12.235747  ,  1.7999624 ,  4.1840553 ,  0.56819487]],\n",
            "      dtype=float32), array([[12.67888  ,  4.6445055,  3.548205 ,  0.5226934]], dtype=float32), array([[8.857727 , 1.3695905, 3.1729486, 0.6538199]], dtype=float32), array([[7.0703692, 2.735942 , 1.4215745, 0.1758746]], dtype=float32), array([[9.922091  , 1.6248101 , 3.7413306 , 0.81703186]], dtype=float32), array([[11.6191    ,  3.788414  ,  3.6150134 ,  0.47982335]],\n",
            "      dtype=float32), array([[9.657875  , 1.562018  , 3.6483014 , 0.81646734]], dtype=float32), array([[11.138411  ,  2.48555   ,  3.2770734 ,  0.63421583]],\n",
            "      dtype=float32), array([[8.889154  , 3.2040925 , 3.2128468 , 0.80997723]], dtype=float32), array([[10.336955 ,  2.972138 ,  3.152209 ,  0.3584121]], dtype=float32), array([[10.619721  ,  1.9285458 ,  3.5644844 ,  0.21081541]],\n",
            "      dtype=float32), array([[4.883503  , 1.6834937 , 1.2904705 , 0.13294314]], dtype=float32), array([[9.427685 , 3.0825968, 1.8068892, 0.537467 ]], dtype=float32), array([[6.7109923 , 2.0712345 , 1.6136271 , 0.13861121]], dtype=float32), array([[7.114127 , 1.9811739, 2.609606 , 0.6764469]], dtype=float32), array([[11.270997  ,  2.503953  ,  2.9405189 ,  0.27095085]],\n",
            "      dtype=float32), array([[13.661745  ,  3.7924483 ,  5.7777305 ,  0.35967106]],\n",
            "      dtype=float32), array([[8.722278 , 2.6414018, 2.679317 , 0.7871136]], dtype=float32), array([[9.623457 , 3.7598972, 2.8540463, 0.5054025]], dtype=float32), array([[10.2198925 ,  3.547242  ,  1.958232  ,  0.32108122]],\n",
            "      dtype=float32), array([[5.620992  , 1.2014614 , 1.7162211 , 0.23339234]], dtype=float32), array([[10.045659 ,  3.2498224,  2.2634342,  0.262519 ]], dtype=float32), array([[7.7796707 , 2.9038937 , 1.6959187 , 0.48384672]], dtype=float32), array([[10.88132  ,  3.3137863,  2.4129667,  0.687503 ]], dtype=float32), array([[13.118019  ,  4.208674  ,  5.03831   ,  0.42323184]],\n",
            "      dtype=float32), array([[7.8148932, 2.917318 , 1.5422292, 0.456245 ]], dtype=float32), array([[10.939736  ,  3.3208594 ,  2.2326233 ,  0.65684086]],\n",
            "      dtype=float32), array([[8.817673 , 3.394565 , 2.8934097, 0.3646536]], dtype=float32), array([[5.886788  , 1.9728497 , 1.7221776 , 0.35029823]], dtype=float32), array([[10.55188   ,  1.6221052 ,  3.5186605 ,  0.20650144]],\n",
            "      dtype=float32), array([[12.048253  ,  2.4839213 ,  3.7286131 ,  0.67835337]],\n",
            "      dtype=float32), array([[10.065157  ,  3.763007  ,  2.709736  ,  0.20691858]],\n",
            "      dtype=float32), array([[8.389335  , 2.68355   , 3.000635  , 0.87132436]], dtype=float32), array([[9.375761  , 2.5180664 , 2.886467  , 0.22389589]], dtype=float32), array([[9.88797  , 1.8157625, 3.9205537, 0.8019953]], dtype=float32), array([[11.239237 ,  3.4909153,  2.0833535,  0.6945548]], dtype=float32), array([[9.388654 , 1.3875229, 3.396425 , 0.5583303]], dtype=float32), array([[6.0787525 , 1.2188131 , 1.8826363 , 0.19377126]], dtype=float32), array([[4.720732  , 1.0630426 , 1.360482  , 0.18819307]], dtype=float32), array([[10.782889 ,  3.9577894,  3.0476224,  0.7195068]], dtype=float32), array([[11.858156  ,  3.4401493 ,  4.3406067 ,  0.76273966]],\n",
            "      dtype=float32), array([[5.9082947 , 2.0271885 , 1.530979  , 0.13555089]], dtype=float32), array([[8.925451  , 2.9451644 , 2.3120475 , 0.76645404]], dtype=float32), array([[12.287739  ,  2.0446687 ,  3.9172864 ,  0.42016864]],\n",
            "      dtype=float32), array([[10.214847 ,  3.6590497,  3.2986822,  0.578103 ]], dtype=float32), array([[10.727287  ,  3.2902248 ,  2.725345  ,  0.17440648]],\n",
            "      dtype=float32), array([[4.9597583 , 1.4318043 , 1.5277618 , 0.25118208]], dtype=float32), array([[7.1050787, 1.7681895, 2.6873019, 0.6938132]], dtype=float32), array([[7.12414   , 2.9331183 , 1.277538  , 0.15949942]], dtype=float32), array([[8.807427  , 1.6232666 , 3.0518668 , 0.13958007]], dtype=float32), array([[12.194466  ,  3.6517956 ,  2.7046742 ,  0.25708383]],\n",
            "      dtype=float32), array([[3.8349106, 1.5357789, 1.1590836, 0.6813139]], dtype=float32), array([[8.566927 , 2.6107843, 3.024134 , 0.884913 ]], dtype=float32), array([[12.156644 ,  1.9410568,  3.9873247,  0.3011847]], dtype=float32), array([[6.0321617 , 2.144096  , 1.240807  , 0.76903135]], dtype=float32), array([[7.7969203 , 3.0414307 , 2.2315857 , 0.29063803]], dtype=float32), array([[9.148429  , 1.4893819 , 3.1025126 , 0.27453154]], dtype=float32), array([[9.476635 , 3.0011573, 2.0152845, 0.8102475]], dtype=float32), array([[11.845892 ,  2.384527 ,  3.681489 ,  0.6321045]], dtype=float32), array([[11.141068 ,  3.399366 ,  2.700427 ,  0.6315579]], dtype=float32), array([[9.134005  , 3.5488458 , 2.7549424 , 0.36562836]], dtype=float32), array([[10.086713  ,  3.713758  ,  3.105242  ,  0.28734607]],\n",
            "      dtype=float32), array([[13.676046  ,  2.619651  ,  4.818824  ,  0.30929816]],\n",
            "      dtype=float32), array([[8.8138685 , 2.9064605 , 2.7077298 , 0.16546042]], dtype=float32), array([[10.166642 ,  3.2034392,  3.1188626,  0.565316 ]], dtype=float32), array([[8.678071 , 3.105192 , 1.783079 , 0.4379362]], dtype=float32), array([[11.662167 ,  4.084392 ,  3.8852327,  0.4746635]], dtype=float32), array([[6.88773  , 1.3432568, 2.513317 , 0.4159329]], dtype=float32), array([[6.9486156, 2.6293385, 1.673875 , 0.415574 ]], dtype=float32), array([[9.787983 , 3.709265 , 4.1409698, 0.823783 ]], dtype=float32), array([[6.7862215 , 2.3296094 , 1.867943  , 0.63335204]], dtype=float32), array([[7.1387906 , 2.325885  , 1.5018227 , 0.76118535]], dtype=float32), array([[8.877143 , 2.2617092, 2.851343 , 0.7733409]], dtype=float32), array([[10.703595 ,  3.143555 ,  2.6494286,  0.6462576]], dtype=float32), array([[9.734565 , 3.7813635, 3.0376956, 0.4302169]], dtype=float32), array([[3.6866932 , 1.3635664 , 1.244611  , 0.61134094]], dtype=float32), array([[10.511055  ,  1.6001121 ,  3.5480893 ,  0.21942346]],\n",
            "      dtype=float32), array([[11.846154 ,  4.367784 ,  4.6200113,  0.7927015]], dtype=float32), array([[9.303199  , 3.1903605 , 1.9864329 , 0.17626472]], dtype=float32), array([[13.03779  ,  3.0679011,  3.744436 ,  0.5022994]], dtype=float32), array([[5.040045  , 1.4154103 , 1.2360655 , 0.34154445]], dtype=float32), array([[10.845676 ,  1.7058638,  3.999494 ,  0.7386653]], dtype=float32), array([[13.72589   ,  3.742197  ,  5.689262  ,  0.38752902]],\n",
            "      dtype=float32), array([[8.926809 , 3.0075746, 2.4458902, 0.8124184]], dtype=float32), array([[7.4059286, 2.687499 , 2.5751626, 0.5569388]], dtype=float32), array([[11.162708  ,  3.6937454 ,  2.3675873 ,  0.17135783]],\n",
            "      dtype=float32), array([[11.4379   ,  2.308367 ,  3.4608567,  0.604805 ]], dtype=float32), array([[10.707608  ,  2.719154  ,  3.2721648 ,  0.37958646]],\n",
            "      dtype=float32), array([[12.207304  ,  3.9198232 ,  2.9932148 ,  0.24182759]],\n",
            "      dtype=float32), array([[11.683992 ,  4.007771 ,  4.380648 ,  0.7977589]], dtype=float32), array([[9.902361 , 3.4731371, 2.7411435, 0.9419878]], dtype=float32), array([[10.854423  ,  3.8819075 ,  2.8500593 ,  0.37820524]],\n",
            "      dtype=float32), array([[10.386312  ,  2.031971  ,  3.254979  ,  0.47794676]],\n",
            "      dtype=float32), array([[11.81198   ,  3.5097039 ,  3.4228914 ,  0.24816774]],\n",
            "      dtype=float32), array([[11.038141  ,  3.8461854 ,  3.3653784 ,  0.62661743]],\n",
            "      dtype=float32), array([[3.4509819 , 1.4601779 , 1.1417733 , 0.60392874]], dtype=float32), array([[11.972045 ,  2.7509022,  3.2539222,  0.4955858]], dtype=float32), array([[11.083925  ,  1.9950837 ,  3.1218858 ,  0.29149026]],\n",
            "      dtype=float32), array([[10.627806  ,  3.657622  ,  3.1744108 ,  0.48770285]],\n",
            "      dtype=float32), array([[6.4958787 , 2.5298588 , 1.7746582 , 0.69677347]], dtype=float32), array([[6.133468  , 1.9935373 , 1.3873374 , 0.15743427]], dtype=float32), array([[10.519982  ,  1.6555465 ,  3.907938  ,  0.81236076]],\n",
            "      dtype=float32), array([[11.0704   ,  1.7507247,  4.0700903,  0.7839059]], dtype=float32), array([[10.558044 ,  2.1171262,  3.2043452,  0.7572562]], dtype=float32)]\n"
          ],
          "name": "stdout"
        }
      ]
    },
    {
      "cell_type": "code",
      "metadata": {
        "id": "Uj4GoyjQX1xw",
        "colab_type": "code",
        "outputId": "ae236ee3-6783-4812-87a0-34d08a9f234c",
        "colab": {
          "base_uri": "https://localhost:8080/",
          "height": 1000
        }
      },
      "source": [
        "for num, data in enumerate(testloader):\n",
        "  x, y = data\n",
        "  print(y)"
      ],
      "execution_count": 0,
      "outputs": [
        {
          "output_type": "stream",
          "text": [
            "tensor([[  1.0000,   1.0000, 100.0000,   2.2307,   2.4746,   0.5550]])\n",
            "tensor([[  1.0000,   1.0000, 100.0000,   2.6275,   1.7521,   0.6256]])\n",
            "tensor([[  1.0000,   1.0000, 100.0000,   1.2984,   2.9501,   0.7766]])\n",
            "tensor([[  1.0000,   1.0000, 100.0000,   2.6050,   2.8848,   0.2108]])\n",
            "tensor([[  1.0000,   1.0000, 100.0000,   1.2331,   1.3928,   0.6470]])\n",
            "tensor([[1.0000e+00, 1.0000e+00, 1.0000e+02, 2.6344e+00, 3.3223e+00, 9.0136e-02]])\n",
            "tensor([[  1.0000,   1.0000, 100.0000,   1.1994,   2.3670,   0.3209]])\n",
            "tensor([[  1.0000,   1.0000, 100.0000,   3.2001,   1.9837,   0.6070]])\n",
            "tensor([[  1.0000,   1.0000, 100.0000,   1.8521,   3.2129,   0.5673]])\n",
            "tensor([[  1.0000,   1.0000, 100.0000,   1.7136,   2.2186,   0.1958]])\n",
            "tensor([[  1.0000,   1.0000, 100.0000,   3.2345,   1.8220,   0.7678]])\n",
            "tensor([[  1.0000,   1.0000, 100.0000,   1.9016,   1.2915,   0.3794]])\n",
            "tensor([[  1.0000,   1.0000, 100.0000,   1.5538,   3.4321,   0.1363]])\n",
            "tensor([[  1.0000,   1.0000, 100.0000,   2.9949,   2.9812,   0.7104]])\n",
            "tensor([[  1.0000,   1.0000, 100.0000,   2.2729,   1.2281,   0.3166]])\n",
            "tensor([[  1.0000,   1.0000, 100.0000,   1.4560,   1.7703,   0.7379]])\n",
            "tensor([[  1.0000,   1.0000, 100.0000,   1.7580,   2.7618,   0.6609]])\n",
            "tensor([[  1.0000,   1.0000, 100.0000,   1.1866,   2.1374,   0.5745]])\n",
            "tensor([[  1.0000,   1.0000, 100.0000,   1.5250,   2.7398,   0.3714]])\n",
            "tensor([[  1.0000,   1.0000, 100.0000,   1.5897,   2.1107,   0.1972]])\n",
            "tensor([[  1.0000,   1.0000, 100.0000,   2.5589,   2.3626,   0.1936]])\n",
            "tensor([[  1.0000,   1.0000, 100.0000,   3.2483,   3.0274,   0.4870]])\n",
            "tensor([[  1.0000,   1.0000, 100.0000,   3.0973,   3.3544,   0.5864]])\n",
            "tensor([[  1.0000,   1.0000, 100.0000,   1.6149,   3.2516,   0.4907]])\n",
            "tensor([[1.0000e+00, 1.0000e+00, 1.0000e+02, 2.4738e+00, 2.7889e+00, 4.4819e-02]])\n",
            "tensor([[  1.0000,   1.0000, 100.0000,   2.2797,   3.4734,   0.4929]])\n",
            "tensor([[  1.0000,   1.0000, 100.0000,   2.2677,   2.2064,   0.4396]])\n",
            "tensor([[  1.0000,   1.0000, 100.0000,   2.5661,   1.6764,   0.6308]])\n",
            "tensor([[1.0000e+00, 1.0000e+00, 1.0000e+02, 2.4523e+00, 1.9652e+00, 2.3497e-02]])\n",
            "tensor([[  1.0000,   1.0000, 100.0000,   1.3714,   1.8737,   0.2246]])\n",
            "tensor([[  1.0000,   1.0000, 100.0000,   2.8863,   1.8091,   0.2067]])\n",
            "tensor([[  1.0000,   1.0000, 100.0000,   2.4705,   1.2093,   0.2335]])\n",
            "tensor([[  1.0000,   1.0000, 100.0000,   1.3109,   2.0112,   0.5880]])\n",
            "tensor([[1.0000e+00, 1.0000e+00, 1.0000e+02, 1.9290e+00, 2.6129e+00, 3.0750e-02]])\n",
            "tensor([[  1.0000,   1.0000, 100.0000,   1.3312,   3.2067,   0.1440]])\n",
            "tensor([[  1.0000,   1.0000, 100.0000,   1.2916,   2.1650,   0.3574]])\n",
            "tensor([[  1.0000,   1.0000, 100.0000,   3.0772,   1.6821,   0.3892]])\n",
            "tensor([[  1.0000,   1.0000, 100.0000,   2.6869,   2.3464,   0.2715]])\n",
            "tensor([[  1.0000,   1.0000, 100.0000,   1.3641,   2.5327,   0.7736]])\n",
            "tensor([[  1.0000,   1.0000, 100.0000,   3.2675,   2.1689,   0.4605]])\n",
            "tensor([[  1.0000,   1.0000, 100.0000,   1.8284,   1.1671,   0.2513]])\n",
            "tensor([[  1.0000,   1.0000, 100.0000,   1.3696,   1.9061,   0.3072]])\n",
            "tensor([[  1.0000,   1.0000, 100.0000,   2.1950,   1.6647,   0.4456]])\n",
            "tensor([[1.0000e+00, 1.0000e+00, 1.0000e+02, 2.5857e+00, 1.0452e+00, 3.6190e-03]])\n",
            "tensor([[  1.0000,   1.0000, 100.0000,   1.9509,   2.7672,   0.6568]])\n",
            "tensor([[  1.0000,   1.0000, 100.0000,   2.1802,   1.6442,   0.4312]])\n",
            "tensor([[  1.0000,   1.0000, 100.0000,   2.1672,   1.7796,   0.5321]])\n",
            "tensor([[  1.0000,   1.0000, 100.0000,   3.0650,   3.1963,   0.4551]])\n",
            "tensor([[  1.0000,   1.0000, 100.0000,   2.5387,   1.3136,   0.3314]])\n",
            "tensor([[  1.0000,   1.0000, 100.0000,   2.5735,   2.7185,   0.3111]])\n",
            "tensor([[  1.0000,   1.0000, 100.0000,   1.7528,   2.2839,   0.7278]])\n",
            "tensor([[  1.0000,   1.0000, 100.0000,   3.1362,   2.7105,   0.6939]])\n",
            "tensor([[  1.0000,   1.0000, 100.0000,   1.1361,   2.5237,   0.2414]])\n",
            "tensor([[  1.0000,   1.0000, 100.0000,   2.8839,   2.5022,   0.7448]])\n",
            "tensor([[  1.0000,   1.0000, 100.0000,   2.5972,   1.7602,   0.1794]])\n",
            "tensor([[  1.0000,   1.0000, 100.0000,   2.2107,   1.5212,   0.3121]])\n",
            "tensor([[  1.0000,   1.0000, 100.0000,   2.2649,   1.9955,   0.7174]])\n",
            "tensor([[  1.0000,   1.0000, 100.0000,   3.3209,   2.9047,   0.7578]])\n",
            "tensor([[  1.0000,   1.0000, 100.0000,   3.4332,   2.9775,   0.2879]])\n",
            "tensor([[  1.0000,   1.0000, 100.0000,   3.2004,   3.4343,   0.3756]])\n",
            "tensor([[  1.0000,   1.0000, 100.0000,   1.1336,   2.7856,   0.4608]])\n",
            "tensor([[  1.0000,   1.0000, 100.0000,   2.0818,   3.1779,   0.7707]])\n",
            "tensor([[  1.0000,   1.0000, 100.0000,   1.1490,   1.9884,   0.6424]])\n",
            "tensor([[  1.0000,   1.0000, 100.0000,   1.7806,   2.7810,   0.3799]])\n",
            "tensor([[  1.0000,   1.0000, 100.0000,   2.8510,   2.4865,   0.1287]])\n",
            "tensor([[  1.0000,   1.0000, 100.0000,   1.4029,   2.6056,   0.5411]])\n",
            "tensor([[  1.0000,   1.0000, 100.0000,   2.9307,   2.6419,   0.5015]])\n",
            "tensor([[1.0000e+00, 1.0000e+00, 1.0000e+02, 2.8277e+00, 2.5736e+00, 6.5530e-02]])\n",
            "tensor([[  1.0000,   1.0000, 100.0000,   3.0591,   1.6012,   0.1780]])\n",
            "tensor([[  1.0000,   1.0000, 100.0000,   3.2153,   2.8045,   0.5856]])\n",
            "tensor([[  1.0000,   1.0000, 100.0000,   2.8533,   3.2711,   0.1551]])\n",
            "tensor([[  1.0000,   1.0000, 100.0000,   1.5139,   1.7775,   0.1406]])\n",
            "tensor([[  1.0000,   1.0000, 100.0000,   2.8450,   2.7732,   0.3163]])\n",
            "tensor([[  1.0000,   1.0000, 100.0000,   1.5046,   3.4704,   0.7526]])\n",
            "tensor([[  1.0000,   1.0000, 100.0000,   2.5814,   2.3864,   0.4561]])\n",
            "tensor([[  1.0000,   1.0000, 100.0000,   1.9109,   3.1229,   0.1434]])\n",
            "tensor([[  1.0000,   1.0000, 100.0000,   1.4523,   2.4545,   0.5025]])\n",
            "tensor([[1.0000e+00, 1.0000e+00, 1.0000e+02, 2.7754e+00, 1.1671e+00, 5.1875e-02]])\n",
            "tensor([[  1.0000,   1.0000, 100.0000,   1.1077,   1.6047,   0.2457]])\n",
            "tensor([[  1.0000,   1.0000, 100.0000,   1.2012,   2.9872,   0.4016]])\n",
            "tensor([[  1.0000,   1.0000, 100.0000,   2.3324,   1.5210,   0.3898]])\n",
            "tensor([[  1.0000,   1.0000, 100.0000,   1.2089,   3.1245,   0.4174]])\n",
            "tensor([[1.0000e+00, 1.0000e+00, 1.0000e+02, 1.9359e+00, 3.3066e+00, 2.9830e-02]])\n",
            "tensor([[  1.0000,   1.0000, 100.0000,   2.2247,   2.8079,   0.5314]])\n",
            "tensor([[  1.0000,   1.0000, 100.0000,   3.3198,   2.0208,   0.3349]])\n",
            "tensor([[  1.0000,   1.0000, 100.0000,   2.0423,   1.6348,   0.4629]])\n",
            "tensor([[  1.0000,   1.0000, 100.0000,   2.6742,   2.8955,   0.5623]])\n",
            "tensor([[  1.0000,   1.0000, 100.0000,   2.3920,   2.3960,   0.7581]])\n",
            "tensor([[  1.0000,   1.0000, 100.0000,   1.7115,   1.8581,   0.2559]])\n",
            "tensor([[  1.0000,   1.0000, 100.0000,   1.2145,   1.0250,   0.3450]])\n",
            "tensor([[  1.0000,   1.0000, 100.0000,   1.6739,   1.8506,   0.7479]])\n",
            "tensor([[  1.0000,   1.0000, 100.0000,   3.0082,   1.5267,   0.7574]])\n",
            "tensor([[  1.0000,   1.0000, 100.0000,   3.4923,   2.4437,   0.5351]])\n",
            "tensor([[  1.0000,   1.0000, 100.0000,   1.8312,   3.2711,   0.6321]])\n",
            "tensor([[  1.0000,   1.0000, 100.0000,   1.4751,   3.4613,   0.2868]])\n",
            "tensor([[  1.0000,   1.0000, 100.0000,   1.8858,   1.9835,   0.5563]])\n",
            "tensor([[  1.0000,   1.0000, 100.0000,   1.2419,   3.2981,   0.4210]])\n",
            "tensor([[  1.0000,   1.0000, 100.0000,   3.1664,   3.1366,   0.4150]])\n",
            "tensor([[  1.0000,   1.0000, 100.0000,   1.1596,   2.8168,   0.6317]])\n",
            "tensor([[  1.0000,   1.0000, 100.0000,   2.2353,   1.2959,   0.2027]])\n",
            "tensor([[  1.0000,   1.0000, 100.0000,   1.2628,   3.1425,   0.7530]])\n",
            "tensor([[  1.0000,   1.0000, 100.0000,   2.7295,   3.0408,   0.2859]])\n",
            "tensor([[  1.0000,   1.0000, 100.0000,   1.2377,   3.0608,   0.7673]])\n",
            "tensor([[  1.0000,   1.0000, 100.0000,   2.2353,   3.0463,   0.4421]])\n",
            "tensor([[  1.0000,   1.0000, 100.0000,   2.3951,   2.7525,   0.7450]])\n",
            "tensor([[  1.0000,   1.0000, 100.0000,   2.3319,   2.8117,   0.2641]])\n",
            "tensor([[1.0000e+00, 1.0000e+00, 1.0000e+02, 1.7679e+00, 2.8217e+00, 3.2637e-02]])\n",
            "tensor([[1.0000e+00, 1.0000e+00, 1.0000e+02, 1.6216e+00, 1.1967e+00, 9.9878e-02]])\n",
            "tensor([[  1.0000,   1.0000, 100.0000,   2.8985,   1.4618,   0.5225]])\n",
            "tensor([[1.0000e+00, 1.0000e+00, 1.0000e+02, 1.9835e+00, 1.5182e+00, 9.2410e-02]])\n",
            "tensor([[  1.0000,   1.0000, 100.0000,   1.7801,   2.1379,   0.5784]])\n",
            "tensor([[  1.0000,   1.0000, 100.0000,   2.4636,   2.7114,   0.1136]])\n",
            "tensor([[1.0000e+00, 1.0000e+00, 1.0000e+02, 3.0190e+00, 3.4130e+00, 2.9827e-02]])\n",
            "tensor([[  1.0000,   1.0000, 100.0000,   2.2575,   2.2923,   0.6708]])\n",
            "tensor([[  1.0000,   1.0000, 100.0000,   2.8100,   2.5012,   0.4104]])\n",
            "tensor([[  1.0000,   1.0000, 100.0000,   3.3277,   1.5067,   0.2308]])\n",
            "tensor([[  1.0000,   1.0000, 100.0000,   1.1574,   1.6702,   0.1550]])\n",
            "tensor([[  1.0000,   1.0000, 100.0000,   3.3268,   1.8719,   0.2552]])\n",
            "tensor([[  1.0000,   1.0000, 100.0000,   2.5292,   1.3867,   0.5011]])\n",
            "tensor([[  1.0000,   1.0000, 100.0000,   3.1876,   1.8735,   0.5660]])\n",
            "tensor([[1.0000e+00, 1.0000e+00, 1.0000e+02, 3.4498e+00, 3.2705e+00, 3.3013e-02]])\n",
            "tensor([[  1.0000,   1.0000, 100.0000,   2.5517,   1.3050,   0.4339]])\n",
            "tensor([[  1.0000,   1.0000, 100.0000,   3.2084,   1.8259,   0.5405]])\n",
            "tensor([[  1.0000,   1.0000, 100.0000,   2.9398,   2.4004,   0.2891]])\n",
            "tensor([[  1.0000,   1.0000, 100.0000,   1.8323,   1.6423,   0.3930]])\n",
            "tensor([[1.0000e+00, 1.0000e+00, 1.0000e+02, 1.2349e+00, 2.7744e+00, 5.8032e-02]])\n",
            "tensor([[  1.0000,   1.0000, 100.0000,   2.0844,   3.1758,   0.4083]])\n",
            "tensor([[  1.0000,   1.0000, 100.0000,   3.4027,   2.2139,   0.1663]])\n",
            "tensor([[  1.0000,   1.0000, 100.0000,   2.2964,   2.4450,   0.7598]])\n",
            "tensor([[  1.0000,   1.0000, 100.0000,   2.1031,   2.4711,   0.1502]])\n",
            "tensor([[  1.0000,   1.0000, 100.0000,   1.0412,   3.4405,   0.7621]])\n",
            "tensor([[  1.0000,   1.0000, 100.0000,   3.2609,   1.7411,   0.5076]])\n",
            "tensor([[  1.0000,   1.0000, 100.0000,   1.0220,   2.7819,   0.5566]])\n",
            "tensor([[  1.0000,   1.0000, 100.0000,   1.1569,   1.8418,   0.1348]])\n",
            "tensor([[1.0000e+00, 1.0000e+00, 1.0000e+02, 1.0257e+00, 1.4916e+00, 7.5620e-03]])\n",
            "tensor([[  1.0000,   1.0000, 100.0000,   3.4325,   2.2996,   0.5835]])\n",
            "tensor([[  1.0000,   1.0000, 100.0000,   2.6337,   3.4085,   0.6459]])\n",
            "tensor([[  1.0000,   1.0000, 100.0000,   1.8139,   1.4759,   0.1044]])\n",
            "tensor([[  1.0000,   1.0000, 100.0000,   2.5765,   1.8485,   0.7142]])\n",
            "tensor([[  1.0000,   1.0000, 100.0000,   1.6684,   3.1356,   0.2773]])\n",
            "tensor([[  1.0000,   1.0000, 100.0000,   2.7093,   2.9034,   0.4757]])\n",
            "tensor([[1.0000e+00, 1.0000e+00, 1.0000e+02, 2.8993e+00, 2.0479e+00, 1.1061e-02]])\n",
            "tensor([[  1.0000,   1.0000, 100.0000,   1.4335,   1.3983,   0.2091]])\n",
            "tensor([[  1.0000,   1.0000, 100.0000,   1.6155,   2.1512,   0.6037]])\n",
            "tensor([[  1.0000,   1.0000, 100.0000,   2.4080,   1.1043,   0.2126]])\n",
            "tensor([[1.0000e+00, 1.0000e+00, 1.0000e+02, 1.5728e+00, 2.4866e+00, 9.6402e-03]])\n",
            "tensor([[1.0000e+00, 1.0000e+00, 1.0000e+02, 3.4830e+00, 1.8397e+00, 6.7471e-02]])\n",
            "tensor([[  1.0000,   1.0000, 100.0000,   1.2978,   1.1494,   0.7390]])\n",
            "tensor([[  1.0000,   1.0000, 100.0000,   2.3028,   2.4729,   0.7344]])\n",
            "tensor([[1.0000e+00, 1.0000e+00, 1.0000e+02, 1.1593e+00, 3.1167e+00, 1.9838e-02]])\n",
            "tensor([[  1.0000,   1.0000, 100.0000,   1.8533,   1.1406,   0.7502]])\n",
            "tensor([[  1.0000,   1.0000, 100.0000,   2.7046,   1.9518,   0.2844]])\n",
            "tensor([[  1.0000,   1.0000, 100.0000,   1.3227,   2.4583,   0.2402]])\n",
            "tensor([[  1.0000,   1.0000, 100.0000,   2.8617,   1.4673,   0.6570]])\n",
            "tensor([[  1.0000,   1.0000, 100.0000,   1.9391,   3.0951,   0.3681]])\n",
            "tensor([[  1.0000,   1.0000, 100.0000,   3.3846,   2.1829,   0.4628]])\n",
            "tensor([[  1.0000,   1.0000, 100.0000,   2.9983,   2.3049,   0.3213]])\n",
            "tensor([[  1.0000,   1.0000, 100.0000,   2.7639,   2.7868,   0.2248]])\n",
            "tensor([[1.0000e+00, 1.0000e+00, 1.0000e+02, 2.2176e+00, 3.4205e+00, 5.6643e-02]])\n",
            "tensor([[1.0000e+00, 1.0000e+00, 1.0000e+02, 2.3814e+00, 2.2775e+00, 6.8030e-02]])\n",
            "tensor([[  1.0000,   1.0000, 100.0000,   2.6366,   2.8644,   0.5378]])\n",
            "tensor([[  1.0000,   1.0000, 100.0000,   2.7578,   1.4189,   0.3858]])\n",
            "tensor([[  1.0000,   1.0000, 100.0000,   3.4833,   3.0308,   0.2523]])\n",
            "tensor([[  1.0000,   1.0000, 100.0000,   1.2333,   2.0703,   0.3866]])\n",
            "tensor([[  1.0000,   1.0000, 100.0000,   2.1164,   1.6355,   0.4286]])\n",
            "tensor([[  1.0000,   1.0000, 100.0000,   2.8615,   3.2297,   0.7822]])\n",
            "tensor([[  1.0000,   1.0000, 100.0000,   2.0184,   1.7101,   0.6838]])\n",
            "tensor([[  1.0000,   1.0000, 100.0000,   2.4025,   1.2211,   0.6611]])\n",
            "tensor([[  1.0000,   1.0000, 100.0000,   2.1288,   2.5635,   0.6863]])\n",
            "tensor([[  1.0000,   1.0000, 100.0000,   2.9065,   2.2932,   0.5667]])\n",
            "tensor([[  1.0000,   1.0000, 100.0000,   3.1971,   2.4998,   0.2846]])\n",
            "tensor([[  1.0000,   1.0000, 100.0000,   1.3048,   1.1257,   0.6386]])\n",
            "tensor([[1.0000e+00, 1.0000e+00, 1.0000e+02, 1.1123e+00, 2.7714e+00, 1.0313e-02]])\n",
            "tensor([[  1.0000,   1.0000, 100.0000,   3.1728,   3.4346,   0.6462]])\n",
            "tensor([[  1.0000,   1.0000, 100.0000,   2.9473,   1.8265,   0.2061]])\n",
            "tensor([[  1.0000,   1.0000, 100.0000,   2.3928,   3.1315,   0.1497]])\n",
            "tensor([[  1.0000,   1.0000, 100.0000,   1.4514,   1.2044,   0.3992]])\n",
            "tensor([[  1.0000,   1.0000, 100.0000,   1.3722,   3.1297,   0.5062]])\n",
            "tensor([[1.0000e+00, 1.0000e+00, 1.0000e+02, 3.3838e+00, 3.4301e+00, 6.4306e-02]])\n",
            "tensor([[  1.0000,   1.0000, 100.0000,   2.4989,   2.1026,   0.6931]])\n",
            "tensor([[  1.0000,   1.0000, 100.0000,   2.2579,   2.1069,   0.4575]])\n",
            "tensor([[  1.0000,   1.0000, 100.0000,   3.4057,   1.6697,   0.1054]])\n",
            "tensor([[  1.0000,   1.0000, 100.0000,   1.9312,   3.0385,   0.3685]])\n",
            "tensor([[  1.0000,   1.0000, 100.0000,   2.2841,   2.8419,   0.2837]])\n",
            "tensor([[1.0000e+00, 1.0000e+00, 1.0000e+02, 3.1948e+00, 2.3056e+00, 3.5860e-03]])\n",
            "tensor([[  1.0000,   1.0000, 100.0000,   3.0433,   3.3385,   0.6168]])\n",
            "tensor([[  1.0000,   1.0000, 100.0000,   3.1928,   2.1001,   0.7044]])\n",
            "tensor([[  1.0000,   1.0000, 100.0000,   3.1133,   2.8236,   0.3708]])\n",
            "tensor([[  1.0000,   1.0000, 100.0000,   1.8737,   2.8667,   0.3788]])\n",
            "tensor([[1.0000e+00, 1.0000e+00, 1.0000e+02, 3.1940e+00, 2.6287e+00, 6.0343e-02]])\n",
            "tensor([[  1.0000,   1.0000, 100.0000,   3.2023,   2.7552,   0.5725]])\n",
            "tensor([[  1.0000,   1.0000, 100.0000,   1.3163,   1.0276,   0.6172]])\n",
            "tensor([[  1.0000,   1.0000, 100.0000,   2.1795,   2.9910,   0.2754]])\n",
            "tensor([[1.0000e+00, 1.0000e+00, 1.0000e+02, 2.0321e+00, 2.7175e+00, 9.6185e-02]])\n",
            "tensor([[  1.0000,   1.0000, 100.0000,   2.8031,   2.8891,   0.3808]])\n",
            "tensor([[  1.0000,   1.0000, 100.0000,   2.0479,   1.5669,   0.7187]])\n",
            "tensor([[  1.0000,   1.0000, 100.0000,   1.8384,   1.3540,   0.1592]])\n",
            "tensor([[  1.0000,   1.0000, 100.0000,   1.5383,   3.2910,   0.7722]])\n",
            "tensor([[  1.0000,   1.0000, 100.0000,   1.3500,   3.4032,   0.5972]])\n",
            "tensor([[  1.0000,   1.0000, 100.0000,   2.1433,   2.9450,   0.6307]])\n"
          ],
          "name": "stdout"
        }
      ]
    },
    {
      "cell_type": "code",
      "metadata": {
        "id": "VD3ORpheh-PE",
        "colab_type": "code",
        "colab": {}
      },
      "source": [
        "neptune.log_artifact('description.txt')\n"
      ],
      "execution_count": 0,
      "outputs": []
    },
    {
      "cell_type": "code",
      "metadata": {
        "id": "w6rqtOlXjwa_",
        "colab_type": "code",
        "colab": {}
      },
      "source": [
        ""
      ],
      "execution_count": 0,
      "outputs": []
    }
  ]
}
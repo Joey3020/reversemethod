{
  "nbformat": 4,
  "nbformat_minor": 0,
  "metadata": {
    "colab": {
      "name": "Reverse_Horn.ipynb",
      "provenance": [],
      "collapsed_sections": [],
      "authorship_tag": "ABX9TyM7+n5YQrDnnWDEyk4AZXA2",
      "include_colab_link": true
    },
    "kernelspec": {
      "name": "python3",
      "display_name": "Python 3"
    },
    "accelerator": "GPU"
  },
  "cells": [
    {
      "cell_type": "markdown",
      "metadata": {
        "id": "view-in-github",
        "colab_type": "text"
      },
      "source": [
        "<a href=\"https://colab.research.google.com/github/joey0320/reversemethod/blob/horn_array/Reverse_Horn.ipynb\" target=\"_parent\"><img src=\"https://colab.research.google.com/assets/colab-badge.svg\" alt=\"Open In Colab\"/></a>"
      ]
    },
    {
      "cell_type": "code",
      "metadata": {
        "id": "XHXbki16o6mc",
        "colab_type": "code",
        "outputId": "9cee7a8d-ba7c-4370-ed5b-eebe99ca2ac4",
        "colab": {
          "base_uri": "https://localhost:8080/",
          "height": 34
        }
      },
      "source": [
        "from google.colab import drive\n",
        "drive.mount('/content/gdrive')\n",
        "#4/0AEpufuJ_nbX2dmW9b_yXFnB9ZujzNhSBbcBUvxn2H0lTVVMyz4e-Q0"
      ],
      "execution_count": 1,
      "outputs": [
        {
          "output_type": "stream",
          "text": [
            "Drive already mounted at /content/gdrive; to attempt to forcibly remount, call drive.mount(\"/content/gdrive\", force_remount=True).\n"
          ],
          "name": "stdout"
        }
      ]
    },
    {
      "cell_type": "code",
      "metadata": {
        "id": "hrc7AsPh2Pgg",
        "colab_type": "code",
        "colab": {
          "base_uri": "https://localhost:8080/",
          "height": 700
        },
        "outputId": "3231242a-a960-4c07-e3b7-7421fa0aa79d"
      },
      "source": [
        "pip install neptune-client"
      ],
      "execution_count": 2,
      "outputs": [
        {
          "output_type": "stream",
          "text": [
            "Requirement already satisfied: neptune-client in /usr/local/lib/python3.6/dist-packages (0.4.114)\n",
            "Requirement already satisfied: GitPython>=2.0.8 in /usr/local/lib/python3.6/dist-packages (from neptune-client) (3.1.2)\n",
            "Requirement already satisfied: oauthlib>=2.1.0 in /usr/local/lib/python3.6/dist-packages (from neptune-client) (3.1.0)\n",
            "Requirement already satisfied: pandas in /usr/local/lib/python3.6/dist-packages (from neptune-client) (1.0.3)\n",
            "Requirement already satisfied: PyJWT in /usr/local/lib/python3.6/dist-packages (from neptune-client) (1.7.1)\n",
            "Requirement already satisfied: requests>=2.20.0 in /usr/local/lib/python3.6/dist-packages (from neptune-client) (2.23.0)\n",
            "Requirement already satisfied: six>=1.12.0 in /usr/local/lib/python3.6/dist-packages (from neptune-client) (1.12.0)\n",
            "Requirement already satisfied: Pillow>=1.1.6 in /usr/local/lib/python3.6/dist-packages (from neptune-client) (7.0.0)\n",
            "Requirement already satisfied: packaging in /usr/local/lib/python3.6/dist-packages (from neptune-client) (20.4)\n",
            "Requirement already satisfied: requests-oauthlib>=1.0.0 in /usr/local/lib/python3.6/dist-packages (from neptune-client) (1.3.0)\n",
            "Requirement already satisfied: py3nvml in /usr/local/lib/python3.6/dist-packages (from neptune-client) (0.2.6)\n",
            "Requirement already satisfied: websocket-client>=0.35.0 in /usr/local/lib/python3.6/dist-packages (from neptune-client) (0.57.0)\n",
            "Requirement already satisfied: future>=0.17.1 in /usr/local/lib/python3.6/dist-packages (from neptune-client) (0.18.2)\n",
            "Requirement already satisfied: click>=7.0 in /usr/local/lib/python3.6/dist-packages (from neptune-client) (7.1.2)\n",
            "Requirement already satisfied: bravado in /usr/local/lib/python3.6/dist-packages (from neptune-client) (10.6.1)\n",
            "Requirement already satisfied: gitdb<5,>=4.0.1 in /usr/local/lib/python3.6/dist-packages (from GitPython>=2.0.8->neptune-client) (4.0.5)\n",
            "Requirement already satisfied: numpy>=1.13.3 in /usr/local/lib/python3.6/dist-packages (from pandas->neptune-client) (1.18.4)\n",
            "Requirement already satisfied: pytz>=2017.2 in /usr/local/lib/python3.6/dist-packages (from pandas->neptune-client) (2018.9)\n",
            "Requirement already satisfied: python-dateutil>=2.6.1 in /usr/local/lib/python3.6/dist-packages (from pandas->neptune-client) (2.8.1)\n",
            "Requirement already satisfied: urllib3!=1.25.0,!=1.25.1,<1.26,>=1.21.1 in /usr/local/lib/python3.6/dist-packages (from requests>=2.20.0->neptune-client) (1.24.3)\n",
            "Requirement already satisfied: certifi>=2017.4.17 in /usr/local/lib/python3.6/dist-packages (from requests>=2.20.0->neptune-client) (2020.4.5.1)\n",
            "Requirement already satisfied: idna<3,>=2.5 in /usr/local/lib/python3.6/dist-packages (from requests>=2.20.0->neptune-client) (2.9)\n",
            "Requirement already satisfied: chardet<4,>=3.0.2 in /usr/local/lib/python3.6/dist-packages (from requests>=2.20.0->neptune-client) (3.0.4)\n",
            "Requirement already satisfied: pyparsing>=2.0.2 in /usr/local/lib/python3.6/dist-packages (from packaging->neptune-client) (2.4.7)\n",
            "Requirement already satisfied: xmltodict in /usr/local/lib/python3.6/dist-packages (from py3nvml->neptune-client) (0.12.0)\n",
            "Requirement already satisfied: simplejson in /usr/local/lib/python3.6/dist-packages (from bravado->neptune-client) (3.17.0)\n",
            "Requirement already satisfied: bravado-core>=5.16.1 in /usr/local/lib/python3.6/dist-packages (from bravado->neptune-client) (5.17.0)\n",
            "Requirement already satisfied: typing-extensions in /usr/local/lib/python3.6/dist-packages (from bravado->neptune-client) (3.6.6)\n",
            "Requirement already satisfied: msgpack-python in /usr/local/lib/python3.6/dist-packages (from bravado->neptune-client) (0.5.6)\n",
            "Requirement already satisfied: monotonic in /usr/local/lib/python3.6/dist-packages (from bravado->neptune-client) (1.5)\n",
            "Requirement already satisfied: pyyaml in /usr/local/lib/python3.6/dist-packages (from bravado->neptune-client) (3.13)\n",
            "Requirement already satisfied: smmap<4,>=3.0.1 in /usr/local/lib/python3.6/dist-packages (from gitdb<5,>=4.0.1->GitPython>=2.0.8->neptune-client) (3.0.4)\n",
            "Requirement already satisfied: jsonref in /usr/local/lib/python3.6/dist-packages (from bravado-core>=5.16.1->bravado->neptune-client) (0.2)\n",
            "Requirement already satisfied: msgpack>=0.5.2 in /usr/local/lib/python3.6/dist-packages (from bravado-core>=5.16.1->bravado->neptune-client) (1.0.0)\n",
            "Requirement already satisfied: jsonschema[format]>=2.5.1 in /usr/local/lib/python3.6/dist-packages (from bravado-core>=5.16.1->bravado->neptune-client) (2.6.0)\n",
            "Requirement already satisfied: swagger-spec-validator>=2.0.1 in /usr/local/lib/python3.6/dist-packages (from bravado-core>=5.16.1->bravado->neptune-client) (2.6.0)\n",
            "Requirement already satisfied: webcolors; extra == \"format\" in /usr/local/lib/python3.6/dist-packages (from jsonschema[format]>=2.5.1->bravado-core>=5.16.1->bravado->neptune-client) (1.11.1)\n",
            "Requirement already satisfied: rfc3987; extra == \"format\" in /usr/local/lib/python3.6/dist-packages (from jsonschema[format]>=2.5.1->bravado-core>=5.16.1->bravado->neptune-client) (1.3.8)\n",
            "Requirement already satisfied: strict-rfc3339; extra == \"format\" in /usr/local/lib/python3.6/dist-packages (from jsonschema[format]>=2.5.1->bravado-core>=5.16.1->bravado->neptune-client) (0.7)\n"
          ],
          "name": "stdout"
        }
      ]
    },
    {
      "cell_type": "code",
      "metadata": {
        "id": "qoHR0QPR2YlU",
        "colab_type": "code",
        "colab": {
          "base_uri": "https://localhost:8080/",
          "height": 34
        },
        "outputId": "88160731-acb5-44bd-9cc6-9459db3de193"
      },
      "source": [
        "import neptune\n",
        "\n",
        "neptune.init(\n",
        "    api_token=\"eyJhcGlfYWRkcmVzcyI6Imh0dHBzOi8vdWkubmVwdHVuZS5haSIsImFwaV91cmwiOiJodHRwczovL3VpLm5lcHR1bmUuYWkiLCJhcGlfa2V5IjoiZjY2Y2M1MjktNzljYy00MTFjLWE1NTQtOTAxYTFhMmNjM2VhIn0=\",\n",
        "    project_qualified_name=\"joey0320/reverse-1\"\n",
        ")"
      ],
      "execution_count": 3,
      "outputs": [
        {
          "output_type": "execute_result",
          "data": {
            "text/plain": [
              "Project(joey0320/reverse-1)"
            ]
          },
          "metadata": {
            "tags": []
          },
          "execution_count": 3
        }
      ]
    },
    {
      "cell_type": "code",
      "metadata": {
        "id": "jSAXXsmEo-9E",
        "colab_type": "code",
        "colab": {}
      },
      "source": [
        "import sys\n",
        "sys.path.append('/content/libs')"
      ],
      "execution_count": 0,
      "outputs": []
    },
    {
      "cell_type": "code",
      "metadata": {
        "id": "SaZJF1kKpXRt",
        "colab_type": "code",
        "outputId": "2c37c584-a14e-4540-d2a7-a2e79e382e4b",
        "colab": {
          "base_uri": "https://localhost:8080/",
          "height": 68
        }
      },
      "source": [
        "import numpy as np\n",
        "import pandas as pd\n",
        "from pandas import DataFrame\n",
        "import torch\n",
        "import torch.nn as nn\n",
        "import torch.nn.functional as F\n",
        "import torch.optim as optim\n",
        "from torch.utils.data import Dataset\n",
        "from torch.utils.data import DataLoader\n",
        "from torch.utils.data import ConcatDataset\n",
        "import matplotlib.pyplot as plt\n",
        "import math\n",
        "import os\n",
        "from tqdm import tqdm\n",
        "import time\n",
        "import cv2\n",
        "from DataCaller import DataCaller\n",
        "from EarlyStopper import *\n",
        "from Net import *\n",
        "from train_test import *\n",
        "from utils import *\n",
        "\n",
        "#use gpu    please somebody buy me a gpu .......\n",
        "USE_GPU = True\n",
        "if USE_GPU and torch.cuda.is_available():\n",
        "    device = torch.device('cuda')\n",
        "else:\n",
        "    device = torch.device('cpu')\n",
        "print(device)\n",
        "\n",
        "#Global variables\n",
        "config = {\n",
        "    'load_data':True,\n",
        "    'load_test_data':True,\n",
        "\n",
        "    'batch_size':48,\n",
        "    'val_batch_size':16,\n",
        "    'learning_rate':4e-4,\n",
        "    'epochs':1000,\n",
        "    'patience':5,\n",
        "\n",
        "    'img_size':64,\n",
        "    'img_channels':4,\n",
        "\n",
        "    'train_label_size':6,\n",
        "    'test_label_size':3,\n",
        "\n",
        "    'output1':1,\n",
        "    'output2':2,\n",
        "    'result_label':4,\n",
        "\n",
        "    'weight':torch.tensor([2.0, 2.0, 1.0, 0.5]),\n",
        "}\n",
        "MODEL_NAME = f\"model-{int(time.time())}\"\n",
        "neptune.create_experiment(name='rev1', params=config, upload_source_files=['libs/DataCaller.py',\n",
        "                                                                           'libs/EarlyStopper.py',\n",
        "                                                                           'libs/Net.py',\n",
        "                                                                           'libs/train_test.py',\n",
        "                                                                           'libs/utils.py'])\n"
      ],
      "execution_count": 5,
      "outputs": [
        {
          "output_type": "stream",
          "text": [
            "cuda\n",
            "https://ui.neptune.ai/joey0320/reverse-1/e/REV-7\n"
          ],
          "name": "stdout"
        },
        {
          "output_type": "execute_result",
          "data": {
            "text/plain": [
              "Experiment(REV-7)"
            ]
          },
          "metadata": {
            "tags": []
          },
          "execution_count": 5
        }
      ]
    },
    {
      "cell_type": "code",
      "metadata": {
        "id": "2chq-Jsw9mz_",
        "colab_type": "code",
        "colab": {}
      },
      "source": [
        "BASE_PATH = '/content/gdrive/My Drive/Colab Notebooks/Reverse_Method_Horn/data'\n",
        "TRAIN_DATA_PATH = os.path.join(BASE_PATH, 'test_gen/train')\n",
        "VAL_DATA_PATH = os.path.join(BASE_PATH, 'test_gen/val')\n",
        "TEST_DATA_PATH = os.path.join(BASE_PATH, 'test_gen/test')"
      ],
      "execution_count": 0,
      "outputs": []
    },
    {
      "cell_type": "code",
      "metadata": {
        "id": "cmAN4Ewzvcy4",
        "colab_type": "code",
        "outputId": "6b21b070-0e2a-491c-b064-6ebc0167fa48",
        "colab": {
          "base_uri": "https://localhost:8080/",
          "height": 187
        }
      },
      "source": [
        "\n",
        "if config['load_data']:\n",
        "    trainsets = []\n",
        "    valsets = []\n",
        "    for f in tqdm(os.listdir(TRAIN_DATA_PATH)):\n",
        "      path = os.path.join(TRAIN_DATA_PATH, f)\n",
        "      trainset = DataCaller(path, config['img_size'], config['train_label_size'])\n",
        "      print(trainset.__len__())\n",
        "      trainsets.append(trainset)\n",
        "\n",
        "    for f in tqdm(os.listdir(VAL_DATA_PATH)):\n",
        "      path  = os.path.join(VAL_DATA_PATH, f)\n",
        "      valset = DataCaller(path, config['img_size'], config['train_label_size'])\n",
        "      print(valset.__len__())\n",
        "      valsets.append(valset)\n",
        "\n",
        "if config['load_test_data']:\n",
        "    testsets = []\n",
        "    for f in tqdm(os.listdir(TEST_DATA_PATH)):\n",
        "      path  = os.path.join(TEST_DATA_PATH, f)\n",
        "      testset = DataCaller(path, config['img_size'], config['test_label_size'])\n",
        "      print(testset.__len__())\n",
        "      testsets.append(testset)\n",
        "\n",
        "    trainset = ConcatDataset(trainsets)\n",
        "    print(trainset.__len__())\n",
        "    valset = ConcatDataset(valsets)\n",
        "    print(valset.__len__())\n",
        "    testset = ConcatDataset(testsets)\n",
        "    print(testset.__len__())  "
      ],
      "execution_count": 7,
      "outputs": [
        {
          "output_type": "stream",
          "text": [
            " 50%|█████     | 1/2 [00:01<00:01,  1.61s/it]"
          ],
          "name": "stderr"
        },
        {
          "output_type": "stream",
          "text": [
            "50\n"
          ],
          "name": "stdout"
        },
        {
          "output_type": "stream",
          "text": [
            "100%|██████████| 2/2 [00:03<00:00,  1.62s/it]\n",
            "  0%|          | 0/1 [00:00<?, ?it/s]"
          ],
          "name": "stderr"
        },
        {
          "output_type": "stream",
          "text": [
            "50\n"
          ],
          "name": "stdout"
        },
        {
          "output_type": "stream",
          "text": [
            "100%|██████████| 1/1 [00:01<00:00,  1.60s/it]\n",
            "  0%|          | 0/1 [00:00<?, ?it/s]"
          ],
          "name": "stderr"
        },
        {
          "output_type": "stream",
          "text": [
            "50\n"
          ],
          "name": "stdout"
        },
        {
          "output_type": "stream",
          "text": [
            "100%|██████████| 1/1 [00:01<00:00,  1.57s/it]"
          ],
          "name": "stderr"
        },
        {
          "output_type": "stream",
          "text": [
            "50\n",
            "100\n",
            "50\n",
            "50\n"
          ],
          "name": "stdout"
        },
        {
          "output_type": "stream",
          "text": [
            "\n"
          ],
          "name": "stderr"
        }
      ]
    },
    {
      "cell_type": "code",
      "metadata": {
        "id": "seySEJ3Fwg98",
        "colab_type": "code",
        "colab": {}
      },
      "source": [
        "  #define dataloaders\n",
        "trainloader = DataLoader(trainset, batch_size = config['batch_size'], shuffle=True)\n",
        "valloader = DataLoader(valset, batch_size=config['batch_size'], shuffle=True)\n",
        "testloader = DataLoader(testset, batch_size=1, shuffle=False)"
      ],
      "execution_count": 0,
      "outputs": []
    },
    {
      "cell_type": "code",
      "metadata": {
        "id": "kMN0-kVlyNDu",
        "colab_type": "code",
        "outputId": "41360d1d-59eb-4e18-d69c-89a2317f6547",
        "colab": {
          "base_uri": "https://localhost:8080/",
          "height": 578
        }
      },
      "source": [
        "cnt = 0\n",
        "for i, data in enumerate(trainloader):\n",
        "    x, y = data\n",
        "    filter_input(x)\n",
        "    x = np.array(x)\n",
        "    x = x.reshape(-1, config['img_channels'], config['img_size'], config['img_size'])\n",
        "\n",
        "    print(x[0])\n",
        "    print(x[0].shape)\n",
        "\n",
        "    print(y[0])\n",
        "    cnt += 1\n",
        "    if cnt==1:\n",
        "      break"
      ],
      "execution_count": 9,
      "outputs": [
        {
          "output_type": "stream",
          "text": [
            "[[[24.527   23.894   21.849   ...  0.       0.       0.     ]\n",
            "  [24.527   23.9     21.875   ...  0.       0.       0.     ]\n",
            "  [24.527   23.917   21.951   ...  0.       0.       0.     ]\n",
            "  ...\n",
            "  [24.527   23.916   21.951   ...  0.       0.       0.     ]\n",
            "  [24.527   23.9     21.874   ...  0.       0.       0.     ]\n",
            "  [24.527   23.894   21.849   ...  0.       0.       0.     ]]\n",
            "\n",
            " [[22.412   24.103   24.442   ...  0.       0.       0.     ]\n",
            "  [22.412   24.097   24.442   ...  0.       0.       0.     ]\n",
            "  [22.412   24.08    24.442   ...  0.       0.       0.     ]\n",
            "  ...\n",
            "  [22.412   24.08    24.441   ...  0.       0.       0.     ]\n",
            "  [22.412   24.097   24.442   ...  0.       0.       0.     ]\n",
            "  [22.412   24.103   24.442   ...  0.       0.       0.     ]]\n",
            "\n",
            " [[13.7     19.829   22.859   ...  0.       0.       0.     ]\n",
            "  [13.7     19.808   22.836   ...  0.       0.       0.     ]\n",
            "  [13.7     19.743   22.765   ...  0.       0.       0.     ]\n",
            "  ...\n",
            "  [13.7     19.743   22.764   ...  0.       0.       0.     ]\n",
            "  [13.7     19.807   22.835   ...  0.       0.       0.     ]\n",
            "  [13.7     19.829   22.859   ...  0.       0.       0.     ]]\n",
            "\n",
            " [[ 9.5966   0.38596 15.485   ...  0.       0.       0.     ]\n",
            "  [ 9.5966   0.19396 15.409   ...  0.       0.       0.     ]\n",
            "  [ 9.5966   0.      15.178   ...  0.       0.       0.     ]\n",
            "  ...\n",
            "  [ 9.5966   0.      15.177   ...  0.       0.       0.     ]\n",
            "  [ 9.5966   0.1932  15.409   ...  0.       0.       0.     ]\n",
            "  [ 9.5966   0.38596 15.485   ...  0.       0.       0.     ]]]\n",
            "(4, 64, 64)\n",
            "tensor([1.0000, 1.0000, 1.1721, 7.9272, 3.0924, 0.1327])\n"
          ],
          "name": "stdout"
        }
      ]
    },
    {
      "cell_type": "code",
      "metadata": {
        "id": "T0sPRedVy59B",
        "colab_type": "code",
        "outputId": "8481f54c-c421-44fc-d874-425914a6eed3",
        "colab": {
          "base_uri": "https://localhost:8080/",
          "height": 1000
        }
      },
      "source": [
        "net = Net(config['img_channels'], config['output1'], config['output2'])\n",
        "net.to(device)\n",
        "train_losses, valid_losses = train(net, trainloader, valloader, config['weight'], config['epochs'], config['learning_rate'], \n",
        "                                   config['img_channels'], config['img_size'], MODEL_NAME, \n",
        "                                   config['patience'], 1, device)"
      ],
      "execution_count": 10,
      "outputs": [
        {
          "output_type": "stream",
          "text": [
            "  0%|          | 2/1000 [00:01<13:08,  1.27it/s]"
          ],
          "name": "stderr"
        },
        {
          "output_type": "stream",
          "text": [
            "\n",
            "loss :  155.84308624267578 val loss :  173.86473846435547 \n",
            "\n",
            "Validation loss decreased (inf --> 173.864738).  Saving model ...\n",
            "\n",
            "loss :  165.33609008789062 val loss :  152.17639923095703 \n",
            "\n",
            "Validation loss decreased (173.864738 --> 152.176399).  Saving model ...\n"
          ],
          "name": "stdout"
        },
        {
          "output_type": "stream",
          "text": [
            "\r  0%|          | 4/1000 [00:01<09:41,  1.71it/s]"
          ],
          "name": "stderr"
        },
        {
          "output_type": "stream",
          "text": [
            "\n",
            "loss :  167.94542439778647 val loss :  131.25177383422852 \n",
            "\n",
            "Validation loss decreased (152.176399 --> 131.251774).  Saving model ...\n",
            "\n",
            "loss :  170.1469472249349 val loss :  129.76523971557617 \n",
            "\n",
            "Validation loss decreased (131.251774 --> 129.765240).  Saving model ...\n"
          ],
          "name": "stdout"
        },
        {
          "output_type": "stream",
          "text": [
            "\r  1%|          | 6/1000 [00:01<07:13,  2.29it/s]"
          ],
          "name": "stderr"
        },
        {
          "output_type": "stream",
          "text": [
            "\n",
            "loss :  155.03096516927084 val loss :  146.5143814086914 \n",
            "\n",
            "EarlyStopping counter: 1 out of 5\n",
            "\n",
            "loss :  147.3236846923828 val loss :  127.57420349121094 \n",
            "\n",
            "Validation loss decreased (129.765240 --> 127.574203).  Saving model ...\n",
            "\n",
            "loss :  131.07652282714844 val loss :  139.3704948425293 \n",
            "\n",
            "EarlyStopping counter: 1 out of 5\n"
          ],
          "name": "stdout"
        },
        {
          "output_type": "stream",
          "text": [
            "  1%|          | 10/1000 [00:01<04:19,  3.81it/s]"
          ],
          "name": "stderr"
        },
        {
          "output_type": "stream",
          "text": [
            "\n",
            "loss :  124.38951873779297 val loss :  97.51263427734375 \n",
            "\n",
            "Validation loss decreased (127.574203 --> 97.512634).  Saving model ...\n",
            "\n",
            "loss :  121.3477554321289 val loss :  82.78516006469727 \n",
            "\n",
            "Validation loss decreased (97.512634 --> 82.785160).  Saving model ...\n",
            "\n",
            "loss :  85.74702962239583 val loss :  67.04410743713379 \n",
            "\n",
            "Validation loss decreased (82.785160 --> 67.044107).  Saving model ...\n"
          ],
          "name": "stdout"
        },
        {
          "output_type": "stream",
          "text": [
            "  1%|▏         | 13/1000 [00:02<02:54,  5.67it/s]"
          ],
          "name": "stderr"
        },
        {
          "output_type": "stream",
          "text": [
            "\n",
            "loss :  62.422892252604164 val loss :  60.055362701416016 \n",
            "\n",
            "Validation loss decreased (67.044107 --> 60.055363).  Saving model ...\n",
            "\n",
            "loss :  68.9615249633789 val loss :  64.29091835021973 \n",
            "\n",
            "EarlyStopping counter: 1 out of 5\n",
            "\n",
            "loss :  64.23725891113281 val loss :  41.286298751831055 \n",
            "\n",
            "Validation loss decreased (60.055363 --> 41.286299).  Saving model ...\n"
          ],
          "name": "stdout"
        },
        {
          "output_type": "stream",
          "text": [
            "\r  2%|▏         | 15/1000 [00:02<02:28,  6.62it/s]"
          ],
          "name": "stderr"
        },
        {
          "output_type": "stream",
          "text": [
            "\n",
            "loss :  52.09375254313151 val loss :  30.236631393432617 \n",
            "\n",
            "Validation loss decreased (41.286299 --> 30.236631).  Saving model ...\n",
            "\n",
            "loss :  43.37224451700846 val loss :  33.66238784790039 \n",
            "\n",
            "EarlyStopping counter: 1 out of 5\n",
            "\n",
            "loss :  39.0602060953776 val loss :  18.78254222869873 \n",
            "\n",
            "Validation loss decreased (30.236631 --> 18.782542).  Saving model ...\n"
          ],
          "name": "stdout"
        },
        {
          "output_type": "stream",
          "text": [
            "  2%|▏         | 19/1000 [00:02<01:57,  8.32it/s]"
          ],
          "name": "stderr"
        },
        {
          "output_type": "stream",
          "text": [
            "\n",
            "loss :  32.64894803365072 val loss :  18.25338125228882 \n",
            "\n",
            "Validation loss decreased (18.782542 --> 18.253381).  Saving model ...\n",
            "\n",
            "loss :  27.557173411051433 val loss :  16.210082530975342 \n",
            "\n",
            "Validation loss decreased (18.253381 --> 16.210083).  Saving model ...\n",
            "\n",
            "loss :  26.321749369303387 val loss :  17.35854721069336 \n",
            "\n",
            "EarlyStopping counter: 1 out of 5\n"
          ],
          "name": "stdout"
        },
        {
          "output_type": "stream",
          "text": [
            "\r  2%|▏         | 21/1000 [00:02<01:50,  8.88it/s]"
          ],
          "name": "stderr"
        },
        {
          "output_type": "stream",
          "text": [
            "\n",
            "loss :  23.7549991607666 val loss :  14.482529640197754 \n",
            "\n",
            "Validation loss decreased (16.210083 --> 14.482530).  Saving model ...\n",
            "\n",
            "loss :  17.910441716512043 val loss :  9.665153503417969 \n",
            "\n",
            "Validation loss decreased (14.482530 --> 9.665154).  Saving model ...\n",
            "\n",
            "loss :  22.995972951253254 val loss :  20.469335079193115 \n",
            "\n",
            "EarlyStopping counter: 1 out of 5\n"
          ],
          "name": "stdout"
        },
        {
          "output_type": "stream",
          "text": [
            "  2%|▎         | 25/1000 [00:03<01:39,  9.84it/s]"
          ],
          "name": "stderr"
        },
        {
          "output_type": "stream",
          "text": [
            "\n",
            "loss :  25.910348892211914 val loss :  18.217342376708984 \n",
            "\n",
            "EarlyStopping counter: 2 out of 5\n",
            "\n",
            "loss :  19.012338638305664 val loss :  11.37115740776062 \n",
            "\n",
            "EarlyStopping counter: 3 out of 5\n",
            "\n",
            "loss :  23.29578463236491 val loss :  10.662262201309204 \n",
            "\n",
            "EarlyStopping counter: 4 out of 5\n"
          ],
          "name": "stdout"
        },
        {
          "output_type": "stream",
          "text": [
            "\r  2%|▎         | 25/1000 [00:03<02:14,  7.27it/s]\n"
          ],
          "name": "stderr"
        },
        {
          "output_type": "stream",
          "text": [
            "\n",
            "loss :  21.09667142232259 val loss :  15.693092823028564 \n",
            "\n",
            "EarlyStopping counter: 5 out of 5\n",
            "Early stopping\n"
          ],
          "name": "stdout"
        }
      ]
    },
    {
      "cell_type": "code",
      "metadata": {
        "id": "dmbg-WJww7dL",
        "colab_type": "code",
        "outputId": "347b3109-715b-47f6-b334-a1e37a6b2fe7",
        "colab": {
          "base_uri": "https://localhost:8080/",
          "height": 585
        }
      },
      "source": [
        "graph_limit = 300\n",
        "save_plot(train_losses, valid_losses, graph_limit)"
      ],
      "execution_count": 11,
      "outputs": [
        {
          "output_type": "display_data",
          "data": {
            "image/png": "[encoded data removed]",
            "text/plain": [
              "<Figure size 720x576 with 1 Axes>"
            ]
          },
          "metadata": {
            "tags": [],
            "needs_background": "light"
          }
        }
      ]
    },
    {
      "cell_type": "code",
      "metadata": {
        "id": "X_y19qJy30tm",
        "colab_type": "code",
        "outputId": "91c60206-f1ec-4b29-ddb1-e215614d2fe9",
        "colab": {
          "base_uri": "https://localhost:8080/",
          "height": 54
        }
      },
      "source": [
        "\n",
        "test(net, testloader, config['img_channels'], config['img_size'], config['result_label'], device)"
      ],
      "execution_count": 12,
      "outputs": [
        {
          "output_type": "stream",
          "text": [
            "[array([[4.140186  , 3.6246712 , 1.8539729 , 0.37556845]], dtype=float32), array([[4.3730307, 3.8266735, 1.980751 , 0.3915941]], dtype=float32), array([[6.6495686 , 6.0620685 , 3.2633238 , 0.44549495]], dtype=float32), array([[4.0138307, 3.5205252, 1.7839842, 0.3700313]], dtype=float32), array([[4.4831595 , 3.9144018 , 2.0405545 , 0.40806502]], dtype=float32), array([[4.468825  , 3.9216917 , 2.0171    , 0.39669484]], dtype=float32), array([[4.505936  , 3.9452746 , 2.0413678 , 0.38741392]], dtype=float32), array([[4.728722 , 4.1305113, 2.1922767, 0.4140584]], dtype=float32), array([[5.018684  , 4.4495053 , 2.3188715 , 0.41209513]], dtype=float32), array([[4.032648 , 3.544815 , 1.7812276, 0.351494 ]], dtype=float32), array([[4.162008  , 3.6527035 , 1.8652558 , 0.37586838]], dtype=float32), array([[6.7454457 , 6.0987124 , 3.3342125 , 0.47993785]], dtype=float32), array([[4.2305923, 3.7083328, 1.906385 , 0.3804267]], dtype=float32), array([[4.9305863 , 4.360103  , 2.2808027 , 0.40321988]], dtype=float32), array([[5.8598585, 5.27051  , 2.7920218, 0.4096499]], dtype=float32), array([[6.4088387 , 5.827504  , 3.1029835 , 0.44123417]], dtype=float32), array([[6.5159793, 5.906212 , 3.1835127, 0.4477263]], dtype=float32), array([[5.03811   , 4.422801  , 2.3733063 , 0.44170326]], dtype=float32), array([[4.7699394 , 4.2024183 , 2.188179  , 0.39265066]], dtype=float32), array([[5.21781   , 4.625794  , 2.4661431 , 0.40998346]], dtype=float32), array([[4.6084394 , 4.0623355 , 2.088234  , 0.38901383]], dtype=float32), array([[5.94296   , 5.3329377 , 2.8895254 , 0.41349798]], dtype=float32), array([[5.241304  , 4.6487126 , 2.4767346 , 0.40383106]], dtype=float32), array([[6.5713153 , 5.9818873 , 3.1788473 , 0.42810994]], dtype=float32), array([[6.509604  , 5.9012923 , 3.1791236 , 0.45066148]], dtype=float32), array([[6.767335 , 6.1543927, 3.3263845, 0.4657343]], dtype=float32), array([[4.378058  , 3.842003  , 1.9793062 , 0.37405664]], dtype=float32), array([[4.4856906 , 3.9714048 , 2.0030854 , 0.36796147]], dtype=float32), array([[4.228264  , 3.7085135 , 1.9029608 , 0.36018795]], dtype=float32), array([[5.3799706, 4.7612915, 2.5873725, 0.4288314]], dtype=float32), array([[4.5099187 , 3.9555595 , 2.0544007 , 0.40985876]], dtype=float32), array([[5.729241 , 5.130341 , 2.7654788, 0.4165421]], dtype=float32), array([[6.8107944, 6.1978045, 3.355935 , 0.4875763]], dtype=float32), array([[4.2264733, 3.7060316, 1.903049 , 0.3787065]], dtype=float32), array([[6.712802 , 6.1038294, 3.2957091, 0.4720989]], dtype=float32), array([[5.8066897 , 5.224623  , 2.768529  , 0.39862615]], dtype=float32), array([[4.080999  , 3.5691564 , 1.8282983 , 0.38919467]], dtype=float32), array([[4.116248  , 3.6312048 , 1.8246784 , 0.36593217]], dtype=float32), array([[5.255876  , 4.6576147 , 2.4892058 , 0.41592675]], dtype=float32), array([[6.391946  , 5.8009105 , 3.112033  , 0.41783196]], dtype=float32), array([[6.6987586 , 6.090739  , 3.276687  , 0.46667558]], dtype=float32), array([[6.2729654 , 5.666588  , 3.0600662 , 0.42541486]], dtype=float32), array([[4.8078375 , 4.2564406 , 2.1944427 , 0.38022786]], dtype=float32), array([[6.4553375 , 5.8823495 , 3.1286955 , 0.41700822]], dtype=float32), array([[4.7928224 , 4.225895  , 2.215299  , 0.37495655]], dtype=float32), array([[5.9288807 , 5.343521  , 2.8370628 , 0.40265924]], dtype=float32), array([[4.546762 , 3.9936588, 2.066113 , 0.396033 ]], dtype=float32), array([[6.7449107 , 6.135379  , 3.2965093 , 0.45926696]], dtype=float32), array([[4.471467  , 3.9101908 , 2.0582576 , 0.43441278]], dtype=float32), array([[6.0036435 , 5.3784394 , 2.9142258 , 0.43155128]], dtype=float32)]\n"
          ],
          "name": "stdout"
        }
      ]
    },
    {
      "cell_type": "code",
      "metadata": {
        "id": "Uj4GoyjQX1xw",
        "colab_type": "code",
        "outputId": "896bbc47-ace3-4f6a-c630-d04e02bc7604",
        "colab": {
          "base_uri": "https://localhost:8080/",
          "height": 867
        }
      },
      "source": [
        "for num, data in enumerate(testloader):\n",
        "  x, y = data\n",
        "  print(y)"
      ],
      "execution_count": 13,
      "outputs": [
        {
          "output_type": "stream",
          "text": [
            "tensor([[5.5521, 4.6817, 0.7301]])\n",
            "tensor([[5.0900, 4.7484, 0.6404]])\n",
            "tensor([[5.6370e+00, 5.9667e+00, 4.1027e-04]])\n",
            "tensor([[5.5963, 4.8377, 0.7775]])\n",
            "tensor([[4.5830, 4.4386, 0.6294]])\n",
            "tensor([[3.6835, 4.4943, 0.7075]])\n",
            "tensor([[4.7240, 5.5355, 0.5801]])\n",
            "tensor([[4.7580, 3.7402, 0.5234]])\n",
            "tensor([[3.2504, 4.8779, 0.5191]])\n",
            "tensor([[5.1893, 5.6723, 0.7715]])\n",
            "tensor([[5.3071, 4.7443, 0.7291]])\n",
            "tensor([[4.7403, 3.0509, 0.0949]])\n",
            "tensor([[5.5881, 4.4529, 0.6636]])\n",
            "tensor([[3.6282, 4.6569, 0.4947]])\n",
            "tensor([[3.0960, 4.8441, 0.2846]])\n",
            "tensor([[3.1486, 4.4687, 0.1512]])\n",
            "tensor([[3.3693, 3.6165, 0.1151]])\n",
            "tensor([[3.5672, 3.1280, 0.4989]])\n",
            "tensor([[3.8456, 4.6158, 0.5460]])\n",
            "tensor([[4.4973, 4.6074, 0.3496]])\n",
            "tensor([[3.3718, 4.4711, 0.6699]])\n",
            "tensor([[5.6218, 3.8109, 0.1637]])\n",
            "tensor([[4.6949, 4.9209, 0.3275]])\n",
            "tensor([[3.6179, 5.8438, 0.0645]])\n",
            "tensor([[3.3171, 3.4261, 0.1307]])\n",
            "tensor([[4.8629, 4.7211, 0.0409]])\n",
            "tensor([[5.7936, 5.1860, 0.5795]])\n",
            "tensor([[3.1902, 5.5813, 0.7339]])\n",
            "tensor([[5.9532, 5.5768, 0.6170]])\n",
            "tensor([[4.5401, 3.5328, 0.3131]])\n",
            "tensor([[3.4018, 3.0927, 0.7376]])\n",
            "tensor([[3.9039, 3.8866, 0.2615]])\n",
            "tensor([[4.4012, 4.9446, 0.0198]])\n",
            "tensor([[5.5266, 4.6771, 0.6708]])\n",
            "tensor([[4.0436, 4.3381, 0.0426]])\n",
            "tensor([[3.5313, 4.9884, 0.2598]])\n",
            "tensor([[5.6955, 3.3545, 0.7763]])\n",
            "tensor([[4.6199, 5.1208, 0.7850]])\n",
            "tensor([[3.8635, 4.2436, 0.3651]])\n",
            "tensor([[5.2919, 5.4546, 0.0787]])\n",
            "tensor([[3.5344, 4.0789, 0.0445]])\n",
            "tensor([[4.5657, 4.0075, 0.1380]])\n",
            "tensor([[3.6268, 5.7155, 0.5304]])\n",
            "tensor([[4.4054, 5.7364, 0.0817]])\n",
            "tensor([[5.2366, 5.2088, 0.4413]])\n",
            "tensor([[3.5526, 4.7916, 0.2356]])\n",
            "tensor([[3.4024, 3.6378, 0.7029]])\n",
            "tensor([[3.2144, 3.7275, 0.0422]])\n",
            "tensor([[4.3252, 3.0398, 0.7046]])\n",
            "tensor([[3.5900, 3.2801, 0.2414]])\n"
          ],
          "name": "stdout"
        }
      ]
    },
    {
      "cell_type": "code",
      "metadata": {
        "id": "VD3ORpheh-PE",
        "colab_type": "code",
        "colab": {}
      },
      "source": [
        ""
      ],
      "execution_count": 0,
      "outputs": []
    }
  ]
}
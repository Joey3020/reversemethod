{
  "nbformat": 4,
  "nbformat_minor": 0,
  "metadata": {
    "colab": {
      "name": "Reverse_Horn.ipynb",
      "provenance": [],
      "collapsed_sections": [],
      "machine_shape": "hm"
    },
    "kernelspec": {
      "name": "python3",
      "display_name": "Python 3"
    },
    "accelerator": "GPU"
  },
  "cells": [
    {
      "cell_type": "code",
      "metadata": {
        "id": "XHXbki16o6mc",
        "colab_type": "code",
        "outputId": "97ffc533-fd99-4ca1-ca7a-55681c3f8455",
        "colab": {
          "base_uri": "https://localhost:8080/",
          "height": 54
        }
      },
      "source": [
        "from google.colab import drive\n",
        "drive.mount('/content/gdrive')"
      ],
      "execution_count": 1,
      "outputs": [
        {
          "output_type": "stream",
          "text": [
            "Drive already mounted at /content/gdrive; to attempt to forcibly remount, call drive.mount(\"/content/gdrive\", force_remount=True).\n"
          ],
          "name": "stdout"
        }
      ]
    },
    {
      "cell_type": "code",
      "metadata": {
        "id": "jSAXXsmEo-9E",
        "colab_type": "code",
        "colab": {}
      },
      "source": [
        "import sys\n",
        "sys.path.append('/content/gdrive/My Drive/Colab Notebooks/Notebooks/libs')"
      ],
      "execution_count": 0,
      "outputs": []
    },
    {
      "cell_type": "code",
      "metadata": {
        "id": "SaZJF1kKpXRt",
        "colab_type": "code",
        "outputId": "a9383362-468e-421a-c872-936019744fa9",
        "colab": {
          "base_uri": "https://localhost:8080/",
          "height": 34
        }
      },
      "source": [
        "import numpy as np\n",
        "import pandas as pd\n",
        "from pandas import DataFrame\n",
        "import torch\n",
        "import torch.nn as nn\n",
        "import torch.nn.functional as F\n",
        "import torch.optim as optim\n",
        "from torch.utils.data import Dataset\n",
        "from torch.utils.data import DataLoader\n",
        "from torch.utils.data import ConcatDataset\n",
        "import matplotlib.pyplot as plt\n",
        "import math\n",
        "import os\n",
        "from tqdm import tqdm\n",
        "import time\n",
        "import cv2\n",
        "from DataCaller import DataCaller\n",
        "from EarlyStopper import *\n",
        "from Net import *\n",
        "from train_test import *\n",
        "from utils import *\n",
        "\n",
        "#use gpu    please somebody buy me a gpu .......\n",
        "USE_GPU = True\n",
        "if USE_GPU and torch.cuda.is_available():\n",
        "    device = torch.device('cuda')\n",
        "else:\n",
        "    device = torch.device('cpu')\n",
        "print(device)\n",
        "\n",
        "#Global variables\n",
        "LOAD_DATA = False\n",
        "BATCH_SIZE = 36\n",
        "VAL_BATCH_SIZE = 16\n",
        "LEARNING_RATE = 4e-4\n",
        "EPOCHS = 30\n",
        "PATIENCE = 10\n",
        "VALIDATE_EVERY = 10\n",
        "MODEL_NAME = f\"model-{int(time.time())}\"\n",
        "IMG_SIZE = 64\n",
        "IMG_CHANNELS = 4\n",
        "TRAIN_LABEL_SIZE = 6\n",
        "TEST_LABEL_SIZE = 3\n",
        "OUTPUT_SIZE = 3\n",
        "weight = torch.tensor([100.0, 100.0, 10.0, 100.0])\n",
        "limit = 100\n",
        "\n",
        "BASE_PATH = '/content/gdrive/My Drive/Colab Notebooks/Reverse_Method_Horn/data'\n",
        "TRAIN_DATA_PATH = os.path.join(BASE_PATH, 'test_gen/train')\n",
        "VAL_DATA_PATH = os.path.join(BASE_PATH, 'test_gen/val')\n",
        "TEST_DATA_PATH = os.path.join(BASE_PATH, 'test_gen/test')\n"
      ],
      "execution_count": 8,
      "outputs": [
        {
          "output_type": "stream",
          "text": [
            "cuda\n"
          ],
          "name": "stdout"
        }
      ]
    },
    {
      "cell_type": "code",
      "metadata": {
        "id": "cmAN4Ewzvcy4",
        "colab_type": "code",
        "colab": {}
      },
      "source": [
        "\n",
        "if LOAD_DATA:\n",
        "    trainsets = []\n",
        "    valsets = []\n",
        "    testsets = []\n",
        "    for f in tqdm(os.listdir(TRAIN_DATA_PATH)):\n",
        "      path = os.path.join(TRAIN_DATA_PATH, f)\n",
        "      trainset = DataCaller(path, IMG_SIZE, TRAIN_LABEL_SIZE)\n",
        "      print(trainset.__len__())\n",
        "      trainsets.append(trainset)\n",
        "\n",
        "    for f in tqdm(os.listdir(VAL_DATA_PATH)):\n",
        "      path  = os.path.join(VAL_DATA_PATH, f)\n",
        "      valset = DataCaller(path, IMG_SIZE, TRAIN_LABEL_SIZE)\n",
        "      print(valset.__len__())\n",
        "      valsets.append(valset)\n",
        "\n",
        "    for f in tqdm(os.listdir(TEST_DATA_PATH)):\n",
        "      path  = os.path.join(TEST_DATA_PATH, f)\n",
        "      testset = DataCaller(path, IMG_SIZE, TEST_LABEL_SIZE)\n",
        "      print(testset.__len__())\n",
        "      testsets.append(testset)\n",
        "\n",
        "    trainset = ConcatDataset(trainsets)\n",
        "    print(trainset.__len__())\n",
        "    valset = ConcatDataset(valsets)\n",
        "    print(valset.__len__())\n",
        "    testset = ConcatDataset(testsets)\n",
        "    print(testset.__len__())  "
      ],
      "execution_count": 0,
      "outputs": []
    },
    {
      "cell_type": "code",
      "metadata": {
        "id": "seySEJ3Fwg98",
        "colab_type": "code",
        "colab": {}
      },
      "source": [
        "  #define dataloaders\n",
        "trainloader = DataLoader(trainset, batch_size = BATCH_SIZE, shuffle=True)\n",
        "valloader = DataLoader(valset, batch_size=VAL_BATCH_SIZE, shuffle=True)\n",
        "testloader = DataLoader(testset, batch_size=1, shuffle=False)"
      ],
      "execution_count": 0,
      "outputs": []
    },
    {
      "cell_type": "code",
      "metadata": {
        "id": "kMN0-kVlyNDu",
        "colab_type": "code",
        "outputId": "6420987e-3c0f-4a91-e822-adf3dcc8ff7d",
        "colab": {
          "base_uri": "https://localhost:8080/",
          "height": 578
        }
      },
      "source": [
        "cnt = 0\n",
        "for i, data in enumerate(trainloader):\n",
        "    x, y = data\n",
        "    filter_input(x)\n",
        "    x = np.array(x)\n",
        "    x = x.reshape(-1, IMG_CHANNELS, IMG_SIZE, IMG_SIZE)\n",
        "\n",
        "    print(x[0])\n",
        "    print(x[0].shape)\n",
        "\n",
        "    print(y[0])\n",
        "    cnt += 1\n",
        "    if cnt==1:\n",
        "      break"
      ],
      "execution_count": 11,
      "outputs": [
        {
          "output_type": "stream",
          "text": [
            "[[[22.563   22.419   21.979   ...  0.67805  0.44555  0.22026]\n",
            "  [22.563   22.418   21.976   ...  0.       0.       0.     ]\n",
            "  [22.563   22.415   21.965   ...  0.       0.       0.     ]\n",
            "  ...\n",
            "  [22.563   22.415   21.964   ...  0.       0.       0.     ]\n",
            "  [22.563   22.418   21.976   ...  0.       0.       0.     ]\n",
            "  [22.563   22.419   21.979   ...  0.67805  0.44555  0.22026]]\n",
            "\n",
            " [[22.545   22.488   22.14    ...  0.79643  0.57109  0.34802]\n",
            "  [22.545   22.487   22.135   ...  0.       0.       0.     ]\n",
            "  [22.545   22.483   22.121   ...  0.       0.       0.     ]\n",
            "  ...\n",
            "  [22.545   22.482   22.121   ...  0.       0.       0.     ]\n",
            "  [22.545   22.487   22.135   ...  0.       0.       0.     ]\n",
            "  [22.545   22.488   22.14    ...  0.79643  0.57109  0.34802]]\n",
            "\n",
            " [[22.499   22.53    22.272   ...  0.85461  0.63638  0.41551]\n",
            "  [22.499   22.528   22.266   ...  0.       0.       0.     ]\n",
            "  [22.499   22.523   22.25    ...  0.       0.       0.     ]\n",
            "  ...\n",
            "  [22.499   22.523   22.249   ...  0.       0.       0.     ]\n",
            "  [22.499   22.528   22.266   ...  0.       0.       0.     ]\n",
            "  [22.499   22.53    22.272   ...  0.85461  0.63638  0.41551]]\n",
            "\n",
            " [[22.426   22.545   22.375   ...  0.85255  0.64146  0.42281]\n",
            "  [22.426   22.543   22.369   ...  0.       0.       0.     ]\n",
            "  [22.426   22.536   22.35    ...  0.       0.       0.     ]\n",
            "  ...\n",
            "  [22.426   22.536   22.35    ...  0.       0.       0.     ]\n",
            "  [22.426   22.543   22.369   ...  0.       0.       0.     ]\n",
            "  [22.426   22.545   22.375   ...  0.85255  0.64146  0.42281]]]\n",
            "(4, 64, 64)\n",
            "tensor([1.0000, 1.0000, 4.2041, 3.5131, 4.5749, 0.0229])\n"
          ],
          "name": "stdout"
        }
      ]
    },
    {
      "cell_type": "code",
      "metadata": {
        "id": "T0sPRedVy59B",
        "colab_type": "code",
        "outputId": "30380576-177e-460f-fe00-8aebd334f6ab",
        "colab": {
          "base_uri": "https://localhost:8080/",
          "height": 1000
        }
      },
      "source": [
        "net = Net(IMG_CHANNELS, OUTPUT_SIZE)\n",
        "net.to(device)\n",
        "train_losses, valid_losses = train(net, trainloader, valloader, weight, EPOCHS, LEARNING_RATE, IMG_CHANNELS, IMG_SIZE, MODEL_NAME, PATIENCE, VALIDATE_EVERY, device)"
      ],
      "execution_count": 12,
      "outputs": [
        {
          "output_type": "stream",
          "text": [
            "  0%|          | 0/30 [00:00<?, ?it/s]/usr/local/lib/python3.6/dist-packages/torch/nn/modules/loss.py:432: UserWarning: Using a target size (torch.Size([36, 1])) that is different to the input size (torch.Size([36])). This will likely lead to incorrect results due to broadcasting. Please ensure they have the same size.\n",
            "  return F.mse_loss(input, target, reduction=self.reduction)\n",
            "/usr/local/lib/python3.6/dist-packages/torch/nn/modules/loss.py:432: UserWarning: Using a target size (torch.Size([28, 1])) that is different to the input size (torch.Size([28])). This will likely lead to incorrect results due to broadcasting. Please ensure they have the same size.\n",
            "  return F.mse_loss(input, target, reduction=self.reduction)\n",
            "/usr/local/lib/python3.6/dist-packages/torch/nn/modules/loss.py:432: UserWarning: Using a target size (torch.Size([16, 1])) that is different to the input size (torch.Size([16])). This will likely lead to incorrect results due to broadcasting. Please ensure they have the same size.\n",
            "  return F.mse_loss(input, target, reduction=self.reduction)\n",
            "/usr/local/lib/python3.6/dist-packages/torch/nn/modules/loss.py:432: UserWarning: Using a target size (torch.Size([2, 1])) that is different to the input size (torch.Size([2])). This will likely lead to incorrect results due to broadcasting. Please ensure they have the same size.\n",
            "  return F.mse_loss(input, target, reduction=self.reduction)\n",
            "  7%|▋         | 2/30 [00:00<00:02, 13.10it/s]"
          ],
          "name": "stderr"
        },
        {
          "output_type": "stream",
          "text": [
            "\n",
            "loss :  8056.404459635417 val loss :  7261.2213134765625 \n",
            "\n",
            "Validation loss decreased (inf --> 7261.221313).  Saving model ...\n",
            "\n",
            "loss :  7872.519368489583 val loss :  6835.2381591796875 \n",
            "\n",
            "Validation loss decreased (7261.221313 --> 6835.238159).  Saving model ...\n",
            "\n",
            "loss :  7497.831380208333 val loss :  6538.2740478515625 \n",
            "\n",
            "Validation loss decreased (6835.238159 --> 6538.274048).  Saving model ...\n"
          ],
          "name": "stdout"
        },
        {
          "output_type": "stream",
          "text": [
            " 20%|██        | 6/30 [00:00<00:01, 13.25it/s]"
          ],
          "name": "stderr"
        },
        {
          "output_type": "stream",
          "text": [
            "\n",
            "loss :  6615.1044921875 val loss :  5774.7447509765625 \n",
            "\n",
            "Validation loss decreased (6538.274048 --> 5774.744751).  Saving model ...\n",
            "\n",
            "loss :  4829.901529947917 val loss :  3513.514404296875 \n",
            "\n",
            "Validation loss decreased (5774.744751 --> 3513.514404).  Saving model ...\n",
            "\n",
            "loss :  2022.5228678385417 val loss :  912.22021484375 \n",
            "\n",
            "Validation loss decreased (3513.514404 --> 912.220215).  Saving model ...\n"
          ],
          "name": "stdout"
        },
        {
          "output_type": "stream",
          "text": [
            "\r 27%|██▋       | 8/30 [00:00<00:01, 13.14it/s]"
          ],
          "name": "stderr"
        },
        {
          "output_type": "stream",
          "text": [
            "\n",
            "loss :  1449.5518595377605 val loss :  611.8825149536133 \n",
            "\n",
            "Validation loss decreased (912.220215 --> 611.882515).  Saving model ...\n",
            "\n",
            "loss :  1434.8665161132812 val loss :  914.5483093261719 \n",
            "\n",
            "EarlyStopping counter: 1 out of 10\n",
            "\n",
            "loss :  832.0562540690104 val loss :  1906.2820434570312 \n",
            "\n",
            "EarlyStopping counter: 2 out of 10\n"
          ],
          "name": "stdout"
        },
        {
          "output_type": "stream",
          "text": [
            " 40%|████      | 12/30 [00:00<00:01, 13.38it/s]"
          ],
          "name": "stderr"
        },
        {
          "output_type": "stream",
          "text": [
            "\n",
            "loss :  1243.538106282552 val loss :  1949.3826293945312 \n",
            "\n",
            "EarlyStopping counter: 3 out of 10\n",
            "\n",
            "loss :  1103.1748453776042 val loss :  1364.0049743652344 \n",
            "\n",
            "EarlyStopping counter: 4 out of 10\n",
            "\n",
            "loss :  768.2143351236979 val loss :  842.9066162109375 \n",
            "\n",
            "EarlyStopping counter: 5 out of 10\n"
          ],
          "name": "stdout"
        },
        {
          "output_type": "stream",
          "text": [
            "\r 47%|████▋     | 14/30 [00:01<00:01, 13.24it/s]"
          ],
          "name": "stderr"
        },
        {
          "output_type": "stream",
          "text": [
            "\n",
            "loss :  844.6954752604166 val loss :  639.4461441040039 \n",
            "\n",
            "EarlyStopping counter: 6 out of 10\n",
            "\n",
            "loss :  873.2919921875 val loss :  912.0548553466797 \n",
            "\n",
            "EarlyStopping counter: 7 out of 10\n",
            "\n",
            "loss :  699.9224446614584 val loss :  1091.5634307861328 \n",
            "\n",
            "EarlyStopping counter: 8 out of 10\n"
          ],
          "name": "stdout"
        },
        {
          "output_type": "stream",
          "text": [
            " 53%|█████▎    | 16/30 [00:01<00:01, 12.51it/s]"
          ],
          "name": "stderr"
        },
        {
          "output_type": "stream",
          "text": [
            "\n",
            "loss :  774.7301432291666 val loss :  1178.2581176757812 \n",
            "\n",
            "EarlyStopping counter: 9 out of 10\n",
            "\n",
            "loss :  753.3498331705729 val loss :  1265.0342559814453 \n",
            "\n",
            "EarlyStopping counter: 10 out of 10\n",
            "Early stopping\n"
          ],
          "name": "stdout"
        },
        {
          "output_type": "stream",
          "text": [
            "\n"
          ],
          "name": "stderr"
        }
      ]
    },
    {
      "cell_type": "code",
      "metadata": {
        "id": "dmbg-WJww7dL",
        "colab_type": "code",
        "outputId": "7f311808-394c-4a3a-8e8f-2a5df3e80b51",
        "colab": {
          "base_uri": "https://localhost:8080/",
          "height": 585
        }
      },
      "source": [
        "save_plot(train_losses, valid_losses, 10000)"
      ],
      "execution_count": 17,
      "outputs": [
        {
          "output_type": "display_data",
          "data": {
            "image/png": "[encoded data removed]",
            "text/plain": [
              "<Figure size 720x576 with 1 Axes>"
            ]
          },
          "metadata": {
            "tags": [],
            "needs_background": "light"
          }
        }
      ]
    },
    {
      "cell_type": "code",
      "metadata": {
        "id": "X_y19qJy30tm",
        "colab_type": "code",
        "outputId": "f429c0c6-962e-48a0-f3d7-c2d2678a5808",
        "colab": {
          "base_uri": "https://localhost:8080/",
          "height": 54
        }
      },
      "source": [
        "\n",
        "test(net, testloader, IMG_CHANNELS, IMG_SIZE, OUTPUT_SIZE, device)"
      ],
      "execution_count": 15,
      "outputs": [
        {
          "output_type": "stream",
          "text": [
            "[array([[4.820979 , 4.7731247, 1.3569429]], dtype=float32), array([[4.9137073, 4.8488717, 1.3812876]], dtype=float32), array([[5.9861465, 5.760828 , 1.7117712]], dtype=float32), array([[4.8129315, 4.7687564, 1.3551431]], dtype=float32), array([[4.8416867, 4.7809153, 1.3605589]], dtype=float32), array([[4.648138 , 4.6013184, 1.3070184]], dtype=float32), array([[4.8908095, 4.8039813, 1.3792309]], dtype=float32), array([[5.4677844, 5.3726654, 1.540696 ]], dtype=float32), array([[5.119803 , 5.0213995, 1.4492527]], dtype=float32), array([[4.6173096, 4.565555 , 1.3001115]], dtype=float32), array([[4.805985 , 4.7569594, 1.352176 ]], dtype=float32), array([[5.906939 , 5.7349477, 1.6914477]], dtype=float32), array([[5.001604, 4.949309, 1.412242]], dtype=float32), array([[5.179108 , 5.077294 , 1.4641414]], dtype=float32), array([[5.3114786, 5.159132 , 1.5070415]], dtype=float32), array([[5.598337 , 5.422935 , 1.5973525]], dtype=float32), array([[5.640694 , 5.461908 , 1.6082194]], dtype=float32), array([[5.312694 , 5.2225976, 1.4966983]], dtype=float32), array([[5.1023793, 5.0148115, 1.4388974]], dtype=float32), array([[5.6895494, 5.5415764, 1.6160867]], dtype=float32), array([[4.7300415, 4.676329 , 1.3277495]], dtype=float32), array([[5.858151 , 5.6852303, 1.666239 ]], dtype=float32), array([[5.7512617, 5.590805 , 1.6327258]], dtype=float32), array([[5.8182025, 5.6147585, 1.6631124]], dtype=float32), array([[5.612801 , 5.442731 , 1.5994302]], dtype=float32), array([[5.885025 , 5.672692 , 1.6821126]], dtype=float32), array([[5.060929 , 4.9755135, 1.4307263]], dtype=float32), array([[4.566152 , 4.5133476, 1.2874327]], dtype=float32), array([[4.946959 , 4.867305 , 1.3988726]], dtype=float32), array([[5.919469 , 5.772514 , 1.6878306]], dtype=float32), array([[4.776449 , 4.7578   , 1.3490108]], dtype=float32), array([[5.52182  , 5.3672247, 1.5691111]], dtype=float32), array([[5.8802867, 5.665158 , 1.6772394]], dtype=float32), array([[4.94819  , 4.8909607, 1.395086 ]], dtype=float32), array([[5.7553973, 5.5500565, 1.6472777]], dtype=float32), array([[5.3124275, 5.1525917, 1.5066271]], dtype=float32), array([[5.002506 , 4.9908724, 1.4201906]], dtype=float32), array([[4.604285 , 4.5637393, 1.295446 ]], dtype=float32), array([[5.627249 , 5.487537 , 1.5993998]], dtype=float32), array([[5.9175067, 5.7176337, 1.694262 ]], dtype=float32), array([[5.669361 , 5.4707813, 1.6175286]], dtype=float32), array([[5.7536993, 5.5797048, 1.6419635]], dtype=float32), array([[4.994931 , 4.8954167, 1.410298 ]], dtype=float32), array([[5.847142 , 5.6505475, 1.6764785]], dtype=float32), array([[5.494504 , 5.368451 , 1.5530176]], dtype=float32), array([[5.3941727, 5.232159 , 1.5318933]], dtype=float32), array([[4.7891464, 4.7513046, 1.3502575]], dtype=float32), array([[5.609749 , 5.4166703, 1.5999622]], dtype=float32), array([[4.95148  , 4.9194875, 1.3953778]], dtype=float32), array([[5.437438 , 5.2892876, 1.5390589]], dtype=float32)]\n"
          ],
          "name": "stdout"
        }
      ]
    },
    {
      "cell_type": "code",
      "metadata": {
        "id": "E8uRRvKS6Zcq",
        "colab_type": "code",
        "outputId": "ead01472-d0ce-4693-d071-2459dbf1ea26",
        "colab": {
          "base_uri": "https://localhost:8080/",
          "height": 1000
        }
      },
      "source": [
        "net = Net(IMG_CHANNELS, OUTPUT_AB, OUTPUT_DT)\n",
        "net.load_state_dict(torch.load('/content/gdrive/My Drive/Colab Notebooks/Reverse_Dipole_Array/results/data2/trial2/checkpoint.pt'))\n",
        "net.to(device)\n",
        "\n",
        "BASE_PATH = '/content/gdrive/My Drive/Colab Notebooks/Reverse_Dipole_Array/data'\n",
        "TEST_DATA_PATH = os.path.join(BASE_PATH, 'data2/test1')\n",
        "testsets = []\n",
        "for f in tqdm(os.listdir(TEST_DATA_PATH)):\n",
        "  path  = os.path.join(TEST_DATA_PATH, f)\n",
        "  testset = DataCaller(path, IMG_SIZE, 3)\n",
        "  print(testset.__len__())\n",
        "  testsets.append(testset)\n",
        "\n",
        "testset = ConcatDataset(testsets)\n",
        "testloader = DataLoader(testset, batch_size=1, shuffle=False)\n",
        "\n",
        "test(net, testloader, IMG_CHANNELS, IMG_SIZE, LABEL_SIZE, device)"
      ],
      "execution_count": 0,
      "outputs": [
        {
          "output_type": "stream",
          "text": [
            "100%|██████████| 1/1 [00:03<00:00,  3.66s/it]"
          ],
          "name": "stderr"
        },
        {
          "output_type": "stream",
          "text": [
            "200\n"
          ],
          "name": "stdout"
        },
        {
          "output_type": "stream",
          "text": [
            "\n"
          ],
          "name": "stderr"
        },
        {
          "output_type": "stream",
          "text": [
            "[array([[10.733622 , 11.981575 ,  4.56017  ,  0.2079498]], dtype=float32), array([[ 9.584008  , 11.263124  ,  3.6433337 ,  0.38214955]],\n",
            "      dtype=float32), array([[10.376097 , 10.613118 ,  3.7550483,  0.4009773]], dtype=float32), array([[7.877797  , 9.092867  , 2.548987  , 0.86399835]], dtype=float32), array([[11.380598  , 12.261465  ,  4.277638  ,  0.29542965]],\n",
            "      dtype=float32), array([[ 8.878759  , 10.146637  ,  4.949039  ,  0.37282926]],\n",
            "      dtype=float32), array([[10.648582  , 10.191018  ,  2.7920418 ,  0.83383405]],\n",
            "      dtype=float32), array([[12.041682 , 13.300427 ,  3.5722492,  0.5601551]], dtype=float32), array([[ 9.537392  , 10.691327  ,  3.7473226 ,  0.52842295]],\n",
            "      dtype=float32), array([[11.051412  , 10.804475  ,  3.828372  ,  0.58773386]],\n",
            "      dtype=float32), array([[10.948825  , 11.553807  ,  4.133604  ,  0.40017325]],\n",
            "      dtype=float32), array([[10.856114  , 12.306865  ,  4.4512033 ,  0.17055325]],\n",
            "      dtype=float32), array([[10.936904 , 11.713504 ,  4.136167 ,  0.7297569]], dtype=float32), array([[6.9621882, 9.1113615, 3.446058 , 0.5982473]], dtype=float32), array([[ 9.581017 , 10.036888 ,  3.832521 ,  0.6979001]], dtype=float32), array([[10.36803   ,  9.495005  ,  2.8539658 ,  0.35429132]],\n",
            "      dtype=float32), array([[ 9.583482  , 11.069403  ,  4.442026  ,  0.03862922]],\n",
            "      dtype=float32), array([[ 9.334148  , 10.9176445 ,  3.6427646 ,  0.66110504]],\n",
            "      dtype=float32), array([[7.702045 , 8.364388 , 2.7979696, 0.7683477]], dtype=float32), array([[ 8.958589 , 10.539362 ,  4.0707345,  0.3836962]], dtype=float32), array([[ 9.912844  , 11.401812  ,  4.6629868 ,  0.28963876]],\n",
            "      dtype=float32), array([[10.191952  , 11.4294195 ,  5.059988  ,  0.65410197]],\n",
            "      dtype=float32), array([[ 9.520712  , 10.242748  ,  4.1919208 ,  0.35658708]],\n",
            "      dtype=float32), array([[7.141465 , 8.909766 , 2.9073048, 0.7252019]], dtype=float32), array([[7.9888487 , 8.773798  , 2.4128506 , 0.47014582]], dtype=float32), array([[ 8.857341 , 11.017981 ,  4.462156 ,  0.4329638]], dtype=float32), array([[7.3368745 , 8.53251   , 3.121023  , 0.59504575]], dtype=float32), array([[8.878751 , 9.981915 , 4.3489337, 0.2576115]], dtype=float32), array([[11.425256  , 11.059489  ,  3.2690477 ,  0.58280164]],\n",
            "      dtype=float32), array([[11.647127  , 12.344638  ,  3.2586343 ,  0.45576507]],\n",
            "      dtype=float32), array([[ 9.082501 , 10.322711 ,  4.5177073,  0.4503091]], dtype=float32), array([[13.105912 , 11.725385 ,  4.179632 ,  0.7341727]], dtype=float32), array([[8.905351 , 9.485512 , 3.4009593, 0.56334  ]], dtype=float32), array([[7.4588027, 9.435914 , 2.662492 , 0.6209974]], dtype=float32), array([[10.531352 , 11.463354 ,  3.2080753,  0.7713067]], dtype=float32), array([[11.41355   , 12.11246   ,  3.5537071 ,  0.79043686]],\n",
            "      dtype=float32), array([[7.4437795, 9.236023 , 2.651581 , 0.612732 ]], dtype=float32), array([[ 9.063162  , 11.070488  ,  4.827808  ,  0.28461397]],\n",
            "      dtype=float32), array([[10.684412  , 11.951516  ,  4.134487  ,  0.86929524]],\n",
            "      dtype=float32), array([[ 8.601432  , 10.713261  ,  3.3479002 ,  0.61509514]],\n",
            "      dtype=float32), array([[8.235598  , 9.657664  , 3.0642543 , 0.87258565]], dtype=float32), array([[ 9.540897 , 10.895356 ,  3.9902184,  0.2850175]], dtype=float32), array([[11.395174  , 12.73674   ,  4.2999296 ,  0.43939483]],\n",
            "      dtype=float32), array([[10.931024 , 12.384138 ,  4.9583187,  0.3245244]], dtype=float32), array([[ 9.555891  , 11.595651  ,  4.2705445 ,  0.42168534]],\n",
            "      dtype=float32), array([[10.737968 , 11.569262 ,  5.3425045,  0.4967608]], dtype=float32), array([[10.013945  , 11.068406  ,  3.2767365 ,  0.31342793]],\n",
            "      dtype=float32), array([[10.768422  , 12.00403   ,  4.14723   ,  0.22716045]],\n",
            "      dtype=float32), array([[11.229594  , 11.774988  ,  3.598926  ,  0.74410814]],\n",
            "      dtype=float32), array([[ 8.994846 , 10.05577  ,  3.1846805,  0.7065937]], dtype=float32), array([[10.902663 , 11.880873 ,  3.724718 ,  0.9224535]], dtype=float32), array([[ 9.745361 , 10.503812 ,  2.6716483,  0.6621753]], dtype=float32), array([[9.280002  , 9.879569  , 3.6634378 , 0.53648067]], dtype=float32), array([[8.421574  , 9.586574  , 2.6927426 , 0.62167645]], dtype=float32), array([[ 9.749998  , 10.862596  ,  3.314663  ,  0.68730253]],\n",
            "      dtype=float32), array([[11.826287  , 13.04997   ,  3.5040581 ,  0.76485926]],\n",
            "      dtype=float32), array([[10.173929  , 10.489129  ,  4.050332  ,  0.41803616]],\n",
            "      dtype=float32), array([[8.88541   , 9.245412  , 3.7841313 , 0.23122795]], dtype=float32), array([[8.083992  , 9.774657  , 4.2566757 , 0.72417986]], dtype=float32), array([[10.003001  ,  9.973615  ,  2.996914  ,  0.54581624]],\n",
            "      dtype=float32), array([[ 9.190083  , 10.897401  ,  3.758357  ,  0.42305642]],\n",
            "      dtype=float32), array([[10.1657715 , 11.054793  ,  4.186771  ,  0.60154706]],\n",
            "      dtype=float32), array([[ 9.842512 , 10.47885  ,  3.271213 ,  0.6340013]], dtype=float32), array([[10.233325 , 11.50155  ,  4.463974 ,  0.6327717]], dtype=float32), array([[ 8.315107  , 10.884575  ,  4.0028286 ,  0.72697824]],\n",
            "      dtype=float32), array([[10.634056  , 12.341801  ,  3.9824665 ,  0.94106656]],\n",
            "      dtype=float32), array([[9.0962    , 9.680129  , 3.9815319 , 0.16336986]], dtype=float32), array([[11.143041 , 10.459111 ,  4.1312275,  0.7827943]], dtype=float32), array([[11.678597  , 11.467774  ,  4.528931  ,  0.90860164]],\n",
            "      dtype=float32), array([[ 9.321401 , 10.851608 ,  4.0073657,  0.7300624]], dtype=float32), array([[ 9.503532  , 11.968528  ,  4.590761  ,  0.30733854]],\n",
            "      dtype=float32), array([[ 8.8189    , 11.014564  ,  4.375861  ,  0.52686816]],\n",
            "      dtype=float32), array([[10.985649 , 10.633044 ,  3.6070337,  0.755063 ]], dtype=float32), array([[11.720904 , 10.591313 ,  3.8010924,  0.5186035]], dtype=float32), array([[10.576741  , 12.646192  ,  3.3646207 ,  0.94716144]],\n",
            "      dtype=float32), array([[10.04745   , 11.3869    ,  4.574081  ,  0.30415636]],\n",
            "      dtype=float32), array([[11.251086, 11.456312,  4.320092,  1.052111]], dtype=float32), array([[10.00084  , 10.693465 ,  4.3747916,  0.6485945]], dtype=float32), array([[ 9.555969  , 10.874609  ,  3.487443  ,  0.90844387]],\n",
            "      dtype=float32), array([[ 8.611358 , 11.260568 ,  3.8933728,  0.5099552]], dtype=float32), array([[10.797771 , 11.714883 ,  4.0168247,  0.7664   ]], dtype=float32), array([[ 9.046828  , 10.379124  ,  4.3632426 ,  0.72730273]],\n",
            "      dtype=float32), array([[11.659154 , 11.3660965,  3.79725  ,  0.9995993]], dtype=float32), array([[ 9.799308  , 11.569348  ,  3.5094194 ,  0.38590962]],\n",
            "      dtype=float32), array([[ 9.587776 , 10.829498 ,  3.5310788,  0.6793593]], dtype=float32), array([[ 9.469252 , 11.50234  ,  3.4494765,  0.576577 ]], dtype=float32), array([[ 9.898329  , 11.065779  ,  3.79947   ,  0.39371842]],\n",
            "      dtype=float32), array([[10.074107  , 10.731367  ,  4.0762215 ,  0.73946923]],\n",
            "      dtype=float32), array([[11.345113  , 12.139396  ,  4.3957095 ,  0.38909924]],\n",
            "      dtype=float32), array([[10.109243  , 11.950503  ,  5.3901577 ,  0.39750302]],\n",
            "      dtype=float32), array([[10.187391 , 11.698354 ,  3.2466884,  0.3654098]], dtype=float32), array([[9.299739 , 9.5267   , 3.8582325, 0.1087874]], dtype=float32), array([[11.691769 , 12.388548 ,  4.449714 ,  0.8359634]], dtype=float32), array([[11.846598  , 11.776268  ,  4.3970814 ,  0.16521715]],\n",
            "      dtype=float32), array([[ 9.438025  , 10.979428  ,  3.9496377 ,  0.39903033]],\n",
            "      dtype=float32), array([[10.167036  , 11.551094  ,  4.6509814 ,  0.18525548]],\n",
            "      dtype=float32), array([[8.5898075, 9.962168 , 2.8841565, 0.8530649]], dtype=float32), array([[10.970418  , 11.00468   ,  3.642514  ,  0.94951147]],\n",
            "      dtype=float32), array([[11.796121 , 11.507145 ,  4.77224  ,  1.1608031]], dtype=float32), array([[ 9.96234  , 10.658342 ,  4.837897 ,  0.5735158]], dtype=float32), array([[8.259491 , 9.215818 , 3.4045982, 0.3765008]], dtype=float32), array([[ 9.019344  , 10.978183  ,  4.7524796 ,  0.13548182]],\n",
            "      dtype=float32), array([[11.37579   , 11.867563  ,  3.8925984 ,  0.53555775]],\n",
            "      dtype=float32), array([[9.057939  , 9.380065  , 3.12964   , 0.62511957]], dtype=float32), array([[10.947644 , 11.572542 ,  3.711486 ,  0.6956635]], dtype=float32), array([[7.362153  , 8.562486  , 3.8867419 , 0.21265937]], dtype=float32), array([[11.064028  , 11.160006  ,  3.600765  ,  0.22008203]],\n",
            "      dtype=float32), array([[10.669764  , 11.465772  ,  3.6380885 ,  0.59756494]],\n",
            "      dtype=float32), array([[ 8.859205  , 10.933174  ,  4.630056  ,  0.39412773]],\n",
            "      dtype=float32), array([[ 9.9295025 , 11.334439  ,  4.0205665 ,  0.27237207]],\n",
            "      dtype=float32), array([[12.120505  , 13.825453  ,  5.184018  ,  0.08815803]],\n",
            "      dtype=float32), array([[ 8.2812    , 10.447289  ,  3.3327148 ,  0.57542443]],\n",
            "      dtype=float32), array([[7.866717 , 9.603877 , 2.91127  , 0.6994862]], dtype=float32), array([[10.40545   , 11.09998   ,  2.883147  ,  0.62865835]],\n",
            "      dtype=float32), array([[9.294275  , 8.559559  , 2.980565  , 0.63013196]], dtype=float32), array([[10.168486 , 10.456209 ,  3.137931 ,  0.9345324]], dtype=float32), array([[ 8.359978 , 10.192004 ,  2.518271 ,  0.2545023]], dtype=float32), array([[11.040833  , 13.653487  ,  6.1600237 ,  0.21024068]],\n",
            "      dtype=float32), array([[ 9.350339  , 11.336288  ,  3.7485466 ,  0.48890597]],\n",
            "      dtype=float32), array([[ 9.691499  , 10.652211  ,  3.1856089 ,  0.48959923]],\n",
            "      dtype=float32), array([[7.674332  , 8.870657  , 2.6425724 , 0.75029385]], dtype=float32), array([[ 9.461846  , 11.393025  ,  3.9975793 ,  0.14224957]],\n",
            "      dtype=float32), array([[10.764533  , 12.037899  ,  3.9744575 ,  0.64414483]],\n",
            "      dtype=float32), array([[11.743227  , 10.278605  ,  3.31532   ,  0.59108764]],\n",
            "      dtype=float32), array([[10.464825 , 11.137894 ,  3.4920378,  0.7577051]], dtype=float32), array([[9.179782 , 9.782379 , 3.129762 , 0.7400217]], dtype=float32), array([[10.682832 , 12.166051 ,  4.091591 ,  0.6749542]], dtype=float32), array([[ 9.00847   , 10.326555  ,  4.2525916 ,  0.07368135]],\n",
            "      dtype=float32), array([[9.024387  , 9.331103  , 2.5157418 , 0.69312435]], dtype=float32), array([[11.574939 , 10.82389  ,  4.5635366,  0.2207682]], dtype=float32), array([[11.638654  , 11.41508   ,  4.4278784 ,  0.59538776]],\n",
            "      dtype=float32), array([[ 9.90971  , 10.000304 ,  2.9028018,  0.6163041]], dtype=float32), array([[ 9.023258  , 10.974528  ,  3.8191388 ,  0.18720591]],\n",
            "      dtype=float32), array([[11.705739  , 12.971699  ,  4.4424024 ,  0.10379322]],\n",
            "      dtype=float32), array([[11.846422 , 11.410479 ,  3.666978 ,  0.6838084]], dtype=float32), array([[11.037305  , 10.905812  ,  4.9910445 ,  0.06983702]],\n",
            "      dtype=float32), array([[10.177144  , 11.6634655 ,  3.6151037 ,  0.17604823]],\n",
            "      dtype=float32), array([[10.163679  , 11.989331  ,  4.5427756 ,  0.73183244]],\n",
            "      dtype=float32), array([[10.200801  , 11.200498  ,  4.1975555 ,  0.11385013]],\n",
            "      dtype=float32), array([[10.257965 , 10.336302 ,  3.8265955,  0.6428448]], dtype=float32), array([[10.353479  , 12.191915  ,  4.411567  ,  0.19407372]],\n",
            "      dtype=float32), array([[ 9.751698 , 11.063062 ,  3.2053916,  0.7510105]], dtype=float32), array([[ 8.603505 , 11.52235  ,  3.694258 ,  0.5260454]], dtype=float32), array([[ 9.128884  , 11.087073  ,  4.9296856 ,  0.29299325]],\n",
            "      dtype=float32), array([[11.514957  , 12.13464   ,  3.8407166 ,  0.77607656]],\n",
            "      dtype=float32), array([[ 9.817239 , 10.604402 ,  3.4968483,  0.9058833]], dtype=float32), array([[10.556021  , 11.213652  ,  3.4031777 ,  0.23786041]],\n",
            "      dtype=float32), array([[10.076564 , 10.472748 ,  2.4110332,  0.648213 ]], dtype=float32), array([[9.823174 , 9.663154 , 3.8542593, 0.1782838]], dtype=float32), array([[7.1611967, 8.760661 , 2.712298 , 0.3338287]], dtype=float32), array([[10.915761  , 11.9142065 ,  4.787047  ,  0.08989047]],\n",
            "      dtype=float32), array([[ 8.866002 , 11.162909 ,  3.72426  ,  0.6477124]], dtype=float32), array([[11.265469 , 11.289989 ,  3.825371 ,  0.7335517]], dtype=float32), array([[10.820433  , 11.548514  ,  2.9881604 ,  0.50261456]],\n",
            "      dtype=float32), array([[8.304088 , 9.324462 , 3.7858353, 0.1993945]], dtype=float32), array([[ 9.775515 , 10.014411 ,  4.1257215,  0.9805992]], dtype=float32), array([[11.552424  , 11.494153  ,  4.7977886 ,  0.55483794]],\n",
            "      dtype=float32), array([[9.655721 , 9.5559025, 3.6924417, 0.5271881]], dtype=float32), array([[8.991724 , 9.516942 , 3.167898 , 1.0102326]], dtype=float32), array([[ 9.113592  , 11.625823  ,  4.8580055 ,  0.74098414]],\n",
            "      dtype=float32), array([[10.743837  , 11.70468   ,  3.9046009 ,  0.71904147]],\n",
            "      dtype=float32), array([[11.74128  , 10.993084 ,  5.6869664,  0.7537312]], dtype=float32), array([[ 9.270499  , 11.18169   ,  4.4668236 ,  0.18074296]],\n",
            "      dtype=float32), array([[10.591314  , 12.804365  ,  3.479246  ,  0.26748532]],\n",
            "      dtype=float32), array([[10.085778  , 10.305003  ,  3.363356  ,  0.42826366]],\n",
            "      dtype=float32), array([[12.75427   , 14.282182  ,  5.691352  ,  0.21957158]],\n",
            "      dtype=float32), array([[8.750323  , 9.70472   , 3.8198628 , 0.06608666]], dtype=float32), array([[10.965    , 11.54293  ,  4.026167 ,  0.8300588]], dtype=float32), array([[ 8.687528 , 10.102967 ,  2.6100423,  0.3250537]], dtype=float32), array([[7.963091  , 8.030095  , 3.6845448 , 0.12222953]], dtype=float32), array([[11.429957  , 12.729632  ,  3.961034  ,  0.69807047]],\n",
            "      dtype=float32), array([[ 9.046586  , 11.130677  ,  4.120333  ,  0.80268806]],\n",
            "      dtype=float32), array([[11.699692 , 10.134397 ,  3.5082314,  0.2137938]], dtype=float32), array([[ 9.370041 , 10.6423435,  3.5239625,  0.890945 ]], dtype=float32), array([[10.582241  , 11.463673  ,  5.0804324 ,  0.78088874]],\n",
            "      dtype=float32), array([[9.485355  , 9.89915   , 4.738208  , 0.09912971]], dtype=float32), array([[ 8.961798 , 10.785187 ,  3.8714125,  1.0030049]], dtype=float32), array([[ 8.790739  , 10.136387  ,  4.272006  ,  0.21680076]],\n",
            "      dtype=float32), array([[10.046121  , 10.061435  ,  4.3381844 ,  0.56457525]],\n",
            "      dtype=float32), array([[10.3801155, 11.582474 ,  3.539706 ,  0.7044758]], dtype=float32), array([[ 9.730854  , 12.160106  ,  4.83268   ,  0.29815975]],\n",
            "      dtype=float32), array([[11.217066 , 12.830628 ,  4.6984706,  0.4231965]], dtype=float32), array([[12.058136 , 12.109496 ,  4.3146677,  0.7111896]], dtype=float32), array([[8.805708  , 9.355443  , 3.0253077 , 0.60023654]], dtype=float32), array([[ 8.311764  , 10.281256  ,  2.9671752 ,  0.21059537]],\n",
            "      dtype=float32), array([[8.084967 , 9.939771 , 3.5397804, 0.6365529]], dtype=float32), array([[9.424264 , 9.683114 , 2.784619 , 0.6242239]], dtype=float32), array([[10.879435 , 11.641208 ,  3.3038716,  0.8150951]], dtype=float32), array([[11.150623 , 11.776099 ,  4.0377655,  0.6361476]], dtype=float32), array([[ 9.330922  , 11.795397  ,  4.12341   ,  0.74613005]],\n",
            "      dtype=float32), array([[10.938328  , 11.324309  ,  3.9475706 ,  0.50609386]],\n",
            "      dtype=float32), array([[8.1348915, 8.919651 , 4.066808 , 0.2933575]], dtype=float32), array([[10.585643  , 11.884481  ,  3.3340757 ,  0.70296645]],\n",
            "      dtype=float32), array([[10.220038  , 10.948102  ,  4.891843  ,  0.07095893]],\n",
            "      dtype=float32), array([[8.055044  , 9.400108  , 2.9110076 , 0.25342682]], dtype=float32), array([[8.033978  , 9.726911  , 2.5191464 , 0.55742764]], dtype=float32), array([[9.309589 , 9.714887 , 2.9139488, 0.8436333]], dtype=float32), array([[10.998287 , 10.305048 ,  3.1128373,  0.6620145]], dtype=float32), array([[8.364416  , 9.426469  , 3.2937865 , 0.97306776]], dtype=float32), array([[11.918551 , 11.417844 ,  5.1056643,  0.6507892]], dtype=float32)]\n"
          ],
          "name": "stdout"
        }
      ]
    },
    {
      "cell_type": "code",
      "metadata": {
        "id": "VD3ORpheh-PE",
        "colab_type": "code",
        "colab": {}
      },
      "source": [
        ""
      ],
      "execution_count": 0,
      "outputs": []
    }
  ]
}
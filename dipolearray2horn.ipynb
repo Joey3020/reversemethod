{
  "nbformat": 4,
  "nbformat_minor": 0,
  "metadata": {
    "colab": {
      "name": "dipolearray2horn.ipynb",
      "provenance": []
    },
    "kernelspec": {
      "name": "python3",
      "display_name": "Python 3"
    },
    "accelerator": "GPU"
  },
  "cells": [
    {
      "cell_type": "markdown",
      "metadata": {
        "id": "29D32Pjdfqwl",
        "colab_type": "text"
      },
      "source": [
        "Use pretrained model used to optimize horn antenna\n",
        "\n",
        "   - change source from  3 x 3 hwl dipole array to horn\n",
        "   - without significant altercation of the beam\n",
        "  "
      ]
    },
    {
      "cell_type": "code",
      "metadata": {
        "id": "By_es6Jhf-v2",
        "colab_type": "code",
        "colab": {}
      },
      "source": [
        "from google.colab import drive\n",
        "drive.mount('/content/gdrive')"
      ],
      "execution_count": 0,
      "outputs": []
    },
    {
      "cell_type": "code",
      "metadata": {
        "id": "jmNPQpwjgBSs",
        "colab_type": "code",
        "colab": {}
      },
      "source": [
        "pip install neptune-client"
      ],
      "execution_count": 0,
      "outputs": []
    },
    {
      "cell_type": "code",
      "metadata": {
        "id": "OT6sv_r6gRIe",
        "colab_type": "code",
        "outputId": "408c8a03-446e-42e8-8328-c0b60061d813",
        "colab": {
          "base_uri": "https://localhost:8080/",
          "height": 34
        }
      },
      "source": [
        "import neptune\n",
        "\n",
        "neptune.init(\n",
        "    api_token=\"eyJhcGlfYWRkcmVzcyI6Imh0dHBzOi8vdWkubmVwdHVuZS5haSIsImFwaV91cmwiOiJodHRwczovL3VpLm5lcHR1bmUuYWkiLCJhcGlfa2V5IjoiZjY2Y2M1MjktNzljYy00MTFjLWE1NTQtOTAxYTFhMmNjM2VhIn0=\",\n",
        "    project_qualified_name=\"joey0320/dipole2horn\"\n",
        ")"
      ],
      "execution_count": 0,
      "outputs": [
        {
          "output_type": "execute_result",
          "data": {
            "text/plain": [
              "Project(joey0320/dipole2horn)"
            ]
          },
          "metadata": {
            "tags": []
          },
          "execution_count": 3
        }
      ]
    },
    {
      "cell_type": "code",
      "metadata": {
        "id": "y0Zk8OfOhgTU",
        "colab_type": "code",
        "colab": {}
      },
      "source": [
        "import sys\n",
        "sys.path.append('/content/libs')"
      ],
      "execution_count": 0,
      "outputs": []
    },
    {
      "cell_type": "code",
      "metadata": {
        "id": "IY6uxl1Sgmnp",
        "colab_type": "code",
        "outputId": "fab7ead2-8a0f-4eac-d4a9-fce17e221a94",
        "colab": {
          "base_uri": "https://localhost:8080/",
          "height": 51
        }
      },
      "source": [
        "import numpy as np\n",
        "import pandas as pd\n",
        "from pandas import DataFrame\n",
        "import torch\n",
        "import torch.nn as nn\n",
        "import torch.nn.functional as F\n",
        "import torch.optim as optim\n",
        "from torch.utils.data import Dataset\n",
        "from torch.utils.data import DataLoader\n",
        "from torch.utils.data import ConcatDataset\n",
        "import matplotlib.pyplot as plt\n",
        "import math\n",
        "import os\n",
        "from tqdm import tqdm\n",
        "import time\n",
        "import cv2\n",
        "\n",
        "from DataCaller import DataCaller\n",
        "from EarlyStopper import *\n",
        "from Net import *\n",
        "from train_test import *\n",
        "from utils import *\n",
        "\n",
        "#Global variables\n",
        "config = {\n",
        "    'load_data':False,\n",
        "    'load_test_data':True,\n",
        "\n",
        "    'batch_size':8,\n",
        "    'val_batch_size':16,\n",
        "    'learning_rate':1e-4,\n",
        "    'epochs':1000,\n",
        "    'patience':3,\n",
        "\n",
        "    'img_size':64,\n",
        "    'img_channels':4,\n",
        "\n",
        "    'train_label_size':6,\n",
        "    #'test_label_size':3,\n",
        "    'test_label_size':6,\n",
        "\n",
        "    'output1':2,\n",
        "    'output2':2,\n",
        "    'result_label':4,\n",
        "\n",
        "    'weight':torch.tensor([1.0, 1.0, 1.0, 0.1]),\n",
        "}\n",
        "\n",
        "neptune.create_experiment(name='dipole2horn', \n",
        "                          params=config, \n",
        "                          upload_source_files=['libs/DataCaller.py',\n",
        "                                               'libs/EarlyStopper.py',\n",
        "                                               'libs/Net.py',\n",
        "                                               'libs/train_test.py',\n",
        "                                               'libs/utils.py'])"
      ],
      "execution_count": 0,
      "outputs": [
        {
          "output_type": "stream",
          "text": [
            "https://ui.neptune.ai/joey0320/dipole2horn/e/DIP-2\n"
          ],
          "name": "stdout"
        },
        {
          "output_type": "execute_result",
          "data": {
            "text/plain": [
              "Experiment(DIP-2)"
            ]
          },
          "metadata": {
            "tags": []
          },
          "execution_count": 9
        }
      ]
    },
    {
      "cell_type": "code",
      "metadata": {
        "id": "Q60kbF_3jm2W",
        "colab_type": "code",
        "outputId": "97a92037-8d5f-4741-be8f-de2f1146a27f",
        "colab": {
          "base_uri": "https://localhost:8080/",
          "height": 34
        }
      },
      "source": [
        "if torch.cuda.is_available():\n",
        "  device = 'cuda'\n",
        "else:\n",
        "  device = 'cpu'\n",
        "print(device)"
      ],
      "execution_count": 0,
      "outputs": [
        {
          "output_type": "stream",
          "text": [
            "cuda\n"
          ],
          "name": "stdout"
        }
      ]
    },
    {
      "cell_type": "code",
      "metadata": {
        "id": "hhZ-R5iYg4xT",
        "colab_type": "code",
        "outputId": "11896c09-c238-486a-c4a5-ee7ef6077ac3",
        "colab": {
          "base_uri": "https://localhost:8080/",
          "height": 34
        }
      },
      "source": [
        "net = Net(config['img_channels'], config['output1'], config['output2'])\n",
        "net.load_state_dict(torch.load('checkpoint.pt'))"
      ],
      "execution_count": 0,
      "outputs": [
        {
          "output_type": "execute_result",
          "data": {
            "text/plain": [
              "<All keys matched successfully>"
            ]
          },
          "metadata": {
            "tags": []
          },
          "execution_count": 10
        }
      ]
    },
    {
      "cell_type": "code",
      "metadata": {
        "id": "qAVmJBaohHCq",
        "colab_type": "code",
        "colab": {}
      },
      "source": [
        "BASE_PATH = '/content/gdrive/My Drive/Colab Notebooks/Reverse_dipole2horn/data'\n",
        "TEST_DATA_PATH = os.path.join(BASE_PATH, 'test')"
      ],
      "execution_count": 0,
      "outputs": []
    },
    {
      "cell_type": "code",
      "metadata": {
        "id": "OqhnTyJbigoJ",
        "colab_type": "code",
        "outputId": "e18f90c1-baff-44a8-ecce-744e23c78184",
        "colab": {
          "base_uri": "https://localhost:8080/",
          "height": 68
        }
      },
      "source": [
        "testsets = []\n",
        "for f in tqdm(os.listdir(TEST_DATA_PATH)):\n",
        "  path  = os.path.join(TEST_DATA_PATH, f)\n",
        "  testset = DataCaller(path, config['img_size'], config['test_label_size'])\n",
        "  print(testset.__len__())\n",
        "  testsets.append(testset)\n",
        "\n",
        "testset = ConcatDataset(testsets)\n",
        "print(testset.__len__())  "
      ],
      "execution_count": 0,
      "outputs": [
        {
          "output_type": "stream",
          "text": [
            "100%|██████████| 1/1 [00:04<00:00,  4.46s/it]"
          ],
          "name": "stderr"
        },
        {
          "output_type": "stream",
          "text": [
            "200\n",
            "200\n"
          ],
          "name": "stdout"
        },
        {
          "output_type": "stream",
          "text": [
            "\n"
          ],
          "name": "stderr"
        }
      ]
    },
    {
      "cell_type": "code",
      "metadata": {
        "id": "iq3k_zAOjzds",
        "colab_type": "code",
        "colab": {}
      },
      "source": [
        "testloader = DataLoader(testset, batch_size=1, shuffle=False)"
      ],
      "execution_count": 0,
      "outputs": []
    },
    {
      "cell_type": "code",
      "metadata": {
        "id": "4DJB5dxEii81",
        "colab_type": "code",
        "colab": {}
      },
      "source": [
        "net.to(device)\n",
        "test(net, testloader, config['img_channels'], config['img_size'], config['result_label'], device)\n",
        "neptune.log_artifact('predictions.xlsx')\n",
        "#A, B, d, t"
      ],
      "execution_count": 0,
      "outputs": []
    },
    {
      "cell_type": "code",
      "metadata": {
        "id": "pgtuMiYujuoB",
        "colab_type": "code",
        "colab": {}
      },
      "source": [
        "for num, data in enumerate(testloader):\n",
        "  x, y = data\n",
        "  print(y)"
      ],
      "execution_count": 0,
      "outputs": []
    },
    {
      "cell_type": "code",
      "metadata": {
        "id": "PCZ_eEbXk04I",
        "colab_type": "code",
        "colab": {}
      },
      "source": [
        "neptune.log_artifact('checkpoint.pt')"
      ],
      "execution_count": 0,
      "outputs": []
    },
    {
      "cell_type": "code",
      "metadata": {
        "id": "YbVpe5aQlwPw",
        "colab_type": "code",
        "colab": {}
      },
      "source": [
        "neptune.log_artifact('description dipole.txt')"
      ],
      "execution_count": 0,
      "outputs": []
    },
    {
      "cell_type": "code",
      "metadata": {
        "id": "il3aAwyNl6bb",
        "colab_type": "code",
        "colab": {}
      },
      "source": [
        ""
      ],
      "execution_count": 0,
      "outputs": []
    }
  ]
}
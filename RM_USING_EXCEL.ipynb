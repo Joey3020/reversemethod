{
  "nbformat": 4,
  "nbformat_minor": 0,
  "metadata": {
    "colab": {
      "name": "RM_USING_EXCEL.ipynb",
      "provenance": [],
      "collapsed_sections": [],
      "authorship_tag": "ABX9TyPN91vsXTnARN9Oo4yGD6GS",
      "include_colab_link": true
    },
    "kernelspec": {
      "name": "python3",
      "display_name": "Python 3"
    },
    "accelerator": "GPU"
  },
  "cells": [
    {
      "cell_type": "markdown",
      "metadata": {
        "id": "view-in-github",
        "colab_type": "text"
      },
      "source": [
        "<a href=\"https://colab.research.google.com/github/joey0320/reversemethod/blob/colabcodes_SingleSource_fixedX/RM_USING_EXCEL.ipynb\" target=\"_parent\"><img src=\"https://colab.research.google.com/assets/colab-badge.svg\" alt=\"Open In Colab\"/></a>"
      ]
    },
    {
      "cell_type": "code",
      "metadata": {
        "id": "pJff_qD0zq3L",
        "colab_type": "code",
        "colab": {}
      },
      "source": [
        "#!git clone https://github.com/joey0320/reversemethod.git"
      ],
      "execution_count": 0,
      "outputs": []
    },
    {
      "cell_type": "code",
      "metadata": {
        "id": "QZPG-Fw9zs6U",
        "colab_type": "code",
        "colab": {}
      },
      "source": [
        "#!git clone https://github.com/joey0320/reversemethod.git"
      ],
      "execution_count": 0,
      "outputs": []
    },
    {
      "cell_type": "code",
      "metadata": {
        "id": "03J48aW0Reqs",
        "colab_type": "code",
        "outputId": "7afc3c48-ad46-492f-8207-cb4efb590b77",
        "colab": {
          "base_uri": "https://localhost:8080/",
          "height": 316
        }
      },
      "source": [
        "gpu_info = !nvidia-smi\n",
        "gpu_info = '\\n'.join(gpu_info)\n",
        "if gpu_info.find('failed') >= 0:\n",
        "  print('Select the Runtime → \"Change runtime type\" menu to enable a GPU accelerator, ')\n",
        "  print('and then re-execute this cell.')\n",
        "else:\n",
        "  print(gpu_info)"
      ],
      "execution_count": 58,
      "outputs": [
        {
          "output_type": "stream",
          "text": [
            "Fri Apr 17 09:15:16 2020       \n",
            "+-----------------------------------------------------------------------------+\n",
            "| NVIDIA-SMI 440.64.00    Driver Version: 418.67       CUDA Version: 10.1     |\n",
            "|-------------------------------+----------------------+----------------------+\n",
            "| GPU  Name        Persistence-M| Bus-Id        Disp.A | Volatile Uncorr. ECC |\n",
            "| Fan  Temp  Perf  Pwr:Usage/Cap|         Memory-Usage | GPU-Util  Compute M. |\n",
            "|===============================+======================+======================|\n",
            "|   0  Tesla P100-PCIE...  Off  | 00000000:00:04.0 Off |                    0 |\n",
            "| N/A   39C    P0    33W / 250W |    919MiB / 16280MiB |      0%      Default |\n",
            "+-------------------------------+----------------------+----------------------+\n",
            "                                                                               \n",
            "+-----------------------------------------------------------------------------+\n",
            "| Processes:                                                       GPU Memory |\n",
            "|  GPU       PID   Type   Process name                             Usage      |\n",
            "|=============================================================================|\n",
            "+-----------------------------------------------------------------------------+\n"
          ],
          "name": "stdout"
        }
      ]
    },
    {
      "cell_type": "code",
      "metadata": {
        "id": "WB26ruGiz071",
        "colab_type": "code",
        "outputId": "d1ce2e1f-d98a-48a5-cc97-0e645f789663",
        "colab": {
          "base_uri": "https://localhost:8080/",
          "height": 36
        }
      },
      "source": [
        "from google.colab import drive\n",
        "\n",
        "drive.mount('/content/gdrive')"
      ],
      "execution_count": 59,
      "outputs": [
        {
          "output_type": "stream",
          "text": [
            "Drive already mounted at /content/gdrive; to attempt to forcibly remount, call drive.mount(\"/content/gdrive\", force_remount=True).\n"
          ],
          "name": "stdout"
        }
      ]
    },
    {
      "cell_type": "code",
      "metadata": {
        "id": "-9h7q8NTz3CT",
        "colab_type": "code",
        "outputId": "0132e12f-5225-4f7b-91db-0fb2a2b228bd",
        "colab": {
          "base_uri": "https://localhost:8080/",
          "height": 36
        }
      },
      "source": [
        "import numpy as np\n",
        "import pandas as pd\n",
        "from pandas import DataFrame\n",
        "import torch\n",
        "import torch.nn as nn\n",
        "import torch.nn.functional as F\n",
        "import torch.optim as optim\n",
        "from torch.utils.data import Dataset\n",
        "from torch.utils.data import DataLoader\n",
        "from torch.utils.data import ConcatDataset\n",
        "import matplotlib.pyplot as plt\n",
        "import math\n",
        "import os\n",
        "from tqdm import tqdm\n",
        "import time\n",
        "import cv2\n",
        "#from DataCaller_Excel import DataCaller_Excel\n",
        "#from Model import Net\n",
        "#from EarlyStop import EarlyStopping\n",
        "\n",
        "#use gpu    please somebody buy me a gpu .......\n",
        "USE_GPU = True\n",
        "if USE_GPU and torch.cuda.is_available():\n",
        "    device = torch.device('cuda')\n",
        "else:\n",
        "    device = torch.device('cpu')\n",
        "print(device)\n",
        "\n",
        "#Global variables\n",
        "LOAD_DATA = False\n",
        "BATCH_SIZE = 16\n",
        "VAL_BATCH_SIZE = 16\n",
        "LEARNING_RATE = 2e-6\n",
        "EPOCHS = 1000\n",
        "PATIENCE =13\n",
        "VALIDATE_EVERY = 10\n",
        "MODEL_NAME = f\"model-{int(time.time())}\"\n",
        "IMG_SIZE = 64\n",
        "IMG_CHANNELS = 1\n",
        "OUTPUT_LABEL_SIZE = 4\n",
        "OUTPUT_AB = 2\n",
        "OUTPUT_Y = 1\n",
        "OUTPUT_D = 1"
      ],
      "execution_count": 96,
      "outputs": [
        {
          "output_type": "stream",
          "text": [
            "cuda\n"
          ],
          "name": "stdout"
        }
      ]
    },
    {
      "cell_type": "code",
      "metadata": {
        "id": "fR_c4LFQ0Ma2",
        "colab_type": "code",
        "colab": {}
      },
      "source": [
        "\n",
        "class DataCaller_Excel(Dataset):\n",
        "    def __init__(self, data_path, inputsize):\n",
        "        \n",
        "        self.data_path = data_path\n",
        "        self.inputsize = inputsize\n",
        "        \n",
        "        data = pd.read_excel(open(self.data_path, 'rb'), sheet_name='Sheet1', header=None)\n",
        "        data = np.array(data)\n",
        "        data = data.reshape(-1, 1, inputsize, inputsize)\n",
        "        self.data = torch.from_numpy(data).float()\n",
        "        \n",
        "        label = pd.read_excel(open(self.data_path, 'rb'), sheet_name='Sheet2', header=None)\n",
        "        self.label = torch.from_numpy( np.array(label) ).float()\n",
        "    \n",
        "    def __len__(self):\n",
        "        return len(self.data)\n",
        "    \n",
        "    def __getitem__(self, idx):\n",
        "        x = torch.FloatTensor(self.data[idx])\n",
        "        y = torch.FloatTensor(self.label[idx])\n",
        "        return x, y"
      ],
      "execution_count": 0,
      "outputs": []
    },
    {
      "cell_type": "code",
      "metadata": {
        "id": "hsUhE6kd0Y6r",
        "colab_type": "code",
        "colab": {}
      },
      "source": [
        "\n",
        "class EarlyStopping:\n",
        "    \"\"\"Early stops the training if validation loss doesn't improve after a given patience.\"\"\"\n",
        "    def __init__(self, patience=7, verbose=False, delta=0):\n",
        "        \"\"\"\n",
        "        Args:\n",
        "            patience (int): How long to wait after last time validation loss improved.\n",
        "                            Default: 7\n",
        "            verbose (bool): If True, prints a message for each validation loss improvement. \n",
        "                            Default: False\n",
        "            delta (float): Minimum change in the monitored quantity to qualify as an improvement.\n",
        "                            Default: 0\n",
        "        \"\"\"\n",
        "        self.patience = patience\n",
        "        self.verbose = verbose\n",
        "        self.counter = 0\n",
        "        self.best_score = None\n",
        "        self.early_stop = False\n",
        "        self.val_loss_min = np.Inf\n",
        "        self.delta = delta\n",
        "\n",
        "    def __call__(self, val_loss, model):\n",
        "\n",
        "        score = - val_loss\n",
        "\n",
        "        if self.best_score is None:\n",
        "            self.best_score = score\n",
        "            self.save_checkpoint(val_loss, model)\n",
        "        elif score < self.best_score + self.delta:\n",
        "            self.counter += 1\n",
        "            print(f'EarlyStopping counter: {self.counter} out of {self.patience}')\n",
        "            if self.counter >= self.patience:\n",
        "                self.early_stop = True\n",
        "        else:\n",
        "            self.best_score = score\n",
        "            self.save_checkpoint(val_loss, model)\n",
        "            self.counter = 0\n",
        "\n",
        "    def save_checkpoint(self, val_loss, model):\n",
        "        '''Saves model when validation loss decrease.'''\n",
        "        if self.verbose:\n",
        "            print(f'Validation loss decreased ({self.val_loss_min:.6f} --> {val_loss:.6f}).  Saving model ...')\n",
        "        torch.save(model.state_dict(), 'checkpoint.pt')\n",
        "        self.val_loss_min = val_loss"
      ],
      "execution_count": 0,
      "outputs": []
    },
    {
      "cell_type": "code",
      "metadata": {
        "id": "s4DMLbAR0b3j",
        "colab_type": "code",
        "colab": {}
      },
      "source": [
        "import torch\n",
        "import torch.nn as nn\n",
        "\n",
        "class Net(nn.Module):\n",
        "    def __init__(self):\n",
        "        super().__init__()\n",
        "        \n",
        "        self.cnn = nn.Sequential(\n",
        "            nn.Conv2d(IMG_CHANNELS, 16, kernel_size=3, padding=1),\n",
        "            nn.ReLU(),\n",
        "            #nn.BatchNorm2d(16),\n",
        "            #nn.Conv2d(16, 16, kernel_size=3, padding=1),\n",
        "            #nn.ReLU(),\n",
        "            nn.MaxPool2d(2, 2),\n",
        "            #32 x 32 x 16\n",
        "            \n",
        "            nn.Conv2d(16, 16, kernel_size=3, padding=1),\n",
        "            nn.ReLU(),\n",
        "            nn.Conv2d(16, 32, kernel_size=3, padding=1),\n",
        "            #nn.BatchNorm2d(64),\n",
        "            nn.ReLU(),\n",
        "            nn.MaxPool2d(2, 2),\n",
        "            #16 x 16 x 32\n",
        "            \n",
        "            nn.Conv2d(32, 64, kernel_size=3, padding=1),\n",
        "            nn.ReLU(),\n",
        "            nn.Conv2d(64, 64, kernel_size=3, padding=1),\n",
        "            nn.ReLU(),\n",
        "            nn.MaxPool2d(2, 2),\n",
        "            #8 x 8 x 64\n",
        "\n",
        "            nn.Conv2d(64, 64, kernel_size=3, padding=1),\n",
        "            nn.Dropout(0.4),\n",
        "            nn.ReLU(),\n",
        "            nn.Conv2d(64, 64, kernel_size=3, padding=1),\n",
        "            nn.ReLU(),\n",
        "            nn.MaxPool2d(2, 2),\n",
        "            #4 x 4 x 128\n",
        "            \n",
        "            nn.Conv2d(64, 128, kernel_size=3, padding=1),\n",
        "            nn.ReLU(),\n",
        "            nn.Conv2d(128, 128, kernel_size=3, padding=1),\n",
        "            nn.ReLU(),\n",
        "            nn.MaxPool2d(2, 2),\n",
        "            #2 x 2 x 256\n",
        "\n",
        "            nn.Conv2d(128, 256, kernel_size=3, padding=1),\n",
        "            nn.ReLU(),\n",
        "            nn.Conv2d(256, 256, kernel_size=3, padding=1),\n",
        "            nn.ReLU(),\n",
        "            nn.MaxPool2d(2, 2),\n",
        "            #1 x 1 x 512\n",
        "            \n",
        "        )\n",
        "        self.fcc_ab = nn.Sequential(\n",
        "            nn.Linear(256, 128),\n",
        "            nn.ReLU(),\n",
        "            nn.Dropout(0.4),\n",
        "            nn.Linear(128, 64),\n",
        "            nn.ReLU(),\n",
        "            #nn.Dropout(0.4),\n",
        "            nn.Linear(64, OUTPUT_AB)\n",
        "        )\n",
        "        self.fcc_xy = nn.Sequential(\n",
        "            nn.Linear(256, 64),\n",
        "            nn.ReLU(),\n",
        "            nn.Dropout(0.4),\n",
        "            nn.Linear(64, 32),\n",
        "            nn.ReLU(),\n",
        "            nn.Linear(32, OUTPUT_Y)   \n",
        "        )\n",
        "        self.fcc_d = nn.Sequential(\n",
        "            nn.Linear(256, 64),\n",
        "            nn.ReLU(),\n",
        "            nn.Dropout(0.4),\n",
        "            nn.Linear(64, 32),\n",
        "            nn.ReLU(),\n",
        "            nn.Linear(32, OUTPUT_D)\n",
        "        )\n",
        "    def forward(self, x):\n",
        "        output = self.cnn(x)\n",
        "        feature_map = output.view(output.size(0), -1)\n",
        "        ab = self.fcc_ab(feature_map)\n",
        "        a = ab[:, :1]\n",
        "        b = ab[:, 1:]\n",
        "        xy = self.fcc_xy(feature_map)\n",
        "        d = self.fcc_d(feature_map)\n",
        "\n",
        "        return a, b, xy, d"
      ],
      "execution_count": 0,
      "outputs": []
    },
    {
      "cell_type": "code",
      "metadata": {
        "id": "enGbxU4s0fBb",
        "colab_type": "code",
        "colab": {}
      },
      "source": [
        "#data path\n",
        "DRIVE_PATH = '/content/gdrive/My Drive/Colab Notebooks'\n",
        "BASE_PATH = 'singlesource_regression_fixed_x'\n",
        "TRAIN_PATH_LABEL = os.path.join(DRIVE_PATH, 'data', BASE_PATH, 'train')\n",
        "VAL_PATH_LABEL = os.path.join(DRIVE_PATH, 'data', BASE_PATH, 'val')\n",
        "TEST_PATH_LABEL = os.path.join(DRIVE_PATH, 'data', BASE_PATH, 'test')\n",
        "LOAD_PRETRAINED_PATH = os.path.join(DRIVE_PATH, 'Results', 'SingleSource_ByClasses_Fixed_X', 'traindata_Size_37250', 'checkpoint.pt')\n",
        "#TRAIN_PATH_IMG = os.path.join(DRIVE_PATH, 'images', BASE_PATH, 'train')\n",
        "#VAL_PATH_IMG = os.path.join(DRIVE_PATH, 'images', BASE_PATH, 'val')\n",
        "#TEST_PATH_IMG = os.path.join(DRIVE_PATH, 'images', BASE_PATH, 'test')"
      ],
      "execution_count": 0,
      "outputs": []
    },
    {
      "cell_type": "code",
      "metadata": {
        "id": "Sl119Ok5051m",
        "colab_type": "code",
        "colab": {}
      },
      "source": [
        "if LOAD_DATA:\n",
        "    trainsets = []\n",
        "    valsets = []\n",
        "    testsets = []\n",
        "    for f in tqdm(os.listdir(TRAIN_PATH_LABEL)):\n",
        "      path = os.path.join(TRAIN_PATH_LABEL, f)\n",
        "      trainset = DataCaller_Excel(path, IMG_SIZE)\n",
        "      print(trainset.__len__())\n",
        "      trainsets.append(trainset)\n",
        "\n",
        "    for f in tqdm(os.listdir(VAL_PATH_LABEL)):\n",
        "      path  = os.path.join(VAL_PATH_LABEL, f)\n",
        "      valset = DataCaller_Excel(path, IMG_SIZE)\n",
        "      print(valset.__len__())\n",
        "      valsets.append(valset)\n",
        "\n",
        "    for f in tqdm(os.listdir(TEST_PATH_LABEL)):\n",
        "      path  = os.path.join(TEST_PATH_LABEL, f)\n",
        "      testset = DataCaller_Excel(path, IMG_SIZE)\n",
        "      print(testset.__len__())\n",
        "      testsets.append(testset)\n",
        "\n",
        "    trainset = ConcatDataset(trainsets)\n",
        "    print(trainset.__len__())\n",
        "    valset = ConcatDataset(valsets)\n",
        "    print(valset.__len__())\n",
        "    testset = ConcatDataset(testsets)\n",
        "    print(testset.__len__())\n",
        "    #trainset = DataCaller(TRAIN_PATH_IMG, TRAIN_PATH_LABEL, IMG_SIZE)\n",
        "    #valset = DataCaller(VAL_PATH_IMG, VAL_PATH_LABEL, IMG_SIZE)\n",
        "    #testset = DataCaller(TEST_PATH_IMG, TEST_PATH_LABEL, IMG_SIZE)"
      ],
      "execution_count": 0,
      "outputs": []
    },
    {
      "cell_type": "code",
      "metadata": {
        "id": "JA0gFXCnLn0-",
        "colab_type": "code",
        "colab": {}
      },
      "source": [
        "#valsets = []\n",
        "#for f in tqdm(os.listdir(VAL_PATH_LABEL)):\n",
        "#  path  = os.path.join(VAL_PATH_LABEL, f)\n",
        "#  valset = DataCaller_Excel(path, IMG_SIZE)\n",
        "#  print(valset.__len__())\n",
        "#  valsets.append(valset)\n",
        "\n",
        "#valset = ConcatDataset(valsets)\n"
      ],
      "execution_count": 0,
      "outputs": []
    },
    {
      "cell_type": "code",
      "metadata": {
        "id": "CCRzbFvJ07bD",
        "colab_type": "code",
        "colab": {}
      },
      "source": [
        "#define dataloaders\n",
        "trainloader = DataLoader(trainset, batch_size = BATCH_SIZE, shuffle=True)\n",
        "valloader = DataLoader(valset, batch_size=VAL_BATCH_SIZE, shuffle=True)\n",
        "testloader = DataLoader(testset, batch_size=1, shuffle=False)"
      ],
      "execution_count": 0,
      "outputs": []
    },
    {
      "cell_type": "code",
      "metadata": {
        "id": "-bY-ORpG1Ew6",
        "colab_type": "code",
        "colab": {}
      },
      "source": [
        "#just checking if the data is loaded properly\n",
        "cnt = 0\n",
        "for i, data in enumerate(trainloader):\n",
        "    x, y = data\n",
        "    x = np.array(x)\n",
        "    x = x.reshape(-1, IMG_CHANNELS, IMG_SIZE, IMG_SIZE)\n",
        "    #print(x)\n",
        "    #x = x.astype(int)\n",
        "    print(x)\n",
        "    print(x[0].shape)\n",
        "    #plt.imshow(x[0].reshape(IMG_SIZE, IMG_SIZE, -1))\n",
        "    #plt.imshow(x[0].reshape(IMG_SIZE, IMG_SIZE, -1), cmap='gray')\n",
        "    #plt.show()\n",
        "    #print(x[0])\n",
        "    print(y)\n",
        "    cnt += 1\n",
        "    if cnt==1:\n",
        "      break"
      ],
      "execution_count": 0,
      "outputs": []
    },
    {
      "cell_type": "code",
      "metadata": {
        "id": "ZeAuxWP_hY0B",
        "colab_type": "code",
        "colab": {}
      },
      "source": [
        "def weighted_mse(input, target, weight):\n",
        "  input = input.to(device)\n",
        "  target = target.to(device)\n",
        "  weight = weight.to(device)\n",
        "  return torch.sum(weight * (input - target)**2)"
      ],
      "execution_count": 0,
      "outputs": []
    },
    {
      "cell_type": "code",
      "metadata": {
        "id": "I7vayBnSb_3A",
        "colab_type": "code",
        "colab": {}
      },
      "source": [
        "def weighted_MSE(a, b, y, d, label_a, label_b, label_y, label_d, weight):\n",
        "  a = a.to(device)\n",
        "  b = b.to(device)\n",
        "  y = y.to(device)\n",
        "  d = d.to(device)\n",
        "\n",
        "  label_a = label_a.to(device)\n",
        "  label_b = label_b.to(device)\n",
        "  label_y = label_y.to(device)\n",
        "  label_d = label_d.to(device)\n",
        "\n",
        "  weight = weight.to(device)\n",
        "  \n",
        "  a = a.view(len(a))\n",
        "  b = b.view(len(b))\n",
        "  y = y.view(len(y))\n",
        "  d = d.view(len(d))\n",
        "\n",
        "  crit1 = nn.MSELoss()\n",
        "  crit2 = nn.MSELoss()\n",
        "  crit3 = nn.MSELoss()\n",
        "  crit4 = nn.MSELoss()\n",
        "\n",
        "  return weight[0] * crit1(a, label_a) + weight[1] * crit2(b, label_b) + weight[2] * crit3(y, label_y) + weight[3] * crit4(d, label_d)"
      ],
      "execution_count": 0,
      "outputs": []
    },
    {
      "cell_type": "code",
      "metadata": {
        "id": "MK1eoiDAVkGG",
        "colab_type": "code",
        "colab": {}
      },
      "source": [
        "\n",
        "def get_loss(a, b, y, d, label_a, label_b, label_y, label_d, weight):\n",
        "  # a,b : 1 x 21\n",
        "  # xy : 1 x 2\n",
        "  # d : 1 x 10\n",
        "  a = a.to(device)\n",
        "  b = b.to(device)\n",
        "  y = y.to(device)\n",
        "  d = d.to(device)\n",
        "\n",
        "  y = y.view(len(y))\n",
        "\n",
        "  weight = weight.to(device)\n",
        "\n",
        "  #change shape and form of labels\n",
        "  label_a = label_a.view(len(label_a))\n",
        "  label_b = label_b.view(len(label_b))\n",
        "  label_d = label_d.view(len(label_d))\n",
        "  label_a = label_a.type(torch.cuda.LongTensor)\n",
        "  label_b = label_b.type(torch.cuda.LongTensor)\n",
        "  label_d = label_d.type(torch.cuda.LongTensor)\n",
        "\n",
        "  label_y = label_y.view(len(label_y))\n",
        "\n",
        "  # classes should be 0 ~ N - 1\n",
        "  # class N means that the length is ( N + 1 ) * lambda \n",
        "  #x = torch.ones(len(label_a))\n",
        "  #x = x.to(device)\n",
        "  #x = x.type(torch.cuda.LongTensor)\n",
        "\n",
        "  #label_a = label_a - x\n",
        "  #label_b = label_b - x\n",
        "\n",
        "  #y = torch.ones(len(label_d))\n",
        "  #y = y.to(device)\n",
        "  #y = y.type(torch.cuda.LongTensor)\n",
        "  \n",
        "  #label_d = label_d - y\n",
        "\n",
        "  #define criterion\n",
        "  crit1 = nn.CrossEntropyLoss()\n",
        "  crit2 = nn.CrossEntropyLoss()\n",
        "  crit3 = nn.MSELoss()\n",
        "  crit4 = nn.CrossEntropyLoss()\n",
        "\n",
        "  loss1 = crit1(a, label_a)\n",
        "  loss2 = crit2(b, label_b)\n",
        "  loss3 = crit3(y, label_y)\n",
        "  loss4 = crit4(d, label_d)\n",
        "  \n",
        "  return loss1 * weight[0]  + loss2 * weight[1] + loss3 * weight[2] + loss4 * weight[3]\n",
        "\n"
      ],
      "execution_count": 0,
      "outputs": []
    },
    {
      "cell_type": "code",
      "metadata": {
        "id": "5LnaE27J1F7L",
        "colab_type": "code",
        "colab": {}
      },
      "source": [
        "#train the model\n",
        "def train(net, model_name, patience, validate_every):\n",
        "    \n",
        "    optimizer = optim.Adam(net.parameters(), LEARNING_RATE, betas=(0.9, 0.999), eps=1e-09, weight_decay=0, amsgrad=False)\n",
        "    weight = torch.tensor([1.0, 1.0, 1.1, 1.1])\n",
        "\n",
        "    train_losses = []\n",
        "    val_losses = []\n",
        "    avg_train_losses = []\n",
        "    avg_val_losses = []\n",
        "\n",
        "    #train_errors = []\n",
        "    #val_errors = []\n",
        "\n",
        "    early_stopping = EarlyStopping(patience=patience, verbose=True)\n",
        "\n",
        "    with open(\"model.log\", \"a\") as f:\n",
        "        for epoch in tqdm(range(EPOCHS)):\n",
        "                net.train()\n",
        "                for batch_idx, samples in enumerate(trainloader):\n",
        "                    x, y = samples\n",
        "                    x = x.view(-1, IMG_CHANNELS, IMG_SIZE, IMG_SIZE)\n",
        "                    x = x.to(device)\n",
        "                    y = y.to(device)\n",
        "\n",
        "                    la = y[:, 0]\n",
        "                    lb = y[:, 1]\n",
        "                    ly = y[:, 2]\n",
        "                    ld = y[:, 3]\n",
        "\n",
        "                    a, b, xy, d = net(x)\n",
        "                    loss = weighted_MSE(a, b, xy, d, la, lb, ly, ld, weight)\n",
        "                    net.zero_grad()\n",
        "                    loss.backward()\n",
        "                    optimizer.step()\n",
        "                    train_losses.append(loss.item())\n",
        "\n",
        "                net.eval()\n",
        "                for batch_idx, samples in enumerate(valloader):\n",
        "                    x, y = samples\n",
        "                    x = x.view(-1, IMG_CHANNELS, IMG_SIZE, IMG_SIZE)\n",
        "                    x = x.to(device)\n",
        "                    y = y.to(device)\n",
        "\n",
        "                    la = y[:, 0]\n",
        "                    lb = y[:, 1]\n",
        "                    ly = y[:, 2]\n",
        "                    ld = y[:, 3]\n",
        "\n",
        "                    a, b, xy, d = net(x)\n",
        "                    loss = weighted_MSE(a, b, xy, d, la, lb, ly, ld, weight)\n",
        "                    val_losses.append(loss.item())\n",
        "\n",
        "                train_loss = np.average(train_losses)\n",
        "                valid_loss = np.average(val_losses)\n",
        "                avg_train_losses.append(train_loss)\n",
        "                avg_val_losses.append(valid_loss)\n",
        "                \n",
        "\n",
        "                train_losses = []\n",
        "                val_losses = []\n",
        "\n",
        "\n",
        "                f.write(f\"{MODEL_NAME},{round(time.time(), 3)},  {round(float(train_loss), 4)},  {round(float(valid_loss),4)}\\n\")\n",
        "                print(\"\\nloss : \", train_loss, \"val loss : \", valid_loss, \"\\n\")\n",
        "                \n",
        "                early_stopping(valid_loss, net)\n",
        "                \n",
        "                if early_stopping.early_stop:\n",
        "                    print(\"Early stopping\")\n",
        "                    break\n",
        "        # load the last checkpoint with the best model\n",
        "        net.load_state_dict(torch.load('checkpoint.pt'))\n",
        "        \n",
        "        return avg_train_losses, avg_val_losses"
      ],
      "execution_count": 0,
      "outputs": []
    },
    {
      "cell_type": "code",
      "metadata": {
        "id": "k-b0iI2R1IKD",
        "colab_type": "code",
        "colab": {}
      },
      "source": [
        "net = Net()\n",
        "#print(net)\n"
      ],
      "execution_count": 0,
      "outputs": []
    },
    {
      "cell_type": "code",
      "metadata": {
        "id": "bvZa0kBaTqAL",
        "colab_type": "code",
        "outputId": "8a79f378-d459-48c3-e066-2df148f421af",
        "colab": {
          "base_uri": "https://localhost:8080/",
          "height": 1000
        }
      },
      "source": [
        "net.to(device)\n",
        "train_loss, valid_loss = train(net, MODEL_NAME, PATIENCE, VALIDATE_EVERY)"
      ],
      "execution_count": 129,
      "outputs": [
        {
          "output_type": "stream",
          "text": [
            "\n",
            "\n",
            "  0%|          | 0/1000 [00:00<?, ?it/s]\u001b[A\u001b[A\n",
            "\n",
            "  0%|          | 1/1000 [00:00<06:03,  2.75it/s]\u001b[A\u001b[A"
          ],
          "name": "stderr"
        },
        {
          "output_type": "stream",
          "text": [
            "\n",
            "loss :  1194.4697241210938 val loss :  1165.1645678710938 \n",
            "\n",
            "Validation loss decreased (inf --> 1165.164568).  Saving model ...\n"
          ],
          "name": "stdout"
        },
        {
          "output_type": "stream",
          "text": [
            "\n",
            "\n",
            "  0%|          | 2/1000 [00:00<06:00,  2.77it/s]\u001b[A\u001b[A"
          ],
          "name": "stderr"
        },
        {
          "output_type": "stream",
          "text": [
            "\n",
            "loss :  1194.4160400390624 val loss :  1165.1015747070312 \n",
            "\n",
            "Validation loss decreased (1165.164568 --> 1165.101575).  Saving model ...\n"
          ],
          "name": "stdout"
        },
        {
          "output_type": "stream",
          "text": [
            "\n",
            "\n",
            "  0%|          | 3/1000 [00:01<05:56,  2.80it/s]\u001b[A\u001b[A"
          ],
          "name": "stderr"
        },
        {
          "output_type": "stream",
          "text": [
            "\n",
            "loss :  1194.3124926757812 val loss :  1165.037451171875 \n",
            "\n",
            "Validation loss decreased (1165.101575 --> 1165.037451).  Saving model ...\n"
          ],
          "name": "stdout"
        },
        {
          "output_type": "stream",
          "text": [
            "\n",
            "\n",
            "  0%|          | 4/1000 [00:01<05:57,  2.78it/s]\u001b[A\u001b[A"
          ],
          "name": "stderr"
        },
        {
          "output_type": "stream",
          "text": [
            "\n",
            "loss :  1194.2593505859375 val loss :  1164.9712133789062 \n",
            "\n",
            "Validation loss decreased (1165.037451 --> 1164.971213).  Saving model ...\n"
          ],
          "name": "stdout"
        },
        {
          "output_type": "stream",
          "text": [
            "\n",
            "\n",
            "  0%|          | 5/1000 [00:01<05:53,  2.81it/s]\u001b[A\u001b[A"
          ],
          "name": "stderr"
        },
        {
          "output_type": "stream",
          "text": [
            "\n",
            "loss :  1194.1937719726564 val loss :  1164.8998828125 \n",
            "\n",
            "Validation loss decreased (1164.971213 --> 1164.899883).  Saving model ...\n"
          ],
          "name": "stdout"
        },
        {
          "output_type": "stream",
          "text": [
            "\n",
            "\n",
            "  1%|          | 6/1000 [00:02<05:54,  2.81it/s]\u001b[A\u001b[A"
          ],
          "name": "stderr"
        },
        {
          "output_type": "stream",
          "text": [
            "\n",
            "loss :  1194.0823950195313 val loss :  1164.8205322265626 \n",
            "\n",
            "Validation loss decreased (1164.899883 --> 1164.820532).  Saving model ...\n"
          ],
          "name": "stdout"
        },
        {
          "output_type": "stream",
          "text": [
            "\n",
            "\n",
            "  1%|          | 7/1000 [00:02<05:55,  2.79it/s]\u001b[A\u001b[A"
          ],
          "name": "stderr"
        },
        {
          "output_type": "stream",
          "text": [
            "\n",
            "loss :  1194.0193310546874 val loss :  1164.73068359375 \n",
            "\n",
            "Validation loss decreased (1164.820532 --> 1164.730684).  Saving model ...\n"
          ],
          "name": "stdout"
        },
        {
          "output_type": "stream",
          "text": [
            "\n",
            "\n",
            "  1%|          | 8/1000 [00:02<06:01,  2.74it/s]\u001b[A\u001b[A"
          ],
          "name": "stderr"
        },
        {
          "output_type": "stream",
          "text": [
            "\n",
            "loss :  1193.8955224609374 val loss :  1164.624091796875 \n",
            "\n",
            "Validation loss decreased (1164.730684 --> 1164.624092).  Saving model ...\n"
          ],
          "name": "stdout"
        },
        {
          "output_type": "stream",
          "text": [
            "\n",
            "\n",
            "  1%|          | 9/1000 [00:03<05:59,  2.75it/s]\u001b[A\u001b[A"
          ],
          "name": "stderr"
        },
        {
          "output_type": "stream",
          "text": [
            "\n",
            "loss :  1193.7267529296876 val loss :  1164.4858911132812 \n",
            "\n",
            "Validation loss decreased (1164.624092 --> 1164.485891).  Saving model ...\n"
          ],
          "name": "stdout"
        },
        {
          "output_type": "stream",
          "text": [
            "\n",
            "\n",
            "  1%|          | 10/1000 [00:03<05:56,  2.78it/s]\u001b[A\u001b[A"
          ],
          "name": "stderr"
        },
        {
          "output_type": "stream",
          "text": [
            "\n",
            "loss :  1193.5598193359374 val loss :  1164.2869873046875 \n",
            "\n",
            "Validation loss decreased (1164.485891 --> 1164.286987).  Saving model ...\n"
          ],
          "name": "stdout"
        },
        {
          "output_type": "stream",
          "text": [
            "\n",
            "\n",
            "  1%|          | 11/1000 [00:03<06:03,  2.72it/s]\u001b[A\u001b[A"
          ],
          "name": "stderr"
        },
        {
          "output_type": "stream",
          "text": [
            "\n",
            "loss :  1193.219931640625 val loss :  1163.9687768554688 \n",
            "\n",
            "Validation loss decreased (1164.286987 --> 1163.968777).  Saving model ...\n"
          ],
          "name": "stdout"
        },
        {
          "output_type": "stream",
          "text": [
            "\n",
            "\n",
            "  1%|          | 12/1000 [00:04<05:59,  2.75it/s]\u001b[A\u001b[A"
          ],
          "name": "stderr"
        },
        {
          "output_type": "stream",
          "text": [
            "\n",
            "loss :  1192.709560546875 val loss :  1163.438994140625 \n",
            "\n",
            "Validation loss decreased (1163.968777 --> 1163.438994).  Saving model ...\n"
          ],
          "name": "stdout"
        },
        {
          "output_type": "stream",
          "text": [
            "\n",
            "\n",
            "  1%|▏         | 13/1000 [00:04<05:54,  2.78it/s]\u001b[A\u001b[A"
          ],
          "name": "stderr"
        },
        {
          "output_type": "stream",
          "text": [
            "\n",
            "loss :  1191.704873046875 val loss :  1162.5055078125 \n",
            "\n",
            "Validation loss decreased (1163.438994 --> 1162.505508).  Saving model ...\n"
          ],
          "name": "stdout"
        },
        {
          "output_type": "stream",
          "text": [
            "\n",
            "\n",
            "  1%|▏         | 14/1000 [00:05<05:51,  2.81it/s]\u001b[A\u001b[A"
          ],
          "name": "stderr"
        },
        {
          "output_type": "stream",
          "text": [
            "\n",
            "loss :  1190.4747387695313 val loss :  1161.0172119140625 \n",
            "\n",
            "Validation loss decreased (1162.505508 --> 1161.017212).  Saving model ...\n"
          ],
          "name": "stdout"
        },
        {
          "output_type": "stream",
          "text": [
            "\n",
            "\n",
            "  2%|▏         | 15/1000 [00:05<05:49,  2.82it/s]\u001b[A\u001b[A"
          ],
          "name": "stderr"
        },
        {
          "output_type": "stream",
          "text": [
            "\n",
            "loss :  1188.4482983398439 val loss :  1158.9153002929688 \n",
            "\n",
            "Validation loss decreased (1161.017212 --> 1158.915300).  Saving model ...\n"
          ],
          "name": "stdout"
        },
        {
          "output_type": "stream",
          "text": [
            "\n",
            "\n",
            "  2%|▏         | 16/1000 [00:05<05:55,  2.77it/s]\u001b[A\u001b[A"
          ],
          "name": "stderr"
        },
        {
          "output_type": "stream",
          "text": [
            "\n",
            "loss :  1186.2212915039063 val loss :  1156.2648095703125 \n",
            "\n",
            "Validation loss decreased (1158.915300 --> 1156.264810).  Saving model ...\n"
          ],
          "name": "stdout"
        },
        {
          "output_type": "stream",
          "text": [
            "\n",
            "\n",
            "  2%|▏         | 17/1000 [00:06<05:54,  2.77it/s]\u001b[A\u001b[A"
          ],
          "name": "stderr"
        },
        {
          "output_type": "stream",
          "text": [
            "\n",
            "loss :  1182.085517578125 val loss :  1151.8526000976562 \n",
            "\n",
            "Validation loss decreased (1156.264810 --> 1151.852600).  Saving model ...\n"
          ],
          "name": "stdout"
        },
        {
          "output_type": "stream",
          "text": [
            "\n",
            "\n",
            "  2%|▏         | 18/1000 [00:06<05:49,  2.81it/s]\u001b[A\u001b[A"
          ],
          "name": "stderr"
        },
        {
          "output_type": "stream",
          "text": [
            "\n",
            "loss :  1175.295498046875 val loss :  1143.9585961914063 \n",
            "\n",
            "Validation loss decreased (1151.852600 --> 1143.958596).  Saving model ...\n"
          ],
          "name": "stdout"
        },
        {
          "output_type": "stream",
          "text": [
            "\n",
            "\n",
            "  2%|▏         | 19/1000 [00:06<05:46,  2.83it/s]\u001b[A\u001b[A"
          ],
          "name": "stderr"
        },
        {
          "output_type": "stream",
          "text": [
            "\n",
            "loss :  1163.5247631835937 val loss :  1130.0368701171874 \n",
            "\n",
            "Validation loss decreased (1143.958596 --> 1130.036870).  Saving model ...\n"
          ],
          "name": "stdout"
        },
        {
          "output_type": "stream",
          "text": [
            "\n",
            "\n",
            "  2%|▏         | 20/1000 [00:07<05:45,  2.84it/s]\u001b[A\u001b[A"
          ],
          "name": "stderr"
        },
        {
          "output_type": "stream",
          "text": [
            "\n",
            "loss :  1141.5404052734375 val loss :  1105.6070532226563 \n",
            "\n",
            "Validation loss decreased (1130.036870 --> 1105.607053).  Saving model ...\n"
          ],
          "name": "stdout"
        },
        {
          "output_type": "stream",
          "text": [
            "\n",
            "\n",
            "  2%|▏         | 21/1000 [00:07<05:45,  2.83it/s]\u001b[A\u001b[A"
          ],
          "name": "stderr"
        },
        {
          "output_type": "stream",
          "text": [
            "\n",
            "loss :  1103.0222973632813 val loss :  1063.2176098632813 \n",
            "\n",
            "Validation loss decreased (1105.607053 --> 1063.217610).  Saving model ...\n"
          ],
          "name": "stdout"
        },
        {
          "output_type": "stream",
          "text": [
            "\n",
            "\n",
            "  2%|▏         | 22/1000 [00:07<05:43,  2.85it/s]\u001b[A\u001b[A"
          ],
          "name": "stderr"
        },
        {
          "output_type": "stream",
          "text": [
            "\n",
            "loss :  1041.06494140625 val loss :  993.31857421875 \n",
            "\n",
            "Validation loss decreased (1063.217610 --> 993.318574).  Saving model ...\n"
          ],
          "name": "stdout"
        },
        {
          "output_type": "stream",
          "text": [
            "\n",
            "\n",
            "  2%|▏         | 23/1000 [00:08<05:46,  2.82it/s]\u001b[A\u001b[A"
          ],
          "name": "stderr"
        },
        {
          "output_type": "stream",
          "text": [
            "\n",
            "loss :  948.2819970703125 val loss :  888.1055517578125 \n",
            "\n",
            "Validation loss decreased (993.318574 --> 888.105552).  Saving model ...\n"
          ],
          "name": "stdout"
        },
        {
          "output_type": "stream",
          "text": [
            "\n",
            "\n",
            "  2%|▏         | 24/1000 [00:08<05:51,  2.78it/s]\u001b[A\u001b[A"
          ],
          "name": "stderr"
        },
        {
          "output_type": "stream",
          "text": [
            "\n",
            "loss :  816.1975207519531 val loss :  752.3715759277344 \n",
            "\n",
            "Validation loss decreased (888.105552 --> 752.371576).  Saving model ...\n"
          ],
          "name": "stdout"
        },
        {
          "output_type": "stream",
          "text": [
            "\n",
            "\n",
            "  2%|▎         | 25/1000 [00:08<05:48,  2.80it/s]\u001b[A\u001b[A"
          ],
          "name": "stderr"
        },
        {
          "output_type": "stream",
          "text": [
            "\n",
            "loss :  683.9195471191406 val loss :  624.8888671875 \n",
            "\n",
            "Validation loss decreased (752.371576 --> 624.888867).  Saving model ...\n"
          ],
          "name": "stdout"
        },
        {
          "output_type": "stream",
          "text": [
            "\n",
            "\n",
            "  3%|▎         | 26/1000 [00:09<05:49,  2.79it/s]\u001b[A\u001b[A"
          ],
          "name": "stderr"
        },
        {
          "output_type": "stream",
          "text": [
            "\n",
            "loss :  617.2556188964844 val loss :  557.9100622558594 \n",
            "\n",
            "Validation loss decreased (624.888867 --> 557.910062).  Saving model ...\n"
          ],
          "name": "stdout"
        },
        {
          "output_type": "stream",
          "text": [
            "\n",
            "\n",
            "  3%|▎         | 27/1000 [00:09<05:46,  2.81it/s]\u001b[A\u001b[A"
          ],
          "name": "stderr"
        },
        {
          "output_type": "stream",
          "text": [
            "\n",
            "loss :  586.9693603515625 val loss :  537.7936108398437 \n",
            "\n",
            "Validation loss decreased (557.910062 --> 537.793611).  Saving model ...\n"
          ],
          "name": "stdout"
        },
        {
          "output_type": "stream",
          "text": [
            "\n",
            "\n",
            "  3%|▎         | 28/1000 [00:10<05:45,  2.82it/s]\u001b[A\u001b[A"
          ],
          "name": "stderr"
        },
        {
          "output_type": "stream",
          "text": [
            "\n",
            "loss :  587.8790600585937 val loss :  532.97138671875 \n",
            "\n",
            "Validation loss decreased (537.793611 --> 532.971387).  Saving model ...\n"
          ],
          "name": "stdout"
        },
        {
          "output_type": "stream",
          "text": [
            "\n",
            "\n",
            "  3%|▎         | 29/1000 [00:10<05:40,  2.85it/s]\u001b[A\u001b[A"
          ],
          "name": "stderr"
        },
        {
          "output_type": "stream",
          "text": [
            "\n",
            "loss :  573.6670983886719 val loss :  533.8127337646484 \n",
            "\n",
            "EarlyStopping counter: 1 out of 13\n"
          ],
          "name": "stdout"
        },
        {
          "output_type": "stream",
          "text": [
            "\n",
            "\n",
            "  3%|▎         | 30/1000 [00:10<05:44,  2.81it/s]\u001b[A\u001b[A"
          ],
          "name": "stderr"
        },
        {
          "output_type": "stream",
          "text": [
            "\n",
            "loss :  570.9320825195313 val loss :  531.7490954589844 \n",
            "\n",
            "Validation loss decreased (532.971387 --> 531.749095).  Saving model ...\n"
          ],
          "name": "stdout"
        },
        {
          "output_type": "stream",
          "text": [
            "\n",
            "\n",
            "  3%|▎         | 31/1000 [00:11<05:43,  2.82it/s]\u001b[A\u001b[A"
          ],
          "name": "stderr"
        },
        {
          "output_type": "stream",
          "text": [
            "\n",
            "loss :  573.7904858398438 val loss :  526.4539697265625 \n",
            "\n",
            "Validation loss decreased (531.749095 --> 526.453970).  Saving model ...\n"
          ],
          "name": "stdout"
        },
        {
          "output_type": "stream",
          "text": [
            "\n",
            "\n",
            "  3%|▎         | 32/1000 [00:11<05:44,  2.81it/s]\u001b[A\u001b[A"
          ],
          "name": "stderr"
        },
        {
          "output_type": "stream",
          "text": [
            "\n",
            "loss :  557.1065747070312 val loss :  524.9452966308594 \n",
            "\n",
            "Validation loss decreased (526.453970 --> 524.945297).  Saving model ...\n"
          ],
          "name": "stdout"
        },
        {
          "output_type": "stream",
          "text": [
            "\n",
            "\n",
            "  3%|▎         | 33/1000 [00:11<05:42,  2.82it/s]\u001b[A\u001b[A"
          ],
          "name": "stderr"
        },
        {
          "output_type": "stream",
          "text": [
            "\n",
            "loss :  563.65736328125 val loss :  521.3836865234375 \n",
            "\n",
            "Validation loss decreased (524.945297 --> 521.383687).  Saving model ...\n"
          ],
          "name": "stdout"
        },
        {
          "output_type": "stream",
          "text": [
            "\n",
            "\n",
            "  3%|▎         | 34/1000 [00:12<05:36,  2.87it/s]\u001b[A\u001b[A"
          ],
          "name": "stderr"
        },
        {
          "output_type": "stream",
          "text": [
            "\n",
            "loss :  554.3340612792969 val loss :  522.7077465820313 \n",
            "\n",
            "EarlyStopping counter: 1 out of 13\n"
          ],
          "name": "stdout"
        },
        {
          "output_type": "stream",
          "text": [
            "\n",
            "\n",
            "  4%|▎         | 35/1000 [00:12<05:33,  2.89it/s]\u001b[A\u001b[A"
          ],
          "name": "stderr"
        },
        {
          "output_type": "stream",
          "text": [
            "\n",
            "loss :  552.9374719238281 val loss :  524.4075622558594 \n",
            "\n",
            "EarlyStopping counter: 2 out of 13\n"
          ],
          "name": "stdout"
        },
        {
          "output_type": "stream",
          "text": [
            "\n",
            "\n",
            "  4%|▎         | 36/1000 [00:12<05:30,  2.92it/s]\u001b[A\u001b[A"
          ],
          "name": "stderr"
        },
        {
          "output_type": "stream",
          "text": [
            "\n",
            "loss :  555.5488256835938 val loss :  522.5240466308594 \n",
            "\n",
            "EarlyStopping counter: 3 out of 13\n"
          ],
          "name": "stdout"
        },
        {
          "output_type": "stream",
          "text": [
            "\n",
            "\n",
            "  4%|▎         | 37/1000 [00:13<05:29,  2.92it/s]\u001b[A\u001b[A"
          ],
          "name": "stderr"
        },
        {
          "output_type": "stream",
          "text": [
            "\n",
            "loss :  565.7826928710938 val loss :  521.523804321289 \n",
            "\n",
            "EarlyStopping counter: 4 out of 13\n"
          ],
          "name": "stdout"
        },
        {
          "output_type": "stream",
          "text": [
            "\n",
            "\n",
            "  4%|▍         | 38/1000 [00:13<05:31,  2.90it/s]\u001b[A\u001b[A"
          ],
          "name": "stderr"
        },
        {
          "output_type": "stream",
          "text": [
            "\n",
            "loss :  551.6069848632812 val loss :  518.5020812988281 \n",
            "\n",
            "Validation loss decreased (521.383687 --> 518.502081).  Saving model ...\n"
          ],
          "name": "stdout"
        },
        {
          "output_type": "stream",
          "text": [
            "\n",
            "\n",
            "  4%|▍         | 39/1000 [00:13<05:29,  2.92it/s]\u001b[A\u001b[A"
          ],
          "name": "stderr"
        },
        {
          "output_type": "stream",
          "text": [
            "\n",
            "loss :  554.9170666503907 val loss :  518.8356677246094 \n",
            "\n",
            "EarlyStopping counter: 1 out of 13\n"
          ],
          "name": "stdout"
        },
        {
          "output_type": "stream",
          "text": [
            "\n",
            "\n",
            "  4%|▍         | 40/1000 [00:14<05:34,  2.87it/s]\u001b[A\u001b[A"
          ],
          "name": "stderr"
        },
        {
          "output_type": "stream",
          "text": [
            "\n",
            "loss :  552.700029296875 val loss :  518.3352722167969 \n",
            "\n",
            "Validation loss decreased (518.502081 --> 518.335272).  Saving model ...\n"
          ],
          "name": "stdout"
        },
        {
          "output_type": "stream",
          "text": [
            "\n",
            "\n",
            "  4%|▍         | 41/1000 [00:14<05:32,  2.89it/s]\u001b[A\u001b[A"
          ],
          "name": "stderr"
        },
        {
          "output_type": "stream",
          "text": [
            "\n",
            "loss :  547.58416015625 val loss :  518.3928100585938 \n",
            "\n",
            "EarlyStopping counter: 1 out of 13\n"
          ],
          "name": "stdout"
        },
        {
          "output_type": "stream",
          "text": [
            "\n",
            "\n",
            "  4%|▍         | 42/1000 [00:14<05:28,  2.91it/s]\u001b[A\u001b[A"
          ],
          "name": "stderr"
        },
        {
          "output_type": "stream",
          "text": [
            "\n",
            "loss :  554.6683605957031 val loss :  518.8611584472657 \n",
            "\n",
            "EarlyStopping counter: 2 out of 13\n"
          ],
          "name": "stdout"
        },
        {
          "output_type": "stream",
          "text": [
            "\n",
            "\n",
            "  4%|▍         | 43/1000 [00:15<05:32,  2.88it/s]\u001b[A\u001b[A"
          ],
          "name": "stderr"
        },
        {
          "output_type": "stream",
          "text": [
            "\n",
            "loss :  540.6627087402344 val loss :  515.6119006347657 \n",
            "\n",
            "Validation loss decreased (518.335272 --> 515.611901).  Saving model ...\n"
          ],
          "name": "stdout"
        },
        {
          "output_type": "stream",
          "text": [
            "\n",
            "\n",
            "  4%|▍         | 44/1000 [00:15<05:29,  2.90it/s]\u001b[A\u001b[A"
          ],
          "name": "stderr"
        },
        {
          "output_type": "stream",
          "text": [
            "\n",
            "loss :  552.2952526855469 val loss :  516.7684594726562 \n",
            "\n",
            "EarlyStopping counter: 1 out of 13\n"
          ],
          "name": "stdout"
        },
        {
          "output_type": "stream",
          "text": [
            "\n",
            "\n",
            "  4%|▍         | 45/1000 [00:15<05:32,  2.87it/s]\u001b[A\u001b[A"
          ],
          "name": "stderr"
        },
        {
          "output_type": "stream",
          "text": [
            "\n",
            "loss :  551.0705139160157 val loss :  515.0280883789062 \n",
            "\n",
            "Validation loss decreased (515.611901 --> 515.028088).  Saving model ...\n"
          ],
          "name": "stdout"
        },
        {
          "output_type": "stream",
          "text": [
            "\n",
            "\n",
            "  5%|▍         | 46/1000 [00:16<05:35,  2.85it/s]\u001b[A\u001b[A"
          ],
          "name": "stderr"
        },
        {
          "output_type": "stream",
          "text": [
            "\n",
            "loss :  550.7955358886719 val loss :  515.8298266601563 \n",
            "\n",
            "EarlyStopping counter: 1 out of 13\n"
          ],
          "name": "stdout"
        },
        {
          "output_type": "stream",
          "text": [
            "\n",
            "\n",
            "  5%|▍         | 47/1000 [00:16<05:34,  2.85it/s]\u001b[A\u001b[A"
          ],
          "name": "stderr"
        },
        {
          "output_type": "stream",
          "text": [
            "\n",
            "loss :  540.8465881347656 val loss :  515.0507604980469 \n",
            "\n",
            "EarlyStopping counter: 2 out of 13\n"
          ],
          "name": "stdout"
        },
        {
          "output_type": "stream",
          "text": [
            "\n",
            "\n",
            "  5%|▍         | 48/1000 [00:16<05:33,  2.85it/s]\u001b[A\u001b[A"
          ],
          "name": "stderr"
        },
        {
          "output_type": "stream",
          "text": [
            "\n",
            "loss :  543.6744421386719 val loss :  512.2377136230468 \n",
            "\n",
            "Validation loss decreased (515.028088 --> 512.237714).  Saving model ...\n"
          ],
          "name": "stdout"
        },
        {
          "output_type": "stream",
          "text": [
            "\n",
            "\n",
            "  5%|▍         | 49/1000 [00:17<05:29,  2.89it/s]\u001b[A\u001b[A"
          ],
          "name": "stderr"
        },
        {
          "output_type": "stream",
          "text": [
            "\n",
            "loss :  551.0777697753906 val loss :  513.3579406738281 \n",
            "\n",
            "EarlyStopping counter: 1 out of 13\n"
          ],
          "name": "stdout"
        },
        {
          "output_type": "stream",
          "text": [
            "\n",
            "\n",
            "  5%|▌         | 50/1000 [00:17<05:32,  2.85it/s]\u001b[A\u001b[A"
          ],
          "name": "stderr"
        },
        {
          "output_type": "stream",
          "text": [
            "\n",
            "loss :  542.1395422363281 val loss :  512.0310009765625 \n",
            "\n",
            "Validation loss decreased (512.237714 --> 512.031001).  Saving model ...\n"
          ],
          "name": "stdout"
        },
        {
          "output_type": "stream",
          "text": [
            "\n",
            "\n",
            "  5%|▌         | 51/1000 [00:18<05:30,  2.87it/s]\u001b[A\u001b[A"
          ],
          "name": "stderr"
        },
        {
          "output_type": "stream",
          "text": [
            "\n",
            "loss :  533.4632312011719 val loss :  510.71203247070315 \n",
            "\n",
            "Validation loss decreased (512.031001 --> 510.712032).  Saving model ...\n"
          ],
          "name": "stdout"
        },
        {
          "output_type": "stream",
          "text": [
            "\n",
            "\n",
            "  5%|▌         | 52/1000 [00:18<05:26,  2.90it/s]\u001b[A\u001b[A"
          ],
          "name": "stderr"
        },
        {
          "output_type": "stream",
          "text": [
            "\n",
            "loss :  540.8903930664062 val loss :  511.4566455078125 \n",
            "\n",
            "EarlyStopping counter: 1 out of 13\n"
          ],
          "name": "stdout"
        },
        {
          "output_type": "error",
          "ename": "KeyboardInterrupt",
          "evalue": "ignored",
          "traceback": [
            "\u001b[0;31m---------------------------------------------------------------------------\u001b[0m",
            "\u001b[0;31mKeyboardInterrupt\u001b[0m                         Traceback (most recent call last)",
            "\u001b[0;32m<ipython-input-129-829e6c50b973>\u001b[0m in \u001b[0;36m<module>\u001b[0;34m()\u001b[0m\n\u001b[1;32m      1\u001b[0m \u001b[0mnet\u001b[0m\u001b[0;34m.\u001b[0m\u001b[0mto\u001b[0m\u001b[0;34m(\u001b[0m\u001b[0mdevice\u001b[0m\u001b[0;34m)\u001b[0m\u001b[0;34m\u001b[0m\u001b[0;34m\u001b[0m\u001b[0m\n\u001b[0;32m----> 2\u001b[0;31m \u001b[0mtrain_loss\u001b[0m\u001b[0;34m,\u001b[0m \u001b[0mvalid_loss\u001b[0m \u001b[0;34m=\u001b[0m \u001b[0mtrain\u001b[0m\u001b[0;34m(\u001b[0m\u001b[0mnet\u001b[0m\u001b[0;34m,\u001b[0m \u001b[0mMODEL_NAME\u001b[0m\u001b[0;34m,\u001b[0m \u001b[0mPATIENCE\u001b[0m\u001b[0;34m,\u001b[0m \u001b[0mVALIDATE_EVERY\u001b[0m\u001b[0;34m)\u001b[0m\u001b[0;34m\u001b[0m\u001b[0;34m\u001b[0m\u001b[0m\n\u001b[0m",
            "\u001b[0;32m<ipython-input-127-29bdb834a333>\u001b[0m in \u001b[0;36mtrain\u001b[0;34m(net, model_name, patience, validate_every)\u001b[0m\n\u001b[1;32m     31\u001b[0m                     \u001b[0mloss\u001b[0m \u001b[0;34m=\u001b[0m \u001b[0mweighted_MSE\u001b[0m\u001b[0;34m(\u001b[0m\u001b[0ma\u001b[0m\u001b[0;34m,\u001b[0m \u001b[0mb\u001b[0m\u001b[0;34m,\u001b[0m \u001b[0mxy\u001b[0m\u001b[0;34m,\u001b[0m \u001b[0md\u001b[0m\u001b[0;34m,\u001b[0m \u001b[0mla\u001b[0m\u001b[0;34m,\u001b[0m \u001b[0mlb\u001b[0m\u001b[0;34m,\u001b[0m \u001b[0mly\u001b[0m\u001b[0;34m,\u001b[0m \u001b[0mld\u001b[0m\u001b[0;34m,\u001b[0m \u001b[0mweight\u001b[0m\u001b[0;34m)\u001b[0m\u001b[0;34m\u001b[0m\u001b[0;34m\u001b[0m\u001b[0m\n\u001b[1;32m     32\u001b[0m                     \u001b[0mnet\u001b[0m\u001b[0;34m.\u001b[0m\u001b[0mzero_grad\u001b[0m\u001b[0;34m(\u001b[0m\u001b[0;34m)\u001b[0m\u001b[0;34m\u001b[0m\u001b[0;34m\u001b[0m\u001b[0m\n\u001b[0;32m---> 33\u001b[0;31m                     \u001b[0mloss\u001b[0m\u001b[0;34m.\u001b[0m\u001b[0mbackward\u001b[0m\u001b[0;34m(\u001b[0m\u001b[0;34m)\u001b[0m\u001b[0;34m\u001b[0m\u001b[0;34m\u001b[0m\u001b[0m\n\u001b[0m\u001b[1;32m     34\u001b[0m                     \u001b[0moptimizer\u001b[0m\u001b[0;34m.\u001b[0m\u001b[0mstep\u001b[0m\u001b[0;34m(\u001b[0m\u001b[0;34m)\u001b[0m\u001b[0;34m\u001b[0m\u001b[0;34m\u001b[0m\u001b[0m\n\u001b[1;32m     35\u001b[0m                     \u001b[0mtrain_losses\u001b[0m\u001b[0;34m.\u001b[0m\u001b[0mappend\u001b[0m\u001b[0;34m(\u001b[0m\u001b[0mloss\u001b[0m\u001b[0;34m.\u001b[0m\u001b[0mitem\u001b[0m\u001b[0;34m(\u001b[0m\u001b[0;34m)\u001b[0m\u001b[0;34m)\u001b[0m\u001b[0;34m\u001b[0m\u001b[0;34m\u001b[0m\u001b[0m\n",
            "\u001b[0;32m/usr/local/lib/python3.6/dist-packages/torch/tensor.py\u001b[0m in \u001b[0;36mbackward\u001b[0;34m(self, gradient, retain_graph, create_graph)\u001b[0m\n\u001b[1;32m    193\u001b[0m                 \u001b[0mproducts\u001b[0m\u001b[0;34m.\u001b[0m \u001b[0mDefaults\u001b[0m \u001b[0mto\u001b[0m\u001b[0;31m \u001b[0m\u001b[0;31m`\u001b[0m\u001b[0;31m`\u001b[0m\u001b[0;32mFalse\u001b[0m\u001b[0;31m`\u001b[0m\u001b[0;31m`\u001b[0m\u001b[0;34m.\u001b[0m\u001b[0;34m\u001b[0m\u001b[0;34m\u001b[0m\u001b[0m\n\u001b[1;32m    194\u001b[0m         \"\"\"\n\u001b[0;32m--> 195\u001b[0;31m         \u001b[0mtorch\u001b[0m\u001b[0;34m.\u001b[0m\u001b[0mautograd\u001b[0m\u001b[0;34m.\u001b[0m\u001b[0mbackward\u001b[0m\u001b[0;34m(\u001b[0m\u001b[0mself\u001b[0m\u001b[0;34m,\u001b[0m \u001b[0mgradient\u001b[0m\u001b[0;34m,\u001b[0m \u001b[0mretain_graph\u001b[0m\u001b[0;34m,\u001b[0m \u001b[0mcreate_graph\u001b[0m\u001b[0;34m)\u001b[0m\u001b[0;34m\u001b[0m\u001b[0;34m\u001b[0m\u001b[0m\n\u001b[0m\u001b[1;32m    196\u001b[0m \u001b[0;34m\u001b[0m\u001b[0m\n\u001b[1;32m    197\u001b[0m     \u001b[0;32mdef\u001b[0m \u001b[0mregister_hook\u001b[0m\u001b[0;34m(\u001b[0m\u001b[0mself\u001b[0m\u001b[0;34m,\u001b[0m \u001b[0mhook\u001b[0m\u001b[0;34m)\u001b[0m\u001b[0;34m:\u001b[0m\u001b[0;34m\u001b[0m\u001b[0;34m\u001b[0m\u001b[0m\n",
            "\u001b[0;32m/usr/local/lib/python3.6/dist-packages/torch/autograd/__init__.py\u001b[0m in \u001b[0;36mbackward\u001b[0;34m(tensors, grad_tensors, retain_graph, create_graph, grad_variables)\u001b[0m\n\u001b[1;32m     97\u001b[0m     Variable._execution_engine.run_backward(\n\u001b[1;32m     98\u001b[0m         \u001b[0mtensors\u001b[0m\u001b[0;34m,\u001b[0m \u001b[0mgrad_tensors\u001b[0m\u001b[0;34m,\u001b[0m \u001b[0mretain_graph\u001b[0m\u001b[0;34m,\u001b[0m \u001b[0mcreate_graph\u001b[0m\u001b[0;34m,\u001b[0m\u001b[0;34m\u001b[0m\u001b[0;34m\u001b[0m\u001b[0m\n\u001b[0;32m---> 99\u001b[0;31m         allow_unreachable=True)  # allow_unreachable flag\n\u001b[0m\u001b[1;32m    100\u001b[0m \u001b[0;34m\u001b[0m\u001b[0m\n\u001b[1;32m    101\u001b[0m \u001b[0;34m\u001b[0m\u001b[0m\n",
            "\u001b[0;31mKeyboardInterrupt\u001b[0m: "
          ]
        }
      ]
    },
    {
      "cell_type": "code",
      "metadata": {
        "id": "0YugWGXc1Jy6",
        "colab_type": "code",
        "outputId": "e4c193e4-c19b-4af4-9309-845546122dab",
        "colab": {
          "base_uri": "https://localhost:8080/",
          "height": 585
        }
      },
      "source": [
        "# visualize the loss as the network trained\n",
        "fig = plt.figure(figsize=(10,8))\n",
        "plt.plot(range(1,len(train_loss)+1),train_loss, label='Training Loss')\n",
        "plt.plot(range(1,len(valid_loss)+1),valid_loss,label='Validation Loss')\n",
        "\n",
        "# find position of lowest validation loss\n",
        "minposs = valid_loss.index(min(valid_loss))+1 \n",
        "plt.axvline(minposs, linestyle='--', color='r',label='Early Stopping Checkpoint')\n",
        "\n",
        "plt.xlabel('epochs')\n",
        "plt.ylabel('loss')\n",
        "plt.ylim(0, 100) # consistent scale\n",
        "plt.xlim(0, len(train_loss)+1) # consistent scale\n",
        "plt.grid(True)\n",
        "plt.legend()\n",
        "plt.tight_layout()\n",
        "plt.show()\n",
        "fig.savefig('loss_plot.png', bbox_inches='tight')"
      ],
      "execution_count": 130,
      "outputs": [
        {
          "output_type": "display_data",
          "data": {
            "image/png": "[encoded data removed]",
            "text/plain": [
              "<Figure size 720x576 with 1 Axes>"
            ]
          },
          "metadata": {
            "tags": [],
            "needs_background": "light"
          }
        }
      ]
    },
    {
      "cell_type": "code",
      "metadata": {
        "id": "Lbzek-ME1ML7",
        "colab_type": "code",
        "colab": {}
      },
      "source": [
        "def test(net):\n",
        "    predictions = []\n",
        "    with torch.no_grad():\n",
        "        for i, sample in enumerate(testloader):\n",
        "            predict = []\n",
        "            x ,y = sample\n",
        "            x = x.view(-1, IMG_CHANNELS, IMG_SIZE, IMG_SIZE)\n",
        "            \n",
        "            x = x.to(device)\n",
        "            y = y.to(device)\n",
        "            \n",
        "            a, b, xy, d = net(x)\n",
        "\n",
        "            #get class of a, b, d\n",
        "            #_, aa = a.max(1)\n",
        "            #_, bb = b.max(1)\n",
        "            #_, dd = d.max(1)\n",
        "\n",
        "            final_result = torch.cat([a, b, xy, d], dim = 1)\n",
        "            #print(final_result.shape)\n",
        "            #print(type(final_result))\n",
        "            final_result = final_result.to(\"cpu\")\n",
        "            predictions.append(final_result)\n",
        "            \n",
        "\n",
        "    #print(predictions)\n",
        "    #print()\n",
        "    #predictions = np.array(predictions)\n",
        "    #predictions = predictions.reshape(-1, OUTPUT_LABEL_SIZE)\n",
        "    df = DataFrame(predictions)\n",
        "    df.to_excel('predictions.xlsx', header=None)"
      ],
      "execution_count": 0,
      "outputs": []
    },
    {
      "cell_type": "code",
      "metadata": {
        "id": "M1WBAWnftkzr",
        "colab_type": "code",
        "colab": {}
      },
      "source": [
        "#for f in tqdm(os.listdir(TEST_PATH_LABEL)):\n",
        "#  path  = os.path.join(TEST_PATH_LABEL, f)\n",
        "# testset = DataCaller_Excel(path, IMG_SIZE)\n",
        "#  print(testset.__len__())\n",
        "#  testsets.append(testset)\n",
        "\n",
        "#testset = ConcatDataset(testsets)"
      ],
      "execution_count": 0,
      "outputs": []
    },
    {
      "cell_type": "code",
      "metadata": {
        "id": "xB9Ta8kV1Oay",
        "colab_type": "code",
        "colab": {}
      },
      "source": [
        "testloader = DataLoader(testset, batch_size=1, shuffle=False)\n",
        "trained_net = Net()\n",
        "trained_net.load_state_dict(torch.load('checkpoint.pt'))\n",
        "trained_net.to(device)\n",
        "trained_net.eval()\n",
        "test(trained_net)"
      ],
      "execution_count": 0,
      "outputs": []
    },
    {
      "cell_type": "code",
      "metadata": {
        "id": "TUGAIXy_1PnL",
        "colab_type": "code",
        "outputId": "4eac9e56-4ed5-4de8-a183-32fb330b9335",
        "colab": {
          "base_uri": "https://localhost:8080/",
          "height": 251
        }
      },
      "source": [
        "testloader = DataLoader(testset, batch_size=1, shuffle=False)\n",
        "#trained_net = Net()\n",
        "load_net.load_state_dict(torch.load(LOAD_PRETRAINED_PATH))\n",
        "load_net.to(device)\n",
        "load_net.eval()\n",
        "test(load_net)"
      ],
      "execution_count": 176,
      "outputs": [
        {
          "output_type": "error",
          "ename": "NameError",
          "evalue": "ignored",
          "traceback": [
            "\u001b[0;31m---------------------------------------------------------------------------\u001b[0m",
            "\u001b[0;31mNameError\u001b[0m                                 Traceback (most recent call last)",
            "\u001b[0;32m<ipython-input-176-72c7045d4cd4>\u001b[0m in \u001b[0;36m<module>\u001b[0;34m()\u001b[0m\n\u001b[1;32m      1\u001b[0m \u001b[0mtestloader\u001b[0m \u001b[0;34m=\u001b[0m \u001b[0mDataLoader\u001b[0m\u001b[0;34m(\u001b[0m\u001b[0mtestset\u001b[0m\u001b[0;34m,\u001b[0m \u001b[0mbatch_size\u001b[0m\u001b[0;34m=\u001b[0m\u001b[0;36m1\u001b[0m\u001b[0;34m,\u001b[0m \u001b[0mshuffle\u001b[0m\u001b[0;34m=\u001b[0m\u001b[0;32mFalse\u001b[0m\u001b[0;34m)\u001b[0m\u001b[0;34m\u001b[0m\u001b[0;34m\u001b[0m\u001b[0m\n\u001b[1;32m      2\u001b[0m \u001b[0;31m#trained_net = Net()\u001b[0m\u001b[0;34m\u001b[0m\u001b[0;34m\u001b[0m\u001b[0;34m\u001b[0m\u001b[0m\n\u001b[0;32m----> 3\u001b[0;31m \u001b[0mload_net\u001b[0m\u001b[0;34m.\u001b[0m\u001b[0mload_state_dict\u001b[0m\u001b[0;34m(\u001b[0m\u001b[0mtorch\u001b[0m\u001b[0;34m.\u001b[0m\u001b[0mload\u001b[0m\u001b[0;34m(\u001b[0m\u001b[0mLOAD_PRETRAINED_PATH\u001b[0m\u001b[0;34m)\u001b[0m\u001b[0;34m)\u001b[0m\u001b[0;34m\u001b[0m\u001b[0;34m\u001b[0m\u001b[0m\n\u001b[0m\u001b[1;32m      4\u001b[0m \u001b[0mload_net\u001b[0m\u001b[0;34m.\u001b[0m\u001b[0mto\u001b[0m\u001b[0;34m(\u001b[0m\u001b[0mdevice\u001b[0m\u001b[0;34m)\u001b[0m\u001b[0;34m\u001b[0m\u001b[0;34m\u001b[0m\u001b[0m\n\u001b[1;32m      5\u001b[0m \u001b[0mload_net\u001b[0m\u001b[0;34m.\u001b[0m\u001b[0meval\u001b[0m\u001b[0;34m(\u001b[0m\u001b[0;34m)\u001b[0m\u001b[0;34m\u001b[0m\u001b[0;34m\u001b[0m\u001b[0m\n",
            "\u001b[0;31mNameError\u001b[0m: name 'load_net' is not defined"
          ]
        }
      ]
    },
    {
      "cell_type": "code",
      "metadata": {
        "id": "BnCvX8R-LlSi",
        "colab_type": "code",
        "colab": {}
      },
      "source": [
        ""
      ],
      "execution_count": 0,
      "outputs": []
    }
  ]
}
{
  "nbformat": 4,
  "nbformat_minor": 0,
  "metadata": {
    "colab": {
      "name": "RM_USING_EXCEL.ipynb",
      "provenance": [],
      "collapsed_sections": [],
      "authorship_tag": "ABX9TyPAmZWd+1EzS8RqrBX2WDJZ",
      "include_colab_link": true
    },
    "kernelspec": {
      "name": "python3",
      "display_name": "Python 3"
    },
    "accelerator": "GPU"
  },
  "cells": [
    {
      "cell_type": "markdown",
      "metadata": {
        "id": "view-in-github",
        "colab_type": "text"
      },
      "source": [
        "<a href=\"https://colab.research.google.com/github/joey0320/reversemethod/blob/colabcodes/RM_USING_EXCEL.ipynb\" target=\"_parent\"><img src=\"https://colab.research.google.com/assets/colab-badge.svg\" alt=\"Open In Colab\"/></a>"
      ]
    },
    {
      "cell_type": "code",
      "metadata": {
        "id": "pJff_qD0zq3L",
        "colab_type": "code",
        "colab": {}
      },
      "source": [
        "#!git clone https://github.com/joey0320/reversemethod.git"
      ],
      "execution_count": 0,
      "outputs": []
    },
    {
      "cell_type": "code",
      "metadata": {
        "id": "QZPG-Fw9zs6U",
        "colab_type": "code",
        "colab": {}
      },
      "source": [
        "#!git clone https://github.com/joey0320/reversemethod.git"
      ],
      "execution_count": 0,
      "outputs": []
    },
    {
      "cell_type": "code",
      "metadata": {
        "id": "03J48aW0Reqs",
        "colab_type": "code",
        "outputId": "7332057f-23a5-4f32-d73c-fe253c0c63bb",
        "colab": {
          "base_uri": "https://localhost:8080/",
          "height": 311
        }
      },
      "source": [
        "gpu_info = !nvidia-smi\n",
        "gpu_info = '\\n'.join(gpu_info)\n",
        "if gpu_info.find('failed') >= 0:\n",
        "  print('Select the Runtime → \"Change runtime type\" menu to enable a GPU accelerator, ')\n",
        "  print('and then re-execute this cell.')\n",
        "else:\n",
        "  print(gpu_info)"
      ],
      "execution_count": 1,
      "outputs": [
        {
          "output_type": "stream",
          "text": [
            "Mon Apr 13 15:02:03 2020       \n",
            "+-----------------------------------------------------------------------------+\n",
            "| NVIDIA-SMI 440.64.00    Driver Version: 418.67       CUDA Version: 10.1     |\n",
            "|-------------------------------+----------------------+----------------------+\n",
            "| GPU  Name        Persistence-M| Bus-Id        Disp.A | Volatile Uncorr. ECC |\n",
            "| Fan  Temp  Perf  Pwr:Usage/Cap|         Memory-Usage | GPU-Util  Compute M. |\n",
            "|===============================+======================+======================|\n",
            "|   0  Tesla P100-PCIE...  Off  | 00000000:00:04.0 Off |                    0 |\n",
            "| N/A   35C    P0    25W / 250W |      0MiB / 16280MiB |      0%      Default |\n",
            "+-------------------------------+----------------------+----------------------+\n",
            "                                                                               \n",
            "+-----------------------------------------------------------------------------+\n",
            "| Processes:                                                       GPU Memory |\n",
            "|  GPU       PID   Type   Process name                             Usage      |\n",
            "|=============================================================================|\n",
            "|  No running processes found                                                 |\n",
            "+-----------------------------------------------------------------------------+\n"
          ],
          "name": "stdout"
        }
      ]
    },
    {
      "cell_type": "code",
      "metadata": {
        "id": "WB26ruGiz071",
        "colab_type": "code",
        "outputId": "9e419195-c90d-483e-a41f-f8d216ddf370",
        "colab": {
          "base_uri": "https://localhost:8080/",
          "height": 124
        }
      },
      "source": [
        "from google.colab import drive\n",
        "\n",
        "drive.mount('/content/gdrive')"
      ],
      "execution_count": 2,
      "outputs": [
        {
          "output_type": "stream",
          "text": [
            "Go to this URL in a browser: https://accounts.google.com/o/oauth2/auth?client_id=947318989803-6bn6qk8qdgf4n4g3pfee6491hc0brc4i.apps.googleusercontent.com&redirect_uri=urn%3aietf%3awg%3aoauth%3a2.0%3aoob&response_type=code&scope=email%20https%3a%2f%2fwww.googleapis.com%2fauth%2fdocs.test%20https%3a%2f%2fwww.googleapis.com%2fauth%2fdrive%20https%3a%2f%2fwww.googleapis.com%2fauth%2fdrive.photos.readonly%20https%3a%2f%2fwww.googleapis.com%2fauth%2fpeopleapi.readonly\n",
            "\n",
            "Enter your authorization code:\n",
            "··········\n",
            "Mounted at /content/gdrive\n"
          ],
          "name": "stdout"
        }
      ]
    },
    {
      "cell_type": "code",
      "metadata": {
        "id": "-9h7q8NTz3CT",
        "colab_type": "code",
        "outputId": "1a0d3da1-ce53-4238-be87-00aed9f7b962",
        "colab": {
          "base_uri": "https://localhost:8080/",
          "height": 34
        }
      },
      "source": [
        "import numpy as np\n",
        "import pandas as pd\n",
        "from pandas import DataFrame\n",
        "import torch\n",
        "import torch.nn as nn\n",
        "import torch.nn.functional as F\n",
        "import torch.optim as optim\n",
        "from torch.utils.data import Dataset\n",
        "from torch.utils.data import DataLoader\n",
        "from torch.utils.data import ConcatDataset\n",
        "import matplotlib.pyplot as plt\n",
        "import math\n",
        "import os\n",
        "from tqdm import tqdm\n",
        "import time\n",
        "import cv2\n",
        "#from DataCaller_Excel import DataCaller_Excel\n",
        "#from Model import Net\n",
        "#from EarlyStop import EarlyStopping\n",
        "\n",
        "#use gpu    please somebody buy me a gpu .......\n",
        "USE_GPU = True\n",
        "if USE_GPU and torch.cuda.is_available():\n",
        "    device = torch.device('cuda')\n",
        "else:\n",
        "    device = torch.device('cpu')\n",
        "print(device)\n",
        "\n",
        "#Global variables\n",
        "LOAD_DATA = True\n",
        "BATCH_SIZE = 32\n",
        "VAL_BATCH_SIZE = 32\n",
        "LEARNING_RATE = 1e-5\n",
        "EPOCHS = 1000\n",
        "PATIENCE = 25\n",
        "VALIDATE_EVERY = 10\n",
        "MODEL_NAME = f\"model-{int(time.time())}\"\n",
        "IMG_SIZE = 64\n",
        "IMG_CHANNELS = 1\n",
        "OUTPUT_LABEL_SIZE = 4\n",
        "OUTPUT_AB = 42\n",
        "OUTPUT_Y = 1\n",
        "OUTPUT_D = 5"
      ],
      "execution_count": 3,
      "outputs": [
        {
          "output_type": "stream",
          "text": [
            "cuda\n"
          ],
          "name": "stdout"
        }
      ]
    },
    {
      "cell_type": "code",
      "metadata": {
        "id": "fR_c4LFQ0Ma2",
        "colab_type": "code",
        "colab": {}
      },
      "source": [
        "\n",
        "class DataCaller_Excel(Dataset):\n",
        "    def __init__(self, data_path, inputsize):\n",
        "        \n",
        "        self.data_path = data_path\n",
        "        self.inputsize = inputsize\n",
        "        \n",
        "        data = pd.read_excel(open(self.data_path, 'rb'), sheet_name='Sheet1', header=None)\n",
        "        data = np.array(data)\n",
        "        data = data.reshape(-1, 1, inputsize, inputsize)\n",
        "        self.data = torch.from_numpy(data).float()\n",
        "        \n",
        "        label = pd.read_excel(open(self.data_path, 'rb'), sheet_name='Sheet2', header=None)\n",
        "        self.label = torch.from_numpy( np.array(label) ).float()\n",
        "    \n",
        "    def __len__(self):\n",
        "        return len(self.data)\n",
        "    \n",
        "    def __getitem__(self, idx):\n",
        "        x = torch.FloatTensor(self.data[idx])\n",
        "        y = torch.FloatTensor(self.label[idx])\n",
        "        return x, y"
      ],
      "execution_count": 0,
      "outputs": []
    },
    {
      "cell_type": "code",
      "metadata": {
        "id": "hsUhE6kd0Y6r",
        "colab_type": "code",
        "colab": {}
      },
      "source": [
        "\n",
        "class EarlyStopping:\n",
        "    \"\"\"Early stops the training if validation loss doesn't improve after a given patience.\"\"\"\n",
        "    def __init__(self, patience=7, verbose=False, delta=0):\n",
        "        \"\"\"\n",
        "        Args:\n",
        "            patience (int): How long to wait after last time validation loss improved.\n",
        "                            Default: 7\n",
        "            verbose (bool): If True, prints a message for each validation loss improvement. \n",
        "                            Default: False\n",
        "            delta (float): Minimum change in the monitored quantity to qualify as an improvement.\n",
        "                            Default: 0\n",
        "        \"\"\"\n",
        "        self.patience = patience\n",
        "        self.verbose = verbose\n",
        "        self.counter = 0\n",
        "        self.best_score = None\n",
        "        self.early_stop = False\n",
        "        self.val_loss_min = np.Inf\n",
        "        self.delta = delta\n",
        "\n",
        "    def __call__(self, val_loss, model):\n",
        "\n",
        "        score = - val_loss\n",
        "\n",
        "        if self.best_score is None:\n",
        "            self.best_score = score\n",
        "            self.save_checkpoint(val_loss, model)\n",
        "        elif score < self.best_score + self.delta:\n",
        "            self.counter += 1\n",
        "            print(f'EarlyStopping counter: {self.counter} out of {self.patience}')\n",
        "            if self.counter >= self.patience:\n",
        "                self.early_stop = True\n",
        "        else:\n",
        "            self.best_score = score\n",
        "            self.save_checkpoint(val_loss, model)\n",
        "            self.counter = 0\n",
        "\n",
        "    def save_checkpoint(self, val_loss, model):\n",
        "        '''Saves model when validation loss decrease.'''\n",
        "        if self.verbose:\n",
        "            print(f'Validation loss decreased ({self.val_loss_min:.6f} --> {val_loss:.6f}).  Saving model ...')\n",
        "        torch.save(model.state_dict(), 'checkpoint.pt')\n",
        "        self.val_loss_min = val_loss"
      ],
      "execution_count": 0,
      "outputs": []
    },
    {
      "cell_type": "code",
      "metadata": {
        "id": "s4DMLbAR0b3j",
        "colab_type": "code",
        "colab": {}
      },
      "source": [
        "import torch\n",
        "import torch.nn as nn\n",
        "\n",
        "class Net(nn.Module):\n",
        "    def __init__(self):\n",
        "        super().__init__()\n",
        "        \n",
        "        self.cnn = nn.Sequential(\n",
        "            nn.Conv2d(IMG_CHANNELS, 16, kernel_size=3, padding=1),\n",
        "            nn.ReLU(),\n",
        "            #nn.BatchNorm2d(8),\n",
        "            #nn.Conv2d(12, 12, kernel_size=3, padding=1),\n",
        "            #nn.ReLU(),\n",
        "            nn.MaxPool2d(2, 2),\n",
        "            #32 x 32 x 16\n",
        "            \n",
        "            nn.Conv2d(16, 16, kernel_size=3, padding=1),\n",
        "            nn.ReLU(),\n",
        "            nn.Conv2d(16, 32, kernel_size=3, padding=1),\n",
        "            #nn.BatchNorm2d(64),\n",
        "            nn.ReLU(),\n",
        "            nn.MaxPool2d(2, 2),\n",
        "            #16 x 16 x 32\n",
        "            \n",
        "            nn.Conv2d(32, 64, kernel_size=3, padding=1),\n",
        "            nn.ReLU(),\n",
        "            nn.Conv2d(64, 64, kernel_size=3, padding=1),\n",
        "            nn.ReLU(),\n",
        "            nn.MaxPool2d(2, 2),\n",
        "            #8 x 8 x 64\n",
        "\n",
        "            nn.Conv2d(64, 64, kernel_size=3, padding=1),\n",
        "            nn.Dropout(0.4),\n",
        "            nn.ReLU(),\n",
        "            nn.Conv2d(64, 64, kernel_size=3, padding=1),\n",
        "            nn.ReLU(),\n",
        "            nn.MaxPool2d(2, 2),\n",
        "            #4 x 4 x 32\n",
        "            \n",
        "            nn.Conv2d(64, 128, kernel_size=3, padding=1),\n",
        "            nn.ReLU(),\n",
        "            nn.Conv2d(128, 128, kernel_size=3, padding=1),\n",
        "            nn.ReLU(),\n",
        "            nn.MaxPool2d(2, 2),\n",
        "            #2 x 2 x 128\n",
        "\n",
        "            nn.Conv2d(128, 256, kernel_size=3, padding=1),\n",
        "            nn.ReLU(),\n",
        "            nn.Conv2d(256, 256, kernel_size=3, padding=1),\n",
        "            nn.ReLU(),\n",
        "            nn.MaxPool2d(2, 2),\n",
        "            #1 x 1 x 256\n",
        "            \n",
        "        )\n",
        "        self.fcc_ab = nn.Sequential(\n",
        "            nn.Linear(256, 128),\n",
        "            nn.ReLU(),\n",
        "            nn.Dropout(0.4),\n",
        "            nn.Linear(128, 64),\n",
        "            nn.ReLU(),\n",
        "            #nn.Dropout(0.4),\n",
        "            nn.Linear(64, OUTPUT_AB)\n",
        "        )\n",
        "        self.fcc_xy = nn.Sequential(\n",
        "            nn.Linear(256, 64),\n",
        "            nn.ReLU(),\n",
        "            nn.Dropout(0.4),\n",
        "            nn.Linear(64, 32),\n",
        "            nn.ReLU(),\n",
        "            nn.Linear(32, OUTPUT_Y)   \n",
        "        )\n",
        "        self.fcc_d = nn.Sequential(\n",
        "            nn.Linear(256, 64),\n",
        "            nn.ReLU(),\n",
        "            nn.Dropout(0.4),\n",
        "            nn.Linear(64, 32),\n",
        "            nn.ReLU(),\n",
        "            nn.Linear(32, OUTPUT_D)\n",
        "        )\n",
        "    def forward(self, x):\n",
        "        output = self.cnn(x)\n",
        "        feature_map = output.view(output.size(0), -1)\n",
        "        ab = self.fcc_ab(feature_map)\n",
        "        a = ab[:, :21]\n",
        "        b = ab[:, 21:]\n",
        "        xy = self.fcc_xy(feature_map)\n",
        "        d = self.fcc_d(feature_map)\n",
        "        return a, b, xy, d"
      ],
      "execution_count": 0,
      "outputs": []
    },
    {
      "cell_type": "code",
      "metadata": {
        "id": "enGbxU4s0fBb",
        "colab_type": "code",
        "colab": {}
      },
      "source": [
        "#data path\n",
        "DRIVE_PATH = '/content/gdrive/My Drive/Colab Notebooks'\n",
        "BASE_PATH = 'singlesource_class_fixed_x'\n",
        "TRAIN_PATH_LABEL = os.path.join(DRIVE_PATH, 'data', BASE_PATH, 'train')\n",
        "VAL_PATH_LABEL = os.path.join(DRIVE_PATH, 'data', BASE_PATH, 'val')\n",
        "TEST_PATH_LABEL = os.path.join(DRIVE_PATH, 'data', BASE_PATH, 'test')\n",
        "LOAD_PRETRAINED_PATH = 'checkpoint.pt'\n",
        "#TRAIN_PATH_IMG = os.path.join(DRIVE_PATH, 'images', BASE_PATH, 'train')\n",
        "#VAL_PATH_IMG = os.path.join(DRIVE_PATH, 'images', BASE_PATH, 'val')\n",
        "#TEST_PATH_IMG = os.path.join(DRIVE_PATH, 'images', BASE_PATH, 'test')"
      ],
      "execution_count": 0,
      "outputs": []
    },
    {
      "cell_type": "code",
      "metadata": {
        "id": "Sl119Ok5051m",
        "colab_type": "code",
        "outputId": "eb420344-ade0-47c4-a855-aa0a9889be41",
        "colab": {
          "base_uri": "https://localhost:8080/",
          "height": 1000
        }
      },
      "source": [
        "if LOAD_DATA:\n",
        "    trainsets = []\n",
        "    valsets = []\n",
        "    testsets = []\n",
        "    for f in tqdm(os.listdir(TRAIN_PATH_LABEL)):\n",
        "      path = os.path.join(TRAIN_PATH_LABEL, f)\n",
        "      trainset = DataCaller_Excel(path, IMG_SIZE)\n",
        "      print(trainset.__len__())\n",
        "      trainsets.append(trainset)\n",
        "\n",
        "    for f in tqdm(os.listdir(VAL_PATH_LABEL)):\n",
        "      path  = os.path.join(VAL_PATH_LABEL, f)\n",
        "      valset = DataCaller_Excel(path, IMG_SIZE)\n",
        "      print(valset.__len__())\n",
        "      valsets.append(valset)\n",
        "\n",
        "    for f in tqdm(os.listdir(TEST_PATH_LABEL)):\n",
        "      path  = os.path.join(TEST_PATH_LABEL, f)\n",
        "      testset = DataCaller_Excel(path, IMG_SIZE)\n",
        "      print(testset.__len__())\n",
        "      testsets.append(testset)\n",
        "\n",
        "    trainset = ConcatDataset(trainsets)\n",
        "    print(trainset.__len__())\n",
        "    valset = ConcatDataset(valsets)\n",
        "    print(valset.__len__())\n",
        "    testset = ConcatDataset(testsets)\n",
        "    print(testset.__len__())\n",
        "    #trainset = DataCaller(TRAIN_PATH_IMG, TRAIN_PATH_LABEL, IMG_SIZE)\n",
        "    #valset = DataCaller(VAL_PATH_IMG, VAL_PATH_LABEL, IMG_SIZE)\n",
        "    #testset = DataCaller(TEST_PATH_IMG, TEST_PATH_LABEL, IMG_SIZE)"
      ],
      "execution_count": 8,
      "outputs": [
        {
          "output_type": "stream",
          "text": [
            "  2%|▎         | 1/40 [00:12<08:09, 12.56s/it]"
          ],
          "name": "stderr"
        },
        {
          "output_type": "stream",
          "text": [
            "200\n"
          ],
          "name": "stdout"
        },
        {
          "output_type": "stream",
          "text": [
            "\r  5%|▌         | 2/40 [00:25<07:55, 12.52s/it]"
          ],
          "name": "stderr"
        },
        {
          "output_type": "stream",
          "text": [
            "200\n"
          ],
          "name": "stdout"
        },
        {
          "output_type": "stream",
          "text": [
            "\r  8%|▊         | 3/40 [00:37<07:43, 12.54s/it]"
          ],
          "name": "stderr"
        },
        {
          "output_type": "stream",
          "text": [
            "200\n"
          ],
          "name": "stdout"
        },
        {
          "output_type": "stream",
          "text": [
            "\r 10%|█         | 4/40 [00:49<07:29, 12.50s/it]"
          ],
          "name": "stderr"
        },
        {
          "output_type": "stream",
          "text": [
            "200\n"
          ],
          "name": "stdout"
        },
        {
          "output_type": "stream",
          "text": [
            "\r 12%|█▎        | 5/40 [01:02<07:17, 12.50s/it]"
          ],
          "name": "stderr"
        },
        {
          "output_type": "stream",
          "text": [
            "200\n"
          ],
          "name": "stdout"
        },
        {
          "output_type": "stream",
          "text": [
            "\r 15%|█▌        | 6/40 [01:14<07:04, 12.49s/it]"
          ],
          "name": "stderr"
        },
        {
          "output_type": "stream",
          "text": [
            "200\n"
          ],
          "name": "stdout"
        },
        {
          "output_type": "stream",
          "text": [
            "\r 18%|█▊        | 7/40 [01:27<06:51, 12.47s/it]"
          ],
          "name": "stderr"
        },
        {
          "output_type": "stream",
          "text": [
            "200\n"
          ],
          "name": "stdout"
        },
        {
          "output_type": "stream",
          "text": [
            "\r 20%|██        | 8/40 [01:39<06:36, 12.38s/it]"
          ],
          "name": "stderr"
        },
        {
          "output_type": "stream",
          "text": [
            "200\n"
          ],
          "name": "stdout"
        },
        {
          "output_type": "stream",
          "text": [
            "\r 22%|██▎       | 9/40 [01:51<06:23, 12.36s/it]"
          ],
          "name": "stderr"
        },
        {
          "output_type": "stream",
          "text": [
            "200\n"
          ],
          "name": "stdout"
        },
        {
          "output_type": "stream",
          "text": [
            "\r 25%|██▌       | 10/40 [02:04<06:09, 12.33s/it]"
          ],
          "name": "stderr"
        },
        {
          "output_type": "stream",
          "text": [
            "200\n"
          ],
          "name": "stdout"
        },
        {
          "output_type": "stream",
          "text": [
            "\r 28%|██▊       | 11/40 [02:16<05:58, 12.37s/it]"
          ],
          "name": "stderr"
        },
        {
          "output_type": "stream",
          "text": [
            "200\n"
          ],
          "name": "stdout"
        },
        {
          "output_type": "stream",
          "text": [
            "\r 30%|███       | 12/40 [02:28<05:46, 12.36s/it]"
          ],
          "name": "stderr"
        },
        {
          "output_type": "stream",
          "text": [
            "200\n"
          ],
          "name": "stdout"
        },
        {
          "output_type": "stream",
          "text": [
            "\r 32%|███▎      | 13/40 [02:41<05:34, 12.40s/it]"
          ],
          "name": "stderr"
        },
        {
          "output_type": "stream",
          "text": [
            "200\n"
          ],
          "name": "stdout"
        },
        {
          "output_type": "stream",
          "text": [
            "\r 35%|███▌      | 14/40 [02:53<05:21, 12.37s/it]"
          ],
          "name": "stderr"
        },
        {
          "output_type": "stream",
          "text": [
            "200\n"
          ],
          "name": "stdout"
        },
        {
          "output_type": "stream",
          "text": [
            "\r 38%|███▊      | 15/40 [03:05<05:08, 12.32s/it]"
          ],
          "name": "stderr"
        },
        {
          "output_type": "stream",
          "text": [
            "200\n"
          ],
          "name": "stdout"
        },
        {
          "output_type": "stream",
          "text": [
            "\r 40%|████      | 16/40 [03:18<04:57, 12.41s/it]"
          ],
          "name": "stderr"
        },
        {
          "output_type": "stream",
          "text": [
            "200\n"
          ],
          "name": "stdout"
        },
        {
          "output_type": "stream",
          "text": [
            "\r 42%|████▎     | 17/40 [03:30<04:45, 12.40s/it]"
          ],
          "name": "stderr"
        },
        {
          "output_type": "stream",
          "text": [
            "200\n"
          ],
          "name": "stdout"
        },
        {
          "output_type": "stream",
          "text": [
            "\r 45%|████▌     | 18/40 [03:43<04:32, 12.40s/it]"
          ],
          "name": "stderr"
        },
        {
          "output_type": "stream",
          "text": [
            "200\n"
          ],
          "name": "stdout"
        },
        {
          "output_type": "stream",
          "text": [
            "\r 48%|████▊     | 19/40 [03:55<04:20, 12.42s/it]"
          ],
          "name": "stderr"
        },
        {
          "output_type": "stream",
          "text": [
            "200\n"
          ],
          "name": "stdout"
        },
        {
          "output_type": "stream",
          "text": [
            "\r 50%|█████     | 20/40 [04:08<04:09, 12.48s/it]"
          ],
          "name": "stderr"
        },
        {
          "output_type": "stream",
          "text": [
            "200\n"
          ],
          "name": "stdout"
        },
        {
          "output_type": "stream",
          "text": [
            "\r 52%|█████▎    | 21/40 [04:24<04:19, 13.66s/it]"
          ],
          "name": "stderr"
        },
        {
          "output_type": "stream",
          "text": [
            "250\n"
          ],
          "name": "stdout"
        },
        {
          "output_type": "stream",
          "text": [
            "\r 55%|█████▌    | 22/40 [04:40<04:18, 14.36s/it]"
          ],
          "name": "stderr"
        },
        {
          "output_type": "stream",
          "text": [
            "250\n"
          ],
          "name": "stdout"
        },
        {
          "output_type": "stream",
          "text": [
            "\r 57%|█████▊    | 23/40 [04:56<04:11, 14.81s/it]"
          ],
          "name": "stderr"
        },
        {
          "output_type": "stream",
          "text": [
            "250\n"
          ],
          "name": "stdout"
        },
        {
          "output_type": "stream",
          "text": [
            "\r 60%|██████    | 24/40 [05:13<04:05, 15.31s/it]"
          ],
          "name": "stderr"
        },
        {
          "output_type": "stream",
          "text": [
            "250\n"
          ],
          "name": "stdout"
        },
        {
          "output_type": "stream",
          "text": [
            "\r 62%|██████▎   | 25/40 [05:28<03:51, 15.43s/it]"
          ],
          "name": "stderr"
        },
        {
          "output_type": "stream",
          "text": [
            "250\n"
          ],
          "name": "stdout"
        },
        {
          "output_type": "stream",
          "text": [
            "\r 65%|██████▌   | 26/40 [05:44<03:37, 15.51s/it]"
          ],
          "name": "stderr"
        },
        {
          "output_type": "stream",
          "text": [
            "250\n"
          ],
          "name": "stdout"
        },
        {
          "output_type": "stream",
          "text": [
            "\r 68%|██████▊   | 27/40 [06:00<03:22, 15.59s/it]"
          ],
          "name": "stderr"
        },
        {
          "output_type": "stream",
          "text": [
            "250\n"
          ],
          "name": "stdout"
        },
        {
          "output_type": "stream",
          "text": [
            "\r 70%|███████   | 28/40 [06:16<03:08, 15.69s/it]"
          ],
          "name": "stderr"
        },
        {
          "output_type": "stream",
          "text": [
            "250\n"
          ],
          "name": "stdout"
        },
        {
          "output_type": "stream",
          "text": [
            "\r 72%|███████▎  | 29/40 [06:32<02:53, 15.74s/it]"
          ],
          "name": "stderr"
        },
        {
          "output_type": "stream",
          "text": [
            "250\n"
          ],
          "name": "stdout"
        },
        {
          "output_type": "stream",
          "text": [
            "\r 75%|███████▌  | 30/40 [06:48<02:38, 15.81s/it]"
          ],
          "name": "stderr"
        },
        {
          "output_type": "stream",
          "text": [
            "250\n"
          ],
          "name": "stdout"
        },
        {
          "output_type": "stream",
          "text": [
            "\r 78%|███████▊  | 31/40 [07:03<02:21, 15.68s/it]"
          ],
          "name": "stderr"
        },
        {
          "output_type": "stream",
          "text": [
            "250\n"
          ],
          "name": "stdout"
        },
        {
          "output_type": "stream",
          "text": [
            "\r 80%|████████  | 32/40 [07:18<02:04, 15.62s/it]"
          ],
          "name": "stderr"
        },
        {
          "output_type": "stream",
          "text": [
            "250\n"
          ],
          "name": "stdout"
        },
        {
          "output_type": "stream",
          "text": [
            "\r 82%|████████▎ | 33/40 [07:34<01:49, 15.62s/it]"
          ],
          "name": "stderr"
        },
        {
          "output_type": "stream",
          "text": [
            "250\n"
          ],
          "name": "stdout"
        },
        {
          "output_type": "stream",
          "text": [
            "\r 85%|████████▌ | 34/40 [07:50<01:33, 15.58s/it]"
          ],
          "name": "stderr"
        },
        {
          "output_type": "stream",
          "text": [
            "250\n"
          ],
          "name": "stdout"
        },
        {
          "output_type": "stream",
          "text": [
            "\r 88%|████████▊ | 35/40 [08:05<01:17, 15.52s/it]"
          ],
          "name": "stderr"
        },
        {
          "output_type": "stream",
          "text": [
            "250\n"
          ],
          "name": "stdout"
        },
        {
          "output_type": "stream",
          "text": [
            "\r 90%|█████████ | 36/40 [08:21<01:02, 15.54s/it]"
          ],
          "name": "stderr"
        },
        {
          "output_type": "stream",
          "text": [
            "250\n"
          ],
          "name": "stdout"
        },
        {
          "output_type": "stream",
          "text": [
            "\r 92%|█████████▎| 37/40 [08:36<00:46, 15.51s/it]"
          ],
          "name": "stderr"
        },
        {
          "output_type": "stream",
          "text": [
            "250\n"
          ],
          "name": "stdout"
        },
        {
          "output_type": "stream",
          "text": [
            "\r 95%|█████████▌| 38/40 [08:52<00:31, 15.53s/it]"
          ],
          "name": "stderr"
        },
        {
          "output_type": "stream",
          "text": [
            "250\n"
          ],
          "name": "stdout"
        },
        {
          "output_type": "stream",
          "text": [
            "\r 98%|█████████▊| 39/40 [09:07<00:15, 15.57s/it]"
          ],
          "name": "stderr"
        },
        {
          "output_type": "stream",
          "text": [
            "250\n"
          ],
          "name": "stdout"
        },
        {
          "output_type": "stream",
          "text": [
            "100%|██████████| 40/40 [09:23<00:00, 14.09s/it]\n",
            "  0%|          | 0/11 [00:00<?, ?it/s]"
          ],
          "name": "stderr"
        },
        {
          "output_type": "stream",
          "text": [
            "250\n"
          ],
          "name": "stdout"
        },
        {
          "output_type": "stream",
          "text": [
            "\r  9%|▉         | 1/11 [00:12<02:03, 12.34s/it]"
          ],
          "name": "stderr"
        },
        {
          "output_type": "stream",
          "text": [
            "200\n"
          ],
          "name": "stdout"
        },
        {
          "output_type": "stream",
          "text": [
            "\r 18%|█▊        | 2/11 [00:28<02:00, 13.44s/it]"
          ],
          "name": "stderr"
        },
        {
          "output_type": "stream",
          "text": [
            "250\n"
          ],
          "name": "stdout"
        },
        {
          "output_type": "stream",
          "text": [
            "\r 27%|██▋       | 3/11 [00:44<01:53, 14.20s/it]"
          ],
          "name": "stderr"
        },
        {
          "output_type": "stream",
          "text": [
            "250\n"
          ],
          "name": "stdout"
        },
        {
          "output_type": "stream",
          "text": [
            "\r 36%|███▋      | 4/11 [00:59<01:42, 14.64s/it]"
          ],
          "name": "stderr"
        },
        {
          "output_type": "stream",
          "text": [
            "250\n"
          ],
          "name": "stdout"
        },
        {
          "output_type": "stream",
          "text": [
            "\r 45%|████▌     | 5/11 [01:15<01:29, 14.94s/it]"
          ],
          "name": "stderr"
        },
        {
          "output_type": "stream",
          "text": [
            "250\n"
          ],
          "name": "stdout"
        },
        {
          "output_type": "stream",
          "text": [
            "\r 55%|█████▍    | 6/11 [01:31<01:15, 15.19s/it]"
          ],
          "name": "stderr"
        },
        {
          "output_type": "stream",
          "text": [
            "250\n"
          ],
          "name": "stdout"
        },
        {
          "output_type": "stream",
          "text": [
            "\r 64%|██████▎   | 7/11 [01:46<01:01, 15.26s/it]"
          ],
          "name": "stderr"
        },
        {
          "output_type": "stream",
          "text": [
            "250\n"
          ],
          "name": "stdout"
        },
        {
          "output_type": "stream",
          "text": [
            "\r 73%|███████▎  | 8/11 [02:02<00:46, 15.45s/it]"
          ],
          "name": "stderr"
        },
        {
          "output_type": "stream",
          "text": [
            "250\n"
          ],
          "name": "stdout"
        },
        {
          "output_type": "stream",
          "text": [
            "\r 82%|████████▏ | 9/11 [02:18<00:31, 15.57s/it]"
          ],
          "name": "stderr"
        },
        {
          "output_type": "stream",
          "text": [
            "250\n"
          ],
          "name": "stdout"
        },
        {
          "output_type": "stream",
          "text": [
            "\r 91%|█████████ | 10/11 [02:34<00:15, 15.62s/it]"
          ],
          "name": "stderr"
        },
        {
          "output_type": "stream",
          "text": [
            "250\n"
          ],
          "name": "stdout"
        },
        {
          "output_type": "stream",
          "text": [
            "100%|██████████| 11/11 [02:49<00:00, 15.45s/it]\n",
            "  0%|          | 0/10 [00:00<?, ?it/s]"
          ],
          "name": "stderr"
        },
        {
          "output_type": "stream",
          "text": [
            "250\n"
          ],
          "name": "stdout"
        },
        {
          "output_type": "stream",
          "text": [
            "\r 10%|█         | 1/10 [00:12<01:51, 12.38s/it]"
          ],
          "name": "stderr"
        },
        {
          "output_type": "stream",
          "text": [
            "200\n"
          ],
          "name": "stdout"
        },
        {
          "output_type": "stream",
          "text": [
            "\r 20%|██        | 2/10 [00:24<01:38, 12.34s/it]"
          ],
          "name": "stderr"
        },
        {
          "output_type": "stream",
          "text": [
            "200\n"
          ],
          "name": "stdout"
        },
        {
          "output_type": "stream",
          "text": [
            "\r 30%|███       | 3/10 [00:36<01:26, 12.33s/it]"
          ],
          "name": "stderr"
        },
        {
          "output_type": "stream",
          "text": [
            "200\n"
          ],
          "name": "stdout"
        },
        {
          "output_type": "stream",
          "text": [
            "\r 40%|████      | 4/10 [00:49<01:13, 12.29s/it]"
          ],
          "name": "stderr"
        },
        {
          "output_type": "stream",
          "text": [
            "200\n"
          ],
          "name": "stdout"
        },
        {
          "output_type": "stream",
          "text": [
            "\r 50%|█████     | 5/10 [01:01<01:01, 12.22s/it]"
          ],
          "name": "stderr"
        },
        {
          "output_type": "stream",
          "text": [
            "200\n"
          ],
          "name": "stdout"
        },
        {
          "output_type": "stream",
          "text": [
            "\r 60%|██████    | 6/10 [01:13<00:48, 12.23s/it]"
          ],
          "name": "stderr"
        },
        {
          "output_type": "stream",
          "text": [
            "200\n"
          ],
          "name": "stdout"
        },
        {
          "output_type": "stream",
          "text": [
            "\r 70%|███████   | 7/10 [01:25<00:36, 12.22s/it]"
          ],
          "name": "stderr"
        },
        {
          "output_type": "stream",
          "text": [
            "200\n"
          ],
          "name": "stdout"
        },
        {
          "output_type": "stream",
          "text": [
            "\r 80%|████████  | 8/10 [01:37<00:24, 12.18s/it]"
          ],
          "name": "stderr"
        },
        {
          "output_type": "stream",
          "text": [
            "200\n"
          ],
          "name": "stdout"
        },
        {
          "output_type": "stream",
          "text": [
            "\r 90%|█████████ | 9/10 [01:50<00:12, 12.28s/it]"
          ],
          "name": "stderr"
        },
        {
          "output_type": "stream",
          "text": [
            "200\n"
          ],
          "name": "stdout"
        },
        {
          "output_type": "stream",
          "text": [
            "100%|██████████| 10/10 [02:02<00:00, 12.23s/it]"
          ],
          "name": "stderr"
        },
        {
          "output_type": "stream",
          "text": [
            "200\n",
            "9000\n",
            "2700\n",
            "2000\n"
          ],
          "name": "stdout"
        },
        {
          "output_type": "stream",
          "text": [
            "\n"
          ],
          "name": "stderr"
        }
      ]
    },
    {
      "cell_type": "code",
      "metadata": {
        "id": "JA0gFXCnLn0-",
        "colab_type": "code",
        "colab": {}
      },
      "source": [
        "#valsets = []\n",
        "#for f in tqdm(os.listdir(VAL_PATH_LABEL)):\n",
        "#  path  = os.path.join(VAL_PATH_LABEL, f)\n",
        "#  valset = DataCaller_Excel(path, IMG_SIZE)\n",
        "#  print(valset.__len__())\n",
        "#  valsets.append(valset)\n",
        "\n",
        "#valset = ConcatDataset(valsets)\n"
      ],
      "execution_count": 0,
      "outputs": []
    },
    {
      "cell_type": "code",
      "metadata": {
        "id": "CCRzbFvJ07bD",
        "colab_type": "code",
        "colab": {}
      },
      "source": [
        "#define dataloaders\n",
        "trainloader = DataLoader(trainset, batch_size = BATCH_SIZE, shuffle=True)\n",
        "valloader = DataLoader(valset, batch_size=VAL_BATCH_SIZE, shuffle=True)\n",
        "testloader = DataLoader(testset, batch_size=1, shuffle=False)"
      ],
      "execution_count": 0,
      "outputs": []
    },
    {
      "cell_type": "code",
      "metadata": {
        "id": "-bY-ORpG1Ew6",
        "colab_type": "code",
        "colab": {}
      },
      "source": [
        "#just checking if the data is loaded properly\n",
        "cnt = 0\n",
        "for i, data in enumerate(trainloader):\n",
        "    x, y = data\n",
        "    x = np.array(x)\n",
        "    x = x.reshape(-1, IMG_CHANNELS, IMG_SIZE, IMG_SIZE)\n",
        "    #print(x)\n",
        "    #x = x.astype(int)\n",
        "    print(x)\n",
        "    print(x[0].shape)\n",
        "    #plt.imshow(x[0].reshape(IMG_SIZE, IMG_SIZE, -1))\n",
        "    #plt.imshow(x[0].reshape(IMG_SIZE, IMG_SIZE, -1), cmap='gray')\n",
        "    #plt.show()\n",
        "    #print(x[0])\n",
        "    print(y)\n",
        "    cnt += 1\n",
        "    if cnt==1:\n",
        "      break"
      ],
      "execution_count": 0,
      "outputs": []
    },
    {
      "cell_type": "code",
      "metadata": {
        "id": "ZeAuxWP_hY0B",
        "colab_type": "code",
        "colab": {}
      },
      "source": [
        "def weighted_mse(input, target, weight):\n",
        "  input = input.to(device)\n",
        "  target = target.to(device)\n",
        "  weight = weight.to(device)\n",
        "  return torch.sum(weight * (input - target)**2)"
      ],
      "execution_count": 0,
      "outputs": []
    },
    {
      "cell_type": "code",
      "metadata": {
        "id": "MK1eoiDAVkGG",
        "colab_type": "code",
        "colab": {}
      },
      "source": [
        "def get_loss(a, b, y, d, label_a, label_b, label_y, label_d, weight):\n",
        "  # a,b : 1 x 21\n",
        "  # xy : 1 x 2\n",
        "  # d : 1 x 10\n",
        "  a = a.to(device)\n",
        "  b = b.to(device)\n",
        "  y = y.to(device)\n",
        "  d = d.to(device)\n",
        "\n",
        "  y = y.view(len(y))\n",
        "\n",
        "  weight = weight.to(device)\n",
        "\n",
        "  #change shape and form of labels\n",
        "  label_a = label_a.view(len(label_a))\n",
        "  label_b = label_b.view(len(label_b))\n",
        "  label_d = label_d.view(len(label_d))\n",
        "  label_a = label_a.type(torch.cuda.LongTensor)\n",
        "  label_b = label_b.type(torch.cuda.LongTensor)\n",
        "  label_d = label_d.type(torch.cuda.LongTensor)\n",
        "\n",
        "  label_y = label_y.view(len(label_y))\n",
        "\n",
        "  # classes should be 0 ~ N - 1\n",
        "  # class N means that the length is ( N + 1 ) * lambda \n",
        "  #x = torch.ones(len(label_a))\n",
        "  #x = x.to(device)\n",
        "  #x = x.type(torch.cuda.LongTensor)\n",
        "\n",
        "  #label_a = label_a - x\n",
        "  #label_b = label_b - x\n",
        "\n",
        "  #y = torch.ones(len(label_d))\n",
        "  #y = y.to(device)\n",
        "  #y = y.type(torch.cuda.LongTensor)\n",
        "  \n",
        "  #label_d = label_d - y\n",
        "\n",
        "  #define criterion\n",
        "  crit1 = nn.CrossEntropyLoss()\n",
        "  crit2 = nn.CrossEntropyLoss()\n",
        "  crit3 = nn.MSELoss()\n",
        "  crit4 = nn.CrossEntropyLoss()\n",
        "\n",
        "  loss1 = crit1(a, label_a)\n",
        "  loss2 = crit2(b, label_b)\n",
        "  loss3 = crit3(y, label_y)\n",
        "  loss4 = crit4(d, label_d)\n",
        "  \n",
        "  return loss1 * weight[0]  + loss2 * weight[1] + loss3 * weight[2] + loss4 * weight[3]\n",
        "\n"
      ],
      "execution_count": 0,
      "outputs": []
    },
    {
      "cell_type": "code",
      "metadata": {
        "id": "5LnaE27J1F7L",
        "colab_type": "code",
        "colab": {}
      },
      "source": [
        "#train the model\n",
        "def train(net, model_name, patience, validate_every):\n",
        "    \n",
        "    optimizer = optim.Adam(net.parameters(), LEARNING_RATE, betas=(0.9, 0.999), eps=1e-09, weight_decay=0, amsgrad=False)\n",
        "    weight = torch.tensor([1.0, 1.0, 2.0, 1.5])\n",
        "\n",
        "    train_losses = []\n",
        "    val_losses = []\n",
        "    avg_train_losses = []\n",
        "    avg_val_losses = []\n",
        "\n",
        "    #train_errors = []\n",
        "    #val_errors = []\n",
        "\n",
        "    early_stopping = EarlyStopping(patience=patience, verbose=True)\n",
        "\n",
        "    with open(\"model.log\", \"a\") as f:\n",
        "        for epoch in tqdm(range(EPOCHS)):\n",
        "                net.train()\n",
        "                for batch_idx, samples in enumerate(trainloader):\n",
        "                    x, y = samples\n",
        "                    x = x.view(-1, IMG_CHANNELS, IMG_SIZE, IMG_SIZE)\n",
        "                    x = x.to(device)\n",
        "                    y = y.to(device)\n",
        "\n",
        "                    #parse labels\n",
        "                    la = y[:, 0]\n",
        "                    lb = y[:, 1]\n",
        "                    ly = y[:, 2]\n",
        "                    ld = y[:, 3]\n",
        "\n",
        "                    a, b, y_p, d = net(x)\n",
        "                    loss = get_loss(a, b, y_p, d, la, lb, ly, ld, weight)\n",
        "                    net.zero_grad()\n",
        "                    loss.backward()\n",
        "                    optimizer.step()\n",
        "                    train_losses.append(loss.item())\n",
        "\n",
        "                    #error = (pred - y) / y\n",
        "                    #error = error.mean(0)\n",
        "                    #train_errors.append(error.to(\"cpu\"))\n",
        "\n",
        "                net.eval()\n",
        "                for batch_idx, samples in enumerate(valloader):\n",
        "                    val_x, val_y = samples\n",
        "                    val_x = val_x.view(-1, IMG_CHANNELS, IMG_SIZE, IMG_SIZE)\n",
        "                    val_x = val_x.to(device)\n",
        "                    val_y = val_y.to(device)\n",
        "                    \n",
        "                    la = val_y[:, 0]\n",
        "                    lb = val_y[:, 1]\n",
        "                    ly = val_y[:,2]\n",
        "                    ld = val_y[:, 3]\n",
        "                    a, b, y_p, d = net(val_x)\n",
        "                    loss = get_loss(a, b, y_p, d, la, lb, ly, ld, weight)\n",
        "                    val_losses.append(loss.item())\n",
        "\n",
        "                    #val_error = (val_pred - val_y) / val_y\n",
        "                    #val_error = val_error.mean(0)\n",
        "                    #val_errors.append(val_error.to(\"cpu\"))\n",
        "\n",
        "                train_loss = np.average(train_losses)\n",
        "                valid_loss = np.average(val_losses)\n",
        "                avg_train_losses.append(train_loss)\n",
        "                avg_val_losses.append(valid_loss)\n",
        "                \n",
        "                #train_error = np.average(train_errors)\n",
        "                #val_error= np.average(val_errors)\n",
        "\n",
        "                train_losses = []\n",
        "                val_losses = []\n",
        "                #train_errors = []\n",
        "                #val_errors = []\n",
        "\n",
        "                f.write(f\"{MODEL_NAME},{round(time.time(), 3)},  {round(float(train_loss), 4)},  {round(float(valid_loss),4)}\\n\")\n",
        "                print(\"\\nloss : \", train_loss, \"val loss : \", valid_loss, \"\\n\")\n",
        "                #print(\"error : \", train_error, \"val error : \", val_error)\n",
        "                \n",
        "                early_stopping(valid_loss, net)\n",
        "                \n",
        "                if early_stopping.early_stop:\n",
        "                    print(\"Early stopping\")\n",
        "                    break\n",
        "        # load the last checkpoint with the best model\n",
        "        net.load_state_dict(torch.load('checkpoint.pt'))\n",
        "        \n",
        "        return avg_train_losses, avg_val_losses"
      ],
      "execution_count": 0,
      "outputs": []
    },
    {
      "cell_type": "code",
      "metadata": {
        "id": "k-b0iI2R1IKD",
        "colab_type": "code",
        "colab": {}
      },
      "source": [
        "net = Net()\n",
        "#print(net)\n"
      ],
      "execution_count": 0,
      "outputs": []
    },
    {
      "cell_type": "code",
      "metadata": {
        "id": "bvZa0kBaTqAL",
        "colab_type": "code",
        "outputId": "f59a8248-0e4b-4113-c278-80dab891f595",
        "colab": {
          "base_uri": "https://localhost:8080/",
          "height": 1000
        }
      },
      "source": [
        "net.to(device)\n",
        "train_loss, valid_loss = train(net, MODEL_NAME, PATIENCE, VALIDATE_EVERY)"
      ],
      "execution_count": 15,
      "outputs": [
        {
          "output_type": "stream",
          "text": [
            "  0%|          | 1/1000 [00:03<57:16,  3.44s/it]"
          ],
          "name": "stderr"
        },
        {
          "output_type": "stream",
          "text": [
            "\n",
            "loss :  272.1654957980974 val loss :  93.68629401711857 \n",
            "\n",
            "Validation loss decreased (inf --> 93.686294).  Saving model ...\n"
          ],
          "name": "stdout"
        },
        {
          "output_type": "stream",
          "text": [
            "\r  0%|          | 2/1000 [00:06<55:59,  3.37s/it]"
          ],
          "name": "stderr"
        },
        {
          "output_type": "stream",
          "text": [
            "\n",
            "loss :  76.56279099241216 val loss :  47.42029719633214 \n",
            "\n",
            "Validation loss decreased (93.686294 --> 47.420297).  Saving model ...\n"
          ],
          "name": "stdout"
        },
        {
          "output_type": "stream",
          "text": [
            "\r  0%|          | 3/1000 [00:09<55:24,  3.33s/it]"
          ],
          "name": "stderr"
        },
        {
          "output_type": "stream",
          "text": [
            "\n",
            "loss :  55.53134535390434 val loss :  38.1750290814568 \n",
            "\n",
            "Validation loss decreased (47.420297 --> 38.175029).  Saving model ...\n"
          ],
          "name": "stdout"
        },
        {
          "output_type": "stream",
          "text": [
            "\r  0%|          | 4/1000 [00:13<54:58,  3.31s/it]"
          ],
          "name": "stderr"
        },
        {
          "output_type": "stream",
          "text": [
            "\n",
            "loss :  47.96850454046371 val loss :  36.7351094862994 \n",
            "\n",
            "Validation loss decreased (38.175029 --> 36.735109).  Saving model ...\n"
          ],
          "name": "stdout"
        },
        {
          "output_type": "stream",
          "text": [
            "\r  0%|          | 5/1000 [00:16<54:29,  3.29s/it]"
          ],
          "name": "stderr"
        },
        {
          "output_type": "stream",
          "text": [
            "\n",
            "loss :  44.72764818042728 val loss :  28.166140163646023 \n",
            "\n",
            "Validation loss decreased (36.735109 --> 28.166140).  Saving model ...\n"
          ],
          "name": "stdout"
        },
        {
          "output_type": "stream",
          "text": [
            "\r  1%|          | 6/1000 [00:19<54:18,  3.28s/it]"
          ],
          "name": "stderr"
        },
        {
          "output_type": "stream",
          "text": [
            "\n",
            "loss :  41.116676797258094 val loss :  29.224949174768785 \n",
            "\n",
            "EarlyStopping counter: 1 out of 25\n"
          ],
          "name": "stdout"
        },
        {
          "output_type": "stream",
          "text": [
            "\r  1%|          | 7/1000 [00:22<54:04,  3.27s/it]"
          ],
          "name": "stderr"
        },
        {
          "output_type": "stream",
          "text": [
            "\n",
            "loss :  38.67785001984725 val loss :  30.491038288789635 \n",
            "\n",
            "EarlyStopping counter: 2 out of 25\n"
          ],
          "name": "stdout"
        },
        {
          "output_type": "stream",
          "text": [
            "\r  1%|          | 8/1000 [00:26<53:57,  3.26s/it]"
          ],
          "name": "stderr"
        },
        {
          "output_type": "stream",
          "text": [
            "\n",
            "loss :  36.899500698062546 val loss :  27.96483423569623 \n",
            "\n",
            "Validation loss decreased (28.166140 --> 27.964834).  Saving model ...\n"
          ],
          "name": "stdout"
        },
        {
          "output_type": "stream",
          "text": [
            "\r  1%|          | 9/1000 [00:29<53:51,  3.26s/it]"
          ],
          "name": "stderr"
        },
        {
          "output_type": "stream",
          "text": [
            "\n",
            "loss :  35.252595245415435 val loss :  24.61544989417581 \n",
            "\n",
            "Validation loss decreased (27.964834 --> 24.615450).  Saving model ...\n"
          ],
          "name": "stdout"
        },
        {
          "output_type": "stream",
          "text": [
            "\r  1%|          | 10/1000 [00:32<53:51,  3.26s/it]"
          ],
          "name": "stderr"
        },
        {
          "output_type": "stream",
          "text": [
            "\n",
            "loss :  33.487113627981635 val loss :  24.87942902060116 \n",
            "\n",
            "EarlyStopping counter: 1 out of 25\n"
          ],
          "name": "stdout"
        },
        {
          "output_type": "stream",
          "text": [
            "\r  1%|          | 11/1000 [00:35<53:38,  3.25s/it]"
          ],
          "name": "stderr"
        },
        {
          "output_type": "stream",
          "text": [
            "\n",
            "loss :  32.1474157833884 val loss :  27.765911910113168 \n",
            "\n",
            "EarlyStopping counter: 2 out of 25\n"
          ],
          "name": "stdout"
        },
        {
          "output_type": "stream",
          "text": [
            "\r  1%|          | 12/1000 [00:39<53:22,  3.24s/it]"
          ],
          "name": "stderr"
        },
        {
          "output_type": "stream",
          "text": [
            "\n",
            "loss :  31.513006095345137 val loss :  23.31137351989746 \n",
            "\n",
            "Validation loss decreased (24.615450 --> 23.311374).  Saving model ...\n"
          ],
          "name": "stdout"
        },
        {
          "output_type": "stream",
          "text": [
            "\r  1%|▏         | 13/1000 [00:42<52:53,  3.22s/it]"
          ],
          "name": "stderr"
        },
        {
          "output_type": "stream",
          "text": [
            "\n",
            "loss :  31.172417674504274 val loss :  23.150326560525333 \n",
            "\n",
            "Validation loss decreased (23.311374 --> 23.150327).  Saving model ...\n"
          ],
          "name": "stdout"
        },
        {
          "output_type": "stream",
          "text": [
            "\r  1%|▏         | 14/1000 [00:45<53:20,  3.25s/it]"
          ],
          "name": "stderr"
        },
        {
          "output_type": "stream",
          "text": [
            "\n",
            "loss :  28.942461734122418 val loss :  26.324468590231504 \n",
            "\n",
            "EarlyStopping counter: 1 out of 25\n"
          ],
          "name": "stdout"
        },
        {
          "output_type": "stream",
          "text": [
            "\r  2%|▏         | 15/1000 [00:48<54:00,  3.29s/it]"
          ],
          "name": "stderr"
        },
        {
          "output_type": "stream",
          "text": [
            "\n",
            "loss :  28.560179700242713 val loss :  22.33056054956773 \n",
            "\n",
            "Validation loss decreased (23.150327 --> 22.330561).  Saving model ...\n"
          ],
          "name": "stdout"
        },
        {
          "output_type": "stream",
          "text": [
            "\r  2%|▏         | 16/1000 [00:52<53:41,  3.27s/it]"
          ],
          "name": "stderr"
        },
        {
          "output_type": "stream",
          "text": [
            "\n",
            "loss :  28.38083677088961 val loss :  21.470344588335823 \n",
            "\n",
            "Validation loss decreased (22.330561 --> 21.470345).  Saving model ...\n"
          ],
          "name": "stdout"
        },
        {
          "output_type": "stream",
          "text": [
            "\r  2%|▏         | 17/1000 [00:55<53:34,  3.27s/it]"
          ],
          "name": "stderr"
        },
        {
          "output_type": "stream",
          "text": [
            "\n",
            "loss :  28.07728951366235 val loss :  24.244422396491554 \n",
            "\n",
            "EarlyStopping counter: 1 out of 25\n"
          ],
          "name": "stdout"
        },
        {
          "output_type": "stream",
          "text": [
            "\r  2%|▏         | 18/1000 [00:58<53:13,  3.25s/it]"
          ],
          "name": "stderr"
        },
        {
          "output_type": "stream",
          "text": [
            "\n",
            "loss :  26.604254171357933 val loss :  24.001614368663116 \n",
            "\n",
            "EarlyStopping counter: 2 out of 25\n"
          ],
          "name": "stdout"
        },
        {
          "output_type": "stream",
          "text": [
            "\r  2%|▏         | 19/1000 [01:01<53:10,  3.25s/it]"
          ],
          "name": "stderr"
        },
        {
          "output_type": "stream",
          "text": [
            "\n",
            "loss :  25.575181937386805 val loss :  27.482950053495518 \n",
            "\n",
            "EarlyStopping counter: 3 out of 25\n"
          ],
          "name": "stdout"
        },
        {
          "output_type": "stream",
          "text": [
            "\r  2%|▏         | 20/1000 [01:05<53:30,  3.28s/it]"
          ],
          "name": "stderr"
        },
        {
          "output_type": "stream",
          "text": [
            "\n",
            "loss :  25.59363959021602 val loss :  22.977286024654614 \n",
            "\n",
            "EarlyStopping counter: 4 out of 25\n"
          ],
          "name": "stdout"
        },
        {
          "output_type": "stream",
          "text": [
            "\r  2%|▏         | 21/1000 [01:08<53:55,  3.31s/it]"
          ],
          "name": "stderr"
        },
        {
          "output_type": "stream",
          "text": [
            "\n",
            "loss :  24.610507464577967 val loss :  26.52589922512279 \n",
            "\n",
            "EarlyStopping counter: 5 out of 25\n"
          ],
          "name": "stdout"
        },
        {
          "output_type": "stream",
          "text": [
            "\r  2%|▏         | 22/1000 [01:11<53:22,  3.27s/it]"
          ],
          "name": "stderr"
        },
        {
          "output_type": "stream",
          "text": [
            "\n",
            "loss :  24.810784214777303 val loss :  25.315748618630803 \n",
            "\n",
            "EarlyStopping counter: 6 out of 25\n"
          ],
          "name": "stdout"
        },
        {
          "output_type": "stream",
          "text": [
            "\r  2%|▏         | 23/1000 [01:15<52:46,  3.24s/it]"
          ],
          "name": "stderr"
        },
        {
          "output_type": "stream",
          "text": [
            "\n",
            "loss :  23.963814380321097 val loss :  26.516433435327865 \n",
            "\n",
            "EarlyStopping counter: 7 out of 25\n"
          ],
          "name": "stdout"
        },
        {
          "output_type": "stream",
          "text": [
            "\r  2%|▏         | 24/1000 [01:18<52:29,  3.23s/it]"
          ],
          "name": "stderr"
        },
        {
          "output_type": "stream",
          "text": [
            "\n",
            "loss :  23.44406789414426 val loss :  26.530548768884994 \n",
            "\n",
            "EarlyStopping counter: 8 out of 25\n"
          ],
          "name": "stdout"
        },
        {
          "output_type": "stream",
          "text": [
            "\r  2%|▎         | 25/1000 [01:21<52:26,  3.23s/it]"
          ],
          "name": "stderr"
        },
        {
          "output_type": "stream",
          "text": [
            "\n",
            "loss :  23.795731328057904 val loss :  22.721342961928425 \n",
            "\n",
            "EarlyStopping counter: 9 out of 25\n"
          ],
          "name": "stdout"
        },
        {
          "output_type": "stream",
          "text": [
            "\r  3%|▎         | 26/1000 [01:24<52:28,  3.23s/it]"
          ],
          "name": "stderr"
        },
        {
          "output_type": "stream",
          "text": [
            "\n",
            "loss :  23.076894486204107 val loss :  24.31846424551571 \n",
            "\n",
            "EarlyStopping counter: 10 out of 25\n"
          ],
          "name": "stdout"
        },
        {
          "output_type": "stream",
          "text": [
            "\r  3%|▎         | 27/1000 [01:27<52:21,  3.23s/it]"
          ],
          "name": "stderr"
        },
        {
          "output_type": "stream",
          "text": [
            "\n",
            "loss :  22.63908820456647 val loss :  32.14412343642291 \n",
            "\n",
            "EarlyStopping counter: 11 out of 25\n"
          ],
          "name": "stdout"
        },
        {
          "output_type": "stream",
          "text": [
            "\r  3%|▎         | 28/1000 [01:31<52:00,  3.21s/it]"
          ],
          "name": "stderr"
        },
        {
          "output_type": "stream",
          "text": [
            "\n",
            "loss :  21.923087884348334 val loss :  23.075167869119085 \n",
            "\n",
            "EarlyStopping counter: 12 out of 25\n"
          ],
          "name": "stdout"
        },
        {
          "output_type": "stream",
          "text": [
            "\r  3%|▎         | 29/1000 [01:34<51:59,  3.21s/it]"
          ],
          "name": "stderr"
        },
        {
          "output_type": "stream",
          "text": [
            "\n",
            "loss :  21.91043489199158 val loss :  19.53433109732235 \n",
            "\n",
            "Validation loss decreased (21.470345 --> 19.534331).  Saving model ...\n"
          ],
          "name": "stdout"
        },
        {
          "output_type": "stream",
          "text": [
            "\r  3%|▎         | 30/1000 [01:37<51:53,  3.21s/it]"
          ],
          "name": "stderr"
        },
        {
          "output_type": "stream",
          "text": [
            "\n",
            "loss :  21.1011975099009 val loss :  23.84995632171631 \n",
            "\n",
            "EarlyStopping counter: 1 out of 25\n"
          ],
          "name": "stdout"
        },
        {
          "output_type": "stream",
          "text": [
            "\r  3%|▎         | 31/1000 [01:40<52:01,  3.22s/it]"
          ],
          "name": "stderr"
        },
        {
          "output_type": "stream",
          "text": [
            "\n",
            "loss :  21.351204239730293 val loss :  24.78384677662569 \n",
            "\n",
            "EarlyStopping counter: 2 out of 25\n"
          ],
          "name": "stdout"
        },
        {
          "output_type": "stream",
          "text": [
            "\r  3%|▎         | 32/1000 [01:43<51:54,  3.22s/it]"
          ],
          "name": "stderr"
        },
        {
          "output_type": "stream",
          "text": [
            "\n",
            "loss :  20.906708206690794 val loss :  26.61368734696332 \n",
            "\n",
            "EarlyStopping counter: 3 out of 25\n"
          ],
          "name": "stdout"
        },
        {
          "output_type": "stream",
          "text": [
            "\r  3%|▎         | 33/1000 [01:47<51:49,  3.22s/it]"
          ],
          "name": "stderr"
        },
        {
          "output_type": "stream",
          "text": [
            "\n",
            "loss :  20.66003423041486 val loss :  25.4957929947797 \n",
            "\n",
            "EarlyStopping counter: 4 out of 25\n"
          ],
          "name": "stdout"
        },
        {
          "output_type": "stream",
          "text": [
            "\r  3%|▎         | 34/1000 [01:50<51:39,  3.21s/it]"
          ],
          "name": "stderr"
        },
        {
          "output_type": "stream",
          "text": [
            "\n",
            "loss :  20.430438400160337 val loss :  27.6553440767176 \n",
            "\n",
            "EarlyStopping counter: 5 out of 25\n"
          ],
          "name": "stdout"
        },
        {
          "output_type": "stream",
          "text": [
            "\r  4%|▎         | 35/1000 [01:53<51:30,  3.20s/it]"
          ],
          "name": "stderr"
        },
        {
          "output_type": "stream",
          "text": [
            "\n",
            "loss :  19.86827072522319 val loss :  24.70189124836641 \n",
            "\n",
            "EarlyStopping counter: 6 out of 25\n"
          ],
          "name": "stdout"
        },
        {
          "output_type": "stream",
          "text": [
            "\r  4%|▎         | 36/1000 [01:56<51:14,  3.19s/it]"
          ],
          "name": "stderr"
        },
        {
          "output_type": "stream",
          "text": [
            "\n",
            "loss :  19.52727869385523 val loss :  26.971999022539926 \n",
            "\n",
            "EarlyStopping counter: 7 out of 25\n"
          ],
          "name": "stdout"
        },
        {
          "output_type": "stream",
          "text": [
            "\r  4%|▎         | 37/1000 [01:59<51:12,  3.19s/it]"
          ],
          "name": "stderr"
        },
        {
          "output_type": "stream",
          "text": [
            "\n",
            "loss :  19.25849926725347 val loss :  25.134658061756806 \n",
            "\n",
            "EarlyStopping counter: 8 out of 25\n"
          ],
          "name": "stdout"
        },
        {
          "output_type": "stream",
          "text": [
            "\r  4%|▍         | 38/1000 [02:03<51:30,  3.21s/it]"
          ],
          "name": "stderr"
        },
        {
          "output_type": "stream",
          "text": [
            "\n",
            "loss :  19.124821345011394 val loss :  26.625990003698014 \n",
            "\n",
            "EarlyStopping counter: 9 out of 25\n"
          ],
          "name": "stdout"
        },
        {
          "output_type": "stream",
          "text": [
            "\r  4%|▍         | 39/1000 [02:06<51:45,  3.23s/it]"
          ],
          "name": "stderr"
        },
        {
          "output_type": "stream",
          "text": [
            "\n",
            "loss :  19.07850939162234 val loss :  31.603568537095015 \n",
            "\n",
            "EarlyStopping counter: 10 out of 25\n"
          ],
          "name": "stdout"
        },
        {
          "output_type": "stream",
          "text": [
            "\r  4%|▍         | 40/1000 [02:09<52:02,  3.25s/it]"
          ],
          "name": "stderr"
        },
        {
          "output_type": "stream",
          "text": [
            "\n",
            "loss :  18.781967802250637 val loss :  28.858214883243335 \n",
            "\n",
            "EarlyStopping counter: 11 out of 25\n"
          ],
          "name": "stdout"
        },
        {
          "output_type": "stream",
          "text": [
            "\r  4%|▍         | 41/1000 [02:12<52:05,  3.26s/it]"
          ],
          "name": "stderr"
        },
        {
          "output_type": "stream",
          "text": [
            "\n",
            "loss :  18.920536261078315 val loss :  28.24197145349839 \n",
            "\n",
            "EarlyStopping counter: 12 out of 25\n"
          ],
          "name": "stdout"
        },
        {
          "output_type": "stream",
          "text": [
            "\r  4%|▍         | 42/1000 [02:16<51:34,  3.23s/it]"
          ],
          "name": "stderr"
        },
        {
          "output_type": "stream",
          "text": [
            "\n",
            "loss :  18.401650794008944 val loss :  26.666305407355814 \n",
            "\n",
            "EarlyStopping counter: 13 out of 25\n"
          ],
          "name": "stdout"
        },
        {
          "output_type": "stream",
          "text": [
            "\r  4%|▍         | 43/1000 [02:19<51:06,  3.20s/it]"
          ],
          "name": "stderr"
        },
        {
          "output_type": "stream",
          "text": [
            "\n",
            "loss :  18.30732153493462 val loss :  31.023185124116786 \n",
            "\n",
            "EarlyStopping counter: 14 out of 25\n"
          ],
          "name": "stdout"
        },
        {
          "output_type": "stream",
          "text": [
            "\r  4%|▍         | 44/1000 [02:22<51:25,  3.23s/it]"
          ],
          "name": "stderr"
        },
        {
          "output_type": "stream",
          "text": [
            "\n",
            "loss :  18.175000014880023 val loss :  28.403629033705766 \n",
            "\n",
            "EarlyStopping counter: 15 out of 25\n"
          ],
          "name": "stdout"
        },
        {
          "output_type": "stream",
          "text": [
            "\r  4%|▍         | 45/1000 [02:25<51:25,  3.23s/it]"
          ],
          "name": "stderr"
        },
        {
          "output_type": "stream",
          "text": [
            "\n",
            "loss :  17.5049875881655 val loss :  31.121160529641543 \n",
            "\n",
            "EarlyStopping counter: 16 out of 25\n"
          ],
          "name": "stdout"
        },
        {
          "output_type": "stream",
          "text": [
            "\r  5%|▍         | 46/1000 [02:29<51:21,  3.23s/it]"
          ],
          "name": "stderr"
        },
        {
          "output_type": "stream",
          "text": [
            "\n",
            "loss :  17.523989231028455 val loss :  30.78406613293816 \n",
            "\n",
            "EarlyStopping counter: 17 out of 25\n"
          ],
          "name": "stdout"
        },
        {
          "output_type": "stream",
          "text": [
            "\r  5%|▍         | 47/1000 [02:32<51:04,  3.22s/it]"
          ],
          "name": "stderr"
        },
        {
          "output_type": "stream",
          "text": [
            "\n",
            "loss :  17.328192514730684 val loss :  30.294535917394303 \n",
            "\n",
            "EarlyStopping counter: 18 out of 25\n"
          ],
          "name": "stdout"
        },
        {
          "output_type": "stream",
          "text": [
            "\r  5%|▍         | 48/1000 [02:35<50:39,  3.19s/it]"
          ],
          "name": "stderr"
        },
        {
          "output_type": "stream",
          "text": [
            "\n",
            "loss :  17.359165316777872 val loss :  30.33571469924029 \n",
            "\n",
            "EarlyStopping counter: 19 out of 25\n"
          ],
          "name": "stdout"
        },
        {
          "output_type": "stream",
          "text": [
            "\r  5%|▍         | 49/1000 [02:38<50:34,  3.19s/it]"
          ],
          "name": "stderr"
        },
        {
          "output_type": "stream",
          "text": [
            "\n",
            "loss :  16.897154324443626 val loss :  28.318928348316867 \n",
            "\n",
            "EarlyStopping counter: 20 out of 25\n"
          ],
          "name": "stdout"
        },
        {
          "output_type": "stream",
          "text": [
            "\r  5%|▌         | 50/1000 [02:41<50:31,  3.19s/it]"
          ],
          "name": "stderr"
        },
        {
          "output_type": "stream",
          "text": [
            "\n",
            "loss :  17.218307227953105 val loss :  30.5758415222168 \n",
            "\n",
            "EarlyStopping counter: 21 out of 25\n"
          ],
          "name": "stdout"
        },
        {
          "output_type": "stream",
          "text": [
            "\r  5%|▌         | 51/1000 [02:44<50:27,  3.19s/it]"
          ],
          "name": "stderr"
        },
        {
          "output_type": "stream",
          "text": [
            "\n",
            "loss :  17.093895408278662 val loss :  28.47636598699233 \n",
            "\n",
            "EarlyStopping counter: 22 out of 25\n"
          ],
          "name": "stdout"
        },
        {
          "output_type": "stream",
          "text": [
            "\r  5%|▌         | 52/1000 [02:48<50:12,  3.18s/it]"
          ],
          "name": "stderr"
        },
        {
          "output_type": "stream",
          "text": [
            "\n",
            "loss :  16.637415425997254 val loss :  33.502242840037624 \n",
            "\n",
            "EarlyStopping counter: 23 out of 25\n"
          ],
          "name": "stdout"
        },
        {
          "output_type": "stream",
          "text": [
            "\r  5%|▌         | 53/1000 [02:51<50:12,  3.18s/it]"
          ],
          "name": "stderr"
        },
        {
          "output_type": "stream",
          "text": [
            "\n",
            "loss :  16.466057124712787 val loss :  28.514393626942354 \n",
            "\n",
            "EarlyStopping counter: 24 out of 25\n",
            "\n",
            "loss :  16.61476411548912 val loss :  34.382534947114834 \n",
            "\n",
            "EarlyStopping counter: 25 out of 25\n",
            "Early stopping\n"
          ],
          "name": "stdout"
        }
      ]
    },
    {
      "cell_type": "code",
      "metadata": {
        "id": "0YugWGXc1Jy6",
        "colab_type": "code",
        "outputId": "4c6b8466-2081-451c-eb23-02c779c17e5d",
        "colab": {
          "base_uri": "https://localhost:8080/",
          "height": 585
        }
      },
      "source": [
        "# visualize the loss as the network trained\n",
        "fig = plt.figure(figsize=(10,8))\n",
        "plt.plot(range(1,len(train_loss)+1),train_loss, label='Training Loss')\n",
        "plt.plot(range(1,len(valid_loss)+1),valid_loss,label='Validation Loss')\n",
        "\n",
        "# find position of lowest validation loss\n",
        "minposs = valid_loss.index(min(valid_loss))+1 \n",
        "plt.axvline(minposs, linestyle='--', color='r',label='Early Stopping Checkpoint')\n",
        "\n",
        "plt.xlabel('epochs')\n",
        "plt.ylabel('loss')\n",
        "plt.ylim(0, 100) # consistent scale\n",
        "plt.xlim(0, len(train_loss)+1) # consistent scale\n",
        "plt.grid(True)\n",
        "plt.legend()\n",
        "plt.tight_layout()\n",
        "plt.show()\n",
        "fig.savefig('loss_plot.png', bbox_inches='tight')"
      ],
      "execution_count": 17,
      "outputs": [
        {
          "output_type": "display_data",
          "data": {
            "image/png": "[encoded data removed]",
            "text/plain": [
              "<Figure size 720x576 with 1 Axes>"
            ]
          },
          "metadata": {
            "tags": [],
            "needs_background": "light"
          }
        }
      ]
    },
    {
      "cell_type": "code",
      "metadata": {
        "id": "Lbzek-ME1ML7",
        "colab_type": "code",
        "colab": {}
      },
      "source": [
        "def test(net):\n",
        "    predictions = []\n",
        "    with torch.no_grad():\n",
        "        for i, sample in enumerate(testloader):\n",
        "            predict = []\n",
        "            x ,y = sample\n",
        "            x = x.view(-1, IMG_CHANNELS, IMG_SIZE, IMG_SIZE)\n",
        "            \n",
        "            x = x.to(device)\n",
        "            y = y.to(device)\n",
        "            \n",
        "            a, b, y_p, d = net(x)\n",
        "\n",
        "            #get class of a, b, d\n",
        "            _, aa = a.max(1)\n",
        "            _, bb = b.max(1)\n",
        "            _, dd = d.max(1)\n",
        "\n",
        "            aa = aa.to(\"cpu\")\n",
        "            bb = bb.to(\"cpu\")\n",
        "            y_p = y_p.to(\"cpu\")\n",
        "            dd = dd.to(\"cpu\")\n",
        "\n",
        "            predict.append(aa)\n",
        "            predict.append(bb)\n",
        "            predict.append(y_p)\n",
        "            predict.append(dd)\n",
        "            predict = np.array(predict)\n",
        "            predictions.append(predict)\n",
        "            \n",
        "\n",
        "    #print(predictions)\n",
        "    #print()\n",
        "    predictions = np.array(predictions)\n",
        "    predictions = predictions.reshape(-1, OUTPUT_LABEL_SIZE)\n",
        "    df = DataFrame(predictions)\n",
        "    df.to_excel('predictions.xlsx', header=None)"
      ],
      "execution_count": 0,
      "outputs": []
    },
    {
      "cell_type": "code",
      "metadata": {
        "id": "M1WBAWnftkzr",
        "colab_type": "code",
        "outputId": "a0a01d1e-72b1-4f79-9668-c46b0055ae97",
        "colab": {
          "base_uri": "https://localhost:8080/",
          "height": 121
        }
      },
      "source": [
        "testsets = []\n",
        "for f in tqdm(os.listdir(TEST_PATH_LABEL)):\n",
        "  path  = os.path.join(TEST_PATH_LABEL, f)\n",
        "  testset = DataCaller_Excel(path, IMG_SIZE)\n",
        "  print(testset.__len__())\n",
        "  testsets.append(testset)\n",
        "\n",
        "testset = ConcatDataset(testsets)"
      ],
      "execution_count": 21,
      "outputs": [
        {
          "output_type": "stream",
          "text": [
            "\n",
            "\n",
            "  0%|          | 0/1 [00:00<?, ?it/s]\u001b[A\u001b[A\n",
            "\n",
            "100%|██████████| 1/1 [00:12<00:00, 12.90s/it]"
          ],
          "name": "stderr"
        },
        {
          "output_type": "stream",
          "text": [
            "200\n"
          ],
          "name": "stdout"
        },
        {
          "output_type": "stream",
          "text": [
            "\n"
          ],
          "name": "stderr"
        }
      ]
    },
    {
      "cell_type": "code",
      "metadata": {
        "id": "xB9Ta8kV1Oay",
        "colab_type": "code",
        "colab": {}
      },
      "source": [
        "testloader = DataLoader(testset, batch_size=1, shuffle=False)\n",
        "trained_net = Net()\n",
        "trained_net.load_state_dict(torch.load(LOAD_PRETRAINED_PATH))\n",
        "trained_net.to(device)\n",
        "trained_net.eval()\n",
        "test(trained_net)"
      ],
      "execution_count": 0,
      "outputs": []
    },
    {
      "cell_type": "code",
      "metadata": {
        "id": "TUGAIXy_1PnL",
        "colab_type": "code",
        "colab": {}
      },
      "source": [
        ""
      ],
      "execution_count": 0,
      "outputs": []
    }
  ]
}
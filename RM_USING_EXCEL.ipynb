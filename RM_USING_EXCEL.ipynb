{
  "nbformat": 4,
  "nbformat_minor": 0,
  "metadata": {
    "colab": {
      "name": "RM_USING_EXCEL.ipynb",
      "provenance": [],
      "collapsed_sections": [],
      "authorship_tag": "ABX9TyMCUUxSZ9EOzspZuBPCdsGl",
      "include_colab_link": true
    },
    "kernelspec": {
      "name": "python3",
      "display_name": "Python 3"
    },
    "accelerator": "GPU"
  },
  "cells": [
    {
      "cell_type": "markdown",
      "metadata": {
        "id": "view-in-github",
        "colab_type": "text"
      },
      "source": [
        "<a href=\"https://colab.research.google.com/github/joey0320/reversemethod/blob/colabcodes_SingleSource_fixedX/RM_USING_EXCEL.ipynb\" target=\"_parent\"><img src=\"https://colab.research.google.com/assets/colab-badge.svg\" alt=\"Open In Colab\"/></a>"
      ]
    },
    {
      "cell_type": "code",
      "metadata": {
        "id": "pJff_qD0zq3L",
        "colab_type": "code",
        "colab": {}
      },
      "source": [
        "#!git clone https://github.com/joey0320/reversemethod.git"
      ],
      "execution_count": 0,
      "outputs": []
    },
    {
      "cell_type": "code",
      "metadata": {
        "id": "QZPG-Fw9zs6U",
        "colab_type": "code",
        "colab": {}
      },
      "source": [
        "#!git clone https://github.com/joey0320/reversemethod.git"
      ],
      "execution_count": 0,
      "outputs": []
    },
    {
      "cell_type": "code",
      "metadata": {
        "id": "03J48aW0Reqs",
        "colab_type": "code",
        "outputId": "42bcc60b-3e7c-4fe5-d780-da5f27aeed5c",
        "colab": {
          "base_uri": "https://localhost:8080/",
          "height": 316
        }
      },
      "source": [
        "gpu_info = !nvidia-smi\n",
        "gpu_info = '\\n'.join(gpu_info)\n",
        "if gpu_info.find('failed') >= 0:\n",
        "  print('Select the Runtime → \"Change runtime type\" menu to enable a GPU accelerator, ')\n",
        "  print('and then re-execute this cell.')\n",
        "else:\n",
        "  print(gpu_info)"
      ],
      "execution_count": 0,
      "outputs": [
        {
          "output_type": "stream",
          "text": [
            "Fri Apr 17 08:02:44 2020       \n",
            "+-----------------------------------------------------------------------------+\n",
            "| NVIDIA-SMI 440.64.00    Driver Version: 418.67       CUDA Version: 10.1     |\n",
            "|-------------------------------+----------------------+----------------------+\n",
            "| GPU  Name        Persistence-M| Bus-Id        Disp.A | Volatile Uncorr. ECC |\n",
            "| Fan  Temp  Perf  Pwr:Usage/Cap|         Memory-Usage | GPU-Util  Compute M. |\n",
            "|===============================+======================+======================|\n",
            "|   0  Tesla P100-PCIE...  Off  | 00000000:00:04.0 Off |                    0 |\n",
            "| N/A   40C    P0    27W / 250W |      0MiB / 16280MiB |      0%      Default |\n",
            "+-------------------------------+----------------------+----------------------+\n",
            "                                                                               \n",
            "+-----------------------------------------------------------------------------+\n",
            "| Processes:                                                       GPU Memory |\n",
            "|  GPU       PID   Type   Process name                             Usage      |\n",
            "|=============================================================================|\n",
            "|  No running processes found                                                 |\n",
            "+-----------------------------------------------------------------------------+\n"
          ],
          "name": "stdout"
        }
      ]
    },
    {
      "cell_type": "code",
      "metadata": {
        "id": "WB26ruGiz071",
        "colab_type": "code",
        "outputId": "dc7670f2-e3f0-40a3-b37e-f0daa6751207",
        "colab": {
          "base_uri": "https://localhost:8080/",
          "height": 125
        }
      },
      "source": [
        "from google.colab import drive\n",
        "\n",
        "drive.mount('/content/gdrive')"
      ],
      "execution_count": 0,
      "outputs": [
        {
          "output_type": "stream",
          "text": [
            "Go to this URL in a browser: https://accounts.google.com/o/oauth2/auth?client_id=947318989803-6bn6qk8qdgf4n4g3pfee6491hc0brc4i.apps.googleusercontent.com&redirect_uri=urn%3aietf%3awg%3aoauth%3a2.0%3aoob&response_type=code&scope=email%20https%3a%2f%2fwww.googleapis.com%2fauth%2fdocs.test%20https%3a%2f%2fwww.googleapis.com%2fauth%2fdrive%20https%3a%2f%2fwww.googleapis.com%2fauth%2fdrive.photos.readonly%20https%3a%2f%2fwww.googleapis.com%2fauth%2fpeopleapi.readonly\n",
            "\n",
            "Enter your authorization code:\n",
            "··········\n",
            "Mounted at /content/gdrive\n"
          ],
          "name": "stdout"
        }
      ]
    },
    {
      "cell_type": "code",
      "metadata": {
        "id": "-9h7q8NTz3CT",
        "colab_type": "code",
        "outputId": "d532418e-d4bd-4450-a91e-d8de4b0a4515",
        "colab": {
          "base_uri": "https://localhost:8080/",
          "height": 34
        }
      },
      "source": [
        "import numpy as np\n",
        "import pandas as pd\n",
        "from pandas import DataFrame\n",
        "import torch\n",
        "import torch.nn as nn\n",
        "import torch.nn.functional as F\n",
        "import torch.optim as optim\n",
        "from torch.utils.data import Dataset\n",
        "from torch.utils.data import DataLoader\n",
        "from torch.utils.data import ConcatDataset\n",
        "import matplotlib.pyplot as plt\n",
        "import math\n",
        "import os\n",
        "from tqdm import tqdm\n",
        "import time\n",
        "import cv2\n",
        "#from DataCaller_Excel import DataCaller_Excel\n",
        "#from Model import Net\n",
        "#from EarlyStop import EarlyStopping\n",
        "\n",
        "#use gpu    please somebody buy me a gpu .......\n",
        "USE_GPU = True\n",
        "if USE_GPU and torch.cuda.is_available():\n",
        "    device = torch.device('cuda')\n",
        "else:\n",
        "    device = torch.device('cpu')\n",
        "print(device)\n",
        "\n",
        "#Global variables\n",
        "LOAD_DATA = False\n",
        "BATCH_SIZE = 16\n",
        "VAL_BATCH_SIZE = 16\n",
        "LEARNING_RATE = 2e-6\n",
        "EPOCHS = 1000\n",
        "PATIENCE =13\n",
        "VALIDATE_EVERY = 10\n",
        "MODEL_NAME = f\"model-{int(time.time())}\"\n",
        "IMG_SIZE = 64\n",
        "IMG_CHANNELS = 1\n",
        "OUTPUT_LABEL_SIZE = 4\n",
        "OUTPUT_AB = 2\n",
        "OUTPUT_Y = 1\n",
        "OUTPUT_D = 1"
      ],
      "execution_count": 0,
      "outputs": [
        {
          "output_type": "stream",
          "text": [
            "cuda\n"
          ],
          "name": "stdout"
        }
      ]
    },
    {
      "cell_type": "code",
      "metadata": {
        "id": "fR_c4LFQ0Ma2",
        "colab_type": "code",
        "colab": {}
      },
      "source": [
        "\n",
        "class DataCaller_Excel(Dataset):\n",
        "    def __init__(self, data_path, inputsize):\n",
        "        \n",
        "        self.data_path = data_path\n",
        "        self.inputsize = inputsize\n",
        "        \n",
        "        data = pd.read_excel(open(self.data_path, 'rb'), sheet_name='Sheet1', header=None)\n",
        "        data = np.array(data)\n",
        "        data = data.reshape(-1, 1, inputsize, inputsize)\n",
        "        self.data = torch.from_numpy(data).float()\n",
        "        \n",
        "        label = pd.read_excel(open(self.data_path, 'rb'), sheet_name='Sheet2', header=None)\n",
        "        self.label = torch.from_numpy( np.array(label) ).float()\n",
        "    \n",
        "    def __len__(self):\n",
        "        return len(self.data)\n",
        "    \n",
        "    def __getitem__(self, idx):\n",
        "        x = torch.FloatTensor(self.data[idx])\n",
        "        y = torch.FloatTensor(self.label[idx])\n",
        "        return x, y"
      ],
      "execution_count": 0,
      "outputs": []
    },
    {
      "cell_type": "code",
      "metadata": {
        "id": "hsUhE6kd0Y6r",
        "colab_type": "code",
        "colab": {}
      },
      "source": [
        "\n",
        "class EarlyStopping:\n",
        "    \"\"\"Early stops the training if validation loss doesn't improve after a given patience.\"\"\"\n",
        "    def __init__(self, patience=7, verbose=False, delta=0):\n",
        "        \"\"\"\n",
        "        Args:\n",
        "            patience (int): How long to wait after last time validation loss improved.\n",
        "                            Default: 7\n",
        "            verbose (bool): If True, prints a message for each validation loss improvement. \n",
        "                            Default: False\n",
        "            delta (float): Minimum change in the monitored quantity to qualify as an improvement.\n",
        "                            Default: 0\n",
        "        \"\"\"\n",
        "        self.patience = patience\n",
        "        self.verbose = verbose\n",
        "        self.counter = 0\n",
        "        self.best_score = None\n",
        "        self.early_stop = False\n",
        "        self.val_loss_min = np.Inf\n",
        "        self.delta = delta\n",
        "\n",
        "    def __call__(self, val_loss, model):\n",
        "\n",
        "        score = - val_loss\n",
        "\n",
        "        if self.best_score is None:\n",
        "            self.best_score = score\n",
        "            self.save_checkpoint(val_loss, model)\n",
        "        elif score < self.best_score + self.delta:\n",
        "            self.counter += 1\n",
        "            print(f'EarlyStopping counter: {self.counter} out of {self.patience}')\n",
        "            if self.counter >= self.patience:\n",
        "                self.early_stop = True\n",
        "        else:\n",
        "            self.best_score = score\n",
        "            self.save_checkpoint(val_loss, model)\n",
        "            self.counter = 0\n",
        "\n",
        "    def save_checkpoint(self, val_loss, model):\n",
        "        '''Saves model when validation loss decrease.'''\n",
        "        if self.verbose:\n",
        "            print(f'Validation loss decreased ({self.val_loss_min:.6f} --> {val_loss:.6f}).  Saving model ...')\n",
        "        torch.save(model.state_dict(), 'checkpoint.pt')\n",
        "        self.val_loss_min = val_loss"
      ],
      "execution_count": 0,
      "outputs": []
    },
    {
      "cell_type": "code",
      "metadata": {
        "id": "s4DMLbAR0b3j",
        "colab_type": "code",
        "colab": {}
      },
      "source": [
        "import torch\n",
        "import torch.nn as nn\n",
        "\n",
        "class Net(nn.Module):\n",
        "    def __init__(self):\n",
        "        super().__init__()\n",
        "        \n",
        "        self.cnn = nn.Sequential(\n",
        "            nn.Conv2d(IMG_CHANNELS, 16, kernel_size=3, padding=1),\n",
        "            nn.ReLU(),\n",
        "            #nn.BatchNorm2d(16),\n",
        "            #nn.Conv2d(16, 16, kernel_size=3, padding=1),\n",
        "            #nn.ReLU(),\n",
        "            nn.MaxPool2d(2, 2),\n",
        "            #32 x 32 x 16\n",
        "            \n",
        "            nn.Conv2d(16, 16, kernel_size=3, padding=1),\n",
        "            nn.ReLU(),\n",
        "            nn.Conv2d(16, 32, kernel_size=3, padding=1),\n",
        "            #nn.BatchNorm2d(64),\n",
        "            nn.ReLU(),\n",
        "            nn.MaxPool2d(2, 2),\n",
        "            #16 x 16 x 32\n",
        "            \n",
        "            nn.Conv2d(32, 64, kernel_size=3, padding=1),\n",
        "            nn.ReLU(),\n",
        "            nn.Conv2d(64, 64, kernel_size=3, padding=1),\n",
        "            nn.ReLU(),\n",
        "            nn.MaxPool2d(2, 2),\n",
        "            #8 x 8 x 64\n",
        "\n",
        "            nn.Conv2d(64, 64, kernel_size=3, padding=1),\n",
        "            nn.Dropout(0.4),\n",
        "            nn.ReLU(),\n",
        "            nn.Conv2d(64, 64, kernel_size=3, padding=1),\n",
        "            nn.ReLU(),\n",
        "            nn.MaxPool2d(2, 2),\n",
        "            #4 x 4 x 128\n",
        "            \n",
        "            nn.Conv2d(64, 128, kernel_size=3, padding=1),\n",
        "            nn.ReLU(),\n",
        "            nn.Conv2d(128, 128, kernel_size=3, padding=1),\n",
        "            nn.ReLU(),\n",
        "            nn.MaxPool2d(2, 2),\n",
        "            #2 x 2 x 256\n",
        "\n",
        "            nn.Conv2d(128, 256, kernel_size=3, padding=1),\n",
        "            nn.ReLU(),\n",
        "            nn.Conv2d(256, 256, kernel_size=3, padding=1),\n",
        "            nn.ReLU(),\n",
        "            nn.MaxPool2d(2, 2),\n",
        "            #1 x 1 x 512\n",
        "            \n",
        "        )\n",
        "        self.fcc_ab = nn.Sequential(\n",
        "            nn.Linear(256, 128),\n",
        "            nn.ReLU(),\n",
        "            nn.Dropout(0.4),\n",
        "            nn.Linear(128, 64),\n",
        "            nn.ReLU(),\n",
        "            #nn.Dropout(0.4),\n",
        "            nn.Linear(64, OUTPUT_AB)\n",
        "        )\n",
        "        self.fcc_xy = nn.Sequential(\n",
        "            nn.Linear(256, 64),\n",
        "            nn.ReLU(),\n",
        "            nn.Dropout(0.4),\n",
        "            nn.Linear(64, 32),\n",
        "            nn.ReLU(),\n",
        "            nn.Linear(32, OUTPUT_Y)   \n",
        "        )\n",
        "        self.fcc_d = nn.Sequential(\n",
        "            nn.Linear(256, 64),\n",
        "            nn.ReLU(),\n",
        "            nn.Dropout(0.4),\n",
        "            nn.Linear(64, 32),\n",
        "            nn.ReLU(),\n",
        "            nn.Linear(32, OUTPUT_D)\n",
        "        )\n",
        "    def forward(self, x):\n",
        "        output = self.cnn(x)\n",
        "        feature_map = output.view(output.size(0), -1)\n",
        "        ab = self.fcc_ab(feature_map)\n",
        "        a = ab[:, :1]\n",
        "        b = ab[:, 1:]\n",
        "        xy = self.fcc_xy(feature_map)\n",
        "        d = self.fcc_d(feature_map)\n",
        "        return (a, b, xy, d)"
      ],
      "execution_count": 0,
      "outputs": []
    },
    {
      "cell_type": "code",
      "metadata": {
        "id": "enGbxU4s0fBb",
        "colab_type": "code",
        "colab": {}
      },
      "source": [
        "#data path\n",
        "DRIVE_PATH = '/content/gdrive/My Drive/Colab Notebooks'\n",
        "BASE_PATH = 'singlesource_class_fixed_x_trial2'\n",
        "TRAIN_PATH_LABEL = os.path.join(DRIVE_PATH, 'data', BASE_PATH, 'train')\n",
        "VAL_PATH_LABEL = os.path.join(DRIVE_PATH, 'data', BASE_PATH, 'val')\n",
        "TEST_PATH_LABEL = os.path.join(DRIVE_PATH, 'data', BASE_PATH, 'test')\n",
        "LOAD_PRETRAINED_PATH = os.path.join(DRIVE_PATH, 'Results', 'SingleSource_ByClasses_Fixed_X', 'traindata_Size_37250', 'checkpoint.pt')\n",
        "#TRAIN_PATH_IMG = os.path.join(DRIVE_PATH, 'images', BASE_PATH, 'train')\n",
        "#VAL_PATH_IMG = os.path.join(DRIVE_PATH, 'images', BASE_PATH, 'val')\n",
        "#TEST_PATH_IMG = os.path.join(DRIVE_PATH, 'images', BASE_PATH, 'test')"
      ],
      "execution_count": 0,
      "outputs": []
    },
    {
      "cell_type": "code",
      "metadata": {
        "id": "Sl119Ok5051m",
        "colab_type": "code",
        "colab": {}
      },
      "source": [
        "if LOAD_DATA:\n",
        "    trainsets = []\n",
        "    valsets = []\n",
        "    testsets = []\n",
        "    for f in tqdm(os.listdir(TRAIN_PATH_LABEL)):\n",
        "      path = os.path.join(TRAIN_PATH_LABEL, f)\n",
        "      trainset = DataCaller_Excel(path, IMG_SIZE)\n",
        "      print(trainset.__len__())\n",
        "      trainsets.append(trainset)\n",
        "\n",
        "    for f in tqdm(os.listdir(VAL_PATH_LABEL)):\n",
        "      path  = os.path.join(VAL_PATH_LABEL, f)\n",
        "      valset = DataCaller_Excel(path, IMG_SIZE)\n",
        "      print(valset.__len__())\n",
        "      valsets.append(valset)\n",
        "\n",
        "    for f in tqdm(os.listdir(TEST_PATH_LABEL)):\n",
        "      path  = os.path.join(TEST_PATH_LABEL, f)\n",
        "      testset = DataCaller_Excel(path, IMG_SIZE)\n",
        "      print(testset.__len__())\n",
        "      testsets.append(testset)\n",
        "\n",
        "    trainset = ConcatDataset(trainsets)\n",
        "    print(trainset.__len__())\n",
        "    valset = ConcatDataset(valsets)\n",
        "    print(valset.__len__())\n",
        "    testset = ConcatDataset(testsets)\n",
        "    print(testset.__len__())\n",
        "    #trainset = DataCaller(TRAIN_PATH_IMG, TRAIN_PATH_LABEL, IMG_SIZE)\n",
        "    #valset = DataCaller(VAL_PATH_IMG, VAL_PATH_LABEL, IMG_SIZE)\n",
        "    #testset = DataCaller(TEST_PATH_IMG, TEST_PATH_LABEL, IMG_SIZE)"
      ],
      "execution_count": 0,
      "outputs": []
    },
    {
      "cell_type": "code",
      "metadata": {
        "id": "JA0gFXCnLn0-",
        "colab_type": "code",
        "colab": {}
      },
      "source": [
        "#valsets = []\n",
        "#for f in tqdm(os.listdir(VAL_PATH_LABEL)):\n",
        "#  path  = os.path.join(VAL_PATH_LABEL, f)\n",
        "#  valset = DataCaller_Excel(path, IMG_SIZE)\n",
        "#  print(valset.__len__())\n",
        "#  valsets.append(valset)\n",
        "\n",
        "#valset = ConcatDataset(valsets)\n"
      ],
      "execution_count": 0,
      "outputs": []
    },
    {
      "cell_type": "code",
      "metadata": {
        "id": "CCRzbFvJ07bD",
        "colab_type": "code",
        "colab": {}
      },
      "source": [
        "#define dataloaders\n",
        "trainloader = DataLoader(trainset, batch_size = BATCH_SIZE, shuffle=True)\n",
        "valloader = DataLoader(valset, batch_size=VAL_BATCH_SIZE, shuffle=True)\n",
        "testloader = DataLoader(testset, batch_size=1, shuffle=False)"
      ],
      "execution_count": 0,
      "outputs": []
    },
    {
      "cell_type": "code",
      "metadata": {
        "id": "-bY-ORpG1Ew6",
        "colab_type": "code",
        "outputId": "cf120b75-05bc-4cd8-bd50-c95918a39665",
        "colab": {
          "base_uri": "https://localhost:8080/",
          "height": 1000
        }
      },
      "source": [
        "#just checking if the data is loaded properly\n",
        "cnt = 0\n",
        "for i, data in enumerate(trainloader):\n",
        "    x, y = data\n",
        "    x = np.array(x)\n",
        "    x = x.reshape(-1, IMG_CHANNELS, IMG_SIZE, IMG_SIZE)\n",
        "    #print(x)\n",
        "    #x = x.astype(int)\n",
        "    print(x)\n",
        "    print(x[0].shape)\n",
        "    #plt.imshow(x[0].reshape(IMG_SIZE, IMG_SIZE, -1))\n",
        "    #plt.imshow(x[0].reshape(IMG_SIZE, IMG_SIZE, -1), cmap='gray')\n",
        "    #plt.show()\n",
        "    #print(x[0])\n",
        "    print(y)\n",
        "    cnt += 1\n",
        "    if cnt==1:\n",
        "      break"
      ],
      "execution_count": 0,
      "outputs": [
        {
          "output_type": "stream",
          "text": [
            "[[[[-3.9667125e+00 -2.9482124e+00 -4.9188715e-01 ... -3.3561943e+01\n",
            "    -3.4355080e+01 -3.4646435e+01]\n",
            "   [-3.9667125e+00 -2.1430957e+00  1.1118392e+00 ... -2.2712637e+01\n",
            "    -2.3413185e+01 -2.3698402e+01]\n",
            "   [-3.9667125e+00 -1.3941143e+00  2.4756534e+00 ... -1.2013984e+01\n",
            "    -1.2239395e+01 -1.2361705e+01]\n",
            "   ...\n",
            "   [-3.9667125e+00 -4.6007781e+00 -4.0055237e+00 ... -3.6182941e+01\n",
            "    -3.6287033e+01 -3.6315369e+01]\n",
            "   [-3.9667125e+00 -3.7820714e+00 -2.2761238e+00 ... -2.7370880e+01\n",
            "    -2.8011408e+01 -2.8273043e+01]\n",
            "   [-3.9667125e+00 -2.9482124e+00 -4.9188715e-01 ... -3.3561943e+01\n",
            "    -3.4355080e+01 -3.4646435e+01]]]\n",
            "\n",
            "\n",
            " [[[ 8.2157402e+00  8.0516548e+00  7.7737722e+00 ... -2.7975470e+01\n",
            "    -2.8539129e+01 -2.8741306e+01]\n",
            "   [ 8.2157402e+00  8.3792038e+00  8.3635359e+00 ... -2.0340559e+01\n",
            "    -2.0954676e+01 -2.1194862e+01]\n",
            "   [ 8.2157402e+00  8.6632643e+00  8.7897158e+00 ... -9.9200315e+00\n",
            "    -1.0211844e+01 -1.0346242e+01]\n",
            "   ...\n",
            "   [ 8.2157402e+00  7.2732229e+00  6.0924540e+00 ... -2.7101816e+01\n",
            "    -2.7408476e+01 -2.7537266e+01]\n",
            "   [ 8.2157402e+00  7.6819797e+00  7.0153489e+00 ... -2.9079964e+01\n",
            "    -2.9621338e+01 -2.9827168e+01]\n",
            "   [ 8.2157402e+00  8.0516548e+00  7.7737722e+00 ... -2.7975470e+01\n",
            "    -2.8539129e+01 -2.8741306e+01]]]\n",
            "\n",
            "\n",
            " [[[ 5.5263376e-01  1.2229280e+00  2.7797449e+00 ... -3.6193928e+01\n",
            "    -3.7107445e+01 -3.7460392e+01]\n",
            "   [ 5.5263376e-01  1.0177350e+00  2.1494613e+00 ... -2.8982309e+01\n",
            "    -2.9712444e+01 -3.0017725e+01]\n",
            "   [ 5.5263376e-01  7.4807274e-01  1.2538857e+00 ... -1.8098892e+01\n",
            "    -1.8370628e+01 -1.8517511e+01]\n",
            "   ...\n",
            "   [ 5.5263376e-01  1.4300656e+00  3.2886209e+00 ... -3.1740488e+01\n",
            "    -3.1936768e+01 -3.2054661e+01]\n",
            "   [ 5.5263376e-01  1.3606527e+00  3.1558588e+00 ... -3.4830299e+01\n",
            "    -3.5466763e+01 -3.5733105e+01]\n",
            "   [ 5.5263376e-01  1.2229280e+00  2.7797449e+00 ... -3.6193928e+01\n",
            "    -3.7107445e+01 -3.7460392e+01]]]\n",
            "\n",
            "\n",
            " ...\n",
            "\n",
            "\n",
            " [[[-7.2810049e+00 -6.8337531e+00 -5.0200982e+00 ... -2.6552364e+01\n",
            "    -2.7153885e+01 -2.7411333e+01]\n",
            "   [-7.2810049e+00 -6.5086207e+00 -4.9401045e+00 ... -2.1386692e+01\n",
            "    -2.1830629e+01 -2.2039673e+01]\n",
            "   [-7.2810049e+00 -6.0023727e+00 -4.2924209e+00 ... -1.6163116e+01\n",
            "    -1.6167404e+01 -1.6225163e+01]\n",
            "   ...\n",
            "   [-7.2810049e+00 -6.8431849e+00 -3.8037608e+00 ... -2.8742134e+01\n",
            "    -2.8731834e+01 -2.8778397e+01]\n",
            "   [-7.2810049e+00 -6.9430275e+00 -4.5622330e+00 ... -2.7172112e+01\n",
            "    -2.7576221e+01 -2.7764778e+01]\n",
            "   [-7.2810049e+00 -6.8337531e+00 -5.0200982e+00 ... -2.6552364e+01\n",
            "    -2.7153885e+01 -2.7411333e+01]]]\n",
            "\n",
            "\n",
            " [[[ 1.3982474e+01  1.3811362e+01  1.3252190e+01 ... -1.9839092e+01\n",
            "    -2.0160522e+01 -2.0252371e+01]\n",
            "   [ 1.3982474e+01  1.3727373e+01  1.3114819e+01 ... -1.7994604e+01\n",
            "    -1.8460514e+01 -1.8624754e+01]\n",
            "   [ 1.3982474e+01  1.3676205e+01  1.3102027e+01 ... -1.1777238e+01\n",
            "    -1.2088275e+01 -1.2226477e+01]\n",
            "   ...\n",
            "   [ 1.3982474e+01  1.4062837e+01  1.3814617e+01 ... -1.1143547e+01\n",
            "    -1.1316253e+01 -1.1342551e+01]\n",
            "   [ 1.3982474e+01  1.3924953e+01  1.3496774e+01 ... -1.8613365e+01\n",
            "    -1.8951185e+01 -1.9050354e+01]\n",
            "   [ 1.3982474e+01  1.3811362e+01  1.3252190e+01 ... -1.9839092e+01\n",
            "    -2.0160522e+01 -2.0252371e+01]]]\n",
            "\n",
            "\n",
            " [[[ 3.1915591e+00  2.6637378e+00  1.0175444e+00 ... -4.1341648e+01\n",
            "    -4.2246197e+01 -4.2602665e+01]\n",
            "   [ 3.1915591e+00  2.7133691e+00  1.0733371e+00 ... -3.9511360e+01\n",
            "    -4.0331333e+01 -4.0679649e+01]\n",
            "   [ 3.1915591e+00  2.6894319e+00  8.2892120e-01 ... -3.0677637e+01\n",
            "    -3.0976139e+01 -3.1136181e+01]\n",
            "   ...\n",
            "   [ 3.1915591e+00  2.3434954e+00 -7.2358460e-03 ... -4.3523041e+01\n",
            "    -4.3734314e+01 -4.3824100e+01]\n",
            "   [ 3.1915591e+00  2.5401278e+00  6.6141057e-01 ... -4.0993439e+01\n",
            "    -4.1781609e+01 -4.2116573e+01]\n",
            "   [ 3.1915591e+00  2.6637378e+00  1.0175444e+00 ... -4.1341648e+01\n",
            "    -4.2246197e+01 -4.2602665e+01]]]]\n",
            "(1, 64, 64)\n",
            "tensor([[  9.0000,   1.0000,  -5.3568,   4.0000],\n",
            "        [  5.0000,   6.0000,  -1.5722,   3.0000],\n",
            "        [  9.0000,   5.0000,  -7.2315,   4.0000],\n",
            "        [  8.0000,   5.0000,  -0.6967,   4.0000],\n",
            "        [  1.0000,  13.0000,   2.2869,   0.0000],\n",
            "        [  0.0000,  15.0000,   1.0029,   1.0000],\n",
            "        [ 11.0000,   6.0000,   3.1021,   2.0000],\n",
            "        [  3.0000,   6.0000,   9.2992,   1.0000],\n",
            "        [ 14.0000,   4.0000,  -0.6036,   0.0000],\n",
            "        [ 13.0000,  13.0000, -13.8141,   2.0000],\n",
            "        [  6.0000,   8.0000, -12.5665,   3.0000],\n",
            "        [  9.0000,   5.0000,  -5.6826,   2.0000],\n",
            "        [ 14.0000,  14.0000, -18.4601,   1.0000],\n",
            "        [ 14.0000,   4.0000,  -3.1091,   2.0000],\n",
            "        [  3.0000,  12.0000,   7.2688,   2.0000],\n",
            "        [  5.0000,   8.0000, -11.5820,   4.0000]])\n"
          ],
          "name": "stdout"
        }
      ]
    },
    {
      "cell_type": "code",
      "metadata": {
        "id": "ZeAuxWP_hY0B",
        "colab_type": "code",
        "colab": {}
      },
      "source": [
        "def weighted_mse(input, target, weight):\n",
        "  input = input.to(device)\n",
        "  target = target.to(device)\n",
        "  weight = weight.to(device)\n",
        "  return torch.sum(weight * (input - target)**2)"
      ],
      "execution_count": 0,
      "outputs": []
    },
    {
      "cell_type": "code",
      "metadata": {
        "id": "MK1eoiDAVkGG",
        "colab_type": "code",
        "colab": {}
      },
      "source": [
        "def get_loss(a, b, y, d, label_a, label_b, label_y, label_d, weight):\n",
        "  # a,b : 1 x 21\n",
        "  # xy : 1 x 2\n",
        "  # d : 1 x 10\n",
        "  a = a.to(device)\n",
        "  b = b.to(device)\n",
        "  y = y.to(device)\n",
        "  d = d.to(device)\n",
        "\n",
        "  y = y.view(len(y))\n",
        "\n",
        "  weight = weight.to(device)\n",
        "\n",
        "  #change shape and form of labels\n",
        "  label_a = label_a.view(len(label_a))\n",
        "  label_b = label_b.view(len(label_b))\n",
        "  label_d = label_d.view(len(label_d))\n",
        "  label_a = label_a.type(torch.cuda.LongTensor)\n",
        "  label_b = label_b.type(torch.cuda.LongTensor)\n",
        "  label_d = label_d.type(torch.cuda.LongTensor)\n",
        "\n",
        "  label_y = label_y.view(len(label_y))\n",
        "\n",
        "  # classes should be 0 ~ N - 1\n",
        "  # class N means that the length is ( N + 1 ) * lambda \n",
        "  #x = torch.ones(len(label_a))\n",
        "  #x = x.to(device)\n",
        "  #x = x.type(torch.cuda.LongTensor)\n",
        "\n",
        "  #label_a = label_a - x\n",
        "  #label_b = label_b - x\n",
        "\n",
        "  #y = torch.ones(len(label_d))\n",
        "  #y = y.to(device)\n",
        "  #y = y.type(torch.cuda.LongTensor)\n",
        "  \n",
        "  #label_d = label_d - y\n",
        "\n",
        "  #define criterion\n",
        "  crit1 = nn.CrossEntropyLoss()\n",
        "  crit2 = nn.CrossEntropyLoss()\n",
        "  crit3 = nn.MSELoss()\n",
        "  crit4 = nn.CrossEntropyLoss()\n",
        "\n",
        "  loss1 = crit1(a, label_a)\n",
        "  loss2 = crit2(b, label_b)\n",
        "  loss3 = crit3(y, label_y)\n",
        "  loss4 = crit4(d, label_d)\n",
        "  \n",
        "  return loss1 * weight[0]  + loss2 * weight[1] + loss3 * weight[2] + loss4 * weight[3]\n",
        "\n"
      ],
      "execution_count": 0,
      "outputs": []
    },
    {
      "cell_type": "code",
      "metadata": {
        "id": "5LnaE27J1F7L",
        "colab_type": "code",
        "colab": {}
      },
      "source": [
        "#train the model\n",
        "def train(net, model_name, patience, validate_every):\n",
        "    \n",
        "    optimizer = optim.Adam(net.parameters(), LEARNING_RATE, betas=(0.9, 0.999), eps=1e-09, weight_decay=0, amsgrad=False)\n",
        "    weight = torch.tensor([1.0, 1.0, 1.1, 1.1])\n",
        "\n",
        "    train_losses = []\n",
        "    val_losses = []\n",
        "    avg_train_losses = []\n",
        "    avg_val_losses = []\n",
        "\n",
        "    #train_errors = []\n",
        "    #val_errors = []\n",
        "\n",
        "    early_stopping = EarlyStopping(patience=patience, verbose=True)\n",
        "\n",
        "    with open(\"model.log\", \"a\") as f:\n",
        "        for epoch in tqdm(range(EPOCHS)):\n",
        "                net.train()\n",
        "                for batch_idx, samples in enumerate(trainloader):\n",
        "                    x, y = samples\n",
        "                    x = x.view(-1, IMG_CHANNELS, IMG_SIZE, IMG_SIZE)\n",
        "                    x = x.to(device)\n",
        "                    y = y.to(device)\n",
        "\n",
        "                    pred = net(x)\n",
        "                    loss = weighted_mse(pred, y weight)\n",
        "                    net.zero_grad()\n",
        "                    loss.backward()\n",
        "                    optimizer.step()\n",
        "                    train_losses.append(loss.item())\n",
        "\n",
        "                net.eval()\n",
        "                for batch_idx, samples in enumerate(valloader):\n",
        "                    val_x, val_y = samples\n",
        "                    val_x = val_x.view(-1, IMG_CHANNELS, IMG_SIZE, IMG_SIZE)\n",
        "                    val_x = val_x.to(device)\n",
        "                    val_y = val_y.to(device)\n",
        "                    \n",
        "                    pred = net(val_x)\n",
        "                    loss = get_loss(pred, val_y, weight)\n",
        "                    val_losses.append(loss.item())\n",
        "\n",
        "                train_loss = np.average(train_losses)\n",
        "                valid_loss = np.average(val_losses)\n",
        "                avg_train_losses.append(train_loss)\n",
        "                avg_val_losses.append(valid_loss)\n",
        "                \n",
        "\n",
        "                train_losses = []\n",
        "                val_losses = []\n",
        "\n",
        "\n",
        "                f.write(f\"{MODEL_NAME},{round(time.time(), 3)},  {round(float(train_loss), 4)},  {round(float(valid_loss),4)}\\n\")\n",
        "                print(\"\\nloss : \", train_loss, \"val loss : \", valid_loss, \"\\n\")\n",
        "                \n",
        "                early_stopping(valid_loss, net)\n",
        "                \n",
        "                if early_stopping.early_stop:\n",
        "                    print(\"Early stopping\")\n",
        "                    break\n",
        "        # load the last checkpoint with the best model\n",
        "        net.load_state_dict(torch.load('checkpoint.pt'))\n",
        "        \n",
        "        return avg_train_losses, avg_val_losses"
      ],
      "execution_count": 0,
      "outputs": []
    },
    {
      "cell_type": "code",
      "metadata": {
        "id": "k-b0iI2R1IKD",
        "colab_type": "code",
        "colab": {}
      },
      "source": [
        "net = Net()\n",
        "#print(net)\n"
      ],
      "execution_count": 0,
      "outputs": []
    },
    {
      "cell_type": "code",
      "metadata": {
        "id": "bvZa0kBaTqAL",
        "colab_type": "code",
        "outputId": "c9300188-70a5-425f-b204-2f7f0db2f16d",
        "colab": {
          "base_uri": "https://localhost:8080/",
          "height": 1000
        }
      },
      "source": [
        "net.to(device)\n",
        "train_loss, valid_loss = train(net, MODEL_NAME, PATIENCE, VALIDATE_EVERY)"
      ],
      "execution_count": 0,
      "outputs": [
        {
          "output_type": "stream",
          "text": [
            "\n",
            "  0%|          | 0/1000 [00:00<?, ?it/s]\u001b[A\n",
            "  0%|          | 1/1000 [00:08<2:25:37,  8.75s/it]\u001b[A"
          ],
          "name": "stderr"
        },
        {
          "output_type": "stream",
          "text": [
            "\n",
            "loss :  73.3291297343105 val loss :  69.93265643018357 \n",
            "\n",
            "Validation loss decreased (inf --> 69.932656).  Saving model ...\n"
          ],
          "name": "stdout"
        },
        {
          "output_type": "stream",
          "text": [
            "\n",
            "  0%|          | 2/1000 [00:17<2:26:11,  8.79s/it]\u001b[A"
          ],
          "name": "stderr"
        },
        {
          "output_type": "stream",
          "text": [
            "\n",
            "loss :  54.92330539396024 val loss :  30.650955788632658 \n",
            "\n",
            "Validation loss decreased (69.932656 --> 30.650956).  Saving model ...\n"
          ],
          "name": "stdout"
        },
        {
          "output_type": "stream",
          "text": [
            "\n",
            "  0%|          | 3/1000 [00:26<2:26:04,  8.79s/it]\u001b[A"
          ],
          "name": "stderr"
        },
        {
          "output_type": "stream",
          "text": [
            "\n",
            "loss :  28.109347753615175 val loss :  20.875851783346622 \n",
            "\n",
            "Validation loss decreased (30.650956 --> 20.875852).  Saving model ...\n"
          ],
          "name": "stdout"
        },
        {
          "output_type": "stream",
          "text": [
            "\n",
            "  0%|          | 4/1000 [00:35<2:25:40,  8.78s/it]\u001b[A"
          ],
          "name": "stderr"
        },
        {
          "output_type": "stream",
          "text": [
            "\n",
            "loss :  22.465151681719234 val loss :  17.96967383648487 \n",
            "\n",
            "Validation loss decreased (20.875852 --> 17.969674).  Saving model ...\n"
          ],
          "name": "stdout"
        },
        {
          "output_type": "stream",
          "text": [
            "\n",
            "  0%|          | 5/1000 [00:43<2:24:46,  8.73s/it]\u001b[A"
          ],
          "name": "stderr"
        },
        {
          "output_type": "stream",
          "text": [
            "\n",
            "loss :  20.339359090226523 val loss :  17.041196955011245 \n",
            "\n",
            "Validation loss decreased (17.969674 --> 17.041197).  Saving model ...\n"
          ],
          "name": "stdout"
        },
        {
          "output_type": "stream",
          "text": [
            "\n",
            "  1%|          | 6/1000 [00:52<2:23:40,  8.67s/it]\u001b[A"
          ],
          "name": "stderr"
        },
        {
          "output_type": "stream",
          "text": [
            "\n",
            "loss :  19.277042979877706 val loss :  16.13094472885132 \n",
            "\n",
            "Validation loss decreased (17.041197 --> 16.130945).  Saving model ...\n"
          ],
          "name": "stdout"
        },
        {
          "output_type": "stream",
          "text": [
            "\n",
            "  1%|          | 7/1000 [01:01<2:23:35,  8.68s/it]\u001b[A"
          ],
          "name": "stderr"
        },
        {
          "output_type": "stream",
          "text": [
            "\n",
            "loss :  18.479173234288726 val loss :  15.730537607314739 \n",
            "\n",
            "Validation loss decreased (16.130945 --> 15.730538).  Saving model ...\n"
          ],
          "name": "stdout"
        },
        {
          "output_type": "stream",
          "text": [
            "\n",
            "  1%|          | 8/1000 [01:09<2:22:59,  8.65s/it]\u001b[A"
          ],
          "name": "stderr"
        },
        {
          "output_type": "stream",
          "text": [
            "\n",
            "loss :  17.921830734370445 val loss :  15.794589813719405 \n",
            "\n",
            "EarlyStopping counter: 1 out of 13\n"
          ],
          "name": "stdout"
        },
        {
          "output_type": "stream",
          "text": [
            "\n",
            "  1%|          | 9/1000 [01:18<2:22:35,  8.63s/it]\u001b[A"
          ],
          "name": "stderr"
        },
        {
          "output_type": "stream",
          "text": [
            "\n",
            "loss :  17.43807734132378 val loss :  15.016311168670654 \n",
            "\n",
            "Validation loss decreased (15.730538 --> 15.016311).  Saving model ...\n"
          ],
          "name": "stdout"
        },
        {
          "output_type": "stream",
          "text": [
            "\n",
            "  1%|          | 10/1000 [01:26<2:21:57,  8.60s/it]\u001b[A"
          ],
          "name": "stderr"
        },
        {
          "output_type": "stream",
          "text": [
            "\n",
            "loss :  17.23856239183254 val loss :  14.887792475680088 \n",
            "\n",
            "Validation loss decreased (15.016311 --> 14.887792).  Saving model ...\n"
          ],
          "name": "stdout"
        },
        {
          "output_type": "stream",
          "text": [
            "\n",
            "  1%|          | 11/1000 [01:35<2:21:52,  8.61s/it]\u001b[A"
          ],
          "name": "stderr"
        },
        {
          "output_type": "stream",
          "text": [
            "\n",
            "loss :  16.61348556116294 val loss :  14.613680240955759 \n",
            "\n",
            "Validation loss decreased (14.887792 --> 14.613680).  Saving model ...\n"
          ],
          "name": "stdout"
        },
        {
          "output_type": "stream",
          "text": [
            "\n",
            "  1%|          | 12/1000 [01:43<2:21:32,  8.60s/it]\u001b[A"
          ],
          "name": "stderr"
        },
        {
          "output_type": "stream",
          "text": [
            "\n",
            "loss :  16.454034430155822 val loss :  14.454388253232265 \n",
            "\n",
            "Validation loss decreased (14.613680 --> 14.454388).  Saving model ...\n"
          ],
          "name": "stdout"
        },
        {
          "output_type": "stream",
          "text": [
            "\n",
            "  1%|▏         | 13/1000 [01:52<2:20:52,  8.56s/it]\u001b[A"
          ],
          "name": "stderr"
        },
        {
          "output_type": "stream",
          "text": [
            "\n",
            "loss :  16.099901078436613 val loss :  14.467298264199115 \n",
            "\n",
            "EarlyStopping counter: 1 out of 13\n"
          ],
          "name": "stdout"
        },
        {
          "output_type": "stream",
          "text": [
            "\n",
            "  1%|▏         | 14/1000 [02:00<2:20:11,  8.53s/it]\u001b[A"
          ],
          "name": "stderr"
        },
        {
          "output_type": "stream",
          "text": [
            "\n",
            "loss :  15.777332378224738 val loss :  13.77599349935004 \n",
            "\n",
            "Validation loss decreased (14.454388 --> 13.775993).  Saving model ...\n"
          ],
          "name": "stdout"
        },
        {
          "output_type": "stream",
          "text": [
            "\n",
            "  2%|▏         | 15/1000 [02:09<2:19:44,  8.51s/it]\u001b[A"
          ],
          "name": "stderr"
        },
        {
          "output_type": "stream",
          "text": [
            "\n",
            "loss :  15.764437607679321 val loss :  13.86017433125922 \n",
            "\n",
            "EarlyStopping counter: 1 out of 13\n"
          ],
          "name": "stdout"
        },
        {
          "output_type": "stream",
          "text": [
            "\n",
            "  2%|▏         | 16/1000 [02:17<2:19:37,  8.51s/it]\u001b[A"
          ],
          "name": "stderr"
        },
        {
          "output_type": "stream",
          "text": [
            "\n",
            "loss :  15.428439382128241 val loss :  13.680910567019849 \n",
            "\n",
            "Validation loss decreased (13.775993 --> 13.680911).  Saving model ...\n"
          ],
          "name": "stdout"
        },
        {
          "output_type": "stream",
          "text": [
            "\n",
            "  2%|▏         | 17/1000 [02:26<2:19:12,  8.50s/it]\u001b[A"
          ],
          "name": "stderr"
        },
        {
          "output_type": "stream",
          "text": [
            "\n",
            "loss :  15.222604060060041 val loss :  14.268122338234111 \n",
            "\n",
            "EarlyStopping counter: 1 out of 13\n"
          ],
          "name": "stdout"
        },
        {
          "output_type": "stream",
          "text": [
            "\n",
            "  2%|▏         | 18/1000 [02:34<2:18:51,  8.48s/it]\u001b[A"
          ],
          "name": "stderr"
        },
        {
          "output_type": "stream",
          "text": [
            "\n",
            "loss :  14.978236903511517 val loss :  13.489373765093214 \n",
            "\n",
            "Validation loss decreased (13.680911 --> 13.489374).  Saving model ...\n"
          ],
          "name": "stdout"
        },
        {
          "output_type": "stream",
          "text": [
            "\n",
            "  2%|▏         | 19/1000 [02:43<2:18:42,  8.48s/it]\u001b[A"
          ],
          "name": "stderr"
        },
        {
          "output_type": "stream",
          "text": [
            "\n",
            "loss :  14.877561098026439 val loss :  14.198699991753761 \n",
            "\n",
            "EarlyStopping counter: 1 out of 13\n"
          ],
          "name": "stdout"
        },
        {
          "output_type": "stream",
          "text": [
            "\n",
            "  2%|▏         | 20/1000 [02:51<2:18:58,  8.51s/it]\u001b[A"
          ],
          "name": "stderr"
        },
        {
          "output_type": "stream",
          "text": [
            "\n",
            "loss :  14.844726424646604 val loss :  14.435085732886131 \n",
            "\n",
            "EarlyStopping counter: 2 out of 13\n"
          ],
          "name": "stdout"
        },
        {
          "output_type": "stream",
          "text": [
            "\n",
            "  2%|▏         | 21/1000 [03:00<2:18:54,  8.51s/it]\u001b[A"
          ],
          "name": "stderr"
        },
        {
          "output_type": "stream",
          "text": [
            "\n",
            "loss :  14.517975900975449 val loss :  13.341610705598871 \n",
            "\n",
            "Validation loss decreased (13.489374 --> 13.341611).  Saving model ...\n"
          ],
          "name": "stdout"
        },
        {
          "output_type": "stream",
          "text": [
            "\n",
            "  2%|▏         | 22/1000 [03:08<2:18:07,  8.47s/it]\u001b[A"
          ],
          "name": "stderr"
        },
        {
          "output_type": "stream",
          "text": [
            "\n",
            "loss :  14.400900278046233 val loss :  13.75656439395661 \n",
            "\n",
            "EarlyStopping counter: 1 out of 13\n"
          ],
          "name": "stdout"
        },
        {
          "output_type": "stream",
          "text": [
            "\n",
            "  2%|▏         | 23/1000 [03:17<2:17:53,  8.47s/it]\u001b[A"
          ],
          "name": "stderr"
        },
        {
          "output_type": "stream",
          "text": [
            "\n",
            "loss :  14.309113830186744 val loss :  13.273778225513215 \n",
            "\n",
            "Validation loss decreased (13.341611 --> 13.273778).  Saving model ...\n"
          ],
          "name": "stdout"
        },
        {
          "output_type": "stream",
          "text": [
            "\n",
            "  2%|▏         | 24/1000 [03:25<2:17:44,  8.47s/it]\u001b[A"
          ],
          "name": "stderr"
        },
        {
          "output_type": "stream",
          "text": [
            "\n",
            "loss :  13.985405952444573 val loss :  13.17815798901497 \n",
            "\n",
            "Validation loss decreased (13.273778 --> 13.178158).  Saving model ...\n"
          ],
          "name": "stdout"
        },
        {
          "output_type": "stream",
          "text": [
            "\n",
            "  2%|▎         | 25/1000 [03:34<2:17:17,  8.45s/it]\u001b[A"
          ],
          "name": "stderr"
        },
        {
          "output_type": "stream",
          "text": [
            "\n",
            "loss :  13.908227312056374 val loss :  13.364153517053483 \n",
            "\n",
            "EarlyStopping counter: 1 out of 13\n"
          ],
          "name": "stdout"
        },
        {
          "output_type": "stream",
          "text": [
            "\n",
            "  3%|▎         | 26/1000 [03:42<2:17:01,  8.44s/it]\u001b[A"
          ],
          "name": "stderr"
        },
        {
          "output_type": "stream",
          "text": [
            "\n",
            "loss :  13.754050135047516 val loss :  12.81035566329956 \n",
            "\n",
            "Validation loss decreased (13.178158 --> 12.810356).  Saving model ...\n"
          ],
          "name": "stdout"
        },
        {
          "output_type": "stream",
          "text": [
            "\n",
            "  3%|▎         | 27/1000 [03:50<2:16:39,  8.43s/it]\u001b[A"
          ],
          "name": "stderr"
        },
        {
          "output_type": "stream",
          "text": [
            "\n",
            "loss :  13.435936289375991 val loss :  12.217896684687188 \n",
            "\n",
            "Validation loss decreased (12.810356 --> 12.217897).  Saving model ...\n"
          ],
          "name": "stdout"
        },
        {
          "output_type": "stream",
          "text": [
            "\n",
            "  3%|▎         | 28/1000 [03:59<2:16:14,  8.41s/it]\u001b[A"
          ],
          "name": "stderr"
        },
        {
          "output_type": "stream",
          "text": [
            "\n",
            "loss :  13.42012972289352 val loss :  12.924115728824697 \n",
            "\n",
            "EarlyStopping counter: 1 out of 13\n"
          ],
          "name": "stdout"
        },
        {
          "output_type": "stream",
          "text": [
            "\n",
            "  3%|▎         | 29/1000 [04:07<2:15:59,  8.40s/it]\u001b[A"
          ],
          "name": "stderr"
        },
        {
          "output_type": "stream",
          "text": [
            "\n",
            "loss :  13.265570262032098 val loss :  13.119030130670426 \n",
            "\n",
            "EarlyStopping counter: 2 out of 13\n"
          ],
          "name": "stdout"
        },
        {
          "output_type": "stream",
          "text": [
            "\n",
            "  3%|▎         | 30/1000 [04:16<2:16:34,  8.45s/it]\u001b[A"
          ],
          "name": "stderr"
        },
        {
          "output_type": "stream",
          "text": [
            "\n",
            "loss :  12.953562837076413 val loss :  12.403347624109147 \n",
            "\n",
            "EarlyStopping counter: 3 out of 13\n"
          ],
          "name": "stdout"
        },
        {
          "output_type": "stream",
          "text": [
            "\n",
            "  3%|▎         | 31/1000 [04:24<2:16:22,  8.44s/it]\u001b[A"
          ],
          "name": "stderr"
        },
        {
          "output_type": "stream",
          "text": [
            "\n",
            "loss :  12.718798046993419 val loss :  12.311967230857686 \n",
            "\n",
            "EarlyStopping counter: 4 out of 13\n"
          ],
          "name": "stdout"
        },
        {
          "output_type": "stream",
          "text": [
            "\n",
            "  3%|▎         | 32/1000 [04:33<2:16:11,  8.44s/it]\u001b[A"
          ],
          "name": "stderr"
        },
        {
          "output_type": "stream",
          "text": [
            "\n",
            "loss :  12.646150823453027 val loss :  12.153058949937211 \n",
            "\n",
            "Validation loss decreased (12.217897 --> 12.153059).  Saving model ...\n"
          ],
          "name": "stdout"
        },
        {
          "output_type": "stream",
          "text": [
            "\n",
            "  3%|▎         | 33/1000 [04:41<2:15:50,  8.43s/it]\u001b[A"
          ],
          "name": "stderr"
        },
        {
          "output_type": "stream",
          "text": [
            "\n",
            "loss :  12.51978989856503 val loss :  11.586838336701089 \n",
            "\n",
            "Validation loss decreased (12.153059 --> 11.586838).  Saving model ...\n"
          ],
          "name": "stdout"
        },
        {
          "output_type": "stream",
          "text": [
            "\n",
            "  3%|▎         | 34/1000 [04:49<2:15:36,  8.42s/it]\u001b[A"
          ],
          "name": "stderr"
        },
        {
          "output_type": "stream",
          "text": [
            "\n",
            "loss :  12.392825914785195 val loss :  11.243304146097062 \n",
            "\n",
            "Validation loss decreased (11.586838 --> 11.243304).  Saving model ...\n"
          ],
          "name": "stdout"
        },
        {
          "output_type": "stream",
          "text": [
            "\n",
            "  4%|▎         | 35/1000 [04:58<2:15:32,  8.43s/it]\u001b[A"
          ],
          "name": "stderr"
        },
        {
          "output_type": "stream",
          "text": [
            "\n",
            "loss :  12.078858033175717 val loss :  12.136351270878569 \n",
            "\n",
            "EarlyStopping counter: 1 out of 13\n"
          ],
          "name": "stdout"
        },
        {
          "output_type": "stream",
          "text": [
            "\n",
            "  4%|▎         | 36/1000 [05:06<2:15:16,  8.42s/it]\u001b[A"
          ],
          "name": "stderr"
        },
        {
          "output_type": "stream",
          "text": [
            "\n",
            "loss :  12.114031456658061 val loss :  11.418611704035008 \n",
            "\n",
            "EarlyStopping counter: 2 out of 13\n"
          ],
          "name": "stdout"
        },
        {
          "output_type": "stream",
          "text": [
            "\n",
            "  4%|▎         | 37/1000 [05:15<2:15:09,  8.42s/it]\u001b[A"
          ],
          "name": "stderr"
        },
        {
          "output_type": "stream",
          "text": [
            "\n",
            "loss :  11.880227839777255 val loss :  11.570294268587803 \n",
            "\n",
            "EarlyStopping counter: 3 out of 13\n"
          ],
          "name": "stdout"
        },
        {
          "output_type": "stream",
          "text": [
            "\n",
            "  4%|▍         | 38/1000 [05:23<2:14:47,  8.41s/it]\u001b[A"
          ],
          "name": "stderr"
        },
        {
          "output_type": "stream",
          "text": [
            "\n",
            "loss :  11.888602262424632 val loss :  12.26088443208248 \n",
            "\n",
            "EarlyStopping counter: 4 out of 13\n"
          ],
          "name": "stdout"
        },
        {
          "output_type": "stream",
          "text": [
            "\n",
            "  4%|▍         | 39/1000 [05:31<2:14:56,  8.43s/it]\u001b[A"
          ],
          "name": "stderr"
        },
        {
          "output_type": "stream",
          "text": [
            "\n",
            "loss :  11.730834623083684 val loss :  11.950343700165444 \n",
            "\n",
            "EarlyStopping counter: 5 out of 13\n"
          ],
          "name": "stdout"
        },
        {
          "output_type": "stream",
          "text": [
            "\n",
            "  4%|▍         | 40/1000 [05:40<2:15:50,  8.49s/it]\u001b[A"
          ],
          "name": "stderr"
        },
        {
          "output_type": "stream",
          "text": [
            "\n",
            "loss :  11.604365649946493 val loss :  12.683400387459614 \n",
            "\n",
            "EarlyStopping counter: 6 out of 13\n"
          ],
          "name": "stdout"
        },
        {
          "output_type": "stream",
          "text": [
            "\n",
            "  4%|▍         | 41/1000 [05:49<2:15:42,  8.49s/it]\u001b[A"
          ],
          "name": "stderr"
        },
        {
          "output_type": "stream",
          "text": [
            "\n",
            "loss :  11.528920840878058 val loss :  12.524632783646279 \n",
            "\n",
            "EarlyStopping counter: 7 out of 13\n"
          ],
          "name": "stdout"
        },
        {
          "output_type": "stream",
          "text": [
            "\n",
            "  4%|▍         | 42/1000 [05:57<2:15:05,  8.46s/it]\u001b[A"
          ],
          "name": "stderr"
        },
        {
          "output_type": "stream",
          "text": [
            "\n",
            "loss :  11.426940128701558 val loss :  11.656987332283183 \n",
            "\n",
            "EarlyStopping counter: 8 out of 13\n"
          ],
          "name": "stdout"
        },
        {
          "output_type": "stream",
          "text": [
            "\n",
            "  4%|▍         | 43/1000 [06:06<2:15:19,  8.48s/it]\u001b[A"
          ],
          "name": "stderr"
        },
        {
          "output_type": "stream",
          "text": [
            "\n",
            "loss :  11.466081309092553 val loss :  11.302333086094958 \n",
            "\n",
            "EarlyStopping counter: 9 out of 13\n"
          ],
          "name": "stdout"
        },
        {
          "output_type": "stream",
          "text": [
            "\n",
            "  4%|▍         | 44/1000 [06:14<2:15:05,  8.48s/it]\u001b[A"
          ],
          "name": "stderr"
        },
        {
          "output_type": "stream",
          "text": [
            "\n",
            "loss :  11.325504021621994 val loss :  10.733477338831475 \n",
            "\n",
            "Validation loss decreased (11.243304 --> 10.733477).  Saving model ...\n"
          ],
          "name": "stdout"
        },
        {
          "output_type": "stream",
          "text": [
            "\n",
            "  4%|▍         | 45/1000 [06:22<2:14:39,  8.46s/it]\u001b[A"
          ],
          "name": "stderr"
        },
        {
          "output_type": "stream",
          "text": [
            "\n",
            "loss :  11.348401189415375 val loss :  10.933552757222602 \n",
            "\n",
            "EarlyStopping counter: 1 out of 13\n"
          ],
          "name": "stdout"
        },
        {
          "output_type": "stream",
          "text": [
            "\n",
            "  5%|▍         | 46/1000 [06:31<2:14:29,  8.46s/it]\u001b[A"
          ],
          "name": "stderr"
        },
        {
          "output_type": "stream",
          "text": [
            "\n",
            "loss :  11.23407471349454 val loss :  12.507579428084354 \n",
            "\n",
            "EarlyStopping counter: 2 out of 13\n"
          ],
          "name": "stdout"
        },
        {
          "output_type": "stream",
          "text": [
            "\n",
            "  5%|▍         | 47/1000 [06:39<2:14:16,  8.45s/it]\u001b[A"
          ],
          "name": "stderr"
        },
        {
          "output_type": "stream",
          "text": [
            "\n",
            "loss :  11.01191483572196 val loss :  11.742131131760617 \n",
            "\n",
            "EarlyStopping counter: 3 out of 13\n"
          ],
          "name": "stdout"
        },
        {
          "output_type": "stream",
          "text": [
            "\n",
            "  5%|▍         | 48/1000 [06:48<2:13:53,  8.44s/it]\u001b[A"
          ],
          "name": "stderr"
        },
        {
          "output_type": "stream",
          "text": [
            "\n",
            "loss :  11.074449958394489 val loss :  11.802696111354422 \n",
            "\n",
            "EarlyStopping counter: 4 out of 13\n"
          ],
          "name": "stdout"
        },
        {
          "output_type": "stream",
          "text": [
            "\n",
            "  5%|▍         | 49/1000 [06:56<2:14:02,  8.46s/it]\u001b[A"
          ],
          "name": "stderr"
        },
        {
          "output_type": "stream",
          "text": [
            "\n",
            "loss :  11.028012767222256 val loss :  11.312356928561597 \n",
            "\n",
            "EarlyStopping counter: 5 out of 13\n"
          ],
          "name": "stdout"
        },
        {
          "output_type": "stream",
          "text": [
            "\n",
            "  5%|▌         | 50/1000 [07:05<2:14:02,  8.47s/it]\u001b[A"
          ],
          "name": "stderr"
        },
        {
          "output_type": "stream",
          "text": [
            "\n",
            "loss :  10.979297636244535 val loss :  11.20506970933143 \n",
            "\n",
            "EarlyStopping counter: 6 out of 13\n"
          ],
          "name": "stdout"
        },
        {
          "output_type": "stream",
          "text": [
            "\n",
            "  5%|▌         | 51/1000 [07:13<2:13:49,  8.46s/it]\u001b[A"
          ],
          "name": "stderr"
        },
        {
          "output_type": "stream",
          "text": [
            "\n",
            "loss :  10.871159959743373 val loss :  11.771854248452694 \n",
            "\n",
            "EarlyStopping counter: 7 out of 13\n"
          ],
          "name": "stdout"
        },
        {
          "output_type": "stream",
          "text": [
            "\n",
            "  5%|▌         | 52/1000 [07:22<2:13:31,  8.45s/it]\u001b[A"
          ],
          "name": "stderr"
        },
        {
          "output_type": "stream",
          "text": [
            "\n",
            "loss :  10.853834713239806 val loss :  12.455982086506296 \n",
            "\n",
            "EarlyStopping counter: 8 out of 13\n"
          ],
          "name": "stdout"
        },
        {
          "output_type": "stream",
          "text": [
            "\n",
            "  5%|▌         | 53/1000 [07:30<2:13:22,  8.45s/it]\u001b[A"
          ],
          "name": "stderr"
        },
        {
          "output_type": "stream",
          "text": [
            "\n",
            "loss :  10.761603474617004 val loss :  12.146444838097755 \n",
            "\n",
            "EarlyStopping counter: 9 out of 13\n"
          ],
          "name": "stdout"
        },
        {
          "output_type": "stream",
          "text": [
            "\n",
            "  5%|▌         | 54/1000 [07:38<2:13:04,  8.44s/it]\u001b[A"
          ],
          "name": "stderr"
        },
        {
          "output_type": "stream",
          "text": [
            "\n",
            "loss :  10.71218805798987 val loss :  11.191023532380449 \n",
            "\n",
            "EarlyStopping counter: 10 out of 13\n"
          ],
          "name": "stdout"
        },
        {
          "output_type": "stream",
          "text": [
            "\n",
            "  6%|▌         | 55/1000 [07:47<2:12:46,  8.43s/it]\u001b[A"
          ],
          "name": "stderr"
        },
        {
          "output_type": "stream",
          "text": [
            "\n",
            "loss :  10.708911887842332 val loss :  11.890219815233921 \n",
            "\n",
            "EarlyStopping counter: 11 out of 13\n"
          ],
          "name": "stdout"
        },
        {
          "output_type": "stream",
          "text": [
            "\n",
            "  6%|▌         | 56/1000 [07:55<2:12:24,  8.42s/it]\u001b[A"
          ],
          "name": "stderr"
        },
        {
          "output_type": "stream",
          "text": [
            "\n",
            "loss :  10.568969075713678 val loss :  11.853145842856549 \n",
            "\n",
            "EarlyStopping counter: 12 out of 13\n",
            "\n",
            "loss :  10.561377402730463 val loss :  11.472145912495066 \n",
            "\n",
            "EarlyStopping counter: 13 out of 13\n",
            "Early stopping\n"
          ],
          "name": "stdout"
        }
      ]
    },
    {
      "cell_type": "code",
      "metadata": {
        "id": "0YugWGXc1Jy6",
        "colab_type": "code",
        "outputId": "dfc8d2dc-aaf4-4363-832f-c37312e868d6",
        "colab": {
          "base_uri": "https://localhost:8080/",
          "height": 585
        }
      },
      "source": [
        "# visualize the loss as the network trained\n",
        "fig = plt.figure(figsize=(10,8))\n",
        "plt.plot(range(1,len(train_loss)+1),train_loss, label='Training Loss')\n",
        "plt.plot(range(1,len(valid_loss)+1),valid_loss,label='Validation Loss')\n",
        "\n",
        "# find position of lowest validation loss\n",
        "minposs = valid_loss.index(min(valid_loss))+1 \n",
        "plt.axvline(minposs, linestyle='--', color='r',label='Early Stopping Checkpoint')\n",
        "\n",
        "plt.xlabel('epochs')\n",
        "plt.ylabel('loss')\n",
        "plt.ylim(0, 100) # consistent scale\n",
        "plt.xlim(0, len(train_loss)+1) # consistent scale\n",
        "plt.grid(True)\n",
        "plt.legend()\n",
        "plt.tight_layout()\n",
        "plt.show()\n",
        "fig.savefig('loss_plot.png', bbox_inches='tight')"
      ],
      "execution_count": 0,
      "outputs": [
        {
          "output_type": "display_data",
          "data": {
            "image/png": "[encoded data removed]",
            "text/plain": [
              "<Figure size 720x576 with 1 Axes>"
            ]
          },
          "metadata": {
            "tags": [],
            "needs_background": "light"
          }
        }
      ]
    },
    {
      "cell_type": "code",
      "metadata": {
        "id": "Lbzek-ME1ML7",
        "colab_type": "code",
        "colab": {}
      },
      "source": [
        "def test(net):\n",
        "    predictions = []\n",
        "    with torch.no_grad():\n",
        "        for i, sample in enumerate(testloader):\n",
        "            predict = []\n",
        "            x ,y = sample\n",
        "            x = x.view(-1, IMG_CHANNELS, IMG_SIZE, IMG_SIZE)\n",
        "            \n",
        "            x = x.to(device)\n",
        "            y = y.to(device)\n",
        "            \n",
        "            pred = net(x)\n",
        "\n",
        "            #get class of a, b, d\n",
        "            #_, aa = a.max(1)\n",
        "            #_, bb = b.max(1)\n",
        "            #_, dd = d.max(1)\n",
        "\n",
        "            pred.to(\"cpu\")\n",
        "\n",
        "            pred = np.array(pred)\n",
        "            predictions.append(pred)\n",
        "            \n",
        "\n",
        "    #print(predictions)\n",
        "    #print()\n",
        "    predictions = np.array(predictions)\n",
        "    predictions = predictions.reshape(-1, OUTPUT_LABEL_SIZE)\n",
        "    df = DataFrame(predictions)\n",
        "    df.to_excel('predictions.xlsx', header=None)"
      ],
      "execution_count": 0,
      "outputs": []
    },
    {
      "cell_type": "code",
      "metadata": {
        "id": "M1WBAWnftkzr",
        "colab_type": "code",
        "colab": {}
      },
      "source": [
        "#testsets = []\n",
        "#for f in tqdm(os.listdir(TEST_PATH_LABEL)):\n",
        "#  path  = os.path.join(TEST_PATH_LABEL, f)\n",
        "# testset = DataCaller_Excel(path, IMG_SIZE)\n",
        "#  print(testset.__len__())\n",
        "#  testsets.append(testset)\n",
        "\n",
        "#testset = ConcatDataset(testsets)"
      ],
      "execution_count": 0,
      "outputs": []
    },
    {
      "cell_type": "code",
      "metadata": {
        "id": "xB9Ta8kV1Oay",
        "colab_type": "code",
        "colab": {}
      },
      "source": [
        "testloader = DataLoader(testset, batch_size=1, shuffle=False)\n",
        "trained_net = Net()\n",
        "trained_net.load_state_dict(torch.load('checkpoint.pt'))\n",
        "trained_net.to(device)\n",
        "trained_net.eval()\n",
        "test(trained_net)"
      ],
      "execution_count": 0,
      "outputs": []
    },
    {
      "cell_type": "code",
      "metadata": {
        "id": "TUGAIXy_1PnL",
        "colab_type": "code",
        "outputId": "2d643ad4-765f-4f45-eb96-a6dc35b4abdd",
        "colab": {
          "base_uri": "https://localhost:8080/",
          "height": 239
        }
      },
      "source": [
        "testloader = DataLoader(testset, batch_size=1, shuffle=False)\n",
        "#trained_net = Net()\n",
        "load_net.load_state_dict(torch.load(LOAD_PRETRAINED_PATH))\n",
        "load_net.to(device)\n",
        "load_net.eval()\n",
        "test(load_net)"
      ],
      "execution_count": 0,
      "outputs": [
        {
          "output_type": "error",
          "ename": "NameError",
          "evalue": "ignored",
          "traceback": [
            "\u001b[0;31m---------------------------------------------------------------------------\u001b[0m",
            "\u001b[0;31mNameError\u001b[0m                                 Traceback (most recent call last)",
            "\u001b[0;32m<ipython-input-32-72c7045d4cd4>\u001b[0m in \u001b[0;36m<module>\u001b[0;34m()\u001b[0m\n\u001b[1;32m      1\u001b[0m \u001b[0mtestloader\u001b[0m \u001b[0;34m=\u001b[0m \u001b[0mDataLoader\u001b[0m\u001b[0;34m(\u001b[0m\u001b[0mtestset\u001b[0m\u001b[0;34m,\u001b[0m \u001b[0mbatch_size\u001b[0m\u001b[0;34m=\u001b[0m\u001b[0;36m1\u001b[0m\u001b[0;34m,\u001b[0m \u001b[0mshuffle\u001b[0m\u001b[0;34m=\u001b[0m\u001b[0;32mFalse\u001b[0m\u001b[0;34m)\u001b[0m\u001b[0;34m\u001b[0m\u001b[0;34m\u001b[0m\u001b[0m\n\u001b[1;32m      2\u001b[0m \u001b[0;31m#trained_net = Net()\u001b[0m\u001b[0;34m\u001b[0m\u001b[0;34m\u001b[0m\u001b[0;34m\u001b[0m\u001b[0m\n\u001b[0;32m----> 3\u001b[0;31m \u001b[0mload_net\u001b[0m\u001b[0;34m.\u001b[0m\u001b[0mload_state_dict\u001b[0m\u001b[0;34m(\u001b[0m\u001b[0mtorch\u001b[0m\u001b[0;34m.\u001b[0m\u001b[0mload\u001b[0m\u001b[0;34m(\u001b[0m\u001b[0mLOAD_PRETRAINED_PATH\u001b[0m\u001b[0;34m)\u001b[0m\u001b[0;34m)\u001b[0m\u001b[0;34m\u001b[0m\u001b[0;34m\u001b[0m\u001b[0m\n\u001b[0m\u001b[1;32m      4\u001b[0m \u001b[0mload_net\u001b[0m\u001b[0;34m.\u001b[0m\u001b[0mto\u001b[0m\u001b[0;34m(\u001b[0m\u001b[0mdevice\u001b[0m\u001b[0;34m)\u001b[0m\u001b[0;34m\u001b[0m\u001b[0;34m\u001b[0m\u001b[0m\n\u001b[1;32m      5\u001b[0m \u001b[0mload_net\u001b[0m\u001b[0;34m.\u001b[0m\u001b[0meval\u001b[0m\u001b[0;34m(\u001b[0m\u001b[0;34m)\u001b[0m\u001b[0;34m\u001b[0m\u001b[0;34m\u001b[0m\u001b[0m\n",
            "\u001b[0;31mNameError\u001b[0m: name 'load_net' is not defined"
          ]
        }
      ]
    },
    {
      "cell_type": "code",
      "metadata": {
        "id": "BnCvX8R-LlSi",
        "colab_type": "code",
        "colab": {}
      },
      "source": [
        ""
      ],
      "execution_count": 0,
      "outputs": []
    }
  ]
}
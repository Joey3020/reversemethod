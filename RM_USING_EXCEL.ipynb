{
  "nbformat": 4,
  "nbformat_minor": 0,
  "metadata": {
    "colab": {
      "name": "RM_USING_EXCEL.ipynb",
      "provenance": [],
      "collapsed_sections": [],
      "toc_visible": true,
      "authorship_tag": "ABX9TyMrXxFFcYuHk3r19+U9uQJl",
      "include_colab_link": true
    },
    "kernelspec": {
      "name": "python3",
      "display_name": "Python 3"
    },
    "accelerator": "GPU"
  },
  "cells": [
    {
      "cell_type": "markdown",
      "metadata": {
        "id": "view-in-github",
        "colab_type": "text"
      },
      "source": [
        "<a href=\"https://colab.research.google.com/github/joey0320/reversemethod/blob/colabcodes/RM_USING_EXCEL.ipynb\" target=\"_parent\"><img src=\"https://colab.research.google.com/assets/colab-badge.svg\" alt=\"Open In Colab\"/></a>"
      ]
    },
    {
      "cell_type": "code",
      "metadata": {
        "id": "pJff_qD0zq3L",
        "colab_type": "code",
        "colab": {}
      },
      "source": [
        "#!git clone https://github.com/joey0320/reversemethod.git"
      ],
      "execution_count": 0,
      "outputs": []
    },
    {
      "cell_type": "code",
      "metadata": {
        "id": "QZPG-Fw9zs6U",
        "colab_type": "code",
        "colab": {}
      },
      "source": [
        "#!git clone https://github.com/joey0320/reversemethod.git"
      ],
      "execution_count": 0,
      "outputs": []
    },
    {
      "cell_type": "code",
      "metadata": {
        "id": "03J48aW0Reqs",
        "colab_type": "code",
        "outputId": "97234dfc-8c7f-47dd-97fd-d7e031d01749",
        "colab": {
          "base_uri": "https://localhost:8080/",
          "height": 311
        }
      },
      "source": [
        "gpu_info = !nvidia-smi\n",
        "gpu_info = '\\n'.join(gpu_info)\n",
        "if gpu_info.find('failed') >= 0:\n",
        "  print('Select the Runtime → \"Change runtime type\" menu to enable a GPU accelerator, ')\n",
        "  print('and then re-execute this cell.')\n",
        "else:\n",
        "  print(gpu_info)"
      ],
      "execution_count": 3,
      "outputs": [
        {
          "output_type": "stream",
          "text": [
            "Sun Apr 12 19:04:30 2020       \n",
            "+-----------------------------------------------------------------------------+\n",
            "| NVIDIA-SMI 440.64.00    Driver Version: 418.67       CUDA Version: 10.1     |\n",
            "|-------------------------------+----------------------+----------------------+\n",
            "| GPU  Name        Persistence-M| Bus-Id        Disp.A | Volatile Uncorr. ECC |\n",
            "| Fan  Temp  Perf  Pwr:Usage/Cap|         Memory-Usage | GPU-Util  Compute M. |\n",
            "|===============================+======================+======================|\n",
            "|   0  Tesla P100-PCIE...  Off  | 00000000:00:04.0 Off |                    0 |\n",
            "| N/A   41C    P0    26W / 250W |      0MiB / 16280MiB |      0%      Default |\n",
            "+-------------------------------+----------------------+----------------------+\n",
            "                                                                               \n",
            "+-----------------------------------------------------------------------------+\n",
            "| Processes:                                                       GPU Memory |\n",
            "|  GPU       PID   Type   Process name                             Usage      |\n",
            "|=============================================================================|\n",
            "|  No running processes found                                                 |\n",
            "+-----------------------------------------------------------------------------+\n"
          ],
          "name": "stdout"
        }
      ]
    },
    {
      "cell_type": "code",
      "metadata": {
        "id": "WB26ruGiz071",
        "colab_type": "code",
        "outputId": "5bd2b596-4635-4c10-82e2-059b7143559f",
        "colab": {
          "base_uri": "https://localhost:8080/",
          "height": 34
        }
      },
      "source": [
        "from google.colab import drive\n",
        "\n",
        "drive.mount('/content/gdrive')"
      ],
      "execution_count": 4,
      "outputs": [
        {
          "output_type": "stream",
          "text": [
            "Drive already mounted at /content/gdrive; to attempt to forcibly remount, call drive.mount(\"/content/gdrive\", force_remount=True).\n"
          ],
          "name": "stdout"
        }
      ]
    },
    {
      "cell_type": "code",
      "metadata": {
        "id": "-9h7q8NTz3CT",
        "colab_type": "code",
        "outputId": "d198e35b-c4af-442f-f99d-7d807b71a975",
        "colab": {
          "base_uri": "https://localhost:8080/",
          "height": 34
        }
      },
      "source": [
        "import numpy as np\n",
        "import pandas as pd\n",
        "from pandas import DataFrame\n",
        "import torch\n",
        "import torch.nn as nn\n",
        "import torch.nn.functional as F\n",
        "import torch.optim as optim\n",
        "from torch.utils.data import Dataset\n",
        "from torch.utils.data import DataLoader\n",
        "from torch.utils.data import ConcatDataset\n",
        "import matplotlib.pyplot as plt\n",
        "import math\n",
        "import os\n",
        "from tqdm import tqdm\n",
        "import time\n",
        "import cv2\n",
        "#from DataCaller_Excel import DataCaller_Excel\n",
        "#from Model import Net\n",
        "#from EarlyStop import EarlyStopping\n",
        "\n",
        "#use gpu    please somebody buy me a gpu .......\n",
        "USE_GPU = True\n",
        "if USE_GPU and torch.cuda.is_available():\n",
        "    device = torch.device('cuda')\n",
        "else:\n",
        "    device = torch.device('cpu')\n",
        "print(device)\n",
        "\n",
        "#Global variables\n",
        "LOAD_DATA = True\n",
        "BATCH_SIZE = 32\n",
        "VAL_BATCH_SIZE = 32\n",
        "LEARNING_RATE = 1e-4\n",
        "EPOCHS = 1000\n",
        "PATIENCE = 25\n",
        "VALIDATE_EVERY = 10\n",
        "MODEL_NAME = f\"model-{int(time.time())}\"\n",
        "IMG_SIZE = 64\n",
        "IMG_CHANNELS = 1\n",
        "OUTPUT_LABEL_SIZE = 5\n",
        "OUTPUT_AB = 60\n",
        "OUTPUT_XY = 2\n",
        "OUTPUT_D = 10"
      ],
      "execution_count": 5,
      "outputs": [
        {
          "output_type": "stream",
          "text": [
            "cuda\n"
          ],
          "name": "stdout"
        }
      ]
    },
    {
      "cell_type": "code",
      "metadata": {
        "id": "fR_c4LFQ0Ma2",
        "colab_type": "code",
        "colab": {}
      },
      "source": [
        "\n",
        "class DataCaller_Excel(Dataset):\n",
        "    def __init__(self, data_path, inputsize):\n",
        "        \n",
        "        self.data_path = data_path\n",
        "        self.inputsize = inputsize\n",
        "        \n",
        "        data = pd.read_excel(open(self.data_path, 'rb'), sheet_name='Sheet1', header=None)\n",
        "        data = np.array(data)\n",
        "        data = data.reshape(-1, 1, inputsize, inputsize)\n",
        "        self.data = torch.from_numpy(data).float()\n",
        "        \n",
        "        label = pd.read_excel(open(self.data_path, 'rb'), sheet_name='Sheet2', header=None)\n",
        "        self.label = torch.from_numpy( np.array(label) ).float()\n",
        "    \n",
        "    def __len__(self):\n",
        "        return len(self.data)\n",
        "    \n",
        "    def __getitem__(self, idx):\n",
        "        x = torch.FloatTensor(self.data[idx])\n",
        "        y = torch.FloatTensor(self.label[idx])\n",
        "        return x, y"
      ],
      "execution_count": 0,
      "outputs": []
    },
    {
      "cell_type": "code",
      "metadata": {
        "id": "hsUhE6kd0Y6r",
        "colab_type": "code",
        "colab": {}
      },
      "source": [
        "\n",
        "class EarlyStopping:\n",
        "    \"\"\"Early stops the training if validation loss doesn't improve after a given patience.\"\"\"\n",
        "    def __init__(self, patience=7, verbose=False, delta=0):\n",
        "        \"\"\"\n",
        "        Args:\n",
        "            patience (int): How long to wait after last time validation loss improved.\n",
        "                            Default: 7\n",
        "            verbose (bool): If True, prints a message for each validation loss improvement. \n",
        "                            Default: False\n",
        "            delta (float): Minimum change in the monitored quantity to qualify as an improvement.\n",
        "                            Default: 0\n",
        "        \"\"\"\n",
        "        self.patience = patience\n",
        "        self.verbose = verbose\n",
        "        self.counter = 0\n",
        "        self.best_score = None\n",
        "        self.early_stop = False\n",
        "        self.val_loss_min = np.Inf\n",
        "        self.delta = delta\n",
        "\n",
        "    def __call__(self, val_loss, model):\n",
        "\n",
        "        score = -val_loss\n",
        "\n",
        "        if self.best_score is None:\n",
        "            self.best_score = score\n",
        "            self.save_checkpoint(val_loss, model)\n",
        "        elif score < self.best_score + self.delta:\n",
        "            self.counter += 1\n",
        "            print(f'EarlyStopping counter: {self.counter} out of {self.patience}')\n",
        "            if self.counter >= self.patience:\n",
        "                self.early_stop = True\n",
        "        else:\n",
        "            self.best_score = score\n",
        "            self.save_checkpoint(val_loss, model)\n",
        "            self.counter = 0\n",
        "\n",
        "    def save_checkpoint(self, val_loss, model):\n",
        "        '''Saves model when validation loss decrease.'''\n",
        "        if self.verbose:\n",
        "            print(f'Validation loss decreased ({self.val_loss_min:.6f} --> {val_loss:.6f}).  Saving model ...')\n",
        "        torch.save(model.state_dict(), 'checkpoint.pt')\n",
        "        self.val_loss_min = val_loss"
      ],
      "execution_count": 0,
      "outputs": []
    },
    {
      "cell_type": "code",
      "metadata": {
        "id": "s4DMLbAR0b3j",
        "colab_type": "code",
        "colab": {}
      },
      "source": [
        "import torch\n",
        "import torch.nn as nn\n",
        "\n",
        "class Net(nn.Module):\n",
        "    def __init__(self):\n",
        "        super().__init__()\n",
        "        \n",
        "        self.cnn = nn.Sequential(\n",
        "            nn.Conv2d(IMG_CHANNELS, 12, kernel_size=3, padding=1),\n",
        "            nn.ReLU(),\n",
        "            #nn.BatchNorm2d(8),\n",
        "            #nn.Conv2d(12, 12, kernel_size=3, padding=1),\n",
        "            #nn.ReLU(),\n",
        "            nn.MaxPool2d(2, 2),\n",
        "            #32 x 32 x 12\n",
        "            \n",
        "            nn.Conv2d(12, 16, kernel_size=3, padding=1),\n",
        "            nn.ReLU(),\n",
        "            nn.Conv2d(16, 16, kernel_size=3, padding=1),\n",
        "            #nn.BatchNorm2d(64),\n",
        "            nn.ReLU(),\n",
        "            nn.MaxPool2d(2, 2),\n",
        "            #16 x 16 x 16\n",
        "            \n",
        "            nn.Conv2d(16, 32, kernel_size=3, padding=1),\n",
        "            nn.ReLU(),\n",
        "            nn.MaxPool2d(2, 2),\n",
        "            #8 x 8 x 32\n",
        "\n",
        "            nn.Conv2d(32, 32, kernel_size=3, padding=1),\n",
        "            nn.Dropout(0.4),\n",
        "            nn.ReLU(),\n",
        "            nn.MaxPool2d(2, 2),\n",
        "            #4 x 4 x 32\n",
        "            \n",
        "            nn.Conv2d(32, 64, kernel_size=3, padding=1),\n",
        "            nn.ReLU(),\n",
        "            #nn.Conv2d(64, 64, kernel_size=3, padding=1),\n",
        "            #nn.ReLU(),\n",
        "            nn.MaxPool2d(2, 2),\n",
        "            #2 x 2 x 64\n",
        "\n",
        "            nn.Conv2d(64, 128, kernel_size=3, padding=1),\n",
        "            nn.ReLU(),\n",
        "            nn.MaxPool2d(2, 2),\n",
        "            #1 x 1 x 128\n",
        "            \n",
        "        )\n",
        "        self.fcc_ab = nn.Sequential(\n",
        "            nn.Linear(128, 128),\n",
        "            nn.ReLU(),\n",
        "            nn.Dropout(0.4),\n",
        "            nn.Linear(128, 64),\n",
        "            nn.ReLU(),\n",
        "            #nn.Dropout(0.4),\n",
        "            nn.Linear(64, OUTPUT_AB)\n",
        "        )\n",
        "        self.fcc_xy = nn.Sequential(\n",
        "            nn.Linear(128, 64),\n",
        "            nn.ReLU(),\n",
        "            nn.Dropout(0.4),\n",
        "            nn.Linear(64, 32),\n",
        "            nn.ReLU(),\n",
        "            nn.Linear(32, OUTPUT_XY)   \n",
        "        )\n",
        "        self.fcc_d = nn.Sequential(\n",
        "            nn.Linear(128, 64),\n",
        "            nn.ReLU(),\n",
        "            nn.Dropout(0.4),\n",
        "            nn.Linear(64, 32),\n",
        "            nn.ReLU(),\n",
        "            nn.Linear(32, OUTPUT_D)\n",
        "        )\n",
        "    def forward(self, x):\n",
        "        output = self.cnn(x)\n",
        "        feature_map = output.view(output.size(0), -1)\n",
        "        ab = self.fcc_ab(feature_map)\n",
        "        a = ab[:, :30]\n",
        "        b = ab[:, 30:]\n",
        "        xy = self.fcc_xy(feature_map)\n",
        "        d = self.fcc_d(feature_map)\n",
        "        return a, b, xy, d"
      ],
      "execution_count": 0,
      "outputs": []
    },
    {
      "cell_type": "code",
      "metadata": {
        "id": "enGbxU4s0fBb",
        "colab_type": "code",
        "colab": {}
      },
      "source": [
        "#data path\n",
        "DRIVE_PATH = '/content/gdrive/My Drive/Colab Notebooks'\n",
        "BASE_PATH = 'singlesource_class'\n",
        "TRAIN_PATH_LABEL = os.path.join(DRIVE_PATH, 'data', BASE_PATH, 'train')\n",
        "VAL_PATH_LABEL = os.path.join(DRIVE_PATH, 'data', BASE_PATH, 'val')\n",
        "TEST_PATH_LABEL = os.path.join(DRIVE_PATH, 'data', BASE_PATH, 'test')\n",
        "LOAD_PRETRAINED_PATH = 'checkpoint.pt'\n",
        "#TRAIN_PATH_IMG = os.path.join(DRIVE_PATH, 'images', BASE_PATH, 'train')\n",
        "#VAL_PATH_IMG = os.path.join(DRIVE_PATH, 'images', BASE_PATH, 'val')\n",
        "#TEST_PATH_IMG = os.path.join(DRIVE_PATH, 'images', BASE_PATH, 'test')"
      ],
      "execution_count": 0,
      "outputs": []
    },
    {
      "cell_type": "code",
      "metadata": {
        "id": "Sl119Ok5051m",
        "colab_type": "code",
        "outputId": "44f4b236-0447-4a13-a4e5-5f92470e9cc2",
        "colab": {
          "base_uri": "https://localhost:8080/",
          "height": 242
        }
      },
      "source": [
        "if LOAD_DATA:\n",
        "    trainsets = []\n",
        "    valsets = []\n",
        "    testsets = []\n",
        "    for f in tqdm(os.listdir(TRAIN_PATH_LABEL)):\n",
        "      path = os.path.join(TRAIN_PATH_LABEL, f)\n",
        "      trainset = DataCaller_Excel(path, IMG_SIZE)\n",
        "      print(trainset.__len__())\n",
        "      trainsets.append(trainset)\n",
        "\n",
        "    for f in tqdm(os.listdir(VAL_PATH_LABEL)):\n",
        "      path  = os.path.join(VAL_PATH_LABEL, f)\n",
        "      valset = DataCaller_Excel(path, IMG_SIZE)\n",
        "      print(valset.__len__())\n",
        "      valsets.append(valset)\n",
        "\n",
        "    for f in tqdm(os.listdir(TEST_PATH_LABEL)):\n",
        "      path  = os.path.join(TEST_PATH_LABEL, f)\n",
        "      testset = DataCaller_Excel(path, IMG_SIZE)\n",
        "      print(testset.__len__())\n",
        "      testsets.append(testset)\n",
        "\n",
        "    trainset = ConcatDataset(trainsets)\n",
        "    print(trainset.__len__())\n",
        "    valset = ConcatDataset(valsets)\n",
        "    print(valset.__len__())\n",
        "    testset = ConcatDataset(testsets)\n",
        "    print(testset.__len__())\n",
        "    #trainset = DataCaller(TRAIN_PATH_IMG, TRAIN_PATH_LABEL, IMG_SIZE)\n",
        "    #valset = DataCaller(VAL_PATH_IMG, VAL_PATH_LABEL, IMG_SIZE)\n",
        "    #testset = DataCaller(TEST_PATH_IMG, TEST_PATH_LABEL, IMG_SIZE)"
      ],
      "execution_count": 10,
      "outputs": [
        {
          "output_type": "stream",
          "text": [
            " 20%|██        | 1/5 [00:17<01:08, 17.06s/it]"
          ],
          "name": "stderr"
        },
        {
          "output_type": "stream",
          "text": [
            "250\n"
          ],
          "name": "stdout"
        },
        {
          "output_type": "stream",
          "text": [
            "\r 40%|████      | 2/5 [00:34<00:51, 17.03s/it]"
          ],
          "name": "stderr"
        },
        {
          "output_type": "stream",
          "text": [
            "250\n"
          ],
          "name": "stdout"
        },
        {
          "output_type": "stream",
          "text": [
            "\r 60%|██████    | 3/5 [00:51<00:34, 17.02s/it]"
          ],
          "name": "stderr"
        },
        {
          "output_type": "stream",
          "text": [
            "250\n"
          ],
          "name": "stdout"
        },
        {
          "output_type": "stream",
          "text": [
            "\r 80%|████████  | 4/5 [01:08<00:17, 17.01s/it]"
          ],
          "name": "stderr"
        },
        {
          "output_type": "stream",
          "text": [
            "250\n"
          ],
          "name": "stdout"
        },
        {
          "output_type": "stream",
          "text": [
            "100%|██████████| 5/5 [01:25<00:00, 17.02s/it]\n",
            "  0%|          | 0/1 [00:00<?, ?it/s]"
          ],
          "name": "stderr"
        },
        {
          "output_type": "stream",
          "text": [
            "250\n"
          ],
          "name": "stdout"
        },
        {
          "output_type": "stream",
          "text": [
            "100%|██████████| 1/1 [00:16<00:00, 16.97s/it]\n",
            "  0%|          | 0/1 [00:00<?, ?it/s]"
          ],
          "name": "stderr"
        },
        {
          "output_type": "stream",
          "text": [
            "250\n"
          ],
          "name": "stdout"
        },
        {
          "output_type": "stream",
          "text": [
            "100%|██████████| 1/1 [01:13<00:00, 73.61s/it]"
          ],
          "name": "stderr"
        },
        {
          "output_type": "stream",
          "text": [
            "1000\n",
            "1250\n",
            "250\n",
            "1000\n"
          ],
          "name": "stdout"
        },
        {
          "output_type": "stream",
          "text": [
            "\n"
          ],
          "name": "stderr"
        }
      ]
    },
    {
      "cell_type": "code",
      "metadata": {
        "id": "CCRzbFvJ07bD",
        "colab_type": "code",
        "colab": {}
      },
      "source": [
        "#define dataloaders\n",
        "trainloader = DataLoader(trainset, batch_size = BATCH_SIZE, shuffle=True)\n",
        "valloader = DataLoader(valset, batch_size=VAL_BATCH_SIZE, shuffle=True)\n",
        "testloader = DataLoader(testset, batch_size=1, shuffle=False)"
      ],
      "execution_count": 0,
      "outputs": []
    },
    {
      "cell_type": "code",
      "metadata": {
        "id": "-bY-ORpG1Ew6",
        "colab_type": "code",
        "colab": {
          "base_uri": "https://localhost:8080/",
          "height": 1000
        },
        "outputId": "a03651c0-765b-4027-9166-b5dc81b85d76"
      },
      "source": [
        "#just checking if the data is loaded properly\n",
        "cnt = 0\n",
        "for i, data in enumerate(trainloader):\n",
        "    x, y = data\n",
        "    \n",
        "    #print(x)\n",
        "    x = np.array(x)\n",
        "    x = x.reshape(-1, IMG_CHANNELS, IMG_SIZE, IMG_SIZE)\n",
        "    #print(x)\n",
        "    #x = x.astype(int)\n",
        "    print(x)\n",
        "    print(x[0].shape)\n",
        "    #plt.imshow(x[0].reshape(IMG_SIZE, IMG_SIZE, -1))\n",
        "    #plt.imshow(x[0].reshape(IMG_SIZE, IMG_SIZE, -1), cmap='gray')\n",
        "    #plt.show()\n",
        "    #print(x[0])\n",
        "    print(y)\n",
        "    cnt += 1\n",
        "    if cnt==10:\n",
        "      break"
      ],
      "execution_count": 12,
      "outputs": [
        {
          "output_type": "stream",
          "text": [
            "[[[[ -1.9500284   -1.8537781   -1.7647557  ... -12.381899\n",
            "    -12.420108   -12.433106  ]\n",
            "   [ -1.9500284   -2.0175881   -1.9992316  ... -13.132494\n",
            "    -13.209364   -13.25458   ]\n",
            "   [ -1.9500284   -2.1666944   -2.1576655  ... -13.379196\n",
            "    -13.517504   -13.622468  ]\n",
            "   ...\n",
            "   [ -1.9500284   -1.5190232   -1.2682472  ... -11.260021\n",
            "    -11.247219   -11.209218  ]\n",
            "   [ -1.9500284   -1.6846428   -1.5050472  ... -11.917697\n",
            "    -11.933225   -11.922149  ]\n",
            "   [ -1.9500284   -1.8537781   -1.7647557  ... -12.381899\n",
            "    -12.420108   -12.433106  ]]]\n",
            "\n",
            "\n",
            " [[[  8.837031     9.539849     9.649202   ... -12.945779\n",
            "    -13.072046   -13.121345  ]\n",
            "   [  8.837031     9.675632     9.970612   ... -12.243461\n",
            "    -12.3637905  -12.430515  ]\n",
            "   [  8.837031     9.826474    10.331989   ... -11.130841\n",
            "    -11.195064   -11.253908  ]\n",
            "   ...\n",
            "   [  8.837031     9.342796     9.3279295  ... -11.485901\n",
            "    -11.442524   -11.391027  ]\n",
            "   [  8.837031     9.42692      9.421553   ... -12.381318\n",
            "    -12.428062   -12.418179  ]\n",
            "   [  8.837031     9.539849     9.649202   ... -12.945779\n",
            "    -13.072046   -13.121345  ]]]\n",
            "\n",
            "\n",
            " [[[  5.2450347    5.1887283    5.114944   ... -17.072483\n",
            "    -16.9958     -16.966846  ]\n",
            "   [  5.2450347    5.1299577    5.0180073  ... -17.710484\n",
            "    -17.649775   -17.64346   ]\n",
            "   [  5.2450347    5.09324      5.0214357  ... -19.70545\n",
            "    -19.677628   -19.703688  ]\n",
            "   ...\n",
            "   [  5.2450347    5.3480344    5.447209   ... -18.444492\n",
            "    -18.355999   -18.302284  ]\n",
            "   [  5.2450347    5.2638144    5.275436   ... -17.574278\n",
            "    -17.487215   -17.446613  ]\n",
            "   [  5.2450347    5.1887283    5.114944   ... -17.072483\n",
            "    -16.9958     -16.966846  ]]]\n",
            "\n",
            "\n",
            " ...\n",
            "\n",
            "\n",
            " [[[ 10.144289    10.106212    10.050271   ... -17.418056\n",
            "    -17.257986   -17.203724  ]\n",
            "   [ 10.144289    10.019125     9.880938   ... -17.883705\n",
            "    -17.722252   -17.685356  ]\n",
            "   [ 10.144289     9.938014     9.737394   ... -20.805252\n",
            "    -20.610523   -20.586922  ]\n",
            "   ...\n",
            "   [ 10.144289    10.28962     10.419906   ... -20.457676\n",
            "    -20.247086   -20.152702  ]\n",
            "   [ 10.144289    10.19717     10.234434   ... -17.60774\n",
            "    -17.427877   -17.358479  ]\n",
            "   [ 10.144289    10.106212    10.050271   ... -17.418056\n",
            "    -17.257986   -17.203724  ]]]\n",
            "\n",
            "\n",
            " [[[  1.0324799    0.85302943   0.68318367 ... -17.627012\n",
            "    -17.643837   -17.639894  ]\n",
            "   [  1.0324799    1.1389691    1.3089005  ... -18.579607\n",
            "    -18.703152   -18.798628  ]\n",
            "   [  1.0324799    1.4228427    1.840856   ... -20.357727\n",
            "    -20.701836   -20.971762  ]\n",
            "   ...\n",
            "   [  1.0324799    0.36257696  -0.2639785  ... -15.191872\n",
            "    -15.164438   -15.108825  ]\n",
            "   [  1.0324799    0.5865458    0.09884053 ... -16.143661\n",
            "    -16.134336   -16.100094  ]\n",
            "   [  1.0324799    0.85302943   0.68318367 ... -17.627012\n",
            "    -17.643837   -17.639894  ]]]\n",
            "\n",
            "\n",
            " [[[ -1.7840059   -1.8951815   -1.9890064  ... -12.212947\n",
            "    -12.212999   -12.204972  ]\n",
            "   [ -1.7840059   -1.800156    -1.8095913  ... -12.960378\n",
            "    -13.006033   -13.041279  ]\n",
            "   [ -1.7840059   -1.6841317   -1.5958958  ... -12.392622\n",
            "    -12.460639   -12.520523  ]\n",
            "   ...\n",
            "   [ -1.7840059   -1.9978317   -2.0945327  ... -12.575784\n",
            "    -12.544919   -12.508059  ]\n",
            "   [ -1.7840059   -1.9624496   -2.0912654  ... -12.27816\n",
            "    -12.274953   -12.263396  ]\n",
            "   [ -1.7840059   -1.8951815   -1.9890064  ... -12.212947\n",
            "    -12.212999   -12.204972  ]]]]\n",
            "(1, 64, 64)\n",
            "tensor([[ 5.0000, 25.0000,  3.5457, 12.1625,  1.0000],\n",
            "        [ 8.0000, 25.0000,  4.9249, 13.4254,  9.0000],\n",
            "        [ 1.0000, 23.0000,  0.7755,  7.6601,  4.0000],\n",
            "        [25.0000, 29.0000, 14.9210, 17.4881,  9.0000],\n",
            "        [17.0000, 23.0000,  3.2351,  5.0543,  8.0000],\n",
            "        [16.0000, 23.0000,  8.3675,  3.1145,  5.0000],\n",
            "        [22.0000, 25.0000, 20.2464, 12.0194,  7.0000],\n",
            "        [12.0000, 21.0000,  0.8156,  0.0897,  7.0000],\n",
            "        [22.0000, 15.0000, 11.7805, 14.6772,  4.0000],\n",
            "        [25.0000, 27.0000,  3.9311, 26.2156,  1.0000],\n",
            "        [12.0000, 12.0000,  2.3622,  3.9818, 10.0000],\n",
            "        [19.0000,  1.0000, 14.5081,  0.8626,  3.0000],\n",
            "        [12.0000,  2.0000,  5.9625,  0.1574,  4.0000],\n",
            "        [19.0000, 13.0000,  6.9613,  7.4168,  9.0000],\n",
            "        [11.0000, 16.0000,  1.7420,  1.8789,  1.0000],\n",
            "        [ 1.0000, 22.0000,  0.9635, 15.7485,  6.0000],\n",
            "        [17.0000,  4.0000, 14.7996,  0.5096,  3.0000],\n",
            "        [25.0000,  8.0000,  3.3146,  4.0978,  4.0000],\n",
            "        [17.0000,  9.0000,  0.1751,  7.9631, 10.0000],\n",
            "        [ 5.0000,  8.0000,  1.2613,  1.2826,  4.0000],\n",
            "        [21.0000, 11.0000,  7.0971,  3.0769, 10.0000],\n",
            "        [15.0000, 11.0000,  2.8884,  6.3930,  4.0000],\n",
            "        [ 3.0000, 23.0000,  2.1569,  3.0656,  8.0000],\n",
            "        [ 6.0000,  5.0000,  3.4850,  0.8492,  9.0000],\n",
            "        [ 7.0000, 30.0000,  1.7015, 20.6177,  1.0000],\n",
            "        [ 1.0000, 19.0000,  0.6121,  6.4541,  3.0000],\n",
            "        [22.0000, 27.0000, 10.0454, 14.9871,  1.0000],\n",
            "        [19.0000, 25.0000,  6.7757, 13.6352,  6.0000],\n",
            "        [27.0000,  9.0000, 23.5335,  7.2663,  8.0000],\n",
            "        [ 1.0000, 24.0000,  0.9168, 19.4752, 10.0000],\n",
            "        [10.0000, 27.0000,  5.7868, 11.7995,  3.0000],\n",
            "        [ 5.0000, 20.0000,  4.7126,  3.4852,  1.0000]])\n",
            "[[[[ 14.305509    13.52879     12.715384   ...  -6.1277757\n",
            "     -6.1581206   -6.1695695 ]\n",
            "   [ 14.305509    13.505549    12.669646   ...  -9.934917\n",
            "     -9.9986925  -10.047468  ]\n",
            "   [ 14.305509    13.486111    12.6325245  ... -11.856383\n",
            "    -11.870769   -11.894631  ]\n",
            "   ...\n",
            "   [ 14.305509    13.585523    12.828698   ... -11.1858425\n",
            "    -11.136058   -11.083297  ]\n",
            "   [ 14.305509    13.555532    12.768695   ...  -6.9458594\n",
            "     -6.927117    -6.904645  ]\n",
            "   [ 14.305509    13.52879     12.715384   ...  -6.1277757\n",
            "     -6.1581206   -6.1695695 ]]]\n",
            "\n",
            "\n",
            " [[[ -1.0598764   -1.2184975   -1.4018172  ... -12.153921\n",
            "    -12.152246   -12.142453  ]\n",
            "   [ -1.0598764   -1.2326047   -1.3982399  ... -12.272002\n",
            "    -12.296615   -12.31186   ]\n",
            "   [ -1.0598764   -1.1919005   -1.182046   ... -13.235779\n",
            "    -13.308604   -13.372382  ]\n",
            "   ...\n",
            "   [ -1.0598764   -1.0569587   -0.9791043  ... -12.872636\n",
            "    -12.864864   -12.847055  ]\n",
            "   [ -1.0598764   -1.1549699   -1.216119   ... -12.571178\n",
            "    -12.569907   -12.55885   ]\n",
            "   [ -1.0598764   -1.2184975   -1.4018172  ... -12.153921\n",
            "    -12.152246   -12.142453  ]]]\n",
            "\n",
            "\n",
            " [[[ 11.098854    11.174474    10.603051   ... -13.573622\n",
            "    -13.803425   -13.88565   ]\n",
            "   [ 11.098854    11.082078    10.419382   ... -15.664997\n",
            "    -15.822819   -15.867808  ]\n",
            "   [ 11.098854    10.993232    10.258131   ... -18.97574\n",
            "    -19.07591    -19.12752   ]\n",
            "   ...\n",
            "   [ 11.098854    11.361889    10.992349   ...  -5.547173\n",
            "     -5.5519543   -5.528019  ]\n",
            "   [ 11.098854    11.268441    10.797528   ...  -8.166755\n",
            "     -8.283265    -8.305749  ]\n",
            "   [ 11.098854    11.174474    10.603051   ... -13.573622\n",
            "    -13.803425   -13.88565   ]]]\n",
            "\n",
            "\n",
            " ...\n",
            "\n",
            "\n",
            " [[[  7.4944787    6.816961     6.449205   ... -22.000057\n",
            "    -20.379784   -19.904446  ]\n",
            "   [  7.4944787    6.67191      6.1515613  ... -26.383356\n",
            "    -25.210203   -24.765564  ]\n",
            "   [  7.4944787    6.554211     5.9570413  ... -15.066715\n",
            "    -16.236275   -16.818628  ]\n",
            "   ...\n",
            "   [  7.4944787    7.160268     7.1763124  ... -18.007809\n",
            "    -19.583164   -20.193922  ]\n",
            "   [  7.4944787    6.9822774    6.8052526  ... -23.099466\n",
            "    -21.636616   -21.043892  ]\n",
            "   [  7.4944787    6.816961     6.449205   ... -22.000057\n",
            "    -20.379784   -19.904446  ]]]\n",
            "\n",
            "\n",
            " [[[  0.3212635    0.47287986   0.32371914 ... -20.750267\n",
            "    -21.00744    -21.126904  ]\n",
            "   [  0.3212635    0.23783387   0.11442734 ... -21.378447\n",
            "    -21.74207    -22.04163   ]\n",
            "   [  0.3212635    0.09386396   0.3269397  ... -21.54673\n",
            "    -22.245497   -22.985994  ]\n",
            "   ...\n",
            "   [  0.3212635    1.0459582    1.3060596  ... -15.69328\n",
            "    -15.646795   -15.516509  ]\n",
            "   [  0.3212635    0.7572954    0.81642735 ... -17.974342\n",
            "    -17.996807   -17.915009  ]\n",
            "   [  0.3212635    0.47287986   0.32371914 ... -20.750267\n",
            "    -21.00744    -21.126904  ]]]\n",
            "\n",
            "\n",
            " [[[ 16.043924    16.273952    16.430931   ...  -3.79071\n",
            "     -3.8814077   -3.9164488 ]\n",
            "   [ 16.043924    16.348267    16.575808   ...  -3.5345006\n",
            "     -3.641141    -3.693674  ]\n",
            "   [ 16.043924    16.416033    16.700108   ...  -5.127869\n",
            "     -5.2470064   -5.314998  ]\n",
            "   ...\n",
            "   [ 16.043924    16.110083    16.09636    ...  -2.6889584\n",
            "     -2.7194717   -2.705127  ]\n",
            "   [ 16.043924    16.194149    16.269457   ...  -5.485601\n",
            "     -5.533266    -5.5277314 ]\n",
            "   [ 16.043924    16.273952    16.430931   ...  -3.79071\n",
            "     -3.8814077   -3.9164488 ]]]]\n",
            "(1, 64, 64)\n",
            "tensor([[20.0000,  5.0000, 19.2584,  2.8459,  8.0000],\n",
            "        [ 7.0000, 26.0000,  6.5569,  2.3025,  1.0000],\n",
            "        [12.0000, 17.0000,  6.8262, 16.3609,  9.0000],\n",
            "        [16.0000, 14.0000,  4.2400, 12.9070, 10.0000],\n",
            "        [10.0000, 19.0000,  4.3287, 14.4101,  2.0000],\n",
            "        [24.0000, 25.0000, 11.1831, 22.3439,  4.0000],\n",
            "        [27.0000, 21.0000,  2.2832,  9.3764,  4.0000],\n",
            "        [ 1.0000, 13.0000,  0.3975,  5.2698,  1.0000],\n",
            "        [19.0000,  3.0000, 13.0513,  0.2903,  1.0000],\n",
            "        [30.0000, 27.0000,  6.3435, 21.7147,  8.0000],\n",
            "        [ 1.0000,  6.0000,  0.3112,  3.9769,  9.0000],\n",
            "        [ 9.0000, 12.0000,  3.5866,  8.4877,  4.0000],\n",
            "        [ 4.0000, 13.0000,  0.9499,  5.8674,  5.0000],\n",
            "        [ 9.0000,  2.0000,  4.5875,  0.9916,  4.0000],\n",
            "        [ 1.0000, 26.0000,  0.9932,  5.8024,  7.0000],\n",
            "        [13.0000, 26.0000,  6.3772,  2.8486,  7.0000],\n",
            "        [25.0000,  1.0000, 18.4599,  0.7857,  5.0000],\n",
            "        [ 8.0000,  2.0000,  5.0520,  0.5374,  1.0000],\n",
            "        [14.0000, 19.0000,  6.4420, 14.5543,  7.0000],\n",
            "        [ 2.0000,  5.0000,  0.4750,  2.6539, 10.0000],\n",
            "        [ 4.0000, 22.0000,  0.9288, 12.5942,  6.0000],\n",
            "        [22.0000, 23.0000,  9.9346, 22.4638,  5.0000],\n",
            "        [19.0000,  4.0000,  8.6712,  3.6929,  8.0000],\n",
            "        [ 1.0000,  3.0000,  0.7787,  2.9524,  4.0000],\n",
            "        [14.0000, 10.0000,  4.3750,  2.3921,  6.0000],\n",
            "        [29.0000,  5.0000, 13.1609,  4.8736,  5.0000],\n",
            "        [21.0000, 28.0000,  2.5217,  0.4318,  8.0000],\n",
            "        [25.0000,  7.0000,  1.0567,  6.7959, 10.0000],\n",
            "        [26.0000, 28.0000, 20.2342,  6.7808,  8.0000],\n",
            "        [29.0000, 16.0000,  5.9134,  6.2655, 10.0000],\n",
            "        [22.0000, 28.0000,  8.2597,  5.5558,  4.0000],\n",
            "        [ 2.0000, 14.0000,  0.1658, 11.0918,  9.0000]])\n",
            "[[[[  4.518104     4.309296     4.2098746  ... -17.60703\n",
            "    -18.288275   -18.501856  ]\n",
            "   [  4.518104     4.247776     4.0604577  ... -16.416777\n",
            "    -17.33143    -17.852852  ]\n",
            "   [  4.518104     4.1849813    3.9008186  ... -15.237956\n",
            "    -16.34608    -17.146376  ]\n",
            "   ...\n",
            "   [  4.518104     4.423827     4.4536567  ...  -9.515902\n",
            "     -9.672366    -9.602727  ]\n",
            "   [  4.518104     4.368314     4.3424935  ... -14.827164\n",
            "    -15.359141   -15.524234  ]\n",
            "   [  4.518104     4.309296     4.2098746  ... -17.60703\n",
            "    -18.288275   -18.501856  ]]]\n",
            "\n",
            "\n",
            " [[[  3.8126583    4.083715     4.286196   ... -14.210465\n",
            "    -14.29425    -14.335879  ]\n",
            "   [  3.8126583    4.0215154    4.180762   ... -10.868813\n",
            "    -10.977716   -11.043844  ]\n",
            "   [  3.8126583    3.968919     4.126289   ...  -8.540893\n",
            "     -8.637417    -8.7023735 ]\n",
            "   ...\n",
            "   [  3.8126583    4.2263656    4.5821023  ... -16.571873\n",
            "    -16.653055   -16.696573  ]\n",
            "   [  3.8126583    4.1529727    4.426091   ... -15.855831\n",
            "    -15.941405   -15.984118  ]\n",
            "   [  3.8126583    4.083715     4.286196   ... -14.210465\n",
            "    -14.29425    -14.335879  ]]]\n",
            "\n",
            "\n",
            " [[[  9.570145     9.483919     9.379692   ...  -9.451631\n",
            "     -9.407384    -9.391671  ]\n",
            "   [  9.570145     9.579032     9.569596   ...  -8.359688\n",
            "     -8.333528    -8.341031  ]\n",
            "   [  9.570145     9.673371     9.756481   ... -10.200437\n",
            "    -10.215999   -10.267118  ]\n",
            "   ...\n",
            "   [  9.570145     9.295476     9.000889   ... -10.202727\n",
            "    -10.117086   -10.061843  ]\n",
            "   [  9.570145     9.389054     9.18925    ... -11.211701\n",
            "    -11.149648   -11.112633  ]\n",
            "   [  9.570145     9.483919     9.379692   ...  -9.451631\n",
            "     -9.407384    -9.391671  ]]]\n",
            "\n",
            "\n",
            " ...\n",
            "\n",
            "\n",
            " [[[ -1.782557    -1.4161978   -1.0970592  ... -12.105631\n",
            "    -12.391284   -12.48048   ]\n",
            "   [ -1.782557    -1.36599     -1.0109285  ... -10.805125\n",
            "    -10.969922   -10.960518  ]\n",
            "   [ -1.782557    -1.3243805   -0.9496049  ... -11.878146\n",
            "    -12.160133   -12.190193  ]\n",
            "   ...\n",
            "   [ -1.782557    -1.5408164   -1.3417825  ...  -9.949804\n",
            "    -10.375481   -10.588766  ]\n",
            "   [ -1.782557    -1.4746593   -1.2076948  ... -11.012305\n",
            "    -11.483681   -11.751448  ]\n",
            "   [ -1.782557    -1.4161978   -1.0970592  ... -12.105631\n",
            "    -12.391284   -12.48048   ]]]\n",
            "\n",
            "\n",
            " [[[ 10.265548    11.371548    11.869798   ...  -5.10285\n",
            "     -5.134497    -5.1534    ]\n",
            "   [ 10.265548    11.471894    12.068093   ...  -4.4945445\n",
            "     -4.550024    -4.5999603 ]\n",
            "   [ 10.265548    11.565143    12.267887   ...  -7.182955\n",
            "     -7.191932    -7.2407875 ]\n",
            "   ...\n",
            "   [ 10.265548    11.153346    11.484516   ...  -4.415701\n",
            "     -4.3337073   -4.2784166 ]\n",
            "   [ 10.265548    11.265111    11.675136   ...  -5.9829597\n",
            "     -5.9457684   -5.9131303 ]\n",
            "   [ 10.265548    11.371548    11.869798   ...  -5.10285\n",
            "     -5.134497    -5.1534    ]]]\n",
            "\n",
            "\n",
            " [[[  0.44276506   0.4132854    0.38337323 ... -20.220211\n",
            "    -20.492302   -20.60575   ]\n",
            "   [  0.44276506   0.48164058   0.59445995 ... -19.999313\n",
            "    -20.272472   -20.480936  ]\n",
            "   [  0.44276506   0.5939365    0.93237036 ... -20.262337\n",
            "    -21.104856   -21.809092  ]\n",
            "   ...\n",
            "   [  0.44276506   0.42415443   0.5051339  ... -14.138998\n",
            "    -14.139142   -14.046663  ]\n",
            "   [  0.44276506   0.39429224   0.3535381  ... -16.822803\n",
            "    -16.852724   -16.7952    ]\n",
            "   [  0.44276506   0.4132854    0.38337323 ... -20.220211\n",
            "    -20.492302   -20.60575   ]]]]\n",
            "(1, 64, 64)\n",
            "tensor([[21.0000, 13.0000,  3.6727,  7.6895,  3.0000],\n",
            "        [ 2.0000,  7.0000,  0.5598,  0.0575,  4.0000],\n",
            "        [ 1.0000,  5.0000,  0.8353,  2.9194,  3.0000],\n",
            "        [17.0000, 19.0000, 15.0783, 18.0046,  7.0000],\n",
            "        [27.0000, 29.0000, 22.7985, 21.2594,  5.0000],\n",
            "        [ 3.0000,  6.0000,  0.8075,  0.9632,  7.0000],\n",
            "        [ 2.0000,  5.0000,  0.4460,  3.3043,  1.0000],\n",
            "        [ 3.0000,  6.0000,  2.8492,  5.7401,  1.0000],\n",
            "        [17.0000, 30.0000,  6.1683,  1.1548, 10.0000],\n",
            "        [ 5.0000, 18.0000,  3.6249,  9.0687, 10.0000],\n",
            "        [23.0000, 16.0000,  4.5697,  1.3060,  1.0000],\n",
            "        [14.0000,  6.0000, 11.2704,  5.3047,  4.0000],\n",
            "        [27.0000, 23.0000,  3.0338,  4.6953,  9.0000],\n",
            "        [ 3.0000,  5.0000,  1.0391,  4.8378,  4.0000],\n",
            "        [26.0000,  7.0000, 25.6468,  5.6118,  9.0000],\n",
            "        [ 3.0000, 21.0000,  0.5183, 18.0222,  5.0000],\n",
            "        [ 5.0000, 13.0000,  4.4657,  1.8185,  3.0000],\n",
            "        [12.0000, 11.0000,  1.3200,  5.5236,  6.0000],\n",
            "        [23.0000,  4.0000,  8.7298,  1.6614,  9.0000],\n",
            "        [ 2.0000, 30.0000,  0.8519, 22.6072,  8.0000],\n",
            "        [20.0000,  1.0000,  4.4025,  0.8185, 10.0000],\n",
            "        [18.0000,  9.0000, 11.3824,  3.3686,  8.0000],\n",
            "        [18.0000, 23.0000,  8.6327, 19.4011,  2.0000],\n",
            "        [27.0000, 17.0000, 24.5339, 13.0996,  5.0000],\n",
            "        [ 7.0000,  4.0000,  4.5961,  0.5685,  2.0000],\n",
            "        [10.0000, 19.0000,  4.4529,  4.6349,  5.0000],\n",
            "        [30.0000, 10.0000, 23.6064,  1.8390,  6.0000],\n",
            "        [26.0000,  4.0000, 14.7467,  1.7054,  4.0000],\n",
            "        [14.0000, 25.0000, 10.7355, 14.7946,  7.0000],\n",
            "        [ 9.0000, 14.0000,  0.1307,  9.7845,  1.0000],\n",
            "        [ 8.0000, 14.0000,  0.8500, 10.5529,  9.0000],\n",
            "        [27.0000, 18.0000, 18.1241,  4.6156,  3.0000]])\n",
            "[[[[ 10.497097    10.417775    10.5675     ... -13.119325\n",
            "    -13.161222   -13.183733  ]\n",
            "   [ 10.497097    10.425709    10.582682   ... -11.316797\n",
            "    -10.969016   -10.89169   ]\n",
            "   [ 10.497097    10.425474    10.577856   ... -12.63446\n",
            "    -13.062109   -13.320411  ]\n",
            "   ...\n",
            "   [ 10.497097    10.3766985   10.470485   ... -22.785603\n",
            "    -22.822968   -22.787508  ]\n",
            "   [ 10.497097    10.401413    10.530421   ... -15.502504\n",
            "    -15.44416    -15.42133   ]\n",
            "   [ 10.497097    10.417775    10.5675     ... -13.119325\n",
            "    -13.161222   -13.183733  ]]]\n",
            "\n",
            "\n",
            " [[[ -2.0057979   -1.8284942   -1.5897626  ...  -9.299451\n",
            "     -9.371943    -9.382912  ]\n",
            "   [ -2.0057979   -1.6498015   -1.1896955  ... -10.44441\n",
            "    -10.644093   -10.732096  ]\n",
            "   [ -2.0057979   -1.456242    -0.8127721  ...  -9.749201\n",
            "    -10.221509   -10.550012  ]\n",
            "   ...\n",
            "   [ -2.0057979   -2.0675519   -1.9340312  ...  -7.241212\n",
            "     -7.378415    -7.3687224 ]\n",
            "   [ -2.0057979   -1.9730356   -1.8739253  ...  -8.774885\n",
            "     -8.935708    -8.984689  ]\n",
            "   [ -2.0057979   -1.8284942   -1.5897626  ...  -9.299451\n",
            "     -9.371943    -9.382912  ]]]\n",
            "\n",
            "\n",
            " [[[ -0.693613    -0.7339337   -0.7298455  ... -11.77465\n",
            "    -11.913617   -11.969537  ]\n",
            "   [ -0.693613    -0.5515255   -0.30762166 ... -11.808723\n",
            "    -11.94175    -11.991153  ]\n",
            "   [ -0.693613    -0.363887     0.1038252  ... -12.003789\n",
            "    -12.173549   -12.260565  ]\n",
            "   ...\n",
            "   [ -0.693613    -1.04502     -1.3355083  ... -11.128926\n",
            "    -11.2294655  -11.257805  ]\n",
            "   [ -0.693613    -0.9014579   -1.095797   ... -11.58307\n",
            "    -11.714413   -11.767288  ]\n",
            "   [ -0.693613    -0.7339337   -0.7298455  ... -11.77465\n",
            "    -11.913617   -11.969537  ]]]\n",
            "\n",
            "\n",
            " ...\n",
            "\n",
            "\n",
            " [[[ 16.157387    15.339171    14.317444   ...  -7.528827\n",
            "     -7.44139     -7.413359  ]\n",
            "   [ 16.157387    15.449286    14.532806   ...  -8.953413\n",
            "     -8.860048    -8.832767  ]\n",
            "   [ 16.157387    15.560521    14.739606   ... -12.033245\n",
            "    -11.9343195  -11.9458885 ]\n",
            "   ...\n",
            "   [ 16.157387    15.126936    13.87182    ... -15.90049\n",
            "    -15.769479   -15.709109  ]\n",
            "   [ 16.157387    15.231298    14.095939   ... -11.473225\n",
            "    -11.353613   -11.294755  ]\n",
            "   [ 16.157387    15.339171    14.317444   ...  -7.528827\n",
            "     -7.44139     -7.413359  ]]]\n",
            "\n",
            "\n",
            " [[[ 11.672844    12.132488    12.369054   ...  -9.099556\n",
            "     -9.033785    -9.024683  ]\n",
            "   [ 11.672844    12.279317    12.648792   ... -11.051396\n",
            "    -10.880442   -10.837884  ]\n",
            "   [ 11.672844    12.413189    12.897413   ... -11.74094\n",
            "    -11.585024   -11.6222315 ]\n",
            "   ...\n",
            "   [ 11.672844    11.810468    11.768191   ... -11.440371\n",
            "    -11.106482   -10.944239  ]\n",
            "   [ 11.672844    11.975226    12.070519   ... -10.066393\n",
            "     -9.861932    -9.769651  ]\n",
            "   [ 11.672844    12.132488    12.369054   ...  -9.099556\n",
            "     -9.033785    -9.024683  ]]]\n",
            "\n",
            "\n",
            " [[[  9.926056    10.444821    11.041995   ... -11.215512\n",
            "    -11.663709   -11.829297  ]\n",
            "   [  9.926056    10.447484    11.046499   ...  -9.799079\n",
            "    -10.0929365  -10.20814   ]\n",
            "   [  9.926056    10.444427    11.038035   ...  -8.652138\n",
            "     -8.760288    -8.82646   ]\n",
            "   ...\n",
            "   [  9.926056    10.42246     10.994413   ...  -5.7545633\n",
            "     -5.8929734   -5.955848  ]\n",
            "   [  9.926056    10.436445    11.024591   ...  -9.152136\n",
            "     -9.533677    -9.680514  ]\n",
            "   [  9.926056    10.444821    11.041995   ... -11.215512\n",
            "    -11.663709   -11.829297  ]]]]\n",
            "(1, 64, 64)\n",
            "tensor([[3.0000e+01, 6.0000e+00, 2.1275e+01, 1.4300e+00, 8.0000e+00],\n",
            "        [1.6000e+01, 2.3000e+01, 5.7411e-01, 4.4675e+00, 1.0000e+00],\n",
            "        [6.0000e+00, 1.3000e+01, 1.8809e+00, 1.4257e+00, 1.0000e+00],\n",
            "        [2.0000e+00, 1.3000e+01, 4.0633e-01, 1.1314e+01, 2.0000e+00],\n",
            "        [9.0000e+00, 1.0000e+00, 1.9844e+00, 2.5447e-02, 2.0000e+00],\n",
            "        [4.0000e+00, 2.7000e+01, 4.9462e-01, 2.4200e+01, 9.0000e+00],\n",
            "        [1.8000e+01, 1.2000e+01, 2.9955e+00, 7.1528e+00, 2.0000e+00],\n",
            "        [1.4000e+01, 2.8000e+01, 7.1558e+00, 7.3599e-01, 1.0000e+01],\n",
            "        [2.4000e+01, 1.2000e+01, 1.1225e+01, 1.0767e+01, 2.0000e+00],\n",
            "        [2.5000e+01, 2.2000e+01, 7.7233e+00, 1.2829e+01, 9.0000e+00],\n",
            "        [5.0000e+00, 6.0000e+00, 3.3236e+00, 5.1518e+00, 8.0000e+00],\n",
            "        [1.9000e+01, 2.5000e+01, 1.6479e+01, 1.8029e+01, 2.0000e+00],\n",
            "        [1.2000e+01, 2.0000e+01, 8.9386e-01, 1.5705e+01, 6.0000e+00],\n",
            "        [1.6000e+01, 2.3000e+01, 1.1552e+01, 3.6433e+00, 6.0000e+00],\n",
            "        [3.0000e+00, 9.0000e+00, 1.7891e+00, 4.9125e+00, 1.0000e+01],\n",
            "        [1.2000e+01, 1.2000e+01, 1.1707e+01, 1.1713e+01, 1.0000e+00],\n",
            "        [1.0000e+01, 3.0000e+00, 5.0901e+00, 5.7734e-01, 3.0000e+00],\n",
            "        [2.5000e+01, 2.0000e+01, 2.4270e+01, 1.0136e+01, 9.0000e+00],\n",
            "        [3.0000e+01, 1.3000e+01, 6.5212e+00, 8.0473e+00, 8.0000e+00],\n",
            "        [2.6000e+01, 6.0000e+00, 2.2831e+01, 8.5573e-01, 4.0000e+00],\n",
            "        [2.4000e+01, 9.0000e+00, 1.1712e+01, 2.1362e+00, 3.0000e+00],\n",
            "        [2.5000e+01, 3.0000e+01, 8.0297e+00, 2.6476e+01, 2.0000e+00],\n",
            "        [8.0000e+00, 6.0000e+00, 6.4967e+00, 4.6829e+00, 1.0000e+01],\n",
            "        [1.6000e+01, 7.0000e+00, 3.0318e+00, 4.8524e+00, 1.0000e+00],\n",
            "        [1.4000e+01, 1.8000e+01, 1.2598e+01, 9.5042e-01, 5.0000e+00],\n",
            "        [2.0000e+01, 2.1000e+01, 1.8460e+01, 6.8489e+00, 9.0000e+00],\n",
            "        [2.4000e+01, 2.9000e+01, 2.2819e+01, 1.4496e+01, 5.0000e+00],\n",
            "        [2.2000e+01, 3.0000e+01, 1.8913e+01, 2.4352e+01, 9.0000e+00],\n",
            "        [1.7000e+01, 5.0000e+00, 1.6828e+01, 4.9543e+00, 2.0000e+00],\n",
            "        [5.0000e+00, 7.0000e+00, 2.9913e+00, 1.9647e+00, 8.0000e+00],\n",
            "        [1.2000e+01, 2.0000e+01, 2.4535e+00, 1.4206e+01, 1.0000e+01],\n",
            "        [1.4000e+01, 1.0000e+00, 7.8702e-01, 1.2372e-01, 5.0000e+00]])\n",
            "[[[[  5.9902153    5.89958      5.584363   ... -19.336384\n",
            "    -19.448633   -19.497568  ]\n",
            "   [  5.9902153    6.132476     5.96883    ... -17.245815\n",
            "    -17.402266   -17.463596  ]\n",
            "   [  5.9902153    6.338293     6.2573056  ... -13.094948\n",
            "    -13.2452965  -13.326778  ]\n",
            "   ...\n",
            "   [  5.9902153    5.3826394    4.6833677  ... -22.715416\n",
            "    -22.784023   -22.809137  ]\n",
            "   [  5.9902153    5.646555     5.1370187  ... -22.508038\n",
            "    -22.61836    -22.644983  ]\n",
            "   [  5.9902153    5.89958      5.584363   ... -19.336384\n",
            "    -19.448633   -19.497568  ]]]\n",
            "\n",
            "\n",
            " [[[  7.330824     8.301352     8.968564   ... -11.1693125\n",
            "    -11.11612    -11.108598  ]\n",
            "   [  7.330824     8.468587     9.2998495  ...  -7.9588256\n",
            "     -7.8324976   -7.829399  ]\n",
            "   [  7.330824     8.617737     9.578131   ...  -7.1976905\n",
            "     -7.0567703   -7.0934906 ]\n",
            "   ...\n",
            "   [  7.330824     7.9203835    8.151907   ... -22.686441\n",
            "    -22.26168    -22.151892  ]\n",
            "   [  7.330824     8.117884     8.584901   ... -16.14868\n",
            "    -15.903294   -15.829364  ]\n",
            "   [  7.330824     8.301352     8.968564   ... -11.1693125\n",
            "    -11.11612    -11.108598  ]]]\n",
            "\n",
            "\n",
            " [[[  4.273032     4.7096853    4.7793503  ... -18.672003\n",
            "    -18.27236    -18.174032  ]\n",
            "   [  4.273032     4.9165845    5.204994   ... -17.580595\n",
            "    -17.196842   -17.221807  ]\n",
            "   [  4.273032     5.1233745    5.6171093  ... -22.477537\n",
            "    -22.94934    -23.544605  ]\n",
            "   ...\n",
            "   [  4.273032     4.318938     4.0335293  ... -23.125282\n",
            "    -23.9014     -24.199417  ]\n",
            "   [  4.273032     4.508571     4.3753104  ... -26.456125\n",
            "    -25.495382   -25.16024   ]\n",
            "   [  4.273032     4.7096853    4.7793503  ... -18.672003\n",
            "    -18.27236    -18.174032  ]]]\n",
            "\n",
            "\n",
            " ...\n",
            "\n",
            "\n",
            " [[[  1.6603507    1.6793573    1.764886   ...  -9.54072\n",
            "     -9.558287    -9.548013  ]\n",
            "   [  1.6603507    1.7783536    1.9504304  ... -10.279405\n",
            "    -10.361915   -10.419799  ]\n",
            "   [  1.6603507    1.8711281    2.1158378  ... -11.647561\n",
            "    -11.836728   -11.98877   ]\n",
            "   ...\n",
            "   [  1.6603507    1.4663692    1.343669   ...  -7.7382145\n",
            "     -7.7074175   -7.652774  ]\n",
            "   [  1.6603507    1.5749958    1.5615691  ...  -8.0463915\n",
            "     -8.040857    -8.011907  ]\n",
            "   [  1.6603507    1.6793573    1.764886   ...  -9.54072\n",
            "     -9.558287    -9.548013  ]]]\n",
            "\n",
            "\n",
            " [[[  6.5433087    6.2258267    5.678541   ... -14.519327\n",
            "    -14.566888   -14.580295  ]\n",
            "   [  6.5433087    6.0517087    5.2908325  ... -15.562675\n",
            "    -15.662796   -15.730842  ]\n",
            "   [  6.5433087    5.894321     5.024481   ... -16.743761\n",
            "    -16.70676    -16.748789  ]\n",
            "   ...\n",
            "   [  6.5433087    6.5831137    6.494548   ... -14.453345\n",
            "    -14.362492   -14.302963  ]\n",
            "   [  6.5433087    6.406314     6.104592   ... -15.7511015\n",
            "    -15.761974   -15.750305  ]\n",
            "   [  6.5433087    6.2258267    5.678541   ... -14.519327\n",
            "    -14.566888   -14.580295  ]]]\n",
            "\n",
            "\n",
            " [[[ -0.6569198   -0.74330896  -0.82142043 ... -12.0358305\n",
            "    -12.195294   -12.195224  ]\n",
            "   [ -0.6569198   -0.78942037  -0.9182423  ... -13.947701\n",
            "    -13.971864   -13.8561325 ]\n",
            "   [ -0.6569198   -0.83422226  -1.0159919  ... -14.778245\n",
            "    -14.917925   -14.898303  ]\n",
            "   ...\n",
            "   [ -0.6569198   -0.64966697  -0.6339213  ...  -8.136085\n",
            "     -8.341978    -8.384212  ]\n",
            "   [ -0.6569198   -0.69652534  -0.7264633  ... -10.005412\n",
            "    -10.287732   -10.414763  ]\n",
            "   [ -0.6569198   -0.74330896  -0.82142043 ... -12.0358305\n",
            "    -12.195294   -12.195224  ]]]]\n",
            "(1, 64, 64)\n",
            "tensor([[ 6.0000, 16.0000,  4.0520,  0.7050,  6.0000],\n",
            "        [14.0000,  6.0000,  0.8420,  0.3849, 10.0000],\n",
            "        [24.0000, 11.0000,  4.1762,  1.0670,  6.0000],\n",
            "        [24.0000,  9.0000, 19.9814,  2.8154,  1.0000],\n",
            "        [10.0000, 30.0000,  8.3761,  0.4630,  9.0000],\n",
            "        [30.0000, 18.0000, 21.3236, 12.0146,  8.0000],\n",
            "        [ 2.0000, 16.0000,  1.3837, 11.9566,  6.0000],\n",
            "        [14.0000, 24.0000, 12.5887, 21.4338,  8.0000],\n",
            "        [20.0000, 12.0000, 13.5224, 11.7227,  1.0000],\n",
            "        [ 1.0000, 17.0000,  0.1943, 13.3632,  3.0000],\n",
            "        [ 9.0000, 16.0000,  2.1294,  2.1600,  4.0000],\n",
            "        [24.0000,  7.0000,  4.8030,  4.7000,  8.0000],\n",
            "        [13.0000,  2.0000, 12.3918,  0.2577,  8.0000],\n",
            "        [ 8.0000, 25.0000,  7.2616, 16.7524,  7.0000],\n",
            "        [ 1.0000, 15.0000,  0.1185,  6.2258,  5.0000],\n",
            "        [15.0000, 12.0000,  8.4525,  6.2433,  1.0000],\n",
            "        [23.0000, 29.0000, 13.1071, 12.5816,  3.0000],\n",
            "        [ 8.0000, 26.0000,  0.6480, 22.4919,  2.0000],\n",
            "        [ 2.0000,  9.0000,  0.6339,  6.2581,  9.0000],\n",
            "        [ 2.0000, 19.0000,  0.8703, 10.6068,  4.0000],\n",
            "        [18.0000, 18.0000,  9.0484,  4.0346,  1.0000],\n",
            "        [ 7.0000, 29.0000,  6.2857,  4.6871,  4.0000],\n",
            "        [ 5.0000,  2.0000,  1.9387,  1.4014,  4.0000],\n",
            "        [ 6.0000,  8.0000,  5.6635,  7.6985,  9.0000],\n",
            "        [18.0000, 28.0000, 14.4967, 11.2871, 10.0000],\n",
            "        [19.0000, 23.0000, 16.7184,  3.5400,  8.0000],\n",
            "        [ 6.0000,  2.0000,  4.5815,  0.1707,  2.0000],\n",
            "        [28.0000,  9.0000,  3.3746,  4.6793,  6.0000],\n",
            "        [ 4.0000, 27.0000,  1.3687, 24.3300,  8.0000],\n",
            "        [18.0000,  6.0000, 16.5535,  1.5874,  1.0000],\n",
            "        [16.0000, 18.0000, 11.4798,  5.3862,  8.0000],\n",
            "        [19.0000, 18.0000,  4.5173, 16.3188,  1.0000]])\n",
            "[[[[  2.702273     3.0487628    3.416364   ...  -7.6115875\n",
            "     -7.8152394   -7.8977337 ]\n",
            "   [  2.702273     2.9862142    3.2852724  ...  -6.7114425\n",
            "     -6.916312    -7.012695  ]\n",
            "   [  2.702273     2.9205334    3.1476383  ...  -6.075752\n",
            "     -6.333107    -6.486885  ]\n",
            "   ...\n",
            "   [  2.702273     3.160864     3.644026   ...  -6.656902\n",
            "     -6.769153    -6.79365   ]\n",
            "   [  2.702273     3.1072583    3.5370638  ...  -6.7091484\n",
            "     -6.9140224   -7.0006557 ]\n",
            "   [  2.702273     3.0487628    3.416364   ...  -7.6115875\n",
            "     -7.8152394   -7.8977337 ]]]\n",
            "\n",
            "\n",
            " [[[ -0.50313795  -0.93057984  -1.3554058  ... -17.984615\n",
            "    -18.04412    -18.096018  ]\n",
            "   [ -0.50313795  -0.9168048   -1.3312765  ... -16.57087\n",
            "    -16.650476   -16.716274  ]\n",
            "   [ -0.50313795  -0.9100077   -1.3368127  ... -15.321738\n",
            "    -15.399586   -15.468017  ]\n",
            "   ...\n",
            "   [ -0.50313795  -0.97845906  -1.499863   ... -21.177288\n",
            "    -21.233812   -21.276587  ]\n",
            "   [ -0.50313795  -0.95127463  -1.4114329  ... -20.73263\n",
            "    -20.763906   -20.784136  ]\n",
            "   [ -0.50313795  -0.93057984  -1.3554058  ... -17.984615\n",
            "    -18.04412    -18.096018  ]]]\n",
            "\n",
            "\n",
            " [[[  1.3560666    1.4621278    1.3401357  ... -18.640656\n",
            "    -18.826185   -18.906637  ]\n",
            "   [  1.3560666    1.6070445    1.7561893  ... -20.166952\n",
            "    -20.298014   -20.522629  ]\n",
            "   [  1.3560666    1.7949336    2.251105   ... -25.067886\n",
            "    -27.051622   -28.95854   ]\n",
            "   ...\n",
            "   [  1.3560666    1.3540806    1.2050676  ... -17.04323\n",
            "    -17.188923   -17.162537  ]\n",
            "   [  1.3560666    1.3752891    1.1358044  ... -17.704298\n",
            "    -17.620369   -17.485353  ]\n",
            "   [  1.3560666    1.4621278    1.3401357  ... -18.640656\n",
            "    -18.826185   -18.906637  ]]]\n",
            "\n",
            "\n",
            " ...\n",
            "\n",
            "\n",
            " [[[  9.198683     9.159823     9.226874   ...  -9.097113\n",
            "     -9.059562    -9.02464   ]\n",
            "   [  9.198683     9.10808      9.123096   ... -13.798062\n",
            "    -13.740341   -13.723001  ]\n",
            "   [  9.198683     9.058434     9.022614   ... -22.83792\n",
            "    -22.770428   -22.85847   ]\n",
            "   ...\n",
            "   [  9.198683     9.267361     9.437586   ...  -4.464371\n",
            "     -4.3383083   -4.249935  ]\n",
            "   [  9.198683     9.213117     9.3323     ...  -6.6655326\n",
            "     -6.623428    -6.589514  ]\n",
            "   [  9.198683     9.159823     9.226874   ...  -9.097113\n",
            "     -9.059562    -9.02464   ]]]\n",
            "\n",
            "\n",
            " [[[  7.539267     6.82177      6.3698754  ... -11.530931\n",
            "    -11.560988   -11.565318  ]\n",
            "   [  7.539267     7.086684     6.8196864  ... -10.638849\n",
            "    -10.687199   -10.716716  ]\n",
            "   [  7.539267     7.304114     7.0392976  ... -13.009269\n",
            "    -13.047952   -13.105657  ]\n",
            "   ...\n",
            "   [  7.539267     6.1989527    5.052816   ... -16.774284\n",
            "    -16.736115   -16.702057  ]\n",
            "   [  7.539267     6.5201807    5.740423   ... -13.829711\n",
            "    -13.824107   -13.804341  ]\n",
            "   [  7.539267     6.82177      6.3698754  ... -11.530931\n",
            "    -11.560988   -11.565318  ]]]\n",
            "\n",
            "\n",
            " [[[ 10.376992    10.3909025    9.856903   ... -16.495\n",
            "    -16.790066   -16.89968   ]\n",
            "   [ 10.376992    10.375447     9.8189335  ... -15.99605\n",
            "    -16.416306   -16.575893  ]\n",
            "   [ 10.376992    10.3828745    9.878569   ... -12.815087\n",
            "    -13.143614   -13.309385  ]\n",
            "   ...\n",
            "   [ 10.376992    10.484506    10.17476    ... -10.932063\n",
            "    -11.090322   -11.112986  ]\n",
            "   [ 10.376992    10.428066     9.981891   ... -13.564747\n",
            "    -13.7923565  -13.850782  ]\n",
            "   [ 10.376992    10.3909025    9.856903   ... -16.495\n",
            "    -16.790066   -16.89968   ]]]]\n",
            "(1, 64, 64)\n",
            "tensor([[6.0000e+00, 5.0000e+00, 1.4208e-01, 1.4744e+00, 2.0000e+00],\n",
            "        [7.0000e+00, 7.0000e+00, 6.5434e+00, 6.7331e-03, 2.0000e+00],\n",
            "        [3.0000e+01, 2.5000e+01, 1.3401e+01, 9.1411e+00, 5.0000e+00],\n",
            "        [2.4000e+01, 1.3000e+01, 9.3941e+00, 2.8882e+00, 1.0000e+01],\n",
            "        [2.0000e+00, 8.0000e+00, 1.3884e-01, 1.9804e+00, 8.0000e+00],\n",
            "        [1.0000e+00, 5.0000e+00, 5.5219e-01, 4.3280e+00, 1.0000e+01],\n",
            "        [2.5000e+01, 2.3000e+01, 2.4164e+01, 2.2694e+01, 4.0000e+00],\n",
            "        [2.6000e+01, 6.0000e+00, 1.1259e+00, 2.2113e+00, 7.0000e+00],\n",
            "        [1.5000e+01, 2.9000e+01, 1.0869e+01, 1.4500e+01, 5.0000e+00],\n",
            "        [6.0000e+00, 3.0000e+01, 1.0656e+00, 1.6307e+01, 3.0000e+00],\n",
            "        [1.6000e+01, 2.1000e+01, 7.9003e+00, 9.1877e+00, 1.0000e+01],\n",
            "        [2.3000e+01, 2.0000e+01, 1.1973e+01, 1.4843e+01, 1.0000e+01],\n",
            "        [1.4000e+01, 9.0000e+00, 8.6604e+00, 9.5963e-02, 7.0000e+00],\n",
            "        [2.9000e+01, 2.5000e+01, 3.1178e+00, 1.8166e+01, 8.0000e+00],\n",
            "        [2.1000e+01, 2.4000e+01, 1.3713e+01, 3.8413e+00, 9.0000e+00],\n",
            "        [2.6000e+01, 2.2000e+01, 2.4352e+01, 1.2989e+01, 7.0000e+00],\n",
            "        [1.0000e+01, 2.0000e+00, 9.9082e+00, 2.8571e-01, 9.0000e+00],\n",
            "        [2.3000e+01, 2.3000e+01, 6.1462e+00, 1.1380e+01, 5.0000e+00],\n",
            "        [3.0000e+00, 2.5000e+01, 2.9053e+00, 1.4076e+01, 4.0000e+00],\n",
            "        [2.3000e+01, 1.1000e+01, 4.1872e+00, 9.0292e+00, 9.0000e+00],\n",
            "        [4.0000e+00, 1.1000e+01, 1.3175e+00, 7.1596e+00, 7.0000e+00],\n",
            "        [1.6000e+01, 1.5000e+01, 1.2605e+01, 1.0950e+00, 3.0000e+00],\n",
            "        [5.0000e+00, 1.1000e+01, 2.5123e+00, 6.9677e-01, 5.0000e+00],\n",
            "        [2.9000e+01, 2.9000e+01, 1.1553e+01, 1.5038e+01, 7.0000e+00],\n",
            "        [7.0000e+00, 1.9000e+01, 5.4243e+00, 1.6139e+01, 1.0000e+00],\n",
            "        [2.1000e+01, 3.0000e+00, 1.6294e+01, 1.8864e+00, 3.0000e+00],\n",
            "        [2.8000e+01, 1.5000e+01, 1.9241e+01, 4.4066e+00, 8.0000e+00],\n",
            "        [1.0000e+00, 1.0000e+01, 8.0180e-01, 3.0416e+00, 9.0000e+00],\n",
            "        [8.0000e+00, 2.0000e+01, 1.0780e+00, 1.6576e+01, 1.0000e+00],\n",
            "        [1.1000e+01, 8.0000e+00, 3.1382e+00, 7.2751e+00, 5.0000e+00],\n",
            "        [7.0000e+00, 1.9000e+01, 3.0680e+00, 1.9465e+00, 7.0000e+00],\n",
            "        [8.0000e+00, 1.2000e+01, 2.7294e+00, 4.2262e+00, 9.0000e+00]])\n",
            "[[[[ 13.764062    13.794185    13.860996   ... -11.563798\n",
            "    -11.826925   -11.898194  ]\n",
            "   [ 13.764062    13.745397    13.762677   ... -15.456834\n",
            "    -15.819766   -15.944293  ]\n",
            "   [ 13.764062    13.693882    13.6561775  ... -22.406727\n",
            "    -22.668135   -22.915989  ]\n",
            "   ...\n",
            "   [ 13.764062    13.8815775   14.028736   ... -12.539915\n",
            "    -12.554818   -12.530506  ]\n",
            "   [ 13.764062    13.839718    13.94999    ...  -9.678042\n",
            "     -9.88836     -9.945082  ]\n",
            "   [ 13.764062    13.794185    13.860996   ... -11.563798\n",
            "    -11.826925   -11.898194  ]]]\n",
            "\n",
            "\n",
            " [[[  8.259111     8.26058      8.268134   ...  -6.2967644\n",
            "     -6.3380685   -6.319625  ]\n",
            "   [  8.259111     8.253777     8.254295   ...  -7.306173\n",
            "     -7.3296113   -7.2893777 ]\n",
            "   [  8.259111     8.246775     8.239569   ...  -7.964981\n",
            "     -7.9614706   -7.892312  ]\n",
            "   ...\n",
            "   [  8.259111     8.27332      8.292571   ...  -3.3223498\n",
            "     -3.3711293   -3.3732908 ]\n",
            "   [  8.259111     8.267115     8.2809305  ...  -4.9382243\n",
            "     -4.987238    -4.982492  ]\n",
            "   [  8.259111     8.26058      8.268134   ...  -6.2967644\n",
            "     -6.3380685   -6.319625  ]]]\n",
            "\n",
            "\n",
            " [[[ -1.9874064   -1.2537991   -0.6872552  ... -18.778013\n",
            "    -18.809517   -18.853481  ]\n",
            "   [ -1.9874064   -1.0743313   -0.45634207 ... -16.136087\n",
            "    -16.189644   -16.26741   ]\n",
            "   [ -1.9874064   -1.0486586   -0.82167685 ... -15.085723\n",
            "    -15.131183   -15.2514105 ]\n",
            "   ...\n",
            "   [ -1.9874064   -2.026649    -2.6118653  ... -26.153334\n",
            "    -26.03592    -26.001694  ]\n",
            "   [ -1.9874064   -1.580373    -1.5116336  ... -22.133469\n",
            "    -22.080189   -22.075832  ]\n",
            "   [ -1.9874064   -1.2537991   -0.6872552  ... -18.778013\n",
            "    -18.809517   -18.853481  ]]]\n",
            "\n",
            "\n",
            " ...\n",
            "\n",
            "\n",
            " [[[  9.67954      9.462206     8.657876   ... -18.29234\n",
            "    -18.477657   -18.536596  ]\n",
            "   [  9.67954      9.45248      8.623662   ... -17.29682\n",
            "    -17.505947   -17.58722   ]\n",
            "   [  9.67954      9.410171     8.486183   ... -14.37794\n",
            "    -14.564409   -14.662097  ]\n",
            "   ...\n",
            "   [  9.67954      9.381042     8.386661   ... -15.493418\n",
            "    -15.565207   -15.561821  ]\n",
            "   [  9.67954      9.43796      8.574625   ... -17.758415\n",
            "    -17.93102    -17.97687   ]\n",
            "   [  9.67954      9.462206     8.657876   ... -18.29234\n",
            "    -18.477657   -18.536596  ]]]\n",
            "\n",
            "\n",
            " [[[  7.0793614    7.2592664    7.2320027  ... -13.429802\n",
            "    -13.468593   -13.47519   ]\n",
            "   [  7.0793614    7.24351      7.2175226  ...  -8.811555\n",
            "     -8.865299    -8.9166155 ]\n",
            "   [  7.0793614    7.2292233    7.2171345  ...  -8.288151\n",
            "     -8.320047    -8.386565  ]\n",
            "   ...\n",
            "   [  7.0793614    7.2943826    7.294879   ... -15.889884\n",
            "    -15.893553   -15.901362  ]\n",
            "   [  7.0793614    7.276323     7.2586756  ... -14.128858\n",
            "    -14.144712   -14.150075  ]\n",
            "   [  7.0793614    7.2592664    7.2320027  ... -13.429802\n",
            "    -13.468593   -13.47519   ]]]\n",
            "\n",
            "\n",
            " [[[ 12.983679    12.923683    13.1060915  ... -11.445232\n",
            "    -11.9257555  -12.069427  ]\n",
            "   [ 12.983679    12.805066    12.871912   ... -16.10378\n",
            "    -16.441786   -16.55472   ]\n",
            "   [ 12.983679    12.683153    12.626633   ... -18.986296\n",
            "    -19.03899    -19.086647  ]\n",
            "   ...\n",
            "   [ 12.983679    13.146487    13.532164   ...  -7.121131\n",
            "     -7.1468816   -7.1354356 ]\n",
            "   [ 12.983679    13.037822    13.326848   ...  -7.335154\n",
            "     -7.6798563   -7.7817802 ]\n",
            "   [ 12.983679    12.923683    13.1060915  ... -11.445232\n",
            "    -11.9257555  -12.069427  ]]]]\n",
            "(1, 64, 64)\n",
            "tensor([[20.0000,  4.0000,  9.4883,  2.4834,  7.0000],\n",
            "        [18.0000,  1.0000, 15.4374,  0.6765,  1.0000],\n",
            "        [ 9.0000, 28.0000,  0.8493,  0.1595,  5.0000],\n",
            "        [11.0000,  5.0000,  3.6267,  4.8854,  6.0000],\n",
            "        [23.0000, 10.0000,  9.0126,  7.7597, 10.0000],\n",
            "        [29.0000,  8.0000,  0.4791,  2.3977, 10.0000],\n",
            "        [19.0000, 29.0000, 18.1839,  2.4898,  9.0000],\n",
            "        [19.0000, 15.0000, 13.1307, 12.5648,  5.0000],\n",
            "        [12.0000, 15.0000, 10.3405, 14.7651,  7.0000],\n",
            "        [11.0000, 30.0000,  1.4019, 18.4583,  6.0000],\n",
            "        [20.0000, 14.0000, 12.2223,  5.5406,  2.0000],\n",
            "        [26.0000, 28.0000, 10.2765,  0.1515,  4.0000],\n",
            "        [13.0000,  5.0000,  4.6117,  4.8181,  4.0000],\n",
            "        [ 7.0000, 23.0000,  3.6318, 12.5459,  8.0000],\n",
            "        [18.0000,  4.0000, 14.8299,  1.4390,  4.0000],\n",
            "        [ 2.0000,  3.0000,  0.5913,  2.3958,  7.0000],\n",
            "        [10.0000, 27.0000,  6.2975, 13.1046,  7.0000],\n",
            "        [27.0000,  4.0000,  9.3174,  2.2323,  2.0000],\n",
            "        [25.0000, 14.0000, 16.0394,  4.5055,  2.0000],\n",
            "        [23.0000,  6.0000,  5.5631,  0.4147,  9.0000],\n",
            "        [ 1.0000,  1.0000,  0.9050,  0.9696,  8.0000],\n",
            "        [13.0000, 27.0000,  4.2111,  4.9398,  1.0000],\n",
            "        [11.0000, 17.0000,  5.9042,  4.6613,  6.0000],\n",
            "        [ 2.0000, 27.0000,  0.5205,  6.8953,  2.0000],\n",
            "        [18.0000, 30.0000, 14.2262, 19.4576,  6.0000],\n",
            "        [26.0000, 24.0000, 11.4493,  3.1852,  5.0000],\n",
            "        [ 8.0000, 16.0000,  3.9898,  4.8775,  6.0000],\n",
            "        [26.0000,  5.0000, 12.8479,  1.9128,  8.0000],\n",
            "        [ 4.0000, 30.0000,  0.0794, 13.5288,  5.0000],\n",
            "        [ 9.0000, 26.0000,  6.9478,  9.5919, 10.0000],\n",
            "        [10.0000,  4.0000,  6.1841,  0.7187,  5.0000],\n",
            "        [17.0000,  4.0000,  6.1795,  3.1864, 10.0000]])\n",
            "[[[[ 14.221653   15.001862   15.391637  ...  -3.4182205  -3.5036445\n",
            "     -3.544958 ]\n",
            "   [ 14.221653   15.02152    15.433386  ...  -3.1472974  -3.2200015\n",
            "     -3.2581377]\n",
            "   [ 14.221653   15.034515   15.466682  ...  -3.9528952  -3.9886377\n",
            "     -4.016155 ]\n",
            "   ...\n",
            "   [ 14.221653   14.943476   15.284669  ...  -6.6672792  -6.698481\n",
            "     -6.7195234]\n",
            "   [ 14.221653   14.975778   15.341935  ...  -4.354803   -4.424473\n",
            "     -4.459592 ]\n",
            "   [ 14.221653   15.001862   15.391637  ...  -3.4182205  -3.5036445\n",
            "     -3.544958 ]]]\n",
            "\n",
            "\n",
            " [[[  3.8753374   3.9311483   3.7166934 ... -17.037863  -17.113174\n",
            "    -17.148659 ]\n",
            "   [  3.8753374   4.1054435   4.037425  ... -17.27885   -17.363087\n",
            "    -17.434984 ]\n",
            "   [  3.8753374   4.261336    4.2846084 ... -19.728468  -19.992283\n",
            "    -20.175842 ]\n",
            "   ...\n",
            "   [  3.8753374   3.5481699   2.9777427 ... -15.872133  -15.868814\n",
            "    -15.834037 ]\n",
            "   [  3.8753374   3.7433755   3.3496568 ... -15.750254  -15.753766\n",
            "    -15.727777 ]\n",
            "   [  3.8753374   3.9311483   3.7166934 ... -17.037863  -17.113174\n",
            "    -17.148659 ]]]\n",
            "\n",
            "\n",
            " [[[  6.0868006   6.2820425   6.4351907 ... -19.829384  -19.159065\n",
            "    -18.921747 ]\n",
            "   [  6.0868006   6.216563    6.291954  ... -17.958849  -18.108892\n",
            "    -18.523548 ]\n",
            "   [  6.0868006   6.14547     6.1324124 ... -18.007156  -18.087557\n",
            "    -18.353447 ]\n",
            "   ...\n",
            "   [  6.0868006   6.391746    6.6487594 ... -14.722129  -14.407338\n",
            "    -14.129396 ]\n",
            "   [  6.0868006   6.340746    6.555317  ... -15.823522  -15.375943\n",
            "    -15.127402 ]\n",
            "   [  6.0868006   6.2820425   6.4351907 ... -19.829384  -19.159065\n",
            "    -18.921747 ]]]\n",
            "\n",
            "\n",
            " ...\n",
            "\n",
            "\n",
            " [[[ 10.480248   10.6747675  10.510317  ... -10.199049  -10.303225\n",
            "    -10.33149  ]\n",
            "   [ 10.480248   10.623027   10.415778  ... -13.989542  -14.065998\n",
            "    -14.091853 ]\n",
            "   [ 10.480248   10.571099   10.326986  ... -18.01842   -17.956343\n",
            "    -17.93162  ]\n",
            "   ...\n",
            "   [ 10.480248   10.777907   10.732506  ...  -4.0561666  -3.9659765\n",
            "     -3.9023201]\n",
            "   [ 10.480248   10.726416   10.614859  ...  -6.0711184  -6.107232\n",
            "     -6.101072 ]\n",
            "   [ 10.480248   10.6747675  10.510317  ... -10.199049  -10.303225\n",
            "    -10.33149  ]]]\n",
            "\n",
            "\n",
            " [[[  3.1986551   3.170223    3.3225749 ... -14.634811  -14.952705\n",
            "    -15.082851 ]\n",
            "   [  3.1986551   3.1682527   3.3282788 ... -18.500595  -19.055334\n",
            "    -19.41934  ]\n",
            "   [  3.1986551   3.1695597   3.3514013 ... -21.68468   -22.663565\n",
            "    -23.481953 ]\n",
            "   ...\n",
            "   [  3.1986551   3.1845028   3.3615797 ... -11.236467  -11.255313\n",
            "    -11.1520605]\n",
            "   [  3.1986551   3.1756313   3.3341866 ... -12.411375  -12.541618\n",
            "    -12.529895 ]\n",
            "   [  3.1986551   3.170223    3.3225749 ... -14.634811  -14.952705\n",
            "    -15.082851 ]]]\n",
            "\n",
            "\n",
            " [[[  5.6201463   5.06766     4.529257  ... -14.756786  -14.782211\n",
            "    -14.7916565]\n",
            "   [  5.6201463   5.192632    4.742383  ... -15.255692  -15.305959\n",
            "    -15.351463 ]\n",
            "   [  5.6201463   5.3057137   4.9020977 ... -15.357968  -15.396759\n",
            "    -15.440122 ]\n",
            "   ...\n",
            "   [  5.6201463   4.794791    4.004919  ... -15.848703  -15.803686\n",
            "    -15.766151 ]\n",
            "   [  5.6201463   4.933773    4.2760105 ... -14.703618  -14.682724\n",
            "    -14.657201 ]\n",
            "   [  5.6201463   5.06766     4.529257  ... -14.756786  -14.782211\n",
            "    -14.7916565]]]]\n",
            "(1, 64, 64)\n",
            "tensor([[ 6.0000,  2.0000,  0.7994,  0.2966,  9.0000],\n",
            "        [23.0000, 26.0000, 17.5999, 14.6449,  5.0000],\n",
            "        [21.0000, 30.0000,  1.5668, 25.4761,  4.0000],\n",
            "        [10.0000, 11.0000,  1.4594,  6.2699,  9.0000],\n",
            "        [29.0000, 17.0000,  6.2141, 13.2356,  4.0000],\n",
            "        [ 6.0000, 16.0000,  0.8651,  4.1017,  4.0000],\n",
            "        [14.0000,  8.0000,  3.6905,  3.0079,  7.0000],\n",
            "        [10.0000, 30.0000,  0.2693, 17.9662,  9.0000],\n",
            "        [26.0000, 26.0000,  1.5956, 13.8553,  6.0000],\n",
            "        [22.0000, 24.0000, 14.3170, 19.0547,  2.0000],\n",
            "        [20.0000,  8.0000,  5.0454,  2.7709,  6.0000],\n",
            "        [ 4.0000, 28.0000,  3.1764,  6.3257, 10.0000],\n",
            "        [21.0000, 10.0000, 19.3210,  2.8123,  9.0000],\n",
            "        [13.0000, 21.0000,  0.4316,  1.2815,  1.0000],\n",
            "        [ 4.0000, 17.0000,  3.8905,  0.3916,  4.0000],\n",
            "        [ 4.0000, 14.0000,  3.1582,  7.8176,  6.0000],\n",
            "        [23.0000,  3.0000, 16.3837,  1.7458,  6.0000],\n",
            "        [23.0000, 14.0000, 12.5866,  1.5391,  5.0000],\n",
            "        [ 2.0000, 19.0000,  0.3316, 10.9336, 10.0000],\n",
            "        [21.0000, 13.0000, 13.5321, 12.1829,  5.0000],\n",
            "        [ 7.0000, 13.0000,  0.5470,  9.9922,  2.0000],\n",
            "        [ 6.0000,  2.0000,  1.9839,  0.5255,  7.0000],\n",
            "        [26.0000,  8.0000, 22.3889,  4.3665,  9.0000],\n",
            "        [ 9.0000, 19.0000,  2.5213, 14.6599,  6.0000],\n",
            "        [18.0000, 25.0000, 16.6430, 19.1994,  3.0000],\n",
            "        [ 6.0000, 16.0000,  3.2431, 14.1626,  6.0000],\n",
            "        [ 9.0000,  1.0000,  2.9856,  0.2302,  3.0000],\n",
            "        [26.0000,  5.0000, 19.8788,  2.8529,  4.0000],\n",
            "        [11.0000,  7.0000,  2.5271,  2.0636,  4.0000],\n",
            "        [12.0000, 11.0000,  4.9359, 10.4184,  8.0000],\n",
            "        [27.0000, 12.0000, 15.5918,  9.5759,  3.0000],\n",
            "        [15.0000, 18.0000, 14.0011,  6.6591,  5.0000]])\n",
            "[[[[ 1.18377018e+01  1.19908867e+01  1.20728617e+01 ... -1.07528105e+01\n",
            "    -1.08706141e+01 -1.09150200e+01]\n",
            "   [ 1.18377018e+01  1.20848789e+01  1.22544088e+01 ... -1.11024971e+01\n",
            "    -1.12212076e+01 -1.12700825e+01]\n",
            "   [ 1.18377018e+01  1.21708269e+01  1.24081297e+01 ... -8.45158291e+00\n",
            "    -8.59521675e+00 -8.67816067e+00]\n",
            "   ...\n",
            "   [ 1.18377018e+01  1.17836208e+01  1.16433992e+01 ... -9.30734348e+00\n",
            "    -9.33417034e+00 -9.30725193e+00]\n",
            "   [ 1.18377018e+01  1.18900166e+01  1.18676577e+01 ... -1.02176790e+01\n",
            "    -1.03039656e+01 -1.03213358e+01]\n",
            "   [ 1.18377018e+01  1.19908867e+01  1.20728617e+01 ... -1.07528105e+01\n",
            "    -1.08706141e+01 -1.09150200e+01]]]\n",
            "\n",
            "\n",
            " [[[ 8.60705280e+00  8.17325211e+00  7.65983534e+00 ... -6.89920282e+00\n",
            "    -6.86963844e+00 -6.84068203e+00]\n",
            "   [ 8.60705280e+00  8.16629124e+00  7.64648056e+00 ... -7.62876272e+00\n",
            "    -7.59807396e+00 -7.56816053e+00]\n",
            "   [ 8.60705280e+00  8.16384411e+00  7.64322710e+00 ... -8.76646519e+00\n",
            "    -8.74285507e+00 -8.71439838e+00]\n",
            "   ...\n",
            "   [ 8.60705280e+00  8.20041466e+00  7.71624517e+00 ... -6.48136330e+00\n",
            "    -6.46190882e+00 -6.43726635e+00]\n",
            "   [ 8.60705280e+00  8.18466663e+00  7.68317652e+00 ... -6.55551815e+00\n",
            "    -6.52993107e+00 -6.50281811e+00]\n",
            "   [ 8.60705280e+00  8.17325211e+00  7.65983534e+00 ... -6.89920282e+00\n",
            "    -6.86963844e+00 -6.84068203e+00]]]\n",
            "\n",
            "\n",
            " [[[ 5.63592374e-01  5.40814400e-01  4.31749463e-01 ... -1.12629194e+01\n",
            "    -1.13173800e+01 -1.13230505e+01]\n",
            "   [ 5.63592374e-01  4.43636358e-01  2.17402712e-01 ... -1.27436924e+01\n",
            "    -1.28726549e+01 -1.29656410e+01]\n",
            "   [ 5.63592374e-01  3.42690736e-01 -7.39143835e-03 ... -1.30677261e+01\n",
            "    -1.33226414e+01 -1.35462875e+01]\n",
            "   ...\n",
            "   [ 5.63592374e-01  7.17290461e-01  7.90179491e-01 ... -8.36938000e+00\n",
            "    -8.34864807e+00 -8.29412556e+00]\n",
            "   [ 5.63592374e-01  6.32540584e-01  6.25236869e-01 ... -9.30350304e+00\n",
            "    -9.30587959e+00 -9.27563953e+00]\n",
            "   [ 5.63592374e-01  5.40814400e-01  4.31749463e-01 ... -1.12629194e+01\n",
            "    -1.13173800e+01 -1.13230505e+01]]]\n",
            "\n",
            "\n",
            " ...\n",
            "\n",
            "\n",
            " [[[ 2.67300200e+00  2.86423802e+00  3.07950878e+00 ... -1.92716122e+01\n",
            "    -1.95198059e+01 -1.95909729e+01]\n",
            "   [ 2.67300200e+00  3.04655218e+00  3.55478096e+00 ... -1.95854549e+01\n",
            "    -1.98635864e+01 -2.00054932e+01]\n",
            "   [ 2.67300200e+00  3.28743076e+00  4.04354763e+00 ... -1.76016598e+01\n",
            "    -1.76256123e+01 -1.76981812e+01]\n",
            "   ...\n",
            "   [ 2.67300200e+00  2.82439399e+00  3.34236097e+00 ... -1.83482285e+01\n",
            "    -1.82859993e+01 -1.82271347e+01]\n",
            "   [ 2.67300200e+00  2.78314519e+00  2.97332025e+00 ... -1.66092777e+01\n",
            "    -1.67093906e+01 -1.67186470e+01]\n",
            "   [ 2.67300200e+00  2.86423802e+00  3.07950878e+00 ... -1.92716122e+01\n",
            "    -1.95198059e+01 -1.95909729e+01]]]\n",
            "\n",
            "\n",
            " [[[ 3.97249627e+00  3.98876882e+00  4.31565571e+00 ... -1.87713451e+01\n",
            "    -1.86929150e+01 -1.86709118e+01]\n",
            "   [ 3.97249627e+00  4.10120487e+00  4.49644804e+00 ... -2.06349926e+01\n",
            "    -2.06175194e+01 -2.06373425e+01]\n",
            "   [ 3.97249627e+00  4.15860224e+00  4.46578550e+00 ... -1.73493290e+01\n",
            "    -1.75573521e+01 -1.77230206e+01]\n",
            "   ...\n",
            "   [ 3.97249627e+00  3.61537814e+00  3.45470285e+00 ... -1.57841835e+01\n",
            "    -1.57672176e+01 -1.57046213e+01]\n",
            "   [ 3.97249627e+00  3.82425475e+00  3.94530940e+00 ... -1.82094898e+01\n",
            "    -1.81566772e+01 -1.81226406e+01]\n",
            "   [ 3.97249627e+00  3.98876882e+00  4.31565571e+00 ... -1.87713451e+01\n",
            "    -1.86929150e+01 -1.86709118e+01]]]\n",
            "\n",
            "\n",
            " [[[ 8.99952126e+00  8.74180222e+00  8.59200764e+00 ... -9.93358707e+00\n",
            "    -1.00843210e+01 -1.01389246e+01]\n",
            "   [ 8.99952126e+00  8.70240974e+00  8.53427982e+00 ... -8.98604488e+00\n",
            "    -9.19594193e+00 -9.30525303e+00]\n",
            "   [ 8.99952126e+00  8.67384148e+00  8.51620865e+00 ... -9.14293671e+00\n",
            "    -9.31065464e+00 -9.43727303e+00]\n",
            "   ...\n",
            "   [ 8.99952126e+00  8.85111523e+00  8.81823730e+00 ... -7.88091421e+00\n",
            "    -7.84703922e+00 -7.79421759e+00]\n",
            "   [ 8.99952126e+00  8.79165268e+00  8.68822670e+00 ... -9.05249405e+00\n",
            "    -9.16328430e+00 -9.17808533e+00]\n",
            "   [ 8.99952126e+00  8.74180222e+00  8.59200764e+00 ... -9.93358707e+00\n",
            "    -1.00843210e+01 -1.01389246e+01]]]]\n",
            "(1, 64, 64)\n",
            "tensor([[ 2.0000, 24.0000,  0.5364, 17.7039,  7.0000],\n",
            "        [ 7.0000,  1.0000,  6.6454,  0.9244,  3.0000],\n",
            "        [30.0000,  8.0000, 27.5798,  2.0129,  1.0000],\n",
            "        [ 7.0000, 10.0000,  5.1510,  8.7200,  9.0000],\n",
            "        [27.0000, 23.0000, 24.9911, 17.1794, 10.0000],\n",
            "        [10.0000, 26.0000,  1.6480, 10.9350,  8.0000],\n",
            "        [ 5.0000, 18.0000,  0.1079,  8.7177,  5.0000],\n",
            "        [ 6.0000, 23.0000,  4.4319, 17.2316,  8.0000],\n",
            "        [ 6.0000, 28.0000,  5.1959, 17.1829,  8.0000],\n",
            "        [ 1.0000, 14.0000,  0.1356,  2.4483,  8.0000],\n",
            "        [23.0000,  8.0000, 20.8544,  0.6773,  5.0000],\n",
            "        [30.0000, 17.0000, 25.1738,  1.7089,  8.0000],\n",
            "        [15.0000, 14.0000,  2.2229,  6.3105, 10.0000],\n",
            "        [12.0000,  6.0000,  1.0169,  3.5070,  9.0000],\n",
            "        [12.0000, 15.0000, 11.1165,  7.2159,  7.0000],\n",
            "        [28.0000,  3.0000, 13.5529,  2.8899, 10.0000],\n",
            "        [12.0000,  3.0000,  7.6924,  1.6485,  7.0000],\n",
            "        [29.0000,  1.0000,  4.6210,  0.1729, 10.0000],\n",
            "        [ 9.0000, 24.0000,  4.2007, 19.4103,  5.0000],\n",
            "        [ 2.0000, 25.0000,  0.8785, 24.3272,  5.0000],\n",
            "        [26.0000, 12.0000,  1.1750,  9.3042,  8.0000],\n",
            "        [13.0000, 22.0000,  1.4108,  2.9311,  1.0000],\n",
            "        [30.0000,  3.0000,  5.5189,  0.1846,  6.0000],\n",
            "        [24.0000, 16.0000, 20.9502,  8.2952,  8.0000],\n",
            "        [22.0000, 20.0000,  3.7795,  7.6723,  3.0000],\n",
            "        [14.0000, 21.0000, 11.3196,  7.7259,  8.0000],\n",
            "        [ 2.0000, 19.0000,  0.7806,  6.5916,  9.0000],\n",
            "        [ 2.0000, 11.0000,  1.8214,  0.8377,  1.0000],\n",
            "        [11.0000,  4.0000,  7.9880,  1.2013,  9.0000],\n",
            "        [20.0000, 29.0000, 12.0927,  3.9646,  9.0000],\n",
            "        [27.0000, 28.0000, 20.2162, 10.0362,  7.0000],\n",
            "        [11.0000, 17.0000,  2.8184, 13.3278,  7.0000]])\n",
            "[[[[ 13.866105   14.021778   13.928213  ... -13.636943  -13.822245\n",
            "    -13.8759365]\n",
            "   [ 13.866105   14.0277815  13.952449  ... -10.989979  -11.212367\n",
            "    -11.306842 ]\n",
            "   [ 13.866105   14.042549   14.018505  ...  -8.385643   -8.590332\n",
            "     -8.697085 ]\n",
            "   ...\n",
            "   [ 13.866105   14.034217   13.990359  ... -10.012884  -10.089069\n",
            "    -10.080535 ]\n",
            "   [ 13.866105   14.024208   13.942937  ... -10.877747  -11.037588\n",
            "    -11.083741 ]\n",
            "   [ 13.866105   14.021778   13.928213  ... -13.636943  -13.822245\n",
            "    -13.8759365]]]\n",
            "\n",
            "\n",
            " [[[ 10.821554   10.847794   10.587762  ... -13.904507  -14.028622\n",
            "    -14.077511 ]\n",
            "   [ 10.821554   10.80162    10.497218  ... -14.521356  -14.579633\n",
            "    -14.578162 ]\n",
            "   [ 10.821554   10.758805   10.4206085 ... -17.83678   -17.940395\n",
            "    -17.980892 ]\n",
            "   ...\n",
            "   [ 10.821554   10.94898    10.812216  ...  -5.071268   -5.0836244\n",
            "     -5.0590515]\n",
            "   [ 10.821554   10.897066   10.692863  ...  -8.520238   -8.561651\n",
            "     -8.557085 ]\n",
            "   [ 10.821554   10.847794   10.587762  ... -13.904507  -14.028622\n",
            "    -14.077511 ]]]\n",
            "\n",
            "\n",
            " [[[  8.591971    8.3017845   7.9375567 ... -12.418398  -12.361238\n",
            "    -12.3421955]\n",
            "   [  8.591971    8.2204895   7.7574096 ... -13.028594  -12.992445\n",
            "    -12.994294 ]\n",
            "   [  8.591971    8.127448    7.5364327 ... -14.358152  -14.334988\n",
            "    -14.358073 ]\n",
            "   ...\n",
            "   [  8.591971    8.415071    8.077675  ... -14.142385  -14.039124\n",
            "    -13.974642 ]\n",
            "   [  8.591971    8.367476    8.0490885 ... -12.772699  -12.692941\n",
            "    -12.653511 ]\n",
            "   [  8.591971    8.3017845   7.9375567 ... -12.418398  -12.361238\n",
            "    -12.3421955]]]\n",
            "\n",
            "\n",
            " ...\n",
            "\n",
            "\n",
            " [[[  1.2189547   1.2519062   1.2917246 ... -15.336975  -15.579585\n",
            "    -15.6591215]\n",
            "   [  1.2189547   1.3366638   1.4607481 ... -18.77271   -19.405325\n",
            "    -19.808077 ]\n",
            "   [  1.2189547   1.4298594   1.6618164 ... -14.68874   -15.299951\n",
            "    -15.815737 ]\n",
            "   ...\n",
            "   [  1.2189547   1.1141382   1.0796564 ... -11.415153  -11.481065\n",
            "    -11.409149 ]\n",
            "   [  1.2189547   1.1773243   1.1630534 ... -13.522858  -13.629146\n",
            "    -13.580531 ]\n",
            "   [  1.2189547   1.2519062   1.2917246 ... -15.336975  -15.579585\n",
            "    -15.6591215]]]\n",
            "\n",
            "\n",
            " [[[  8.086142    7.1979294   6.6161327 ... -11.38851   -11.506955\n",
            "    -11.547846 ]\n",
            "   [  8.086142    7.2870207   6.809245  ...  -9.636187   -9.716792\n",
            "     -9.767129 ]\n",
            "   [  8.086142    7.378793    7.020966  ... -12.141682  -12.141417\n",
            "    -12.176186 ]\n",
            "   ...\n",
            "   [  8.086142    7.029749    6.291008  ... -11.773927  -11.684423\n",
            "    -11.626773 ]\n",
            "   [  8.086142    7.111974    6.443279  ... -12.156845  -12.201566\n",
            "    -12.199486 ]\n",
            "   [  8.086142    7.1979294   6.6161327 ... -11.38851   -11.506955\n",
            "    -11.547846 ]]]\n",
            "\n",
            "\n",
            " [[[  8.119212    7.9144588   7.5704865 ... -12.163092  -12.193229\n",
            "    -12.209242 ]\n",
            "   [  8.119212    7.98226     7.701308  ... -13.346231  -13.389351\n",
            "    -13.424232 ]\n",
            "   [  8.119212    8.049004    7.8251343 ... -14.598449  -14.656772\n",
            "    -14.706397 ]\n",
            "   ...\n",
            "   [  8.119212    7.7777367   7.2912135 ... -11.843303  -11.827505\n",
            "    -11.804031 ]\n",
            "   [  8.119212    7.8461113   7.433352  ... -13.573803  -13.550093\n",
            "    -13.514718 ]\n",
            "   [  8.119212    7.9144588   7.5704865 ... -12.163092  -12.193229\n",
            "    -12.209242 ]]]]\n",
            "(1, 64, 64)\n",
            "tensor([[4.0000e+00, 2.3000e+01, 1.8046e+00, 1.9276e+01, 8.0000e+00],\n",
            "        [8.0000e+00, 7.0000e+00, 5.8032e+00, 6.7495e+00, 6.0000e+00],\n",
            "        [2.0000e+00, 3.0000e+01, 1.5044e+00, 1.7940e+01, 5.0000e+00],\n",
            "        [2.1000e+01, 1.7000e+01, 2.5037e+00, 2.0285e+00, 3.0000e+00],\n",
            "        [2.9000e+01, 2.8000e+01, 9.5160e+00, 2.7403e+01, 7.0000e+00],\n",
            "        [8.0000e+00, 6.0000e+00, 3.2412e+00, 8.6839e-01, 1.0000e+01],\n",
            "        [3.0000e+00, 1.0000e+00, 2.5063e+00, 6.5627e-01, 3.0000e+00],\n",
            "        [7.0000e+00, 1.0000e+01, 2.8946e+00, 8.6392e+00, 7.0000e+00],\n",
            "        [2.0000e+00, 2.4000e+01, 1.2333e+00, 2.8782e+00, 6.0000e+00],\n",
            "        [2.7000e+01, 1.3000e+01, 5.1332e+00, 1.4073e+00, 5.0000e+00],\n",
            "        [1.2000e+01, 1.6000e+01, 1.0355e+01, 8.2673e+00, 7.0000e+00],\n",
            "        [1.4000e+01, 1.0000e+01, 6.0529e+00, 5.3130e+00, 1.0000e+01],\n",
            "        [2.5000e+01, 9.0000e+00, 1.2856e+01, 4.6003e+00, 6.0000e+00],\n",
            "        [1.3000e+01, 2.5000e+01, 4.2865e+00, 4.1149e+00, 1.0000e+01],\n",
            "        [1.5000e+01, 2.1000e+01, 8.0503e+00, 1.5943e+01, 3.0000e+00],\n",
            "        [1.4000e+01, 2.0000e+00, 5.1868e+00, 9.4761e-01, 1.0000e+00],\n",
            "        [1.3000e+01, 2.6000e+01, 1.1489e+01, 2.1386e+01, 4.0000e+00],\n",
            "        [2.9000e+01, 1.1000e+01, 1.2854e+01, 2.4689e-01, 8.0000e+00],\n",
            "        [1.4000e+01, 1.7000e+01, 9.0345e+00, 1.3792e+01, 1.0000e+00],\n",
            "        [1.0000e+00, 2.5000e+01, 6.1666e-01, 1.1819e+01, 3.0000e+00],\n",
            "        [2.9000e+01, 4.0000e+00, 2.1725e+00, 3.8790e+00, 6.0000e+00],\n",
            "        [8.0000e+00, 2.0000e+01, 3.9111e+00, 3.8476e+00, 6.0000e+00],\n",
            "        [1.6000e+01, 2.8000e+01, 1.4320e+01, 7.3014e+00, 2.0000e+00],\n",
            "        [2.8000e+01, 1.0000e+00, 1.3395e+01, 4.5984e-01, 1.0000e+01],\n",
            "        [2.1000e+01, 9.0000e+00, 5.5009e-01, 2.3797e+00, 1.0000e+01],\n",
            "        [1.4000e+01, 3.0000e+01, 1.2550e+01, 2.2564e+01, 3.0000e+00],\n",
            "        [2.5000e+01, 1.0000e+00, 1.9893e+01, 9.6238e-01, 6.0000e+00],\n",
            "        [1.1000e+01, 2.0000e+00, 1.3022e+00, 1.9576e+00, 2.0000e+00],\n",
            "        [1.3000e+01, 8.0000e+00, 1.0124e+01, 1.7835e-02, 2.0000e+00],\n",
            "        [2.1000e+01, 9.0000e+00, 1.1660e+01, 3.6127e+00, 2.0000e+00],\n",
            "        [1.5000e+01, 1.3000e+01, 1.4783e+01, 9.4258e+00, 1.0000e+01],\n",
            "        [2.0000e+01, 2.0000e+01, 1.8685e+01, 1.6362e+01, 4.0000e+00]])\n"
          ],
          "name": "stdout"
        }
      ]
    },
    {
      "cell_type": "code",
      "metadata": {
        "id": "ZeAuxWP_hY0B",
        "colab_type": "code",
        "colab": {}
      },
      "source": [
        "def weighted_mse(input, target, weight):\n",
        "  input = input.to(device)\n",
        "  target = target.to(device)\n",
        "  weight = weight.to(device)\n",
        "  return torch.sum(weight * (input - target)**2)"
      ],
      "execution_count": 0,
      "outputs": []
    },
    {
      "cell_type": "code",
      "metadata": {
        "id": "MK1eoiDAVkGG",
        "colab_type": "code",
        "colab": {}
      },
      "source": [
        "def get_loss(a, b, xy, d, label_a, label_b, label_xy, label_d, weight):\n",
        "  # a,b : 1 x 30\n",
        "  # xy : 1 x 2\n",
        "  # d : 1 x 10\n",
        "  a = a.to(device)\n",
        "  b = b.to(device)\n",
        "  xy = xy.to(device)\n",
        "  d = d.to(device)\n",
        "\n",
        "  weight = weight.to(device)\n",
        "\n",
        "\n",
        "  label_a = label_a.view(len(label_a))\n",
        "  label_b = label_b.view(len(label_b))\n",
        "  label_d = label_d.view(len(label_d))\n",
        "  label_a = label_a.type(torch.cuda.LongTensor)\n",
        "  label_b = label_b.type(torch.cuda.LongTensor)\n",
        "  label_d = label_d.type(torch.cuda.LongTensor)\n",
        "\n",
        "  x = torch.ones(len(label_a))\n",
        "  x = x.to(device)\n",
        "  x = x.type(torch.cuda.LongTensor)\n",
        "\n",
        "  label_a = label_a - x\n",
        "  label_b = label_b - x\n",
        "\n",
        "  y = torch.ones(len(label_d))\n",
        "  y = y.to(device)\n",
        "  y = y.type(torch.cuda.LongTensor)\n",
        "  \n",
        "  label_d = label_d - y\n",
        "\n",
        "  crit1 = nn.CrossEntropyLoss()\n",
        "  crit2 = nn.CrossEntropyLoss()\n",
        "  crit3 = nn.MSELoss()\n",
        "  crit4 = nn.CrossEntropyLoss()\n",
        "\n",
        "  loss1 = crit1(a, label_a)\n",
        "  loss2 = crit2(b, label_b)\n",
        "  loss3 = crit3(xy, label_xy)\n",
        "  loss4 = crit4(d, label_d)\n",
        "  return loss1 * weight[0]  + loss2 * weight[1] + loss3 * weight[2] + loss4 * weight[3]\n",
        "\n"
      ],
      "execution_count": 0,
      "outputs": []
    },
    {
      "cell_type": "code",
      "metadata": {
        "id": "5LnaE27J1F7L",
        "colab_type": "code",
        "colab": {}
      },
      "source": [
        "#train the model\n",
        "def train(net, model_name, patience, validate_every):\n",
        "    \n",
        "    optimizer = optim.Adam(net.parameters(), LEARNING_RATE, betas=(0.9, 0.999), eps=1e-09, weight_decay=0, amsgrad=False)\n",
        "    weight = torch.tensor([0.8, 0.8, 1.0, 1.2])\n",
        "    \n",
        "    #train_errors = []\n",
        "    #val_errors = []\n",
        "\n",
        "    train_losses = []\n",
        "    val_losses = []\n",
        "    avg_train_losses = []\n",
        "    avg_val_losses = []\n",
        "    early_stopping = EarlyStopping(patience=patience, verbose=True)\n",
        "\n",
        "    with open(\"model.log\", \"a\") as f:\n",
        "        for epoch in tqdm(range(EPOCHS)):\n",
        "                net.train()\n",
        "                for batch_idx, samples in enumerate(trainloader):\n",
        "                    x, y = samples\n",
        "                    x = x.view(-1, IMG_CHANNELS, IMG_SIZE, IMG_SIZE)\n",
        "                    x = x.to(device)\n",
        "                    y = y.to(device)\n",
        "\n",
        "                    la = y[:, 0]\n",
        "                    lb = y[:, 1]\n",
        "                    lxy = y[:, 2:4]\n",
        "                    ld = y[:, 4]\n",
        "                    a, b, xy, d = net(x)\n",
        "\n",
        "\n",
        "                    la = la.view(-1, 1)\n",
        "                    lb = lb.view(-1, 1)\n",
        "                    ld = ld.view(-1, 1)\n",
        "                    loss = get_loss(a, b, xy, d, la, lb, lxy, ld, weight)\n",
        "                    net.zero_grad()\n",
        "                    loss.backward()\n",
        "                    optimizer.step()\n",
        "                    train_losses.append(loss.item())\n",
        "\n",
        "                    #error = (pred - y) / y\n",
        "                    #error = error.mean(0)\n",
        "                    #train_errors.append(error.to(\"cpu\"))\n",
        "\n",
        "                net.eval()\n",
        "                for batch_idx, samples in enumerate(valloader):\n",
        "                    val_x, val_y = samples\n",
        "                    val_x = val_x.view(-1, IMG_CHANNELS, IMG_SIZE, IMG_SIZE)\n",
        "                    val_x = val_x.to(device)\n",
        "                    val_y = val_y.to(device)\n",
        "                    \n",
        "                    la = val_y[:, 0]\n",
        "                    lb = val_y[:, 1]\n",
        "                    lxy = val_y[:, 2:4]\n",
        "                    ld = val_y[:, 4]\n",
        "                    a, b, xy, d = net(val_x)\n",
        "                    loss = get_loss(a, b, xy, d, la, lb, lxy, ld, weight)\n",
        "                    val_losses.append(loss.item())\n",
        "\n",
        "                    #val_error = (val_pred - val_y) / val_y\n",
        "                    #val_error = val_error.mean(0)\n",
        "                    #val_errors.append(val_error.to(\"cpu\"))\n",
        "\n",
        "                train_loss = np.average(train_losses)\n",
        "                valid_loss = np.average(val_losses)\n",
        "                avg_train_losses.append(train_loss)\n",
        "                avg_val_losses.append(valid_loss)\n",
        "                \n",
        "                #train_error = np.average(train_errors)\n",
        "                #val_error= np.average(val_errors)\n",
        "\n",
        "                train_losses = []\n",
        "                val_losses = []\n",
        "                #train_errors = []\n",
        "                #val_errors = []\n",
        "\n",
        "                f.write(f\"{MODEL_NAME},{round(time.time(), 3)},  {round(float(train_loss), 4)},  {round(float(valid_loss),4)}\\n\")\n",
        "                print(\"\\nloss : \", train_loss, \"val loss : \", valid_loss, \"\\n\")\n",
        "                #print(\"error : \", train_error, \"val error : \", val_error)\n",
        "                \n",
        "                early_stopping(valid_loss, net)\n",
        "                \n",
        "                if early_stopping.early_stop:\n",
        "                    print(\"Early stopping\")\n",
        "                    break\n",
        "        # load the last checkpoint with the best model\n",
        "        net.load_state_dict(torch.load('checkpoint.pt'))\n",
        "        \n",
        "        return avg_train_losses, avg_val_losses"
      ],
      "execution_count": 0,
      "outputs": []
    },
    {
      "cell_type": "code",
      "metadata": {
        "id": "k-b0iI2R1IKD",
        "colab_type": "code",
        "colab": {}
      },
      "source": [
        "net = Net()\n",
        "#print(net)\n"
      ],
      "execution_count": 0,
      "outputs": []
    },
    {
      "cell_type": "code",
      "metadata": {
        "id": "bvZa0kBaTqAL",
        "colab_type": "code",
        "outputId": "89e9e281-b6d4-4d22-dbf8-cc599f5f4a9b",
        "colab": {
          "base_uri": "https://localhost:8080/",
          "height": 1000
        }
      },
      "source": [
        "net.to(device)\n",
        "train_loss, valid_loss = train(net, MODEL_NAME, PATIENCE, VALIDATE_EVERY)"
      ],
      "execution_count": 44,
      "outputs": [
        {
          "output_type": "stream",
          "text": [
            "\n",
            "  0%|          | 0/1000 [00:00<?, ?it/s]\u001b[A\n",
            "  0%|          | 1/1000 [00:00<09:47,  1.70it/s]\u001b[A"
          ],
          "name": "stderr"
        },
        {
          "output_type": "stream",
          "text": [
            "\n",
            "loss :  113.30728092193604 val loss :  121.98255825042725 \n",
            "\n",
            "Validation loss decreased (inf --> 121.982558).  Saving model ...\n"
          ],
          "name": "stdout"
        },
        {
          "output_type": "stream",
          "text": [
            "\n",
            "  0%|          | 2/1000 [00:01<09:59,  1.66it/s]\u001b[A"
          ],
          "name": "stderr"
        },
        {
          "output_type": "stream",
          "text": [
            "\n",
            "loss :  86.81657056808471 val loss :  79.85695934295654 \n",
            "\n",
            "Validation loss decreased (121.982558 --> 79.856959).  Saving model ...\n"
          ],
          "name": "stdout"
        },
        {
          "output_type": "stream",
          "text": [
            "\n",
            "  0%|          | 3/1000 [00:01<09:56,  1.67it/s]\u001b[A"
          ],
          "name": "stderr"
        },
        {
          "output_type": "stream",
          "text": [
            "\n",
            "loss :  62.00322866439819 val loss :  76.95138359069824 \n",
            "\n",
            "Validation loss decreased (79.856959 --> 76.951384).  Saving model ...\n"
          ],
          "name": "stdout"
        },
        {
          "output_type": "stream",
          "text": [
            "\n",
            "  0%|          | 4/1000 [00:02<10:01,  1.66it/s]\u001b[A"
          ],
          "name": "stderr"
        },
        {
          "output_type": "stream",
          "text": [
            "\n",
            "loss :  57.48671712875366 val loss :  70.96524667739868 \n",
            "\n",
            "Validation loss decreased (76.951384 --> 70.965247).  Saving model ...\n"
          ],
          "name": "stdout"
        },
        {
          "output_type": "stream",
          "text": [
            "\n",
            "  0%|          | 5/1000 [00:03<10:06,  1.64it/s]\u001b[A"
          ],
          "name": "stderr"
        },
        {
          "output_type": "stream",
          "text": [
            "\n",
            "loss :  52.66697330474854 val loss :  70.55097484588623 \n",
            "\n",
            "Validation loss decreased (70.965247 --> 70.550975).  Saving model ...\n"
          ],
          "name": "stdout"
        },
        {
          "output_type": "stream",
          "text": [
            "\n",
            "  1%|          | 6/1000 [00:03<10:10,  1.63it/s]\u001b[A"
          ],
          "name": "stderr"
        },
        {
          "output_type": "stream",
          "text": [
            "\n",
            "loss :  48.667880582809445 val loss :  59.14473867416382 \n",
            "\n",
            "Validation loss decreased (70.550975 --> 59.144739).  Saving model ...\n"
          ],
          "name": "stdout"
        },
        {
          "output_type": "stream",
          "text": [
            "\n",
            "  1%|          | 7/1000 [00:04<10:18,  1.61it/s]\u001b[A"
          ],
          "name": "stderr"
        },
        {
          "output_type": "stream",
          "text": [
            "\n",
            "loss :  45.254612636566165 val loss :  59.91887855529785 \n",
            "\n",
            "EarlyStopping counter: 1 out of 25\n"
          ],
          "name": "stdout"
        },
        {
          "output_type": "stream",
          "text": [
            "\n",
            "  1%|          | 8/1000 [00:04<10:09,  1.63it/s]\u001b[A"
          ],
          "name": "stderr"
        },
        {
          "output_type": "stream",
          "text": [
            "\n",
            "loss :  43.65495743751526 val loss :  56.16596508026123 \n",
            "\n",
            "Validation loss decreased (59.144739 --> 56.165965).  Saving model ...\n"
          ],
          "name": "stdout"
        },
        {
          "output_type": "stream",
          "text": [
            "\n",
            "  1%|          | 9/1000 [00:05<10:09,  1.62it/s]\u001b[A"
          ],
          "name": "stderr"
        },
        {
          "output_type": "stream",
          "text": [
            "\n",
            "loss :  42.554102420806885 val loss :  58.077680587768555 \n",
            "\n",
            "EarlyStopping counter: 1 out of 25\n"
          ],
          "name": "stdout"
        },
        {
          "output_type": "stream",
          "text": [
            "\n",
            "  1%|          | 10/1000 [00:06<10:11,  1.62it/s]\u001b[A"
          ],
          "name": "stderr"
        },
        {
          "output_type": "stream",
          "text": [
            "\n",
            "loss :  41.17757592201233 val loss :  55.21185255050659 \n",
            "\n",
            "Validation loss decreased (56.165965 --> 55.211853).  Saving model ...\n"
          ],
          "name": "stdout"
        },
        {
          "output_type": "stream",
          "text": [
            "\n",
            "  1%|          | 11/1000 [00:06<10:06,  1.63it/s]\u001b[A"
          ],
          "name": "stderr"
        },
        {
          "output_type": "stream",
          "text": [
            "\n",
            "loss :  40.38786406517029 val loss :  56.50232267379761 \n",
            "\n",
            "EarlyStopping counter: 1 out of 25\n"
          ],
          "name": "stdout"
        },
        {
          "output_type": "stream",
          "text": [
            "\n",
            "  1%|          | 12/1000 [00:07<10:11,  1.62it/s]\u001b[A"
          ],
          "name": "stderr"
        },
        {
          "output_type": "stream",
          "text": [
            "\n",
            "loss :  38.17783856391907 val loss :  57.46388387680054 \n",
            "\n",
            "EarlyStopping counter: 2 out of 25\n"
          ],
          "name": "stdout"
        },
        {
          "output_type": "stream",
          "text": [
            "\n",
            "  1%|▏         | 13/1000 [00:07<10:07,  1.63it/s]\u001b[A"
          ],
          "name": "stderr"
        },
        {
          "output_type": "stream",
          "text": [
            "\n",
            "loss :  38.57634010314941 val loss :  55.05632257461548 \n",
            "\n",
            "Validation loss decreased (55.211853 --> 55.056323).  Saving model ...\n"
          ],
          "name": "stdout"
        },
        {
          "output_type": "stream",
          "text": [
            "\n",
            "  1%|▏         | 14/1000 [00:08<10:14,  1.61it/s]\u001b[A"
          ],
          "name": "stderr"
        },
        {
          "output_type": "stream",
          "text": [
            "\n",
            "loss :  37.71285791397095 val loss :  50.71997570991516 \n",
            "\n",
            "Validation loss decreased (55.056323 --> 50.719976).  Saving model ...\n"
          ],
          "name": "stdout"
        },
        {
          "output_type": "stream",
          "text": [
            "\n",
            "  2%|▏         | 15/1000 [00:09<10:18,  1.59it/s]\u001b[A"
          ],
          "name": "stderr"
        },
        {
          "output_type": "stream",
          "text": [
            "\n",
            "loss :  33.987372922897336 val loss :  50.49574565887451 \n",
            "\n",
            "Validation loss decreased (50.719976 --> 50.495746).  Saving model ...\n"
          ],
          "name": "stdout"
        },
        {
          "output_type": "stream",
          "text": [
            "\n",
            "  2%|▏         | 16/1000 [00:09<10:12,  1.61it/s]\u001b[A"
          ],
          "name": "stderr"
        },
        {
          "output_type": "stream",
          "text": [
            "\n",
            "loss :  32.37963213920593 val loss :  49.768494606018066 \n",
            "\n",
            "Validation loss decreased (50.495746 --> 49.768495).  Saving model ...\n"
          ],
          "name": "stdout"
        },
        {
          "output_type": "stream",
          "text": [
            "\n",
            "  2%|▏         | 17/1000 [00:10<10:18,  1.59it/s]\u001b[A"
          ],
          "name": "stderr"
        },
        {
          "output_type": "stream",
          "text": [
            "\n",
            "loss :  31.751012325286865 val loss :  47.58631086349487 \n",
            "\n",
            "Validation loss decreased (49.768495 --> 47.586311).  Saving model ...\n"
          ],
          "name": "stdout"
        },
        {
          "output_type": "stream",
          "text": [
            "\n",
            "  2%|▏         | 18/1000 [00:11<10:21,  1.58it/s]\u001b[A"
          ],
          "name": "stderr"
        },
        {
          "output_type": "stream",
          "text": [
            "\n",
            "loss :  29.762099981307983 val loss :  44.558441162109375 \n",
            "\n",
            "Validation loss decreased (47.586311 --> 44.558441).  Saving model ...\n"
          ],
          "name": "stdout"
        },
        {
          "output_type": "stream",
          "text": [
            "\n",
            "  2%|▏         | 19/1000 [00:11<10:23,  1.57it/s]\u001b[A"
          ],
          "name": "stderr"
        },
        {
          "output_type": "stream",
          "text": [
            "\n",
            "loss :  29.326248836517333 val loss :  46.40949773788452 \n",
            "\n",
            "EarlyStopping counter: 1 out of 25\n"
          ],
          "name": "stdout"
        },
        {
          "output_type": "stream",
          "text": [
            "\n",
            "  2%|▏         | 20/1000 [00:12<10:24,  1.57it/s]\u001b[A"
          ],
          "name": "stderr"
        },
        {
          "output_type": "stream",
          "text": [
            "\n",
            "loss :  28.328969597816467 val loss :  49.04365348815918 \n",
            "\n",
            "EarlyStopping counter: 2 out of 25\n"
          ],
          "name": "stdout"
        },
        {
          "output_type": "stream",
          "text": [
            "\n",
            "  2%|▏         | 21/1000 [00:13<10:16,  1.59it/s]\u001b[A"
          ],
          "name": "stderr"
        },
        {
          "output_type": "stream",
          "text": [
            "\n",
            "loss :  28.116498231887817 val loss :  46.337897539138794 \n",
            "\n",
            "EarlyStopping counter: 3 out of 25\n"
          ],
          "name": "stdout"
        },
        {
          "output_type": "stream",
          "text": [
            "\n",
            "  2%|▏         | 22/1000 [00:13<10:22,  1.57it/s]\u001b[A"
          ],
          "name": "stderr"
        },
        {
          "output_type": "stream",
          "text": [
            "\n",
            "loss :  25.870002651214598 val loss :  41.151252031326294 \n",
            "\n",
            "Validation loss decreased (44.558441 --> 41.151252).  Saving model ...\n"
          ],
          "name": "stdout"
        },
        {
          "output_type": "stream",
          "text": [
            "\n",
            "  2%|▏         | 23/1000 [00:14<10:15,  1.59it/s]\u001b[A"
          ],
          "name": "stderr"
        },
        {
          "output_type": "stream",
          "text": [
            "\n",
            "loss :  25.20333299636841 val loss :  44.66275119781494 \n",
            "\n",
            "EarlyStopping counter: 1 out of 25\n"
          ],
          "name": "stdout"
        },
        {
          "output_type": "stream",
          "text": [
            "\n",
            "  2%|▏         | 24/1000 [00:14<10:11,  1.60it/s]\u001b[A"
          ],
          "name": "stderr"
        },
        {
          "output_type": "stream",
          "text": [
            "\n",
            "loss :  24.733497858047485 val loss :  44.743064880371094 \n",
            "\n",
            "EarlyStopping counter: 2 out of 25\n"
          ],
          "name": "stdout"
        },
        {
          "output_type": "stream",
          "text": [
            "\n",
            "  2%|▎         | 25/1000 [00:15<10:05,  1.61it/s]\u001b[A"
          ],
          "name": "stderr"
        },
        {
          "output_type": "stream",
          "text": [
            "\n",
            "loss :  24.916026544570922 val loss :  46.286935329437256 \n",
            "\n",
            "EarlyStopping counter: 3 out of 25\n"
          ],
          "name": "stdout"
        },
        {
          "output_type": "stream",
          "text": [
            "\n",
            "  3%|▎         | 26/1000 [00:16<10:08,  1.60it/s]\u001b[A"
          ],
          "name": "stderr"
        },
        {
          "output_type": "stream",
          "text": [
            "\n",
            "loss :  25.055509090423584 val loss :  43.88857173919678 \n",
            "\n",
            "EarlyStopping counter: 4 out of 25\n"
          ],
          "name": "stdout"
        },
        {
          "output_type": "stream",
          "text": [
            "\n",
            "  3%|▎         | 27/1000 [00:16<09:55,  1.63it/s]\u001b[A"
          ],
          "name": "stderr"
        },
        {
          "output_type": "stream",
          "text": [
            "\n",
            "loss :  23.059745526313783 val loss :  44.51815986633301 \n",
            "\n",
            "EarlyStopping counter: 5 out of 25\n"
          ],
          "name": "stdout"
        },
        {
          "output_type": "stream",
          "text": [
            "\n",
            "  3%|▎         | 28/1000 [00:17<10:12,  1.59it/s]\u001b[A"
          ],
          "name": "stderr"
        },
        {
          "output_type": "stream",
          "text": [
            "\n",
            "loss :  22.474490380287172 val loss :  40.81657791137695 \n",
            "\n",
            "Validation loss decreased (41.151252 --> 40.816578).  Saving model ...\n"
          ],
          "name": "stdout"
        },
        {
          "output_type": "stream",
          "text": [
            "\n",
            "  3%|▎         | 29/1000 [00:18<10:13,  1.58it/s]\u001b[A"
          ],
          "name": "stderr"
        },
        {
          "output_type": "stream",
          "text": [
            "\n",
            "loss :  22.762731742858886 val loss :  42.1036114692688 \n",
            "\n",
            "EarlyStopping counter: 1 out of 25\n"
          ],
          "name": "stdout"
        },
        {
          "output_type": "stream",
          "text": [
            "\n",
            "  3%|▎         | 30/1000 [00:18<10:08,  1.59it/s]\u001b[A"
          ],
          "name": "stderr"
        },
        {
          "output_type": "stream",
          "text": [
            "\n",
            "loss :  22.00904722213745 val loss :  44.73638701438904 \n",
            "\n",
            "EarlyStopping counter: 2 out of 25\n"
          ],
          "name": "stdout"
        },
        {
          "output_type": "stream",
          "text": [
            "\n",
            "  3%|▎         | 31/1000 [00:19<10:23,  1.56it/s]\u001b[A"
          ],
          "name": "stderr"
        },
        {
          "output_type": "stream",
          "text": [
            "\n",
            "loss :  21.807056403160097 val loss :  48.8133749961853 \n",
            "\n",
            "EarlyStopping counter: 3 out of 25\n"
          ],
          "name": "stdout"
        },
        {
          "output_type": "stream",
          "text": [
            "\n",
            "  3%|▎         | 32/1000 [00:20<10:14,  1.58it/s]\u001b[A"
          ],
          "name": "stderr"
        },
        {
          "output_type": "stream",
          "text": [
            "\n",
            "loss :  21.465935707092285 val loss :  45.377036571502686 \n",
            "\n",
            "EarlyStopping counter: 4 out of 25\n"
          ],
          "name": "stdout"
        },
        {
          "output_type": "stream",
          "text": [
            "\n",
            "  3%|▎         | 33/1000 [00:20<10:05,  1.60it/s]\u001b[A"
          ],
          "name": "stderr"
        },
        {
          "output_type": "stream",
          "text": [
            "\n",
            "loss :  21.351804733276367 val loss :  41.58850336074829 \n",
            "\n",
            "EarlyStopping counter: 5 out of 25\n"
          ],
          "name": "stdout"
        },
        {
          "output_type": "stream",
          "text": [
            "\n",
            "  3%|▎         | 34/1000 [00:21<10:00,  1.61it/s]\u001b[A"
          ],
          "name": "stderr"
        },
        {
          "output_type": "stream",
          "text": [
            "\n",
            "loss :  20.876342177391052 val loss :  48.36608839035034 \n",
            "\n",
            "EarlyStopping counter: 6 out of 25\n"
          ],
          "name": "stdout"
        },
        {
          "output_type": "stream",
          "text": [
            "\n",
            "  4%|▎         | 35/1000 [00:21<09:49,  1.64it/s]\u001b[A"
          ],
          "name": "stderr"
        },
        {
          "output_type": "stream",
          "text": [
            "\n",
            "loss :  21.34518210887909 val loss :  45.78361511230469 \n",
            "\n",
            "EarlyStopping counter: 7 out of 25\n"
          ],
          "name": "stdout"
        },
        {
          "output_type": "stream",
          "text": [
            "\n",
            "  4%|▎         | 36/1000 [00:22<09:59,  1.61it/s]\u001b[A"
          ],
          "name": "stderr"
        },
        {
          "output_type": "stream",
          "text": [
            "\n",
            "loss :  20.283552479743957 val loss :  47.65819501876831 \n",
            "\n",
            "EarlyStopping counter: 8 out of 25\n"
          ],
          "name": "stdout"
        },
        {
          "output_type": "stream",
          "text": [
            "\n",
            "  4%|▎         | 37/1000 [00:23<09:51,  1.63it/s]\u001b[A"
          ],
          "name": "stderr"
        },
        {
          "output_type": "stream",
          "text": [
            "\n",
            "loss :  20.68678526878357 val loss :  41.503032207489014 \n",
            "\n",
            "EarlyStopping counter: 9 out of 25\n"
          ],
          "name": "stdout"
        },
        {
          "output_type": "stream",
          "text": [
            "\n",
            "  4%|▍         | 38/1000 [00:23<10:01,  1.60it/s]\u001b[A"
          ],
          "name": "stderr"
        },
        {
          "output_type": "stream",
          "text": [
            "\n",
            "loss :  22.189608025550843 val loss :  43.24444079399109 \n",
            "\n",
            "EarlyStopping counter: 10 out of 25\n"
          ],
          "name": "stdout"
        },
        {
          "output_type": "stream",
          "text": [
            "\n",
            "  4%|▍         | 39/1000 [00:24<10:23,  1.54it/s]\u001b[A"
          ],
          "name": "stderr"
        },
        {
          "output_type": "stream",
          "text": [
            "\n",
            "loss :  20.36766321659088 val loss :  40.487948179244995 \n",
            "\n",
            "Validation loss decreased (40.816578 --> 40.487948).  Saving model ...\n"
          ],
          "name": "stdout"
        },
        {
          "output_type": "stream",
          "text": [
            "\n",
            "  4%|▍         | 40/1000 [00:24<10:06,  1.58it/s]\u001b[A"
          ],
          "name": "stderr"
        },
        {
          "output_type": "stream",
          "text": [
            "\n",
            "loss :  19.893324494361877 val loss :  46.07060766220093 \n",
            "\n",
            "EarlyStopping counter: 1 out of 25\n"
          ],
          "name": "stdout"
        },
        {
          "output_type": "stream",
          "text": [
            "\n",
            "  4%|▍         | 41/1000 [00:25<10:09,  1.57it/s]\u001b[A"
          ],
          "name": "stderr"
        },
        {
          "output_type": "stream",
          "text": [
            "\n",
            "loss :  19.54952836036682 val loss :  42.954880237579346 \n",
            "\n",
            "EarlyStopping counter: 2 out of 25\n"
          ],
          "name": "stdout"
        },
        {
          "output_type": "stream",
          "text": [
            "\n",
            "  4%|▍         | 42/1000 [00:26<10:09,  1.57it/s]\u001b[A"
          ],
          "name": "stderr"
        },
        {
          "output_type": "stream",
          "text": [
            "\n",
            "loss :  19.316833639144896 val loss :  39.81336259841919 \n",
            "\n",
            "Validation loss decreased (40.487948 --> 39.813363).  Saving model ...\n"
          ],
          "name": "stdout"
        },
        {
          "output_type": "stream",
          "text": [
            "\n",
            "  4%|▍         | 43/1000 [00:26<10:00,  1.59it/s]\u001b[A"
          ],
          "name": "stderr"
        },
        {
          "output_type": "stream",
          "text": [
            "\n",
            "loss :  19.90804240703583 val loss :  46.92925453186035 \n",
            "\n",
            "EarlyStopping counter: 1 out of 25\n"
          ],
          "name": "stdout"
        },
        {
          "output_type": "stream",
          "text": [
            "\n",
            "  4%|▍         | 44/1000 [00:27<09:56,  1.60it/s]\u001b[A"
          ],
          "name": "stderr"
        },
        {
          "output_type": "stream",
          "text": [
            "\n",
            "loss :  19.353080987930298 val loss :  41.56402325630188 \n",
            "\n",
            "EarlyStopping counter: 2 out of 25\n"
          ],
          "name": "stdout"
        },
        {
          "output_type": "stream",
          "text": [
            "\n",
            "  4%|▍         | 45/1000 [00:28<09:46,  1.63it/s]\u001b[A"
          ],
          "name": "stderr"
        },
        {
          "output_type": "stream",
          "text": [
            "\n",
            "loss :  18.60700979232788 val loss :  43.54715967178345 \n",
            "\n",
            "EarlyStopping counter: 3 out of 25\n"
          ],
          "name": "stdout"
        },
        {
          "output_type": "stream",
          "text": [
            "\n",
            "  5%|▍         | 46/1000 [00:28<09:54,  1.60it/s]\u001b[A"
          ],
          "name": "stderr"
        },
        {
          "output_type": "stream",
          "text": [
            "\n",
            "loss :  18.370502042770386 val loss :  42.8251953125 \n",
            "\n",
            "EarlyStopping counter: 4 out of 25\n"
          ],
          "name": "stdout"
        },
        {
          "output_type": "stream",
          "text": [
            "\n",
            "  5%|▍         | 47/1000 [00:29<09:41,  1.64it/s]\u001b[A"
          ],
          "name": "stderr"
        },
        {
          "output_type": "stream",
          "text": [
            "\n",
            "loss :  18.27922797203064 val loss :  41.55852270126343 \n",
            "\n",
            "EarlyStopping counter: 5 out of 25\n"
          ],
          "name": "stdout"
        },
        {
          "output_type": "stream",
          "text": [
            "\n",
            "  5%|▍         | 48/1000 [00:29<09:51,  1.61it/s]\u001b[A"
          ],
          "name": "stderr"
        },
        {
          "output_type": "stream",
          "text": [
            "\n",
            "loss :  17.17640702724457 val loss :  42.532386302948 \n",
            "\n",
            "EarlyStopping counter: 6 out of 25\n"
          ],
          "name": "stdout"
        },
        {
          "output_type": "stream",
          "text": [
            "\n",
            "  5%|▍         | 49/1000 [00:30<09:49,  1.61it/s]\u001b[A"
          ],
          "name": "stderr"
        },
        {
          "output_type": "stream",
          "text": [
            "\n",
            "loss :  18.19122998714447 val loss :  45.00987935066223 \n",
            "\n",
            "EarlyStopping counter: 7 out of 25\n"
          ],
          "name": "stdout"
        },
        {
          "output_type": "stream",
          "text": [
            "\n",
            "  5%|▌         | 50/1000 [00:31<09:52,  1.60it/s]\u001b[A"
          ],
          "name": "stderr"
        },
        {
          "output_type": "stream",
          "text": [
            "\n",
            "loss :  17.97916796207428 val loss :  44.08167839050293 \n",
            "\n",
            "EarlyStopping counter: 8 out of 25\n"
          ],
          "name": "stdout"
        },
        {
          "output_type": "stream",
          "text": [
            "\n",
            "  5%|▌         | 51/1000 [00:31<09:54,  1.59it/s]\u001b[A"
          ],
          "name": "stderr"
        },
        {
          "output_type": "stream",
          "text": [
            "\n",
            "loss :  17.80823678970337 val loss :  41.86448860168457 \n",
            "\n",
            "EarlyStopping counter: 9 out of 25\n"
          ],
          "name": "stdout"
        },
        {
          "output_type": "stream",
          "text": [
            "\n",
            "  5%|▌         | 52/1000 [00:32<09:51,  1.60it/s]\u001b[A"
          ],
          "name": "stderr"
        },
        {
          "output_type": "stream",
          "text": [
            "\n",
            "loss :  17.072249484062194 val loss :  45.10689353942871 \n",
            "\n",
            "EarlyStopping counter: 10 out of 25\n"
          ],
          "name": "stdout"
        },
        {
          "output_type": "stream",
          "text": [
            "\n",
            "  5%|▌         | 53/1000 [00:33<09:59,  1.58it/s]\u001b[A"
          ],
          "name": "stderr"
        },
        {
          "output_type": "stream",
          "text": [
            "\n",
            "loss :  18.197686886787416 val loss :  49.11300492286682 \n",
            "\n",
            "EarlyStopping counter: 11 out of 25\n"
          ],
          "name": "stdout"
        },
        {
          "output_type": "stream",
          "text": [
            "\n",
            "  5%|▌         | 54/1000 [00:33<09:50,  1.60it/s]\u001b[A"
          ],
          "name": "stderr"
        },
        {
          "output_type": "stream",
          "text": [
            "\n",
            "loss :  17.39088668823242 val loss :  45.466228008270264 \n",
            "\n",
            "EarlyStopping counter: 12 out of 25\n"
          ],
          "name": "stdout"
        },
        {
          "output_type": "stream",
          "text": [
            "\n",
            "  6%|▌         | 55/1000 [00:34<09:46,  1.61it/s]\u001b[A"
          ],
          "name": "stderr"
        },
        {
          "output_type": "stream",
          "text": [
            "\n",
            "loss :  16.98715808391571 val loss :  41.203322887420654 \n",
            "\n",
            "EarlyStopping counter: 13 out of 25\n"
          ],
          "name": "stdout"
        },
        {
          "output_type": "stream",
          "text": [
            "\n",
            "  6%|▌         | 56/1000 [00:34<09:46,  1.61it/s]\u001b[A"
          ],
          "name": "stderr"
        },
        {
          "output_type": "stream",
          "text": [
            "\n",
            "loss :  17.008451080322267 val loss :  43.4284143447876 \n",
            "\n",
            "EarlyStopping counter: 14 out of 25\n"
          ],
          "name": "stdout"
        },
        {
          "output_type": "stream",
          "text": [
            "\n",
            "  6%|▌         | 57/1000 [00:35<09:40,  1.63it/s]\u001b[A"
          ],
          "name": "stderr"
        },
        {
          "output_type": "stream",
          "text": [
            "\n",
            "loss :  17.392352437973024 val loss :  43.37240552902222 \n",
            "\n",
            "EarlyStopping counter: 15 out of 25\n"
          ],
          "name": "stdout"
        },
        {
          "output_type": "stream",
          "text": [
            "\n",
            "  6%|▌         | 58/1000 [00:36<09:53,  1.59it/s]\u001b[A"
          ],
          "name": "stderr"
        },
        {
          "output_type": "stream",
          "text": [
            "\n",
            "loss :  16.81554307937622 val loss :  45.51976203918457 \n",
            "\n",
            "EarlyStopping counter: 16 out of 25\n"
          ],
          "name": "stdout"
        },
        {
          "output_type": "stream",
          "text": [
            "\n",
            "  6%|▌         | 59/1000 [00:36<09:40,  1.62it/s]\u001b[A"
          ],
          "name": "stderr"
        },
        {
          "output_type": "stream",
          "text": [
            "\n",
            "loss :  16.53836898803711 val loss :  41.020315170288086 \n",
            "\n",
            "EarlyStopping counter: 17 out of 25\n"
          ],
          "name": "stdout"
        },
        {
          "output_type": "stream",
          "text": [
            "\n",
            "  6%|▌         | 60/1000 [00:37<09:47,  1.60it/s]\u001b[A"
          ],
          "name": "stderr"
        },
        {
          "output_type": "stream",
          "text": [
            "\n",
            "loss :  16.502299666404724 val loss :  44.239800453186035 \n",
            "\n",
            "EarlyStopping counter: 18 out of 25\n"
          ],
          "name": "stdout"
        },
        {
          "output_type": "stream",
          "text": [
            "\n",
            "  6%|▌         | 61/1000 [00:38<09:44,  1.61it/s]\u001b[A"
          ],
          "name": "stderr"
        },
        {
          "output_type": "stream",
          "text": [
            "\n",
            "loss :  16.631812286376952 val loss :  43.70567965507507 \n",
            "\n",
            "EarlyStopping counter: 19 out of 25\n"
          ],
          "name": "stdout"
        },
        {
          "output_type": "stream",
          "text": [
            "\n",
            "  6%|▌         | 62/1000 [00:38<09:38,  1.62it/s]\u001b[A"
          ],
          "name": "stderr"
        },
        {
          "output_type": "stream",
          "text": [
            "\n",
            "loss :  16.04275529384613 val loss :  43.67838191986084 \n",
            "\n",
            "EarlyStopping counter: 20 out of 25\n"
          ],
          "name": "stdout"
        },
        {
          "output_type": "stream",
          "text": [
            "\n",
            "  6%|▋         | 63/1000 [00:39<09:44,  1.60it/s]\u001b[A"
          ],
          "name": "stderr"
        },
        {
          "output_type": "stream",
          "text": [
            "\n",
            "loss :  17.295038676261903 val loss :  44.36651277542114 \n",
            "\n",
            "EarlyStopping counter: 21 out of 25\n"
          ],
          "name": "stdout"
        },
        {
          "output_type": "stream",
          "text": [
            "\n",
            "  6%|▋         | 64/1000 [00:39<09:36,  1.62it/s]\u001b[A"
          ],
          "name": "stderr"
        },
        {
          "output_type": "stream",
          "text": [
            "\n",
            "loss :  15.792326664924621 val loss :  42.28439402580261 \n",
            "\n",
            "EarlyStopping counter: 22 out of 25\n"
          ],
          "name": "stdout"
        },
        {
          "output_type": "stream",
          "text": [
            "\n",
            "  6%|▋         | 65/1000 [00:40<09:52,  1.58it/s]\u001b[A"
          ],
          "name": "stderr"
        },
        {
          "output_type": "stream",
          "text": [
            "\n",
            "loss :  15.926841044425965 val loss :  42.233736515045166 \n",
            "\n",
            "EarlyStopping counter: 23 out of 25\n"
          ],
          "name": "stdout"
        },
        {
          "output_type": "stream",
          "text": [
            "\n",
            "  7%|▋         | 66/1000 [00:41<09:45,  1.59it/s]\u001b[A"
          ],
          "name": "stderr"
        },
        {
          "output_type": "stream",
          "text": [
            "\n",
            "loss :  16.120715403556822 val loss :  47.9753315448761 \n",
            "\n",
            "EarlyStopping counter: 24 out of 25\n"
          ],
          "name": "stdout"
        },
        {
          "output_type": "stream",
          "text": [
            "\n",
            "  7%|▋         | 67/1000 [00:41<09:50,  1.58it/s]\u001b[A"
          ],
          "name": "stderr"
        },
        {
          "output_type": "stream",
          "text": [
            "\n",
            "loss :  15.643231773376465 val loss :  37.2556688785553 \n",
            "\n",
            "Validation loss decreased (39.813363 --> 37.255669).  Saving model ...\n"
          ],
          "name": "stdout"
        },
        {
          "output_type": "stream",
          "text": [
            "\n",
            "  7%|▋         | 68/1000 [00:42<09:56,  1.56it/s]\u001b[A"
          ],
          "name": "stderr"
        },
        {
          "output_type": "stream",
          "text": [
            "\n",
            "loss :  15.74706461429596 val loss :  39.4466347694397 \n",
            "\n",
            "EarlyStopping counter: 1 out of 25\n"
          ],
          "name": "stdout"
        },
        {
          "output_type": "stream",
          "text": [
            "\n",
            "  7%|▋         | 69/1000 [00:43<09:48,  1.58it/s]\u001b[A"
          ],
          "name": "stderr"
        },
        {
          "output_type": "stream",
          "text": [
            "\n",
            "loss :  15.497300720214843 val loss :  42.51018667221069 \n",
            "\n",
            "EarlyStopping counter: 2 out of 25\n"
          ],
          "name": "stdout"
        },
        {
          "output_type": "stream",
          "text": [
            "\n",
            "  7%|▋         | 70/1000 [00:43<09:39,  1.60it/s]\u001b[A"
          ],
          "name": "stderr"
        },
        {
          "output_type": "stream",
          "text": [
            "\n",
            "loss :  15.36676664352417 val loss :  44.327887535095215 \n",
            "\n",
            "EarlyStopping counter: 3 out of 25\n"
          ],
          "name": "stdout"
        },
        {
          "output_type": "stream",
          "text": [
            "\n",
            "  7%|▋         | 71/1000 [00:44<09:44,  1.59it/s]\u001b[A"
          ],
          "name": "stderr"
        },
        {
          "output_type": "stream",
          "text": [
            "\n",
            "loss :  15.770124363899232 val loss :  40.9292426109314 \n",
            "\n",
            "EarlyStopping counter: 4 out of 25\n"
          ],
          "name": "stdout"
        },
        {
          "output_type": "stream",
          "text": [
            "\n",
            "  7%|▋         | 72/1000 [00:44<09:42,  1.59it/s]\u001b[A"
          ],
          "name": "stderr"
        },
        {
          "output_type": "stream",
          "text": [
            "\n",
            "loss :  15.752417016029359 val loss :  40.55372071266174 \n",
            "\n",
            "EarlyStopping counter: 5 out of 25\n"
          ],
          "name": "stdout"
        },
        {
          "output_type": "stream",
          "text": [
            "\n",
            "  7%|▋         | 73/1000 [00:45<09:41,  1.59it/s]\u001b[A"
          ],
          "name": "stderr"
        },
        {
          "output_type": "stream",
          "text": [
            "\n",
            "loss :  15.483873558044433 val loss :  39.20221257209778 \n",
            "\n",
            "EarlyStopping counter: 6 out of 25\n"
          ],
          "name": "stdout"
        },
        {
          "output_type": "stream",
          "text": [
            "\n",
            "  7%|▋         | 74/1000 [00:46<09:32,  1.62it/s]\u001b[A"
          ],
          "name": "stderr"
        },
        {
          "output_type": "stream",
          "text": [
            "\n",
            "loss :  15.035267996788026 val loss :  43.84497022628784 \n",
            "\n",
            "EarlyStopping counter: 7 out of 25\n"
          ],
          "name": "stdout"
        },
        {
          "output_type": "stream",
          "text": [
            "\n",
            "  8%|▊         | 75/1000 [00:46<09:34,  1.61it/s]\u001b[A"
          ],
          "name": "stderr"
        },
        {
          "output_type": "stream",
          "text": [
            "\n",
            "loss :  14.786662292480468 val loss :  43.468456745147705 \n",
            "\n",
            "EarlyStopping counter: 8 out of 25\n"
          ],
          "name": "stdout"
        },
        {
          "output_type": "stream",
          "text": [
            "\n",
            "  8%|▊         | 76/1000 [00:47<09:29,  1.62it/s]\u001b[A"
          ],
          "name": "stderr"
        },
        {
          "output_type": "stream",
          "text": [
            "\n",
            "loss :  14.803876328468323 val loss :  41.7331280708313 \n",
            "\n",
            "EarlyStopping counter: 9 out of 25\n"
          ],
          "name": "stdout"
        },
        {
          "output_type": "stream",
          "text": [
            "\n",
            "  8%|▊         | 77/1000 [00:48<09:31,  1.62it/s]\u001b[A"
          ],
          "name": "stderr"
        },
        {
          "output_type": "stream",
          "text": [
            "\n",
            "loss :  14.629712533950805 val loss :  45.032283544540405 \n",
            "\n",
            "EarlyStopping counter: 10 out of 25\n"
          ],
          "name": "stdout"
        },
        {
          "output_type": "stream",
          "text": [
            "\n",
            "  8%|▊         | 78/1000 [00:48<09:41,  1.59it/s]\u001b[A"
          ],
          "name": "stderr"
        },
        {
          "output_type": "stream",
          "text": [
            "\n",
            "loss :  14.938372588157653 val loss :  47.12823414802551 \n",
            "\n",
            "EarlyStopping counter: 11 out of 25\n"
          ],
          "name": "stdout"
        },
        {
          "output_type": "stream",
          "text": [
            "\n",
            "  8%|▊         | 79/1000 [00:49<09:36,  1.60it/s]\u001b[A"
          ],
          "name": "stderr"
        },
        {
          "output_type": "stream",
          "text": [
            "\n",
            "loss :  14.88147575855255 val loss :  51.333523750305176 \n",
            "\n",
            "EarlyStopping counter: 12 out of 25\n"
          ],
          "name": "stdout"
        },
        {
          "output_type": "stream",
          "text": [
            "\n",
            "  8%|▊         | 80/1000 [00:49<09:32,  1.61it/s]\u001b[A"
          ],
          "name": "stderr"
        },
        {
          "output_type": "stream",
          "text": [
            "\n",
            "loss :  15.843886709213256 val loss :  41.68459177017212 \n",
            "\n",
            "EarlyStopping counter: 13 out of 25\n"
          ],
          "name": "stdout"
        },
        {
          "output_type": "stream",
          "text": [
            "\n",
            "  8%|▊         | 81/1000 [00:50<09:35,  1.60it/s]\u001b[A"
          ],
          "name": "stderr"
        },
        {
          "output_type": "stream",
          "text": [
            "\n",
            "loss :  15.016675090789795 val loss :  39.56912660598755 \n",
            "\n",
            "EarlyStopping counter: 14 out of 25\n"
          ],
          "name": "stdout"
        },
        {
          "output_type": "stream",
          "text": [
            "\n",
            "  8%|▊         | 82/1000 [00:51<09:39,  1.59it/s]\u001b[A"
          ],
          "name": "stderr"
        },
        {
          "output_type": "stream",
          "text": [
            "\n",
            "loss :  14.587033891677857 val loss :  42.88182973861694 \n",
            "\n",
            "EarlyStopping counter: 15 out of 25\n"
          ],
          "name": "stdout"
        },
        {
          "output_type": "stream",
          "text": [
            "\n",
            "  8%|▊         | 83/1000 [00:51<09:42,  1.57it/s]\u001b[A"
          ],
          "name": "stderr"
        },
        {
          "output_type": "stream",
          "text": [
            "\n",
            "loss :  15.16699857711792 val loss :  44.53848075866699 \n",
            "\n",
            "EarlyStopping counter: 16 out of 25\n"
          ],
          "name": "stdout"
        },
        {
          "output_type": "stream",
          "text": [
            "\n",
            "  8%|▊         | 84/1000 [00:52<09:27,  1.61it/s]\u001b[A"
          ],
          "name": "stderr"
        },
        {
          "output_type": "stream",
          "text": [
            "\n",
            "loss :  14.321128726005554 val loss :  40.220093727111816 \n",
            "\n",
            "EarlyStopping counter: 17 out of 25\n"
          ],
          "name": "stdout"
        },
        {
          "output_type": "stream",
          "text": [
            "\n",
            "  8%|▊         | 85/1000 [00:53<09:40,  1.58it/s]\u001b[A"
          ],
          "name": "stderr"
        },
        {
          "output_type": "stream",
          "text": [
            "\n",
            "loss :  14.354833555221557 val loss :  43.888251543045044 \n",
            "\n",
            "EarlyStopping counter: 18 out of 25\n"
          ],
          "name": "stdout"
        },
        {
          "output_type": "stream",
          "text": [
            "\n",
            "  9%|▊         | 86/1000 [00:53<09:48,  1.55it/s]\u001b[A"
          ],
          "name": "stderr"
        },
        {
          "output_type": "stream",
          "text": [
            "\n",
            "loss :  14.29805040359497 val loss :  40.59744644165039 \n",
            "\n",
            "EarlyStopping counter: 19 out of 25\n"
          ],
          "name": "stdout"
        },
        {
          "output_type": "stream",
          "text": [
            "\n",
            "  9%|▊         | 87/1000 [00:54<09:48,  1.55it/s]\u001b[A"
          ],
          "name": "stderr"
        },
        {
          "output_type": "stream",
          "text": [
            "\n",
            "loss :  14.514200925827026 val loss :  38.05964136123657 \n",
            "\n",
            "EarlyStopping counter: 20 out of 25\n"
          ],
          "name": "stdout"
        },
        {
          "output_type": "stream",
          "text": [
            "\n",
            "  9%|▉         | 88/1000 [00:55<09:38,  1.58it/s]\u001b[A"
          ],
          "name": "stderr"
        },
        {
          "output_type": "stream",
          "text": [
            "\n",
            "loss :  14.162056636810302 val loss :  44.322022676467896 \n",
            "\n",
            "EarlyStopping counter: 21 out of 25\n"
          ],
          "name": "stdout"
        },
        {
          "output_type": "stream",
          "text": [
            "\n",
            "  9%|▉         | 89/1000 [00:55<09:35,  1.58it/s]\u001b[A"
          ],
          "name": "stderr"
        },
        {
          "output_type": "stream",
          "text": [
            "\n",
            "loss :  14.292714309692382 val loss :  41.62497162818909 \n",
            "\n",
            "EarlyStopping counter: 22 out of 25\n"
          ],
          "name": "stdout"
        },
        {
          "output_type": "stream",
          "text": [
            "\n",
            "  9%|▉         | 90/1000 [00:56<09:43,  1.56it/s]\u001b[A"
          ],
          "name": "stderr"
        },
        {
          "output_type": "stream",
          "text": [
            "\n",
            "loss :  13.874453711509705 val loss :  45.56064200401306 \n",
            "\n",
            "EarlyStopping counter: 23 out of 25\n"
          ],
          "name": "stdout"
        },
        {
          "output_type": "stream",
          "text": [
            "\n",
            "  9%|▉         | 91/1000 [00:56<09:36,  1.58it/s]\u001b[A"
          ],
          "name": "stderr"
        },
        {
          "output_type": "stream",
          "text": [
            "\n",
            "loss :  13.9712806224823 val loss :  41.44426703453064 \n",
            "\n",
            "EarlyStopping counter: 24 out of 25\n"
          ],
          "name": "stdout"
        },
        {
          "output_type": "stream",
          "text": [
            "\r  9%|▉         | 91/1000 [00:57<09:34,  1.58it/s]"
          ],
          "name": "stderr"
        },
        {
          "output_type": "stream",
          "text": [
            "\n",
            "loss :  14.29935793876648 val loss :  47.650596618652344 \n",
            "\n",
            "EarlyStopping counter: 25 out of 25\n",
            "Early stopping\n"
          ],
          "name": "stdout"
        },
        {
          "output_type": "stream",
          "text": [
            "\n"
          ],
          "name": "stderr"
        }
      ]
    },
    {
      "cell_type": "code",
      "metadata": {
        "id": "0YugWGXc1Jy6",
        "colab_type": "code",
        "outputId": "62d0be0b-a8f5-481d-cc7a-0b794c5f02ce",
        "colab": {
          "base_uri": "https://localhost:8080/",
          "height": 585
        }
      },
      "source": [
        "# visualize the loss as the network trained\n",
        "fig = plt.figure(figsize=(10,8))\n",
        "plt.plot(range(1,len(train_loss)+1),train_loss, label='Training Loss')\n",
        "plt.plot(range(1,len(valid_loss)+1),valid_loss,label='Validation Loss')\n",
        "\n",
        "# find position of lowest validation loss\n",
        "minposs = valid_loss.index(min(valid_loss))+1 \n",
        "plt.axvline(minposs, linestyle='--', color='r',label='Early Stopping Checkpoint')\n",
        "\n",
        "plt.xlabel('epochs')\n",
        "plt.ylabel('loss')\n",
        "plt.ylim(0, 100) # consistent scale\n",
        "plt.xlim(0, len(train_loss)+1) # consistent scale\n",
        "plt.grid(True)\n",
        "plt.legend()\n",
        "plt.tight_layout()\n",
        "plt.show()\n",
        "fig.savefig('loss_plot.png', bbox_inches='tight')"
      ],
      "execution_count": 46,
      "outputs": [
        {
          "output_type": "display_data",
          "data": {
            "image/png": "[encoded data removed]",
            "text/plain": [
              "<Figure size 720x576 with 1 Axes>"
            ]
          },
          "metadata": {
            "tags": [],
            "needs_background": "light"
          }
        }
      ]
    },
    {
      "cell_type": "code",
      "metadata": {
        "id": "Lbzek-ME1ML7",
        "colab_type": "code",
        "colab": {}
      },
      "source": [
        "def test(net):\n",
        "    predictions = []\n",
        "    with torch.no_grad():\n",
        "        for i, sample in enumerate(testloader):\n",
        "            predict = []\n",
        "            x ,y = sample\n",
        "            x = x.view(-1, IMG_CHANNELS, IMG_SIZE, IMG_SIZE)\n",
        "            \n",
        "            x = x.to(device)\n",
        "            y = y.to(device)\n",
        "            \n",
        "            a, b, xy, d = net(x)\n",
        "            #print(a)\n",
        "            #print(b)\n",
        "            #print(xy)\n",
        "            #print(d)\n",
        "            _, aa = a.max(1)\n",
        "            _, bb = b.max(1)\n",
        "            _, dd = d.max(1)\n",
        "            aa = aa.to(\"cpu\")\n",
        "            bb = bb.to(\"cpu\")\n",
        "            xy = xy.to(\"cpu\")\n",
        "            dd = dd.to(\"cpu\")\n",
        "            x = xy[:,0]\n",
        "            y = xy[:,1]\n",
        "            predict.append(aa)\n",
        "            predict.append(bb)\n",
        "            predict.append(x)\n",
        "            predict.append(y)\n",
        "            predict.append(dd)\n",
        "            #print(predict)\n",
        "            predict = np.array(predict)\n",
        "            predictions.append(predict)\n",
        "            \n",
        "\n",
        "    print(predictions)\n",
        "    print()\n",
        "    predictions = np.array(predictions)\n",
        "    predictions = predictions.reshape(-1, OUTPUT_LABEL_SIZE)\n",
        "    df = DataFrame(predictions)\n",
        "    df.to_excel('predictions.xlsx', header=None)"
      ],
      "execution_count": 0,
      "outputs": []
    },
    {
      "cell_type": "code",
      "metadata": {
        "id": "M1WBAWnftkzr",
        "colab_type": "code",
        "outputId": "288eccd3-9384-4475-8a03-659f497c4879",
        "colab": {
          "base_uri": "https://localhost:8080/",
          "height": 86
        }
      },
      "source": [
        "testsets = []\n",
        "for f in tqdm(os.listdir(TEST_PATH_LABEL)):\n",
        "  path  = os.path.join(TEST_PATH_LABEL, f)\n",
        "  testset = DataCaller_Excel(path, IMG_SIZE)\n",
        "  print(testset.__len__())\n",
        "  testsets.append(testset)\n",
        "\n",
        "testset = ConcatDataset(testsets)"
      ],
      "execution_count": 51,
      "outputs": [
        {
          "output_type": "stream",
          "text": [
            "\n",
            "  0%|          | 0/1 [00:00<?, ?it/s]\u001b[A\n",
            "100%|██████████| 1/1 [01:15<00:00, 75.51s/it]"
          ],
          "name": "stderr"
        },
        {
          "output_type": "stream",
          "text": [
            "1000\n"
          ],
          "name": "stdout"
        },
        {
          "output_type": "stream",
          "text": [
            "\n"
          ],
          "name": "stderr"
        }
      ]
    },
    {
      "cell_type": "code",
      "metadata": {
        "id": "xB9Ta8kV1Oay",
        "colab_type": "code",
        "colab": {}
      },
      "source": [
        "trained_net = Net()\n",
        "trained_net.load_state_dict(torch.load(LOAD_PRETRAINED_PATH))\n",
        "trained_net.to(device)\n",
        "trained_net.eval()\n",
        "test(trained_net)"
      ],
      "execution_count": 0,
      "outputs": []
    },
    {
      "cell_type": "code",
      "metadata": {
        "id": "TUGAIXy_1PnL",
        "colab_type": "code",
        "colab": {}
      },
      "source": [
        ""
      ],
      "execution_count": 0,
      "outputs": []
    }
  ]
}
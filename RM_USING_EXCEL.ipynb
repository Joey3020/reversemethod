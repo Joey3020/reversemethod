{
  "nbformat": 4,
  "nbformat_minor": 0,
  "metadata": {
    "colab": {
      "name": "RM_USING_EXCEL.ipynb",
      "provenance": [],
      "collapsed_sections": [],
      "toc_visible": true,
      "authorship_tag": "ABX9TyPLiwA8HfNiCT65GqbmWHYu",
      "include_colab_link": true
    },
    "kernelspec": {
      "name": "python3",
      "display_name": "Python 3"
    },
    "accelerator": "GPU"
  },
  "cells": [
    {
      "cell_type": "markdown",
      "metadata": {
        "id": "view-in-github",
        "colab_type": "text"
      },
      "source": [
        "<a href=\"https://colab.research.google.com/github/joey0320/reversemethod/blob/colabcodes/RM_USING_EXCEL.ipynb\" target=\"_parent\"><img src=\"https://colab.research.google.com/assets/colab-badge.svg\" alt=\"Open In Colab\"/></a>"
      ]
    },
    {
      "cell_type": "code",
      "metadata": {
        "id": "pJff_qD0zq3L",
        "colab_type": "code",
        "colab": {}
      },
      "source": [
        "#!git clone https://github.com/joey0320/reversemethod.git"
      ],
      "execution_count": 0,
      "outputs": []
    },
    {
      "cell_type": "code",
      "metadata": {
        "id": "QZPG-Fw9zs6U",
        "colab_type": "code",
        "colab": {}
      },
      "source": [
        "#!git clone https://github.com/joey0320/reversemethod.git"
      ],
      "execution_count": 0,
      "outputs": []
    },
    {
      "cell_type": "code",
      "metadata": {
        "id": "03J48aW0Reqs",
        "colab_type": "code",
        "outputId": "7606e7a7-6218-4aa1-e805-03b801f42f39",
        "colab": {
          "base_uri": "https://localhost:8080/",
          "height": 316
        }
      },
      "source": [
        "gpu_info = !nvidia-smi\n",
        "gpu_info = '\\n'.join(gpu_info)\n",
        "if gpu_info.find('failed') >= 0:\n",
        "  print('Select the Runtime → \"Change runtime type\" menu to enable a GPU accelerator, ')\n",
        "  print('and then re-execute this cell.')\n",
        "else:\n",
        "  print(gpu_info)"
      ],
      "execution_count": 1,
      "outputs": [
        {
          "output_type": "stream",
          "text": [
            "Mon Apr 13 09:45:18 2020       \n",
            "+-----------------------------------------------------------------------------+\n",
            "| NVIDIA-SMI 440.64.00    Driver Version: 418.67       CUDA Version: 10.1     |\n",
            "|-------------------------------+----------------------+----------------------+\n",
            "| GPU  Name        Persistence-M| Bus-Id        Disp.A | Volatile Uncorr. ECC |\n",
            "| Fan  Temp  Perf  Pwr:Usage/Cap|         Memory-Usage | GPU-Util  Compute M. |\n",
            "|===============================+======================+======================|\n",
            "|   0  Tesla P100-PCIE...  Off  | 00000000:00:04.0 Off |                    0 |\n",
            "| N/A   37C    P0    26W / 250W |      0MiB / 16280MiB |      0%      Default |\n",
            "+-------------------------------+----------------------+----------------------+\n",
            "                                                                               \n",
            "+-----------------------------------------------------------------------------+\n",
            "| Processes:                                                       GPU Memory |\n",
            "|  GPU       PID   Type   Process name                             Usage      |\n",
            "|=============================================================================|\n",
            "|  No running processes found                                                 |\n",
            "+-----------------------------------------------------------------------------+\n"
          ],
          "name": "stdout"
        }
      ]
    },
    {
      "cell_type": "code",
      "metadata": {
        "id": "WB26ruGiz071",
        "colab_type": "code",
        "outputId": "cc96507c-5c97-443f-f525-1428b3908589",
        "colab": {
          "base_uri": "https://localhost:8080/",
          "height": 34
        }
      },
      "source": [
        "from google.colab import drive\n",
        "\n",
        "drive.mount('/content/gdrive')"
      ],
      "execution_count": 2,
      "outputs": [
        {
          "output_type": "stream",
          "text": [
            "Drive already mounted at /content/gdrive; to attempt to forcibly remount, call drive.mount(\"/content/gdrive\", force_remount=True).\n"
          ],
          "name": "stdout"
        }
      ]
    },
    {
      "cell_type": "code",
      "metadata": {
        "id": "-9h7q8NTz3CT",
        "colab_type": "code",
        "outputId": "3445b766-0f01-4c61-8f46-ee172182a38c",
        "colab": {
          "base_uri": "https://localhost:8080/",
          "height": 34
        }
      },
      "source": [
        "import numpy as np\n",
        "import pandas as pd\n",
        "from pandas import DataFrame\n",
        "import torch\n",
        "import torch.nn as nn\n",
        "import torch.nn.functional as F\n",
        "import torch.optim as optim\n",
        "from torch.utils.data import Dataset\n",
        "from torch.utils.data import DataLoader\n",
        "from torch.utils.data import ConcatDataset\n",
        "import matplotlib.pyplot as plt\n",
        "import math\n",
        "import os\n",
        "from tqdm import tqdm\n",
        "import time\n",
        "import cv2\n",
        "#from DataCaller_Excel import DataCaller_Excel\n",
        "#from Model import Net\n",
        "#from EarlyStop import EarlyStopping\n",
        "\n",
        "#use gpu    please somebody buy me a gpu .......\n",
        "USE_GPU = True\n",
        "if USE_GPU and torch.cuda.is_available():\n",
        "    device = torch.device('cuda')\n",
        "else:\n",
        "    device = torch.device('cpu')\n",
        "print(device)\n",
        "\n",
        "#Global variables\n",
        "LOAD_DATA = True\n",
        "BATCH_SIZE = 4\n",
        "VAL_BATCH_SIZE = 4\n",
        "LEARNING_RATE = 1e-3\n",
        "EPOCHS = 1000\n",
        "PATIENCE = 25\n",
        "VALIDATE_EVERY = 10\n",
        "MODEL_NAME = f\"model-{int(time.time())}\"\n",
        "IMG_SIZE = 64\n",
        "IMG_CHANNELS = 1\n",
        "OUTPUT_LABEL_SIZE = 4\n",
        "OUTPUT_AB = 42\n",
        "OUTPUT_Y = 1\n",
        "OUTPUT_D = 5"
      ],
      "execution_count": 41,
      "outputs": [
        {
          "output_type": "stream",
          "text": [
            "cuda\n"
          ],
          "name": "stdout"
        }
      ]
    },
    {
      "cell_type": "code",
      "metadata": {
        "id": "fR_c4LFQ0Ma2",
        "colab_type": "code",
        "colab": {}
      },
      "source": [
        "\n",
        "class DataCaller_Excel(Dataset):\n",
        "    def __init__(self, data_path, inputsize):\n",
        "        \n",
        "        self.data_path = data_path\n",
        "        self.inputsize = inputsize\n",
        "        \n",
        "        data = pd.read_excel(open(self.data_path, 'rb'), sheet_name='Sheet1', header=None)\n",
        "        data = np.array(data)\n",
        "        data = data.reshape(-1, 1, inputsize, inputsize)\n",
        "        self.data = torch.from_numpy(data).float()\n",
        "        \n",
        "        label = pd.read_excel(open(self.data_path, 'rb'), sheet_name='Sheet2', header=None)\n",
        "        self.label = torch.from_numpy( np.array(label) ).float()\n",
        "    \n",
        "    def __len__(self):\n",
        "        return len(self.data)\n",
        "    \n",
        "    def __getitem__(self, idx):\n",
        "        x = torch.FloatTensor(self.data[idx])\n",
        "        y = torch.FloatTensor(self.label[idx])\n",
        "        return x, y"
      ],
      "execution_count": 0,
      "outputs": []
    },
    {
      "cell_type": "code",
      "metadata": {
        "id": "hsUhE6kd0Y6r",
        "colab_type": "code",
        "colab": {}
      },
      "source": [
        "\n",
        "class EarlyStopping:\n",
        "    \"\"\"Early stops the training if validation loss doesn't improve after a given patience.\"\"\"\n",
        "    def __init__(self, patience=7, verbose=False, delta=0):\n",
        "        \"\"\"\n",
        "        Args:\n",
        "            patience (int): How long to wait after last time validation loss improved.\n",
        "                            Default: 7\n",
        "            verbose (bool): If True, prints a message for each validation loss improvement. \n",
        "                            Default: False\n",
        "            delta (float): Minimum change in the monitored quantity to qualify as an improvement.\n",
        "                            Default: 0\n",
        "        \"\"\"\n",
        "        self.patience = patience\n",
        "        self.verbose = verbose\n",
        "        self.counter = 0\n",
        "        self.best_score = None\n",
        "        self.early_stop = False\n",
        "        self.val_loss_min = np.Inf\n",
        "        self.delta = delta\n",
        "\n",
        "    def __call__(self, val_loss, model):\n",
        "\n",
        "        score = - val_loss\n",
        "\n",
        "        if self.best_score is None:\n",
        "            self.best_score = score\n",
        "            self.save_checkpoint(val_loss, model)\n",
        "        elif score < self.best_score + self.delta:\n",
        "            self.counter += 1\n",
        "            print(f'EarlyStopping counter: {self.counter} out of {self.patience}')\n",
        "            if self.counter >= self.patience:\n",
        "                self.early_stop = True\n",
        "        else:\n",
        "            self.best_score = score\n",
        "            self.save_checkpoint(val_loss, model)\n",
        "            self.counter = 0\n",
        "\n",
        "    def save_checkpoint(self, val_loss, model):\n",
        "        '''Saves model when validation loss decrease.'''\n",
        "        if self.verbose:\n",
        "            print(f'Validation loss decreased ({self.val_loss_min:.6f} --> {val_loss:.6f}).  Saving model ...')\n",
        "        torch.save(model.state_dict(), 'checkpoint.pt')\n",
        "        self.val_loss_min = val_loss"
      ],
      "execution_count": 0,
      "outputs": []
    },
    {
      "cell_type": "code",
      "metadata": {
        "id": "s4DMLbAR0b3j",
        "colab_type": "code",
        "colab": {}
      },
      "source": [
        "import torch\n",
        "import torch.nn as nn\n",
        "\n",
        "class Net(nn.Module):\n",
        "    def __init__(self):\n",
        "        super().__init__()\n",
        "        \n",
        "        self.cnn = nn.Sequential(\n",
        "            nn.Conv2d(IMG_CHANNELS, 16, kernel_size=3, padding=1),\n",
        "            nn.ReLU(),\n",
        "            #nn.BatchNorm2d(8),\n",
        "            #nn.Conv2d(12, 12, kernel_size=3, padding=1),\n",
        "            #nn.ReLU(),\n",
        "            nn.MaxPool2d(2, 2),\n",
        "            #32 x 32 x 16\n",
        "            \n",
        "            nn.Conv2d(16, 16, kernel_size=3, padding=1),\n",
        "            nn.ReLU(),\n",
        "            nn.Conv2d(16, 32, kernel_size=3, padding=1),\n",
        "            #nn.BatchNorm2d(64),\n",
        "            nn.ReLU(),\n",
        "            nn.MaxPool2d(2, 2),\n",
        "            #16 x 16 x 32\n",
        "            \n",
        "            nn.Conv2d(32, 64, kernel_size=3, padding=1),\n",
        "            nn.ReLU(),\n",
        "            nn.Conv2d(64, 64, kernel_size=3, padding=1),\n",
        "            nn.ReLU(),\n",
        "            nn.MaxPool2d(2, 2),\n",
        "            #8 x 8 x 64\n",
        "\n",
        "            nn.Conv2d(64, 64, kernel_size=3, padding=1),\n",
        "            nn.Dropout(0.4),\n",
        "            nn.ReLU(),\n",
        "            nn.Conv2d(64, 64, kernel_size=3, padding=1),\n",
        "            nn.ReLU(),\n",
        "            nn.MaxPool2d(2, 2),\n",
        "            #4 x 4 x 32\n",
        "            \n",
        "            nn.Conv2d(64, 128, kernel_size=3, padding=1),\n",
        "            nn.ReLU(),\n",
        "            nn.Conv2d(128, 128, kernel_size=3, padding=1),\n",
        "            nn.ReLU(),\n",
        "            nn.MaxPool2d(2, 2),\n",
        "            #2 x 2 x 128\n",
        "\n",
        "            nn.Conv2d(128, 256, kernel_size=3, padding=1),\n",
        "            nn.ReLU(),\n",
        "            nn.Conv2d(256, 256, kernel_size=3, padding=1),\n",
        "            nn.ReLU(),\n",
        "            nn.MaxPool2d(2, 2),\n",
        "            #1 x 1 x 256\n",
        "            \n",
        "        )\n",
        "        self.fcc_ab = nn.Sequential(\n",
        "            nn.Linear(256, 128),\n",
        "            nn.ReLU(),\n",
        "            nn.Dropout(0.4),\n",
        "            nn.Linear(128, 64),\n",
        "            nn.ReLU(),\n",
        "            #nn.Dropout(0.4),\n",
        "            nn.Linear(64, OUTPUT_AB)\n",
        "        )\n",
        "        self.fcc_xy = nn.Sequential(\n",
        "            nn.Linear(256, 64),\n",
        "            nn.ReLU(),\n",
        "            nn.Dropout(0.4),\n",
        "            nn.Linear(64, 32),\n",
        "            nn.ReLU(),\n",
        "            nn.Linear(32, OUTPUT_Y)   \n",
        "        )\n",
        "        self.fcc_d = nn.Sequential(\n",
        "            nn.Linear(256, 64),\n",
        "            nn.ReLU(),\n",
        "            nn.Dropout(0.4),\n",
        "            nn.Linear(64, 32),\n",
        "            nn.ReLU(),\n",
        "            nn.Linear(32, OUTPUT_D)\n",
        "        )\n",
        "    def forward(self, x):\n",
        "        output = self.cnn(x)\n",
        "        feature_map = output.view(output.size(0), -1)\n",
        "        ab = self.fcc_ab(feature_map)\n",
        "        a = ab[:, :21]\n",
        "        b = ab[:, 21:]\n",
        "        xy = self.fcc_xy(feature_map)\n",
        "        d = self.fcc_d(feature_map)\n",
        "        return a, b, xy, d"
      ],
      "execution_count": 0,
      "outputs": []
    },
    {
      "cell_type": "code",
      "metadata": {
        "id": "enGbxU4s0fBb",
        "colab_type": "code",
        "colab": {}
      },
      "source": [
        "#data path\n",
        "DRIVE_PATH = '/content/gdrive/My Drive/Colab Notebooks'\n",
        "BASE_PATH = 'singlesource_class_fixed_x'\n",
        "TRAIN_PATH_LABEL = os.path.join(DRIVE_PATH, 'data', BASE_PATH, 'train')\n",
        "VAL_PATH_LABEL = os.path.join(DRIVE_PATH, 'data', BASE_PATH, 'val')\n",
        "TEST_PATH_LABEL = os.path.join(DRIVE_PATH, 'data', BASE_PATH, 'test')\n",
        "LOAD_PRETRAINED_PATH = 'checkpoint.pt'\n",
        "#TRAIN_PATH_IMG = os.path.join(DRIVE_PATH, 'images', BASE_PATH, 'train')\n",
        "#VAL_PATH_IMG = os.path.join(DRIVE_PATH, 'images', BASE_PATH, 'val')\n",
        "#TEST_PATH_IMG = os.path.join(DRIVE_PATH, 'images', BASE_PATH, 'test')"
      ],
      "execution_count": 0,
      "outputs": []
    },
    {
      "cell_type": "code",
      "metadata": {
        "id": "Sl119Ok5051m",
        "colab_type": "code",
        "outputId": "5a87964c-81fc-421e-c671-0b7d5a55a946",
        "colab": {
          "base_uri": "https://localhost:8080/",
          "height": 422
        }
      },
      "source": [
        "if LOAD_DATA:\n",
        "    trainsets = []\n",
        "    valsets = []\n",
        "    testsets = []\n",
        "    for f in tqdm(os.listdir(TRAIN_PATH_LABEL)):\n",
        "      path = os.path.join(TRAIN_PATH_LABEL, f)\n",
        "      trainset = DataCaller_Excel(path, IMG_SIZE)\n",
        "      print(trainset.__len__())\n",
        "      trainsets.append(trainset)\n",
        "\n",
        "    for f in tqdm(os.listdir(VAL_PATH_LABEL)):\n",
        "      path  = os.path.join(VAL_PATH_LABEL, f)\n",
        "      valset = DataCaller_Excel(path, IMG_SIZE)\n",
        "      print(valset.__len__())\n",
        "      valsets.append(valset)\n",
        "\n",
        "    for f in tqdm(os.listdir(TEST_PATH_LABEL)):\n",
        "      path  = os.path.join(TEST_PATH_LABEL, f)\n",
        "      testset = DataCaller_Excel(path, IMG_SIZE)\n",
        "      print(testset.__len__())\n",
        "      testsets.append(testset)\n",
        "\n",
        "    trainset = ConcatDataset(trainsets)\n",
        "    print(trainset.__len__())\n",
        "    valset = ConcatDataset(valsets)\n",
        "    print(valset.__len__())\n",
        "    testset = ConcatDataset(testsets)\n",
        "    print(testset.__len__())\n",
        "    #trainset = DataCaller(TRAIN_PATH_IMG, TRAIN_PATH_LABEL, IMG_SIZE)\n",
        "    #valset = DataCaller(VAL_PATH_IMG, VAL_PATH_LABEL, IMG_SIZE)\n",
        "    #testset = DataCaller(TEST_PATH_IMG, TEST_PATH_LABEL, IMG_SIZE)"
      ],
      "execution_count": 46,
      "outputs": [
        {
          "output_type": "stream",
          "text": [
            " 10%|█         | 1/10 [00:12<01:50, 12.27s/it]"
          ],
          "name": "stderr"
        },
        {
          "output_type": "stream",
          "text": [
            "200\n"
          ],
          "name": "stdout"
        },
        {
          "output_type": "stream",
          "text": [
            "\r 20%|██        | 2/10 [00:24<01:38, 12.35s/it]"
          ],
          "name": "stderr"
        },
        {
          "output_type": "stream",
          "text": [
            "200\n"
          ],
          "name": "stdout"
        },
        {
          "output_type": "stream",
          "text": [
            "\r 30%|███       | 3/10 [00:37<01:26, 12.33s/it]"
          ],
          "name": "stderr"
        },
        {
          "output_type": "stream",
          "text": [
            "200\n"
          ],
          "name": "stdout"
        },
        {
          "output_type": "stream",
          "text": [
            "\r 40%|████      | 4/10 [00:49<01:13, 12.29s/it]"
          ],
          "name": "stderr"
        },
        {
          "output_type": "stream",
          "text": [
            "200\n"
          ],
          "name": "stdout"
        },
        {
          "output_type": "stream",
          "text": [
            "\r 50%|█████     | 5/10 [01:01<01:02, 12.41s/it]"
          ],
          "name": "stderr"
        },
        {
          "output_type": "stream",
          "text": [
            "200\n"
          ],
          "name": "stdout"
        },
        {
          "output_type": "stream",
          "text": [
            "\r 60%|██████    | 6/10 [01:14<00:50, 12.54s/it]"
          ],
          "name": "stderr"
        },
        {
          "output_type": "stream",
          "text": [
            "200\n"
          ],
          "name": "stdout"
        },
        {
          "output_type": "stream",
          "text": [
            "\r 70%|███████   | 7/10 [01:27<00:37, 12.56s/it]"
          ],
          "name": "stderr"
        },
        {
          "output_type": "stream",
          "text": [
            "200\n"
          ],
          "name": "stdout"
        },
        {
          "output_type": "stream",
          "text": [
            "\r 80%|████████  | 8/10 [01:40<00:25, 12.58s/it]"
          ],
          "name": "stderr"
        },
        {
          "output_type": "stream",
          "text": [
            "200\n"
          ],
          "name": "stdout"
        },
        {
          "output_type": "stream",
          "text": [
            "\r 90%|█████████ | 9/10 [01:52<00:12, 12.57s/it]"
          ],
          "name": "stderr"
        },
        {
          "output_type": "stream",
          "text": [
            "200\n"
          ],
          "name": "stdout"
        },
        {
          "output_type": "stream",
          "text": [
            "100%|██████████| 10/10 [02:05<00:00, 12.51s/it]\n",
            "  0%|          | 0/1 [00:00<?, ?it/s]"
          ],
          "name": "stderr"
        },
        {
          "output_type": "stream",
          "text": [
            "200\n"
          ],
          "name": "stdout"
        },
        {
          "output_type": "stream",
          "text": [
            "100%|██████████| 1/1 [00:11<00:00, 11.94s/it]\n",
            "  0%|          | 0/6 [00:00<?, ?it/s]"
          ],
          "name": "stderr"
        },
        {
          "output_type": "stream",
          "text": [
            "200\n"
          ],
          "name": "stdout"
        },
        {
          "output_type": "stream",
          "text": [
            "\r 17%|█▋        | 1/6 [00:11<00:58, 11.75s/it]"
          ],
          "name": "stderr"
        },
        {
          "output_type": "stream",
          "text": [
            "200\n"
          ],
          "name": "stdout"
        },
        {
          "output_type": "stream",
          "text": [
            "\r 33%|███▎      | 2/6 [00:23<00:46, 11.73s/it]"
          ],
          "name": "stderr"
        },
        {
          "output_type": "stream",
          "text": [
            "200\n"
          ],
          "name": "stdout"
        },
        {
          "output_type": "stream",
          "text": [
            "\r 50%|█████     | 3/6 [00:35<00:35, 11.92s/it]"
          ],
          "name": "stderr"
        },
        {
          "output_type": "stream",
          "text": [
            "200\n"
          ],
          "name": "stdout"
        },
        {
          "output_type": "stream",
          "text": [
            "\r 67%|██████▋   | 4/6 [00:48<00:24, 12.12s/it]"
          ],
          "name": "stderr"
        },
        {
          "output_type": "stream",
          "text": [
            "200\n"
          ],
          "name": "stdout"
        },
        {
          "output_type": "stream",
          "text": [
            "\r 83%|████████▎ | 5/6 [01:00<00:12, 12.16s/it]"
          ],
          "name": "stderr"
        },
        {
          "output_type": "stream",
          "text": [
            "200\n"
          ],
          "name": "stdout"
        },
        {
          "output_type": "stream",
          "text": [
            "100%|██████████| 6/6 [01:12<00:00, 12.16s/it]"
          ],
          "name": "stderr"
        },
        {
          "output_type": "stream",
          "text": [
            "200\n",
            "2000\n",
            "200\n",
            "1200\n"
          ],
          "name": "stdout"
        },
        {
          "output_type": "stream",
          "text": [
            "\n"
          ],
          "name": "stderr"
        }
      ]
    },
    {
      "cell_type": "code",
      "metadata": {
        "id": "JA0gFXCnLn0-",
        "colab_type": "code",
        "colab": {}
      },
      "source": [
        "#valsets = []\n",
        "#for f in tqdm(os.listdir(VAL_PATH_LABEL)):\n",
        "#  path  = os.path.join(VAL_PATH_LABEL, f)\n",
        "#  valset = DataCaller_Excel(path, IMG_SIZE)\n",
        "#  print(valset.__len__())\n",
        "#  valsets.append(valset)\n",
        "\n",
        "#valset = ConcatDataset(valsets)\n"
      ],
      "execution_count": 0,
      "outputs": []
    },
    {
      "cell_type": "code",
      "metadata": {
        "id": "CCRzbFvJ07bD",
        "colab_type": "code",
        "colab": {}
      },
      "source": [
        "#define dataloaders\n",
        "trainloader = DataLoader(trainset, batch_size = BATCH_SIZE, shuffle=True)\n",
        "valloader = DataLoader(valset, batch_size=VAL_BATCH_SIZE, shuffle=True)\n",
        "testloader = DataLoader(testset, batch_size=1, shuffle=False)"
      ],
      "execution_count": 0,
      "outputs": []
    },
    {
      "cell_type": "code",
      "metadata": {
        "id": "-bY-ORpG1Ew6",
        "colab_type": "code",
        "outputId": "e63d030f-a452-4d94-f5a6-51cf8903fb5a",
        "colab": {
          "base_uri": "https://localhost:8080/",
          "height": 1000
        }
      },
      "source": [
        "#just checking if the data is loaded properly\n",
        "cnt = 0\n",
        "for i, data in enumerate(trainloader):\n",
        "    x, y = data\n",
        "    x = np.array(x)\n",
        "    x = x.reshape(-1, IMG_CHANNELS, IMG_SIZE, IMG_SIZE)\n",
        "    #print(x)\n",
        "    #x = x.astype(int)\n",
        "    print(x)\n",
        "    print(x[0].shape)\n",
        "    #plt.imshow(x[0].reshape(IMG_SIZE, IMG_SIZE, -1))\n",
        "    #plt.imshow(x[0].reshape(IMG_SIZE, IMG_SIZE, -1), cmap='gray')\n",
        "    #plt.show()\n",
        "    #print(x[0])\n",
        "    print(y)\n",
        "    cnt += 1\n",
        "    if cnt==1:\n",
        "      break"
      ],
      "execution_count": 48,
      "outputs": [
        {
          "output_type": "stream",
          "text": [
            "[[[[ 11.3439      11.702058    12.929133   ... -19.991825\n",
            "    -20.52794    -20.694681  ]\n",
            "   [ 11.3439      11.876684    13.281346   ... -17.524021\n",
            "    -18.121374   -18.348562  ]\n",
            "   [ 11.3439      12.071741    13.644921   ... -11.935909\n",
            "    -12.220692   -12.353026  ]\n",
            "   ...\n",
            "   [ 11.3439      11.463964    12.568454   ... -11.451214\n",
            "    -11.610211   -11.629511  ]\n",
            "   [ 11.3439      11.561357    12.674354   ... -17.008638\n",
            "    -17.467648   -17.611465  ]\n",
            "   [ 11.3439      11.702058    12.929133   ... -19.991825\n",
            "    -20.52794    -20.694681  ]]]\n",
            "\n",
            "\n",
            " [[[ -1.5638598   -1.8543103   -1.9217935  ... -45.766457\n",
            "    -47.399532   -48.003857  ]\n",
            "   [ -1.5638598   -3.8925838   -5.504233   ... -34.36903\n",
            "    -35.266094   -35.626465  ]\n",
            "   [ -1.5638598   -6.357992    -5.6890774  ... -19.378668\n",
            "    -19.604916   -19.734627  ]\n",
            "   ...\n",
            "   [ -1.5638598    0.80569327   1.8718169  ... -32.397247\n",
            "    -32.720184   -32.88802   ]\n",
            "   [ -1.5638598   -0.31315097   0.6157154  ... -37.01079\n",
            "    -37.93553    -38.317066  ]\n",
            "   [ -1.5638598   -1.8543103   -1.9217935  ... -45.766457\n",
            "    -47.399532   -48.003857  ]]]\n",
            "\n",
            "\n",
            " [[[ -7.399789    -7.670859    -7.702116   ... -42.081825\n",
            "    -43.410164   -44.021397  ]\n",
            "   [ -7.399789    -7.8440137   -8.640372   ... -42.281357\n",
            "    -42.815186   -43.126587  ]\n",
            "   [ -7.399789    -8.369179   -11.310842   ... -37.723854\n",
            "    -37.58214    -37.675224  ]\n",
            "   ...\n",
            "   [ -7.399789    -8.380459   -10.230376   ... -38.877197\n",
            "    -38.74089    -38.833317  ]\n",
            "   [ -7.399789    -7.846269    -8.1858     ... -47.543972\n",
            "    -47.893665   -48.12517   ]\n",
            "   [ -7.399789    -7.670859    -7.702116   ... -42.081825\n",
            "    -43.410164   -44.021397  ]]]\n",
            "\n",
            "\n",
            " [[[ 18.395176    17.809591    17.562222   ... -10.243764\n",
            "    -11.421217   -11.868544  ]\n",
            "   [ 18.395176    17.786024    17.523687   ... -12.12963\n",
            "    -12.628366   -12.825948  ]\n",
            "   [ 18.395176    17.787153    17.533321   ... -23.134947\n",
            "    -22.494114   -22.334848  ]\n",
            "   ...\n",
            "   [ 18.395176    17.922285    17.725101   ... -10.777892\n",
            "    -10.050931    -9.804502  ]\n",
            "   [ 18.395176    17.856243    17.641878   ...  -8.83443\n",
            "     -9.269105    -9.41722   ]\n",
            "   [ 18.395176    17.809591    17.562222   ... -10.243764\n",
            "    -11.421217   -11.868544  ]]]]\n",
            "(1, 64, 64)\n",
            "tensor([[  1.0000,  12.0000,   7.5101,   1.0000],\n",
            "        [  6.0000,  13.0000, -13.5690,   4.0000],\n",
            "        [ 16.0000,  16.0000, -23.1765,   1.0000],\n",
            "        [ 19.0000,  13.0000,  18.0298,   3.0000]])\n"
          ],
          "name": "stdout"
        }
      ]
    },
    {
      "cell_type": "code",
      "metadata": {
        "id": "ZeAuxWP_hY0B",
        "colab_type": "code",
        "colab": {}
      },
      "source": [
        "def weighted_mse(input, target, weight):\n",
        "  input = input.to(device)\n",
        "  target = target.to(device)\n",
        "  weight = weight.to(device)\n",
        "  return torch.sum(weight * (input - target)**2)"
      ],
      "execution_count": 0,
      "outputs": []
    },
    {
      "cell_type": "code",
      "metadata": {
        "id": "MK1eoiDAVkGG",
        "colab_type": "code",
        "colab": {}
      },
      "source": [
        "def get_loss(a, b, y, d, label_a, label_b, label_y, label_d, weight):\n",
        "  # a,b : 1 x 21\n",
        "  # xy : 1 x 2\n",
        "  # d : 1 x 10\n",
        "  a = a.to(device)\n",
        "  b = b.to(device)\n",
        "  y = y.to(device)\n",
        "  d = d.to(device)\n",
        "\n",
        "  y = y.view(len(y))\n",
        "\n",
        "  weight = weight.to(device)\n",
        "\n",
        "  #change shape and form of labels\n",
        "  label_a = label_a.view(len(label_a))\n",
        "  label_b = label_b.view(len(label_b))\n",
        "  label_d = label_d.view(len(label_d))\n",
        "  label_a = label_a.type(torch.cuda.LongTensor)\n",
        "  label_b = label_b.type(torch.cuda.LongTensor)\n",
        "  label_d = label_d.type(torch.cuda.LongTensor)\n",
        "\n",
        "  label_y = label_y.view(len(label_y))\n",
        "\n",
        "  # classes should be 0 ~ N - 1\n",
        "  # class N means that the length is ( N + 1 ) * lambda \n",
        "  #x = torch.ones(len(label_a))\n",
        "  #x = x.to(device)\n",
        "  #x = x.type(torch.cuda.LongTensor)\n",
        "\n",
        "  #label_a = label_a - x\n",
        "  #label_b = label_b - x\n",
        "\n",
        "  #y = torch.ones(len(label_d))\n",
        "  #y = y.to(device)\n",
        "  #y = y.type(torch.cuda.LongTensor)\n",
        "  \n",
        "  #label_d = label_d - y\n",
        "\n",
        "  #define criterion\n",
        "  crit1 = nn.CrossEntropyLoss()\n",
        "  crit2 = nn.CrossEntropyLoss()\n",
        "  crit3 = nn.MSELoss()\n",
        "  crit4 = nn.CrossEntropyLoss()\n",
        "\n",
        "  loss1 = crit1(a, label_a)\n",
        "  loss2 = crit2(b, label_b)\n",
        "  loss3 = crit3(y, label_y)\n",
        "  loss4 = crit4(d, label_d)\n",
        "  \n",
        "  return loss1 * weight[0]  + loss2 * weight[1] + loss3 * weight[2] + loss4 * weight[3]\n",
        "\n"
      ],
      "execution_count": 0,
      "outputs": []
    },
    {
      "cell_type": "code",
      "metadata": {
        "id": "5LnaE27J1F7L",
        "colab_type": "code",
        "colab": {}
      },
      "source": [
        "#train the model\n",
        "def train(net, model_name, patience, validate_every):\n",
        "    \n",
        "    optimizer = optim.Adam(net.parameters(), LEARNING_RATE, betas=(0.9, 0.999), eps=1e-09, weight_decay=0, amsgrad=False)\n",
        "    weight = torch.tensor([1.0, 1.0, 2.0, 1.5])\n",
        "\n",
        "    train_losses = []\n",
        "    val_losses = []\n",
        "    avg_train_losses = []\n",
        "    avg_val_losses = []\n",
        "\n",
        "    #train_errors = []\n",
        "    #val_errors = []\n",
        "\n",
        "    early_stopping = EarlyStopping(patience=patience, verbose=True)\n",
        "\n",
        "    with open(\"model.log\", \"a\") as f:\n",
        "        for epoch in tqdm(range(EPOCHS)):\n",
        "                net.train()\n",
        "                for batch_idx, samples in enumerate(trainloader):\n",
        "                    x, y = samples\n",
        "                    x = x.view(-1, IMG_CHANNELS, IMG_SIZE, IMG_SIZE)\n",
        "                    x = x.to(device)\n",
        "                    y = y.to(device)\n",
        "\n",
        "                    #parse labels\n",
        "                    la = y[:, 0]\n",
        "                    lb = y[:, 1]\n",
        "                    ly = y[:, 2]\n",
        "                    ld = y[:, 3]\n",
        "\n",
        "                    a, b, y_p, d = net(x)\n",
        "                    loss = get_loss(a, b, y_p, d, la, lb, ly, ld, weight)\n",
        "                    net.zero_grad()\n",
        "                    loss.backward()\n",
        "                    optimizer.step()\n",
        "                    train_losses.append(loss.item())\n",
        "\n",
        "                    #error = (pred - y) / y\n",
        "                    #error = error.mean(0)\n",
        "                    #train_errors.append(error.to(\"cpu\"))\n",
        "\n",
        "                net.eval()\n",
        "                for batch_idx, samples in enumerate(valloader):\n",
        "                    val_x, val_y = samples\n",
        "                    val_x = val_x.view(-1, IMG_CHANNELS, IMG_SIZE, IMG_SIZE)\n",
        "                    val_x = val_x.to(device)\n",
        "                    val_y = val_y.to(device)\n",
        "                    \n",
        "                    la = val_y[:, 0]\n",
        "                    lb = val_y[:, 1]\n",
        "                    ly = val_y[:,2]\n",
        "                    ld = val_y[:, 3]\n",
        "                    a, b, y_p, d = net(val_x)\n",
        "                    loss = get_loss(a, b, y_p, d, la, lb, ly, ld, weight)\n",
        "                    val_losses.append(loss.item())\n",
        "\n",
        "                    #val_error = (val_pred - val_y) / val_y\n",
        "                    #val_error = val_error.mean(0)\n",
        "                    #val_errors.append(val_error.to(\"cpu\"))\n",
        "\n",
        "                train_loss = np.average(train_losses)\n",
        "                valid_loss = np.average(val_losses)\n",
        "                avg_train_losses.append(train_loss)\n",
        "                avg_val_losses.append(valid_loss)\n",
        "                \n",
        "                #train_error = np.average(train_errors)\n",
        "                #val_error= np.average(val_errors)\n",
        "\n",
        "                train_losses = []\n",
        "                val_losses = []\n",
        "                #train_errors = []\n",
        "                #val_errors = []\n",
        "\n",
        "                f.write(f\"{MODEL_NAME},{round(time.time(), 3)},  {round(float(train_loss), 4)},  {round(float(valid_loss),4)}\\n\")\n",
        "                print(\"\\nloss : \", train_loss, \"val loss : \", valid_loss, \"\\n\")\n",
        "                #print(\"error : \", train_error, \"val error : \", val_error)\n",
        "                \n",
        "                early_stopping(valid_loss, net)\n",
        "                \n",
        "                if early_stopping.early_stop:\n",
        "                    print(\"Early stopping\")\n",
        "                    break\n",
        "        # load the last checkpoint with the best model\n",
        "        net.load_state_dict(torch.load('checkpoint.pt'))\n",
        "        \n",
        "        return avg_train_losses, avg_val_losses"
      ],
      "execution_count": 0,
      "outputs": []
    },
    {
      "cell_type": "code",
      "metadata": {
        "id": "k-b0iI2R1IKD",
        "colab_type": "code",
        "colab": {}
      },
      "source": [
        "net = Net()\n",
        "#print(net)\n"
      ],
      "execution_count": 0,
      "outputs": []
    },
    {
      "cell_type": "code",
      "metadata": {
        "id": "bvZa0kBaTqAL",
        "colab_type": "code",
        "outputId": "22f68409-316e-4448-d51e-53683e852eda",
        "colab": {
          "base_uri": "https://localhost:8080/",
          "height": 1000
        }
      },
      "source": [
        "net.to(device)\n",
        "train_loss, valid_loss = train(net, MODEL_NAME, PATIENCE, VALIDATE_EVERY)"
      ],
      "execution_count": 57,
      "outputs": [
        {
          "output_type": "stream",
          "text": [
            "\n",
            "  0%|          | 0/1000 [00:00<?, ?it/s]\u001b[A\n",
            "  0%|          | 1/1000 [00:04<1:22:01,  4.93s/it]\u001b[A"
          ],
          "name": "stderr"
        },
        {
          "output_type": "stream",
          "text": [
            "\n",
            "loss :  118.7694487991333 val loss :  80.75987396240234 \n",
            "\n",
            "Validation loss decreased (inf --> 80.759874).  Saving model ...\n"
          ],
          "name": "stdout"
        },
        {
          "output_type": "stream",
          "text": [
            "\n",
            "  0%|          | 2/1000 [00:09<1:22:06,  4.94s/it]\u001b[A"
          ],
          "name": "stderr"
        },
        {
          "output_type": "stream",
          "text": [
            "\n",
            "loss :  59.680300035476684 val loss :  78.88679275512695 \n",
            "\n",
            "Validation loss decreased (80.759874 --> 78.886793).  Saving model ...\n"
          ],
          "name": "stdout"
        },
        {
          "output_type": "stream",
          "text": [
            "\n",
            "  0%|          | 3/1000 [00:14<1:21:58,  4.93s/it]\u001b[A"
          ],
          "name": "stderr"
        },
        {
          "output_type": "stream",
          "text": [
            "\n",
            "loss :  45.043204374313355 val loss :  26.59118995666504 \n",
            "\n",
            "Validation loss decreased (78.886793 --> 26.591190).  Saving model ...\n"
          ],
          "name": "stdout"
        },
        {
          "output_type": "stream",
          "text": [
            "\n",
            "  0%|          | 4/1000 [00:19<1:21:57,  4.94s/it]\u001b[A"
          ],
          "name": "stderr"
        },
        {
          "output_type": "stream",
          "text": [
            "\n",
            "loss :  34.99301048851013 val loss :  37.80676422119141 \n",
            "\n",
            "EarlyStopping counter: 1 out of 25\n"
          ],
          "name": "stdout"
        },
        {
          "output_type": "stream",
          "text": [
            "\n",
            "  0%|          | 5/1000 [00:24<1:21:47,  4.93s/it]\u001b[A"
          ],
          "name": "stderr"
        },
        {
          "output_type": "stream",
          "text": [
            "\n",
            "loss :  28.557947950363157 val loss :  51.66074066162109 \n",
            "\n",
            "EarlyStopping counter: 2 out of 25\n"
          ],
          "name": "stdout"
        },
        {
          "output_type": "stream",
          "text": [
            "\n",
            "  1%|          | 6/1000 [00:29<1:21:54,  4.94s/it]\u001b[A"
          ],
          "name": "stderr"
        },
        {
          "output_type": "stream",
          "text": [
            "\n",
            "loss :  22.099494119644167 val loss :  50.82488021850586 \n",
            "\n",
            "EarlyStopping counter: 3 out of 25\n"
          ],
          "name": "stdout"
        },
        {
          "output_type": "stream",
          "text": [
            "\n",
            "  1%|          | 7/1000 [00:34<1:21:50,  4.94s/it]\u001b[A"
          ],
          "name": "stderr"
        },
        {
          "output_type": "stream",
          "text": [
            "\n",
            "loss :  20.887621227264404 val loss :  44.03485946655273 \n",
            "\n",
            "EarlyStopping counter: 4 out of 25\n"
          ],
          "name": "stdout"
        },
        {
          "output_type": "stream",
          "text": [
            "\n",
            "  1%|          | 8/1000 [00:39<1:21:40,  4.94s/it]\u001b[A"
          ],
          "name": "stderr"
        },
        {
          "output_type": "stream",
          "text": [
            "\n",
            "loss :  20.309581394195558 val loss :  56.62348861694336 \n",
            "\n",
            "EarlyStopping counter: 5 out of 25\n"
          ],
          "name": "stdout"
        },
        {
          "output_type": "stream",
          "text": [
            "\n",
            "  1%|          | 9/1000 [00:44<1:21:28,  4.93s/it]\u001b[A"
          ],
          "name": "stderr"
        },
        {
          "output_type": "stream",
          "text": [
            "\n",
            "loss :  19.995558835983278 val loss :  55.793025207519534 \n",
            "\n",
            "EarlyStopping counter: 6 out of 25\n"
          ],
          "name": "stdout"
        },
        {
          "output_type": "error",
          "ename": "KeyboardInterrupt",
          "evalue": "ignored",
          "traceback": [
            "\u001b[0;31m---------------------------------------------------------------------------\u001b[0m",
            "\u001b[0;31mKeyboardInterrupt\u001b[0m                         Traceback (most recent call last)",
            "\u001b[0;32m<ipython-input-57-829e6c50b973>\u001b[0m in \u001b[0;36m<module>\u001b[0;34m()\u001b[0m\n\u001b[1;32m      1\u001b[0m \u001b[0mnet\u001b[0m\u001b[0;34m.\u001b[0m\u001b[0mto\u001b[0m\u001b[0;34m(\u001b[0m\u001b[0mdevice\u001b[0m\u001b[0;34m)\u001b[0m\u001b[0;34m\u001b[0m\u001b[0;34m\u001b[0m\u001b[0m\n\u001b[0;32m----> 2\u001b[0;31m \u001b[0mtrain_loss\u001b[0m\u001b[0;34m,\u001b[0m \u001b[0mvalid_loss\u001b[0m \u001b[0;34m=\u001b[0m \u001b[0mtrain\u001b[0m\u001b[0;34m(\u001b[0m\u001b[0mnet\u001b[0m\u001b[0;34m,\u001b[0m \u001b[0mMODEL_NAME\u001b[0m\u001b[0;34m,\u001b[0m \u001b[0mPATIENCE\u001b[0m\u001b[0;34m,\u001b[0m \u001b[0mVALIDATE_EVERY\u001b[0m\u001b[0;34m)\u001b[0m\u001b[0;34m\u001b[0m\u001b[0;34m\u001b[0m\u001b[0m\n\u001b[0m",
            "\u001b[0;32m<ipython-input-55-ca5a414f3e48>\u001b[0m in \u001b[0;36mtrain\u001b[0;34m(net, model_name, patience, validate_every)\u001b[0m\n\u001b[1;32m     30\u001b[0m \u001b[0;34m\u001b[0m\u001b[0m\n\u001b[1;32m     31\u001b[0m                     \u001b[0ma\u001b[0m\u001b[0;34m,\u001b[0m \u001b[0mb\u001b[0m\u001b[0;34m,\u001b[0m \u001b[0my_p\u001b[0m\u001b[0;34m,\u001b[0m \u001b[0md\u001b[0m \u001b[0;34m=\u001b[0m \u001b[0mnet\u001b[0m\u001b[0;34m(\u001b[0m\u001b[0mx\u001b[0m\u001b[0;34m)\u001b[0m\u001b[0;34m\u001b[0m\u001b[0;34m\u001b[0m\u001b[0m\n\u001b[0;32m---> 32\u001b[0;31m                     \u001b[0mloss\u001b[0m \u001b[0;34m=\u001b[0m \u001b[0mget_loss\u001b[0m\u001b[0;34m(\u001b[0m\u001b[0ma\u001b[0m\u001b[0;34m,\u001b[0m \u001b[0mb\u001b[0m\u001b[0;34m,\u001b[0m \u001b[0my_p\u001b[0m\u001b[0;34m,\u001b[0m \u001b[0md\u001b[0m\u001b[0;34m,\u001b[0m \u001b[0mla\u001b[0m\u001b[0;34m,\u001b[0m \u001b[0mlb\u001b[0m\u001b[0;34m,\u001b[0m \u001b[0mly\u001b[0m\u001b[0;34m,\u001b[0m \u001b[0mld\u001b[0m\u001b[0;34m,\u001b[0m \u001b[0mweight\u001b[0m\u001b[0;34m)\u001b[0m\u001b[0;34m\u001b[0m\u001b[0;34m\u001b[0m\u001b[0m\n\u001b[0m\u001b[1;32m     33\u001b[0m                     \u001b[0mnet\u001b[0m\u001b[0;34m.\u001b[0m\u001b[0mzero_grad\u001b[0m\u001b[0;34m(\u001b[0m\u001b[0;34m)\u001b[0m\u001b[0;34m\u001b[0m\u001b[0;34m\u001b[0m\u001b[0m\n\u001b[1;32m     34\u001b[0m                     \u001b[0mloss\u001b[0m\u001b[0;34m.\u001b[0m\u001b[0mbackward\u001b[0m\u001b[0;34m(\u001b[0m\u001b[0;34m)\u001b[0m\u001b[0;34m\u001b[0m\u001b[0;34m\u001b[0m\u001b[0m\n",
            "\u001b[0;32m<ipython-input-54-88c9edc9eb11>\u001b[0m in \u001b[0;36mget_loss\u001b[0;34m(a, b, y, d, label_a, label_b, label_y, label_d, weight)\u001b[0m\n\u001b[1;32m     48\u001b[0m   \u001b[0mloss4\u001b[0m \u001b[0;34m=\u001b[0m \u001b[0mcrit4\u001b[0m\u001b[0;34m(\u001b[0m\u001b[0md\u001b[0m\u001b[0;34m,\u001b[0m \u001b[0mlabel_d\u001b[0m\u001b[0;34m)\u001b[0m\u001b[0;34m\u001b[0m\u001b[0;34m\u001b[0m\u001b[0m\n\u001b[1;32m     49\u001b[0m \u001b[0;34m\u001b[0m\u001b[0m\n\u001b[0;32m---> 50\u001b[0;31m   \u001b[0;32mreturn\u001b[0m \u001b[0mloss1\u001b[0m \u001b[0;34m*\u001b[0m \u001b[0mweight\u001b[0m\u001b[0;34m[\u001b[0m\u001b[0;36m0\u001b[0m\u001b[0;34m]\u001b[0m  \u001b[0;34m+\u001b[0m \u001b[0mloss2\u001b[0m \u001b[0;34m*\u001b[0m \u001b[0mweight\u001b[0m\u001b[0;34m[\u001b[0m\u001b[0;36m1\u001b[0m\u001b[0;34m]\u001b[0m \u001b[0;34m+\u001b[0m \u001b[0mloss3\u001b[0m \u001b[0;34m*\u001b[0m \u001b[0mweight\u001b[0m\u001b[0;34m[\u001b[0m\u001b[0;36m2\u001b[0m\u001b[0;34m]\u001b[0m \u001b[0;34m+\u001b[0m \u001b[0mloss4\u001b[0m \u001b[0;34m*\u001b[0m \u001b[0mweight\u001b[0m\u001b[0;34m[\u001b[0m\u001b[0;36m3\u001b[0m\u001b[0;34m]\u001b[0m\u001b[0;34m\u001b[0m\u001b[0;34m\u001b[0m\u001b[0m\n\u001b[0m\u001b[1;32m     51\u001b[0m \u001b[0;34m\u001b[0m\u001b[0m\n",
            "\u001b[0;31mKeyboardInterrupt\u001b[0m: "
          ]
        }
      ]
    },
    {
      "cell_type": "code",
      "metadata": {
        "id": "0YugWGXc1Jy6",
        "colab_type": "code",
        "outputId": "dd817024-cda6-4858-a291-3ffe6d0a1e94",
        "colab": {
          "base_uri": "https://localhost:8080/",
          "height": 585
        }
      },
      "source": [
        "# visualize the loss as the network trained\n",
        "fig = plt.figure(figsize=(10,8))\n",
        "plt.plot(range(1,len(train_loss)+1),train_loss, label='Training Loss')\n",
        "plt.plot(range(1,len(valid_loss)+1),valid_loss,label='Validation Loss')\n",
        "\n",
        "# find position of lowest validation loss\n",
        "minposs = valid_loss.index(min(valid_loss))+1 \n",
        "plt.axvline(minposs, linestyle='--', color='r',label='Early Stopping Checkpoint')\n",
        "\n",
        "plt.xlabel('epochs')\n",
        "plt.ylabel('loss')\n",
        "plt.ylim(0, 100) # consistent scale\n",
        "plt.xlim(0, len(train_loss)+1) # consistent scale\n",
        "plt.grid(True)\n",
        "plt.legend()\n",
        "plt.tight_layout()\n",
        "plt.show()\n",
        "fig.savefig('loss_plot.png', bbox_inches='tight')"
      ],
      "execution_count": 35,
      "outputs": [
        {
          "output_type": "display_data",
          "data": {
            "image/png": "[encoded data removed]",
            "text/plain": [
              "<Figure size 720x576 with 1 Axes>"
            ]
          },
          "metadata": {
            "tags": [],
            "needs_background": "light"
          }
        }
      ]
    },
    {
      "cell_type": "code",
      "metadata": {
        "id": "Lbzek-ME1ML7",
        "colab_type": "code",
        "colab": {}
      },
      "source": [
        "def test(net):\n",
        "    predictions = []\n",
        "    with torch.no_grad():\n",
        "        for i, sample in enumerate(testloader):\n",
        "            predict = []\n",
        "            x ,y = sample\n",
        "            x = x.view(-1, IMG_CHANNELS, IMG_SIZE, IMG_SIZE)\n",
        "            \n",
        "            x = x.to(device)\n",
        "            y = y.to(device)\n",
        "            \n",
        "            a, b, y_p, d = net(x)\n",
        "\n",
        "            #get class of a, b, d\n",
        "            _, aa = a.max(1)\n",
        "            _, bb = b.max(1)\n",
        "            _, dd = d.max(1)\n",
        "\n",
        "            aa = aa.to(\"cpu\")\n",
        "            bb = bb.to(\"cpu\")\n",
        "            y_p = y_p.to(\"cpu\")\n",
        "            dd = dd.to(\"cpu\")\n",
        "\n",
        "            predict.append(aa)\n",
        "            predict.append(bb)\n",
        "            predict.append(y_p)\n",
        "            predict.append(dd)\n",
        "            predict = np.array(predict)\n",
        "            predictions.append(predict)\n",
        "            \n",
        "\n",
        "    #print(predictions)\n",
        "    #print()\n",
        "    predictions = np.array(predictions)\n",
        "    predictions = predictions.reshape(-1, OUTPUT_LABEL_SIZE)\n",
        "    df = DataFrame(predictions)\n",
        "    df.to_excel('predictions.xlsx', header=None)"
      ],
      "execution_count": 0,
      "outputs": []
    },
    {
      "cell_type": "code",
      "metadata": {
        "id": "M1WBAWnftkzr",
        "colab_type": "code",
        "outputId": "4d067562-dc53-4285-e9a2-c49b8a308e4b",
        "colab": {
          "base_uri": "https://localhost:8080/",
          "height": 228
        }
      },
      "source": [
        "testsets = []\n",
        "for f in tqdm(os.listdir(TEST_PATH_LABEL)):\n",
        "  path  = os.path.join(TEST_PATH_LABEL, f)\n",
        "  testset = DataCaller_Excel(path, IMG_SIZE)\n",
        "  print(testset.__len__())\n",
        "  testsets.append(testset)\n",
        "\n",
        "testset = ConcatDataset(testsets)"
      ],
      "execution_count": 0,
      "outputs": [
        {
          "output_type": "stream",
          "text": [
            "\n",
            "\n",
            "\n",
            "\n",
            "\n",
            "  0%|          | 0/1 [00:00<?, ?it/s]\u001b[A\u001b[A\u001b[A\u001b[A\u001b[A\n",
            "\n",
            "\n",
            "\n",
            "\n",
            "100%|██████████| 1/1 [00:09<00:00,  9.50s/it]"
          ],
          "name": "stderr"
        },
        {
          "output_type": "stream",
          "text": [
            "150\n"
          ],
          "name": "stdout"
        },
        {
          "output_type": "stream",
          "text": [
            "\n"
          ],
          "name": "stderr"
        }
      ]
    },
    {
      "cell_type": "code",
      "metadata": {
        "id": "xB9Ta8kV1Oay",
        "colab_type": "code",
        "colab": {}
      },
      "source": [
        "trained_net = Net()\n",
        "trained_net.load_state_dict(torch.load(LOAD_PRETRAINED_PATH))\n",
        "trained_net.to(device)\n",
        "trained_net.eval()\n",
        "test(trained_net)"
      ],
      "execution_count": 0,
      "outputs": []
    },
    {
      "cell_type": "code",
      "metadata": {
        "id": "TUGAIXy_1PnL",
        "colab_type": "code",
        "colab": {}
      },
      "source": [
        ""
      ],
      "execution_count": 0,
      "outputs": []
    }
  ]
}
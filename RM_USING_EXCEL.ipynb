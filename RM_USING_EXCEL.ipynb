{
  "nbformat": 4,
  "nbformat_minor": 0,
  "metadata": {
    "colab": {
      "name": "RM_USING_EXCEL.ipynb",
      "provenance": [],
      "collapsed_sections": [],
      "toc_visible": true,
      "authorship_tag": "ABX9TyN8JuRVO92h99TSUIHZRBGS",
      "include_colab_link": true
    },
    "kernelspec": {
      "name": "python3",
      "display_name": "Python 3"
    },
    "accelerator": "GPU"
  },
  "cells": [
    {
      "cell_type": "markdown",
      "metadata": {
        "id": "view-in-github",
        "colab_type": "text"
      },
      "source": [
        "<a href=\"https://colab.research.google.com/github/joey0320/reversemethod/blob/colabcodes_SingleSource_fixedX/RM_USING_EXCEL.ipynb\" target=\"_parent\"><img src=\"https://colab.research.google.com/assets/colab-badge.svg\" alt=\"Open In Colab\"/></a>"
      ]
    },
    {
      "cell_type": "code",
      "metadata": {
        "id": "pJff_qD0zq3L",
        "colab_type": "code",
        "colab": {}
      },
      "source": [
        "#!git clone https://github.com/joey0320/reversemethod.git"
      ],
      "execution_count": 0,
      "outputs": []
    },
    {
      "cell_type": "code",
      "metadata": {
        "id": "QZPG-Fw9zs6U",
        "colab_type": "code",
        "colab": {}
      },
      "source": [
        "#!git clone https://github.com/joey0320/reversemethod.git"
      ],
      "execution_count": 0,
      "outputs": []
    },
    {
      "cell_type": "code",
      "metadata": {
        "id": "03J48aW0Reqs",
        "colab_type": "code",
        "outputId": "4b598b96-c649-4e9b-d5c7-de6c850c4809",
        "colab": {
          "base_uri": "https://localhost:8080/",
          "height": 335
        }
      },
      "source": [
        "gpu_info = !nvidia-smi\n",
        "gpu_info = '\\n'.join(gpu_info)\n",
        "if gpu_info.find('failed') >= 0:\n",
        "  print('Select the Runtime → \"Change runtime type\" menu to enable a GPU accelerator, ')\n",
        "  print('and then re-execute this cell.')\n",
        "else:\n",
        "  print(gpu_info)"
      ],
      "execution_count": 3,
      "outputs": [
        {
          "output_type": "stream",
          "text": [
            "Sat Apr 18 05:01:53 2020       \n",
            "+-----------------------------------------------------------------------------+\n",
            "| NVIDIA-SMI 440.64.00    Driver Version: 418.67       CUDA Version: 10.1     |\n",
            "|-------------------------------+----------------------+----------------------+\n",
            "| GPU  Name        Persistence-M| Bus-Id        Disp.A | Volatile Uncorr. ECC |\n",
            "| Fan  Temp  Perf  Pwr:Usage/Cap|         Memory-Usage | GPU-Util  Compute M. |\n",
            "|===============================+======================+======================|\n",
            "|   0  Tesla P100-PCIE...  Off  | 00000000:00:04.0 Off |                    0 |\n",
            "| N/A   41C    P0    27W / 250W |      0MiB / 16280MiB |      0%      Default |\n",
            "+-------------------------------+----------------------+----------------------+\n",
            "                                                                               \n",
            "+-----------------------------------------------------------------------------+\n",
            "| Processes:                                                       GPU Memory |\n",
            "|  GPU       PID   Type   Process name                             Usage      |\n",
            "|=============================================================================|\n",
            "|  No running processes found                                                 |\n",
            "+-----------------------------------------------------------------------------+\n"
          ],
          "name": "stdout"
        }
      ]
    },
    {
      "cell_type": "code",
      "metadata": {
        "id": "WB26ruGiz071",
        "colab_type": "code",
        "outputId": "420cc8ef-784d-4991-a938-1a4fb132e62d",
        "colab": {
          "base_uri": "https://localhost:8080/",
          "height": 56
        }
      },
      "source": [
        "from google.colab import drive\n",
        "\n",
        "drive.mount('/content/gdrive')"
      ],
      "execution_count": 4,
      "outputs": [
        {
          "output_type": "stream",
          "text": [
            "Drive already mounted at /content/gdrive; to attempt to forcibly remount, call drive.mount(\"/content/gdrive\", force_remount=True).\n"
          ],
          "name": "stdout"
        }
      ]
    },
    {
      "cell_type": "code",
      "metadata": {
        "id": "-9h7q8NTz3CT",
        "colab_type": "code",
        "outputId": "0245894d-fbf7-4d6c-8358-df3c22fc51a4",
        "colab": {
          "base_uri": "https://localhost:8080/",
          "height": 36
        }
      },
      "source": [
        "import numpy as np\n",
        "import pandas as pd\n",
        "from pandas import DataFrame\n",
        "import torch\n",
        "import torch.nn as nn\n",
        "import torch.nn.functional as F\n",
        "import torch.optim as optim\n",
        "from torch.utils.data import Dataset\n",
        "from torch.utils.data import DataLoader\n",
        "from torch.utils.data import ConcatDataset\n",
        "import matplotlib.pyplot as plt\n",
        "import math\n",
        "import os\n",
        "from tqdm import tqdm\n",
        "import time\n",
        "import cv2\n",
        "#from DataCaller_Excel import DataCaller_Excel\n",
        "#from Model import Net\n",
        "#from EarlyStop import EarlyStopping\n",
        "\n",
        "#use gpu    please somebody buy me a gpu .......\n",
        "USE_GPU = True\n",
        "if USE_GPU and torch.cuda.is_available():\n",
        "    device = torch.device('cuda')\n",
        "else:\n",
        "    device = torch.device('cpu')\n",
        "print(device)\n",
        "\n",
        "#Global variables\n",
        "LOAD_DATA = False\n",
        "BATCH_SIZE = 48\n",
        "VAL_BATCH_SIZE = 16\n",
        "LEARNING_RATE = 1e-4\n",
        "EPOCHS = 1000\n",
        "PATIENCE = 6\n",
        "VALIDATE_EVERY = 10\n",
        "MODEL_NAME = f\"model-{int(time.time())}\"\n",
        "IMG_SIZE = 64\n",
        "IMG_CHANNELS = 1\n",
        "OUTPUT_LABEL_SIZE = 4\n",
        "OUTPUT_AB = 2\n",
        "OUTPUT_Y = 1\n",
        "OUTPUT_D = 1"
      ],
      "execution_count": 59,
      "outputs": [
        {
          "output_type": "stream",
          "text": [
            "cuda\n"
          ],
          "name": "stdout"
        }
      ]
    },
    {
      "cell_type": "code",
      "metadata": {
        "id": "fR_c4LFQ0Ma2",
        "colab_type": "code",
        "colab": {}
      },
      "source": [
        "\n",
        "class DataCaller_Excel(Dataset):\n",
        "    def __init__(self, data_path, inputsize):\n",
        "        \n",
        "        self.data_path = data_path\n",
        "        self.inputsize = inputsize\n",
        "        \n",
        "        data = pd.read_excel(open(self.data_path, 'rb'), sheet_name='Sheet1', header=None)\n",
        "        data = np.array(data)\n",
        "        data = data.reshape(-1, 1, inputsize, inputsize)\n",
        "        self.data = torch.from_numpy(data).float()\n",
        "        \n",
        "        label = pd.read_excel(open(self.data_path, 'rb'), sheet_name='Sheet2', header=None)\n",
        "        self.label = torch.from_numpy( np.array(label) ).float()\n",
        "    \n",
        "    def __len__(self):\n",
        "        return len(self.data)\n",
        "    \n",
        "    def __getitem__(self, idx):\n",
        "        x = torch.FloatTensor(self.data[idx])\n",
        "        y = torch.FloatTensor(self.label[idx])\n",
        "        return x, y"
      ],
      "execution_count": 0,
      "outputs": []
    },
    {
      "cell_type": "code",
      "metadata": {
        "id": "hsUhE6kd0Y6r",
        "colab_type": "code",
        "colab": {}
      },
      "source": [
        "\n",
        "class EarlyStopping:\n",
        "    \"\"\"Early stops the training if validation loss doesn't improve after a given patience.\"\"\"\n",
        "    def __init__(self, patience=7, verbose=False, delta=0):\n",
        "        \"\"\"\n",
        "        Args:\n",
        "            patience (int): How long to wait after last time validation loss improved.\n",
        "                            Default: 7\n",
        "            verbose (bool): If True, prints a message for each validation loss improvement. \n",
        "                            Default: False\n",
        "            delta (float): Minimum change in the monitored quantity to qualify as an improvement.\n",
        "                            Default: 0\n",
        "        \"\"\"\n",
        "        self.patience = patience\n",
        "        self.verbose = verbose\n",
        "        self.counter = 0\n",
        "        self.best_score = None\n",
        "        self.early_stop = False\n",
        "        self.val_loss_min = np.Inf\n",
        "        self.delta = delta\n",
        "\n",
        "    def __call__(self, val_loss, model):\n",
        "\n",
        "        score = - val_loss\n",
        "\n",
        "        if self.best_score is None:\n",
        "            self.best_score = score\n",
        "            self.save_checkpoint(val_loss, model)\n",
        "        elif score < self.best_score + self.delta:\n",
        "            self.counter += 1\n",
        "            print(f'EarlyStopping counter: {self.counter} out of {self.patience}')\n",
        "            if self.counter >= self.patience:\n",
        "                self.early_stop = True\n",
        "        else:\n",
        "            self.best_score = score\n",
        "            self.save_checkpoint(val_loss, model)\n",
        "            self.counter = 0\n",
        "\n",
        "    def save_checkpoint(self, val_loss, model):\n",
        "        '''Saves model when validation loss decrease.'''\n",
        "        if self.verbose:\n",
        "            print(f'Validation loss decreased ({self.val_loss_min:.6f} --> {val_loss:.6f}).  Saving model ...')\n",
        "        torch.save(model.state_dict(), 'checkpoint.pt')\n",
        "        self.val_loss_min = val_loss"
      ],
      "execution_count": 0,
      "outputs": []
    },
    {
      "cell_type": "code",
      "metadata": {
        "id": "s4DMLbAR0b3j",
        "colab_type": "code",
        "colab": {}
      },
      "source": [
        "import torch\n",
        "import torch.nn as nn\n",
        "\n",
        "class Net(nn.Module):\n",
        "    def __init__(self):\n",
        "        super().__init__()\n",
        "        \n",
        "        self.cnn = nn.Sequential(\n",
        "            nn.Conv2d(IMG_CHANNELS, 16, kernel_size=3, padding=1),\n",
        "            nn.ReLU(),\n",
        "            nn.BatchNorm2d(16),\n",
        "            #nn.Conv2d(16, 16, kernel_size=3, padding=1),\n",
        "            #nn.ReLU(),\n",
        "            nn.MaxPool2d(2, 2),\n",
        "            #32 x 32 x 16\n",
        "            \n",
        "            nn.Conv2d(16, 16, kernel_size=3, padding=1),\n",
        "            nn.ReLU(),\n",
        "            nn.Conv2d(16, 32, kernel_size=3, padding=1),\n",
        "            #nn.BatchNorm2d(64),\n",
        "            nn.ReLU(),\n",
        "            nn.MaxPool2d(2, 2),\n",
        "            #16 x 16 x 32\n",
        "            \n",
        "            nn.Conv2d(32, 64, kernel_size=3, padding=1),\n",
        "            nn.ReLU(),\n",
        "            nn.Conv2d(64, 64, kernel_size=3, padding=1),\n",
        "            nn.ReLU(),\n",
        "            nn.MaxPool2d(2, 2),\n",
        "            #8 x 8 x 64\n",
        "\n",
        "            nn.Conv2d(64, 64, kernel_size=3, padding=1),\n",
        "            nn.Dropout(0.4),\n",
        "            nn.ReLU(),\n",
        "            nn.Conv2d(64, 64, kernel_size=3, padding=1),\n",
        "            nn.ReLU(),\n",
        "            nn.MaxPool2d(2, 2),\n",
        "            #4 x 4 x 128\n",
        "            \n",
        "            nn.Conv2d(64, 128, kernel_size=3, padding=1),\n",
        "            nn.ReLU(),\n",
        "            nn.Conv2d(128, 128, kernel_size=3, padding=1),\n",
        "            nn.ReLU(),\n",
        "            nn.MaxPool2d(2, 2),\n",
        "            #2 x 2 x 256\n",
        "\n",
        "            nn.Conv2d(128, 256, kernel_size=3, padding=1),\n",
        "            nn.ReLU(),\n",
        "            nn.Conv2d(256, 256, kernel_size=3, padding=1),\n",
        "            nn.ReLU(),\n",
        "            nn.MaxPool2d(2, 2),\n",
        "            #1 x 1 x 512\n",
        "            \n",
        "        )\n",
        "        self.fcc_ab = nn.Sequential(\n",
        "            nn.Linear(256, 128),\n",
        "            nn.ReLU(),\n",
        "            nn.Dropout(0.4),\n",
        "            nn.Linear(128, 64),\n",
        "            nn.ReLU(),\n",
        "            nn.Dropout(0.4),\n",
        "            nn.Linear(64, OUTPUT_AB)\n",
        "        )\n",
        "        self.fcc_xy = nn.Sequential(\n",
        "            nn.Linear(256, 64),\n",
        "            nn.ReLU(),\n",
        "            nn.Dropout(0.4),\n",
        "            nn.Linear(64, 32),\n",
        "            nn.Dropout(0.4),\n",
        "            nn.ReLU(),\n",
        "            nn.Linear(32, OUTPUT_Y)   \n",
        "        )\n",
        "        self.fcc_d = nn.Sequential(\n",
        "            nn.Linear(256, 64),\n",
        "            nn.ReLU(),\n",
        "            nn.Dropout(0.4),\n",
        "            nn.Linear(64, 32),\n",
        "            nn.ReLU(),\n",
        "            nn.Dropout(0.4),\n",
        "            nn.Linear(32, OUTPUT_D)\n",
        "        )\n",
        "    def forward(self, x):\n",
        "        output = self.cnn(x)\n",
        "        feature_map = output.view(output.size(0), -1)\n",
        "        ab = self.fcc_ab(feature_map)\n",
        "        a = ab[:, :1]\n",
        "        b = ab[:, 1:]\n",
        "        xy = self.fcc_xy(feature_map)\n",
        "        d = self.fcc_d(feature_map)\n",
        "\n",
        "        return a, b, xy, d"
      ],
      "execution_count": 0,
      "outputs": []
    },
    {
      "cell_type": "code",
      "metadata": {
        "id": "enGbxU4s0fBb",
        "colab_type": "code",
        "colab": {}
      },
      "source": [
        "#data path\n",
        "DRIVE_PATH = '/content/gdrive/My Drive/Colab Notebooks'\n",
        "BASE_PATH = 'singlesource_regression_fixed_x'\n",
        "TRAIN_PATH_LABEL = os.path.join(DRIVE_PATH, 'data', BASE_PATH, 'train')\n",
        "VAL_PATH_LABEL = os.path.join(DRIVE_PATH, 'data', BASE_PATH, 'val')\n",
        "TEST_PATH_LABEL = os.path.join(DRIVE_PATH, 'data', BASE_PATH, 'test')\n",
        "LOAD_PRETRAINED_PATH = os.path.join(DRIVE_PATH, 'Results', 'SingleSource_ByClasses_Fixed_X', 'traindata_Size_37250', 'checkpoint.pt')\n",
        "#TRAIN_PATH_IMG = os.path.join(DRIVE_PATH, 'images', BASE_PATH, 'train')\n",
        "#VAL_PATH_IMG = os.path.join(DRIVE_PATH, 'images', BASE_PATH, 'val')\n",
        "#TEST_PATH_IMG = os.path.join(DRIVE_PATH, 'images', BASE_PATH, 'test')"
      ],
      "execution_count": 0,
      "outputs": []
    },
    {
      "cell_type": "code",
      "metadata": {
        "id": "Sl119Ok5051m",
        "colab_type": "code",
        "colab": {}
      },
      "source": [
        "if LOAD_DATA:\n",
        "    trainsets = []\n",
        "    valsets = []\n",
        "    testsets = []\n",
        "    for f in tqdm(os.listdir(TRAIN_PATH_LABEL)):\n",
        "      path = os.path.join(TRAIN_PATH_LABEL, f)\n",
        "      trainset = DataCaller_Excel(path, IMG_SIZE)\n",
        "      print(trainset.__len__())\n",
        "      trainsets.append(trainset)\n",
        "\n",
        "    for f in tqdm(os.listdir(VAL_PATH_LABEL)):\n",
        "      path  = os.path.join(VAL_PATH_LABEL, f)\n",
        "      valset = DataCaller_Excel(path, IMG_SIZE)\n",
        "      print(valset.__len__())\n",
        "      valsets.append(valset)\n",
        "\n",
        "    for f in tqdm(os.listdir(TEST_PATH_LABEL)):\n",
        "      path  = os.path.join(TEST_PATH_LABEL, f)\n",
        "      testset = DataCaller_Excel(path, IMG_SIZE)\n",
        "      print(testset.__len__())\n",
        "      testsets.append(testset)\n",
        "\n",
        "    trainset = ConcatDataset(trainsets)\n",
        "    print(trainset.__len__())\n",
        "    valset = ConcatDataset(valsets)\n",
        "    print(valset.__len__())\n",
        "    testset = ConcatDataset(testsets)\n",
        "    print(testset.__len__())\n",
        "    #trainset = DataCaller(TRAIN_PATH_IMG, TRAIN_PATH_LABEL, IMG_SIZE)\n",
        "    #valset = DataCaller(VAL_PATH_IMG, VAL_PATH_LABEL, IMG_SIZE)\n",
        "    #testset = DataCaller(TEST_PATH_IMG, TEST_PATH_LABEL, IMG_SIZE)"
      ],
      "execution_count": 0,
      "outputs": []
    },
    {
      "cell_type": "code",
      "metadata": {
        "id": "JA0gFXCnLn0-",
        "colab_type": "code",
        "colab": {}
      },
      "source": [
        "#valsets = []\n",
        "#for f in tqdm(os.listdir(VAL_PATH_LABEL)):\n",
        "#  path  = os.path.join(VAL_PATH_LABEL, f)\n",
        "#  valset = DataCaller_Excel(path, IMG_SIZE)\n",
        "#  print(valset.__len__())\n",
        "#  valsets.append(valset)\n",
        "\n",
        "#valset = ConcatDataset(valsets)\n"
      ],
      "execution_count": 0,
      "outputs": []
    },
    {
      "cell_type": "code",
      "metadata": {
        "id": "CCRzbFvJ07bD",
        "colab_type": "code",
        "colab": {}
      },
      "source": [
        "#define dataloaders\n",
        "trainloader = DataLoader(trainset, batch_size = BATCH_SIZE, shuffle=True)\n",
        "valloader = DataLoader(valset, batch_size=VAL_BATCH_SIZE, shuffle=True)\n",
        "testloader = DataLoader(testset, batch_size=1, shuffle=False)"
      ],
      "execution_count": 0,
      "outputs": []
    },
    {
      "cell_type": "code",
      "metadata": {
        "id": "-bY-ORpG1Ew6",
        "colab_type": "code",
        "colab": {
          "base_uri": "https://localhost:8080/",
          "height": 1000
        },
        "outputId": "a5c85dc1-e6ad-421a-efeb-388e7ebeef6c"
      },
      "source": [
        "#just checking if the data is loaded properly\n",
        "cnt = 0\n",
        "for i, data in enumerate(trainloader):\n",
        "    x, y = data\n",
        "    x = np.array(x)\n",
        "    x = x.reshape(-1, IMG_CHANNELS, IMG_SIZE, IMG_SIZE)\n",
        "    #print(x)\n",
        "    #x = x.astype(int)\n",
        "    print(x)\n",
        "    print(x[0].shape)\n",
        "    #plt.imshow(x[0].reshape(IMG_SIZE, IMG_SIZE, -1))\n",
        "    #plt.imshow(x[0].reshape(IMG_SIZE, IMG_SIZE, -1), cmap='gray')\n",
        "    #plt.show()\n",
        "    #print(x[0])\n",
        "    print(y)\n",
        "    cnt += 1\n",
        "    if cnt==1:\n",
        "      break"
      ],
      "execution_count": 66,
      "outputs": [
        {
          "output_type": "stream",
          "text": [
            "[[[[ -4.4710703   -4.812173    -5.9452753  ... -35.086098\n",
            "    -35.272633   -35.471085  ]\n",
            "   [ -4.4710703   -4.0361576   -4.707618   ... -39.508617\n",
            "    -39.75702    -39.973923  ]\n",
            "   [ -4.4710703   -3.6006918   -4.7236667  ... -35.815456\n",
            "    -35.849007   -35.99788   ]\n",
            "   ...\n",
            "   [ -4.4710703   -7.62017    -14.060376   ... -36.21012\n",
            "    -36.348225   -36.531662  ]\n",
            "   [ -4.4710703   -5.9814076   -8.798595   ... -42.524273\n",
            "    -42.572765   -42.721474  ]\n",
            "   [ -4.4710703   -4.812173    -5.9452753  ... -35.086098\n",
            "    -35.272633   -35.471085  ]]]\n",
            "\n",
            "\n",
            " [[[ -4.455067    -4.712638    -5.4820075  ... -36.34499\n",
            "    -36.489464   -36.58942   ]\n",
            "   [ -4.455067    -5.4984508   -8.605658   ... -29.53411\n",
            "    -29.645878   -29.766745  ]\n",
            "   [ -4.455067    -6.628226   -13.520862   ... -29.574326\n",
            "    -29.484007   -29.536657  ]\n",
            "   ...\n",
            "   [ -4.455067    -4.0575657   -3.5749052  ... -35.092693\n",
            "    -34.993362   -35.04858   ]\n",
            "   [ -4.455067    -4.2392163   -3.9229133  ... -35.34475\n",
            "    -35.387768   -35.474674  ]\n",
            "   [ -4.455067    -4.712638    -5.4820075  ... -36.34499\n",
            "    -36.489464   -36.58942   ]]]\n",
            "\n",
            "\n",
            " [[[ -8.0618305   -8.276279    -8.813542   ... -35.171913\n",
            "    -35.3824     -35.59998   ]\n",
            "   [ -8.0618305   -7.931137    -8.310704   ... -33.448948\n",
            "    -33.477432   -33.6462    ]\n",
            "   [ -8.0618305   -7.6790886   -8.1583185  ... -41.830425\n",
            "    -42.45998    -42.931503  ]\n",
            "   ...\n",
            "   [ -8.0618305   -9.265642   -11.046159   ... -41.207504\n",
            "    -41.193565   -41.272358  ]\n",
            "   [ -8.0618305   -8.71971     -9.706541   ... -43.45469\n",
            "    -43.34805    -43.434364  ]\n",
            "   [ -8.0618305   -8.276279    -8.813542   ... -35.171913\n",
            "    -35.3824     -35.59998   ]]]\n",
            "\n",
            "\n",
            " ...\n",
            "\n",
            "\n",
            " [[[ -1.3487462   -1.2404331   -1.0390424  ... -24.82288\n",
            "    -24.752735   -24.697683  ]\n",
            "   [ -1.3487462   -1.5107902   -1.4358679  ... -21.388847\n",
            "    -21.140211   -20.990034  ]\n",
            "   [ -1.3487462   -1.8499932   -2.1169608  ... -43.319096\n",
            "    -41.245724   -40.579334  ]\n",
            "   ...\n",
            "   [ -1.3487462   -0.9101214   -1.1143095  ... -25.24783\n",
            "    -24.543512   -24.259237  ]\n",
            "   [ -1.3487462   -1.040962    -0.9358362  ... -16.87151\n",
            "    -16.614323   -16.466143  ]\n",
            "   [ -1.3487462   -1.2404331   -1.0390424  ... -24.82288\n",
            "    -24.752735   -24.697683  ]]]\n",
            "\n",
            "\n",
            " [[[  1.2275232    0.9092385   -0.10180055 ... -23.752644\n",
            "    -23.691967   -23.651062  ]\n",
            "   [  1.2275232    1.0235269    0.22573891 ... -19.623962\n",
            "    -19.425404   -19.292667  ]\n",
            "   [  1.2275232    1.0934918    0.29200605 ... -35.39413\n",
            "    -34.879173   -34.711613  ]\n",
            "   ...\n",
            "   [  1.2275232    0.5759159   -1.3633577  ... -19.247618\n",
            "    -18.75962    -18.561522  ]\n",
            "   [  1.2275232    0.7566459   -0.66036624 ... -15.230107\n",
            "    -15.031936   -14.904439  ]\n",
            "   [  1.2275232    0.9092385   -0.10180055 ... -23.752644\n",
            "    -23.691967   -23.651062  ]]]\n",
            "\n",
            "\n",
            " [[[-12.16724    -11.551717   -10.878603   ... -40.973618\n",
            "    -40.75088    -40.83337   ]\n",
            "   [-12.16724    -12.744616   -13.243517   ... -51.37071\n",
            "    -51.278053   -51.391747  ]\n",
            "   [-12.16724    -14.298292   -17.26513    ... -39.68293\n",
            "    -40.539516   -41.002098  ]\n",
            "   ...\n",
            "   [-12.16724     -9.994235    -8.969234   ... -42.866924\n",
            "    -43.53049    -43.899788  ]\n",
            "   [-12.16724    -10.651849    -9.5395355  ... -43.95438\n",
            "    -43.23927    -43.15901   ]\n",
            "   [-12.16724    -11.551717   -10.878603   ... -40.973618\n",
            "    -40.75088    -40.83337   ]]]]\n",
            "(1, 64, 64)\n",
            "tensor([[ 6.4763e+00,  2.4908e+01, -3.2133e+01,  1.4009e+01],\n",
            "        [ 1.3633e+01,  2.3179e+01, -9.5769e+00,  1.9869e+01],\n",
            "        [ 2.0674e+01,  1.3488e+01, -7.4152e+00,  7.6588e+00],\n",
            "        [ 2.2760e+01,  1.2231e+01,  1.2815e+01,  1.6432e+01],\n",
            "        [ 2.3765e+01,  1.8165e+01,  7.7615e-01,  2.3253e+01],\n",
            "        [ 1.8176e+01,  1.2420e+01,  1.9681e+01,  1.7103e+01],\n",
            "        [ 8.3616e+00,  1.4804e+01,  2.9349e+01,  1.9129e+01],\n",
            "        [ 2.1137e+01,  1.8901e+01,  2.4435e+01,  1.7401e+01],\n",
            "        [ 1.1617e+01,  2.0624e+01, -2.7590e-01,  5.8071e+00],\n",
            "        [ 1.1333e+01,  1.4762e+01,  2.9036e+01,  2.4139e+01],\n",
            "        [ 1.0277e+01,  1.5010e+01,  1.7263e+01,  1.7285e+01],\n",
            "        [ 7.5153e+00,  8.7490e+00, -1.4274e+00,  2.3595e+01],\n",
            "        [ 1.3214e+01,  2.1150e+01,  1.8815e+01,  1.3249e+01],\n",
            "        [ 6.5365e+00,  7.2211e+00,  8.6367e+00,  1.2841e+01],\n",
            "        [ 1.5766e+01,  5.8401e+00, -1.1377e+01,  9.7240e+00],\n",
            "        [ 1.6722e+01,  2.1701e+01, -4.9785e-01,  1.6406e+01],\n",
            "        [ 1.1951e+01,  1.7708e+01,  2.3172e+01,  7.7414e+00],\n",
            "        [ 2.3405e+01,  1.0308e+01,  4.2736e+00,  6.0404e+00],\n",
            "        [ 7.8842e+00,  2.3125e+01, -1.9893e+01,  1.6044e+01],\n",
            "        [ 2.1763e+01,  2.4724e+01, -2.2331e+00,  6.1840e+00],\n",
            "        [ 1.6509e+01,  6.1373e+00,  1.0164e+01,  2.4221e+01],\n",
            "        [ 2.1408e+01,  8.0282e+00,  1.5661e+01,  7.4933e+00],\n",
            "        [ 7.5337e+00,  7.0968e+00, -1.1253e+01,  1.1281e+01],\n",
            "        [ 1.0930e+01,  1.5452e+01, -3.8276e+00,  2.2267e+01],\n",
            "        [ 8.9336e+00,  1.0817e+01, -1.8341e+01,  1.2658e+01],\n",
            "        [ 1.8186e+01,  7.2380e+00, -1.3246e+01,  1.6107e+01],\n",
            "        [ 2.0439e+01,  1.5772e+01, -1.4690e+01,  7.9847e+00],\n",
            "        [ 2.0035e+01,  2.0056e+01, -3.6874e+01,  2.2535e+01],\n",
            "        [ 2.0978e+01,  2.1801e+01, -4.0202e+01,  1.1206e+01],\n",
            "        [ 1.0373e+01,  9.2856e+00, -6.8719e+00,  1.0718e+01],\n",
            "        [ 5.8550e+00,  2.0077e+01,  1.8916e+01,  1.6753e+01],\n",
            "        [ 2.0611e+01,  8.8545e+00,  1.0997e+01,  2.3355e+01],\n",
            "        [ 1.8651e+01,  1.1860e+01,  1.1097e+01,  1.6745e+01],\n",
            "        [ 1.8865e+01,  2.2597e+01, -1.5249e+01,  1.3992e+01],\n",
            "        [ 1.7475e+01,  1.9776e+01,  1.8061e+01,  1.2748e+01],\n",
            "        [ 1.1011e+01,  1.6423e+01, -1.9318e+01,  1.4872e+01],\n",
            "        [ 5.2349e+00,  9.0599e+00, -1.1693e+01,  1.1177e+01],\n",
            "        [ 1.8441e+01,  1.6574e+01,  9.9684e+00,  1.1610e+01],\n",
            "        [ 5.4826e+00,  1.0249e+01, -6.5540e+00,  1.5554e+01],\n",
            "        [ 1.5274e+01,  1.2170e+01,  3.4733e-02,  6.5787e+00],\n",
            "        [ 2.3562e+01,  1.6663e+01, -2.8437e+01,  1.3386e+01],\n",
            "        [ 5.8894e+00,  1.0781e+01, -1.1003e+01,  2.1822e+01],\n",
            "        [ 2.2058e+01,  6.3318e+00, -4.7168e+00,  1.9619e+01],\n",
            "        [ 1.2757e+01,  2.1019e+01,  5.6389e+00,  1.5492e+01],\n",
            "        [ 9.3295e+00,  2.2607e+01, -3.1318e+01,  1.8423e+01],\n",
            "        [ 2.1652e+01,  1.5191e+01,  2.5062e+01,  2.4538e+01],\n",
            "        [ 1.5574e+01,  1.4916e+01,  2.3297e+01,  2.2436e+01],\n",
            "        [ 2.4454e+01,  1.7741e+01, -1.5894e+01,  1.0234e+01]])\n"
          ],
          "name": "stdout"
        }
      ]
    },
    {
      "cell_type": "code",
      "metadata": {
        "id": "ZeAuxWP_hY0B",
        "colab_type": "code",
        "colab": {}
      },
      "source": [
        "def weighted_mse(input, target, weight):\n",
        "  input = input.to(device)\n",
        "  target = target.to(device)\n",
        "  weight = weight.to(device)\n",
        "  return torch.sum(weight * (input - target)**2)"
      ],
      "execution_count": 0,
      "outputs": []
    },
    {
      "cell_type": "code",
      "metadata": {
        "id": "I7vayBnSb_3A",
        "colab_type": "code",
        "colab": {}
      },
      "source": [
        "def weighted_MSE(a, b, y, d, label_a, label_b, label_y, label_d, weight):\n",
        "  a = a.to(device)\n",
        "  b = b.to(device)\n",
        "  y = y.to(device)\n",
        "  d = d.to(device)\n",
        "\n",
        "  label_a = label_a.to(device)\n",
        "  label_b = label_b.to(device)\n",
        "  label_y = label_y.to(device)\n",
        "  label_d = label_d.to(device)\n",
        "\n",
        "  weight = weight.to(device)\n",
        "  \n",
        "  a = a.view(len(a))\n",
        "  b = b.view(len(b))\n",
        "  y = y.view(len(y))\n",
        "  d = d.view(len(d))\n",
        "\n",
        "  crit1 = nn.MSELoss()\n",
        "  crit2 = nn.MSELoss()\n",
        "  crit3 = nn.MSELoss()\n",
        "  crit4 = nn.MSELoss()\n",
        "\n",
        "  return weight[0] * crit1(a, label_a) + weight[1] * crit2(b, label_b) + weight[2] * crit3(y, label_y) + weight[3] * crit4(d, label_d)"
      ],
      "execution_count": 0,
      "outputs": []
    },
    {
      "cell_type": "code",
      "metadata": {
        "id": "MK1eoiDAVkGG",
        "colab_type": "code",
        "colab": {}
      },
      "source": [
        "\n",
        "def get_loss(a, b, y, d, label_a, label_b, label_y, label_d, weight):\n",
        "  # a,b : 1 x 21\n",
        "  # xy : 1 x 2\n",
        "  # d : 1 x 10\n",
        "  a = a.to(device)\n",
        "  b = b.to(device)\n",
        "  y = y.to(device)\n",
        "  d = d.to(device)\n",
        "\n",
        "  y = y.view(len(y))\n",
        "\n",
        "  weight = weight.to(device)\n",
        "\n",
        "  #change shape and form of labels\n",
        "  label_a = label_a.view(len(label_a))\n",
        "  label_b = label_b.view(len(label_b))\n",
        "  label_d = label_d.view(len(label_d))\n",
        "  label_a = label_a.type(torch.cuda.LongTensor)\n",
        "  label_b = label_b.type(torch.cuda.LongTensor)\n",
        "  label_d = label_d.type(torch.cuda.LongTensor)\n",
        "\n",
        "  label_y = label_y.view(len(label_y))\n",
        "\n",
        "  # classes should be 0 ~ N - 1\n",
        "  # class N means that the length is ( N + 1 ) * lambda \n",
        "  #x = torch.ones(len(label_a))\n",
        "  #x = x.to(device)\n",
        "  #x = x.type(torch.cuda.LongTensor)\n",
        "\n",
        "  #label_a = label_a - x\n",
        "  #label_b = label_b - x\n",
        "\n",
        "  #y = torch.ones(len(label_d))\n",
        "  #y = y.to(device)\n",
        "  #y = y.type(torch.cuda.LongTensor)\n",
        "  \n",
        "  #label_d = label_d - y\n",
        "\n",
        "  #define criterion\n",
        "  crit1 = nn.CrossEntropyLoss()\n",
        "  crit2 = nn.CrossEntropyLoss()\n",
        "  crit3 = nn.MSELoss()\n",
        "  crit4 = nn.CrossEntropyLoss()\n",
        "\n",
        "  loss1 = crit1(a, label_a)\n",
        "  loss2 = crit2(b, label_b)\n",
        "  loss3 = crit3(y, label_y)\n",
        "  loss4 = crit4(d, label_d)\n",
        "  \n",
        "  return loss1 * weight[0]  + loss2 * weight[1] + loss3 * weight[2] + loss4 * weight[3]\n",
        "\n"
      ],
      "execution_count": 0,
      "outputs": []
    },
    {
      "cell_type": "code",
      "metadata": {
        "id": "5LnaE27J1F7L",
        "colab_type": "code",
        "colab": {}
      },
      "source": [
        "#train the model\n",
        "def train(net, model_name, patience, validate_every):\n",
        "    \n",
        "    optimizer = optim.Adam(net.parameters(), LEARNING_RATE, betas=(0.9, 0.999), eps=1e-09, weight_decay=0, amsgrad=False)\n",
        "    weight = torch.tensor([1.5, 1.5, 1.0, 2])\n",
        "\n",
        "    train_losses = []\n",
        "    val_losses = []\n",
        "    avg_train_losses = []\n",
        "    avg_val_losses = []\n",
        "\n",
        "    #train_errors = []\n",
        "    #val_errors = []\n",
        "\n",
        "    early_stopping = EarlyStopping(patience=patience, verbose=True)\n",
        "\n",
        "    with open(\"model.log\", \"a\") as f:\n",
        "        for epoch in tqdm(range(EPOCHS)):\n",
        "                net.train()\n",
        "                for batch_idx, samples in enumerate(trainloader):\n",
        "                    x, y = samples\n",
        "                    x = x.view(-1, IMG_CHANNELS, IMG_SIZE, IMG_SIZE)\n",
        "                    x = x.to(device)\n",
        "                    y = y.to(device)\n",
        "\n",
        "                    la = y[:, 0]\n",
        "                    lb = y[:, 1]\n",
        "                    ly = y[:, 2]\n",
        "                    ld = y[:, 3]\n",
        "\n",
        "                    a, b, xy, d = net(x)\n",
        "                    loss = weighted_MSE(a, b, xy, d, la, lb, ly, ld, weight)\n",
        "                    net.zero_grad()\n",
        "                    loss.backward()\n",
        "                    optimizer.step()\n",
        "                    train_losses.append(loss.item())\n",
        "\n",
        "                net.eval()\n",
        "                for batch_idx, samples in enumerate(valloader):\n",
        "                    x, y = samples\n",
        "                    x = x.view(-1, IMG_CHANNELS, IMG_SIZE, IMG_SIZE)\n",
        "                    x = x.to(device)\n",
        "                    y = y.to(device)\n",
        "\n",
        "                    la = y[:, 0]\n",
        "                    lb = y[:, 1]\n",
        "                    ly = y[:, 2]\n",
        "                    ld = y[:, 3]\n",
        "\n",
        "                    a, b, xy, d = net(x)\n",
        "                    loss = weighted_MSE(a, b, xy, d, la, lb, ly, ld, weight)\n",
        "                    val_losses.append(loss.item())\n",
        "\n",
        "                train_loss = np.average(train_losses)\n",
        "                valid_loss = np.average(val_losses)\n",
        "                avg_train_losses.append(train_loss)\n",
        "                avg_val_losses.append(valid_loss)\n",
        "                \n",
        "\n",
        "                train_losses = []\n",
        "                val_losses = []\n",
        "\n",
        "\n",
        "                f.write(f\"{MODEL_NAME},{round(time.time(), 3)},  {round(float(train_loss), 4)},  {round(float(valid_loss),4)}\\n\")\n",
        "                print(\"\\nloss : \", train_loss, \"val loss : \", valid_loss, \"\\n\")\n",
        "                \n",
        "                early_stopping(valid_loss, net)\n",
        "                \n",
        "                if early_stopping.early_stop:\n",
        "                    print(\"Early stopping\")\n",
        "                    break\n",
        "        # load the last checkpoint with the best model\n",
        "        net.load_state_dict(torch.load('checkpoint.pt'))\n",
        "        \n",
        "        return avg_train_losses, avg_val_losses"
      ],
      "execution_count": 0,
      "outputs": []
    },
    {
      "cell_type": "code",
      "metadata": {
        "id": "k-b0iI2R1IKD",
        "colab_type": "code",
        "colab": {}
      },
      "source": [
        "net = Net()\n",
        "#print(net)\n"
      ],
      "execution_count": 0,
      "outputs": []
    },
    {
      "cell_type": "code",
      "metadata": {
        "id": "bvZa0kBaTqAL",
        "colab_type": "code",
        "outputId": "82ab526b-e646-489b-9ca3-8da6f9c1caea",
        "colab": {
          "base_uri": "https://localhost:8080/",
          "height": 1000
        }
      },
      "source": [
        "net.to(device)\n",
        "train_loss, valid_loss = train(net, MODEL_NAME, PATIENCE, VALIDATE_EVERY)"
      ],
      "execution_count": 72,
      "outputs": [
        {
          "output_type": "stream",
          "text": [
            "\n",
            "\n",
            "\n",
            "  0%|          | 0/1000 [00:00<?, ?it/s]\u001b[A\u001b[A\u001b[A\n",
            "\n",
            "\n",
            "  0%|          | 1/1000 [00:07<1:57:43,  7.07s/it]\u001b[A\u001b[A\u001b[A"
          ],
          "name": "stderr"
        },
        {
          "output_type": "stream",
          "text": [
            "\n",
            "loss :  659.0322009277344 val loss :  301.26892835828994 \n",
            "\n",
            "Validation loss decreased (inf --> 301.268928).  Saving model ...\n"
          ],
          "name": "stdout"
        },
        {
          "output_type": "stream",
          "text": [
            "\n",
            "\n",
            "\n",
            "  0%|          | 2/1000 [00:14<1:57:42,  7.08s/it]\u001b[A\u001b[A\u001b[A"
          ],
          "name": "stderr"
        },
        {
          "output_type": "stream",
          "text": [
            "\n",
            "loss :  265.18160810990764 val loss :  185.46553080240886 \n",
            "\n",
            "Validation loss decreased (301.268928 --> 185.465531).  Saving model ...\n"
          ],
          "name": "stdout"
        },
        {
          "output_type": "stream",
          "text": [
            "\n",
            "\n",
            "\n",
            "  0%|          | 3/1000 [00:21<1:57:17,  7.06s/it]\u001b[A\u001b[A\u001b[A"
          ],
          "name": "stderr"
        },
        {
          "output_type": "stream",
          "text": [
            "\n",
            "loss :  211.07736358642578 val loss :  122.21348151312934 \n",
            "\n",
            "Validation loss decreased (185.465531 --> 122.213482).  Saving model ...\n"
          ],
          "name": "stdout"
        },
        {
          "output_type": "stream",
          "text": [
            "\n",
            "\n",
            "\n",
            "  0%|          | 4/1000 [00:28<1:57:00,  7.05s/it]\u001b[A\u001b[A\u001b[A"
          ],
          "name": "stderr"
        },
        {
          "output_type": "stream",
          "text": [
            "\n",
            "loss :  168.38484021273527 val loss :  95.34348748101128 \n",
            "\n",
            "Validation loss decreased (122.213482 --> 95.343487).  Saving model ...\n"
          ],
          "name": "stdout"
        },
        {
          "output_type": "stream",
          "text": [
            "\n",
            "\n",
            "\n",
            "  0%|          | 5/1000 [00:35<1:56:54,  7.05s/it]\u001b[A\u001b[A\u001b[A"
          ],
          "name": "stderr"
        },
        {
          "output_type": "stream",
          "text": [
            "\n",
            "loss :  153.62947095003994 val loss :  91.73424782647027 \n",
            "\n",
            "Validation loss decreased (95.343487 --> 91.734248).  Saving model ...\n"
          ],
          "name": "stdout"
        },
        {
          "output_type": "stream",
          "text": [
            "\n",
            "\n",
            "\n",
            "  1%|          | 6/1000 [00:42<1:56:57,  7.06s/it]\u001b[A\u001b[A\u001b[A"
          ],
          "name": "stderr"
        },
        {
          "output_type": "stream",
          "text": [
            "\n",
            "loss :  146.29701808582652 val loss :  82.0622181532118 \n",
            "\n",
            "Validation loss decreased (91.734248 --> 82.062218).  Saving model ...\n"
          ],
          "name": "stdout"
        },
        {
          "output_type": "stream",
          "text": [
            "\n",
            "\n",
            "\n",
            "  1%|          | 7/1000 [00:49<1:56:39,  7.05s/it]\u001b[A\u001b[A\u001b[A"
          ],
          "name": "stderr"
        },
        {
          "output_type": "stream",
          "text": [
            "\n",
            "loss :  137.78132125854492 val loss :  92.97642534044054 \n",
            "\n",
            "EarlyStopping counter: 1 out of 6\n"
          ],
          "name": "stdout"
        },
        {
          "output_type": "stream",
          "text": [
            "\n",
            "\n",
            "\n",
            "  1%|          | 8/1000 [00:56<1:56:18,  7.03s/it]\u001b[A\u001b[A\u001b[A"
          ],
          "name": "stderr"
        },
        {
          "output_type": "stream",
          "text": [
            "\n",
            "loss :  128.27292481855912 val loss :  42.007555118136935 \n",
            "\n",
            "Validation loss decreased (82.062218 --> 42.007555).  Saving model ...\n"
          ],
          "name": "stdout"
        },
        {
          "output_type": "stream",
          "text": [
            "\n",
            "\n",
            "\n",
            "  1%|          | 9/1000 [01:03<1:56:08,  7.03s/it]\u001b[A\u001b[A\u001b[A"
          ],
          "name": "stderr"
        },
        {
          "output_type": "stream",
          "text": [
            "\n",
            "loss :  113.66841666481712 val loss :  49.68313976711697 \n",
            "\n",
            "EarlyStopping counter: 1 out of 6\n"
          ],
          "name": "stdout"
        },
        {
          "output_type": "stream",
          "text": [
            "\n",
            "\n",
            "\n",
            "  1%|          | 10/1000 [01:10<1:56:10,  7.04s/it]\u001b[A\u001b[A\u001b[A"
          ],
          "name": "stderr"
        },
        {
          "output_type": "stream",
          "text": [
            "\n",
            "loss :  102.57639755249023 val loss :  28.39641748216417 \n",
            "\n",
            "Validation loss decreased (42.007555 --> 28.396417).  Saving model ...\n"
          ],
          "name": "stdout"
        },
        {
          "output_type": "stream",
          "text": [
            "\n",
            "\n",
            "\n",
            "  1%|          | 11/1000 [01:17<1:55:50,  7.03s/it]\u001b[A\u001b[A\u001b[A"
          ],
          "name": "stderr"
        },
        {
          "output_type": "stream",
          "text": [
            "\n",
            "loss :  98.74600972955876 val loss :  58.91227386474609 \n",
            "\n",
            "EarlyStopping counter: 1 out of 6\n"
          ],
          "name": "stdout"
        },
        {
          "output_type": "stream",
          "text": [
            "\n",
            "\n",
            "\n",
            "  1%|          | 12/1000 [01:24<1:55:46,  7.03s/it]\u001b[A\u001b[A\u001b[A"
          ],
          "name": "stderr"
        },
        {
          "output_type": "stream",
          "text": [
            "\n",
            "loss :  95.7861123310436 val loss :  23.55070525487264 \n",
            "\n",
            "Validation loss decreased (28.396417 --> 23.550705).  Saving model ...\n"
          ],
          "name": "stdout"
        },
        {
          "output_type": "stream",
          "text": [
            "\n",
            "\n",
            "\n",
            "  1%|▏         | 13/1000 [01:31<1:55:52,  7.04s/it]\u001b[A\u001b[A\u001b[A"
          ],
          "name": "stderr"
        },
        {
          "output_type": "stream",
          "text": [
            "\n",
            "loss :  94.68924077120694 val loss :  21.048984926011826 \n",
            "\n",
            "Validation loss decreased (23.550705 --> 21.048985).  Saving model ...\n"
          ],
          "name": "stdout"
        },
        {
          "output_type": "stream",
          "text": [
            "\n",
            "\n",
            "\n",
            "  1%|▏         | 14/1000 [01:38<1:56:01,  7.06s/it]\u001b[A\u001b[A\u001b[A"
          ],
          "name": "stderr"
        },
        {
          "output_type": "stream",
          "text": [
            "\n",
            "loss :  92.06341384194114 val loss :  15.400244314405652 \n",
            "\n",
            "Validation loss decreased (21.048985 --> 15.400244).  Saving model ...\n"
          ],
          "name": "stdout"
        },
        {
          "output_type": "stream",
          "text": [
            "\n",
            "\n",
            "\n",
            "  2%|▏         | 15/1000 [01:45<1:55:42,  7.05s/it]\u001b[A\u001b[A\u001b[A"
          ],
          "name": "stderr"
        },
        {
          "output_type": "stream",
          "text": [
            "\n",
            "loss :  91.35531715393067 val loss :  18.905695203145346 \n",
            "\n",
            "EarlyStopping counter: 1 out of 6\n"
          ],
          "name": "stdout"
        },
        {
          "output_type": "stream",
          "text": [
            "\n",
            "\n",
            "\n",
            "  2%|▏         | 16/1000 [01:52<1:55:15,  7.03s/it]\u001b[A\u001b[A\u001b[A"
          ],
          "name": "stderr"
        },
        {
          "output_type": "stream",
          "text": [
            "\n",
            "loss :  88.70718247153542 val loss :  36.35627641465929 \n",
            "\n",
            "EarlyStopping counter: 2 out of 6\n"
          ],
          "name": "stdout"
        },
        {
          "output_type": "stream",
          "text": [
            "\n",
            "\n",
            "\n",
            "  2%|▏         | 17/1000 [01:59<1:55:02,  7.02s/it]\u001b[A\u001b[A\u001b[A"
          ],
          "name": "stderr"
        },
        {
          "output_type": "stream",
          "text": [
            "\n",
            "loss :  87.687720933394 val loss :  35.00399748908149 \n",
            "\n",
            "EarlyStopping counter: 3 out of 6\n"
          ],
          "name": "stdout"
        },
        {
          "output_type": "stream",
          "text": [
            "\n",
            "\n",
            "\n",
            "  2%|▏         | 18/1000 [02:06<1:54:53,  7.02s/it]\u001b[A\u001b[A\u001b[A"
          ],
          "name": "stderr"
        },
        {
          "output_type": "stream",
          "text": [
            "\n",
            "loss :  87.03593197215687 val loss :  12.941650725470648 \n",
            "\n",
            "Validation loss decreased (15.400244 --> 12.941651).  Saving model ...\n"
          ],
          "name": "stdout"
        },
        {
          "output_type": "stream",
          "text": [
            "\n",
            "\n",
            "\n",
            "  2%|▏         | 19/1000 [02:13<1:54:48,  7.02s/it]\u001b[A\u001b[A\u001b[A"
          ],
          "name": "stderr"
        },
        {
          "output_type": "stream",
          "text": [
            "\n",
            "loss :  85.66473914406517 val loss :  39.23825289408366 \n",
            "\n",
            "EarlyStopping counter: 1 out of 6\n"
          ],
          "name": "stdout"
        },
        {
          "output_type": "stream",
          "text": [
            "\n",
            "\n",
            "\n",
            "  2%|▏         | 20/1000 [02:20<1:54:44,  7.03s/it]\u001b[A\u001b[A\u001b[A"
          ],
          "name": "stderr"
        },
        {
          "output_type": "stream",
          "text": [
            "\n",
            "loss :  84.50621790799228 val loss :  34.03335189819336 \n",
            "\n",
            "EarlyStopping counter: 2 out of 6\n"
          ],
          "name": "stdout"
        },
        {
          "output_type": "stream",
          "text": [
            "\n",
            "\n",
            "\n",
            "  2%|▏         | 21/1000 [02:27<1:54:45,  7.03s/it]\u001b[A\u001b[A\u001b[A"
          ],
          "name": "stderr"
        },
        {
          "output_type": "stream",
          "text": [
            "\n",
            "loss :  84.07643750971013 val loss :  19.715183770921495 \n",
            "\n",
            "EarlyStopping counter: 3 out of 6\n"
          ],
          "name": "stdout"
        },
        {
          "output_type": "stream",
          "text": [
            "\n",
            "\n",
            "\n",
            "  2%|▏         | 22/1000 [02:34<1:54:40,  7.03s/it]\u001b[A\u001b[A\u001b[A"
          ],
          "name": "stderr"
        },
        {
          "output_type": "stream",
          "text": [
            "\n",
            "loss :  82.93232230446556 val loss :  12.65861162185669 \n",
            "\n",
            "Validation loss decreased (12.941651 --> 12.658612).  Saving model ...\n"
          ],
          "name": "stdout"
        },
        {
          "output_type": "stream",
          "text": [
            "\n",
            "\n",
            "\n",
            "  2%|▏         | 23/1000 [02:41<1:54:47,  7.05s/it]\u001b[A\u001b[A\u001b[A"
          ],
          "name": "stderr"
        },
        {
          "output_type": "stream",
          "text": [
            "\n",
            "loss :  81.38351866288619 val loss :  18.504952553643122 \n",
            "\n",
            "EarlyStopping counter: 1 out of 6\n"
          ],
          "name": "stdout"
        },
        {
          "output_type": "stream",
          "text": [
            "\n",
            "\n",
            "\n",
            "  2%|▏         | 24/1000 [02:48<1:54:45,  7.06s/it]\u001b[A\u001b[A\u001b[A"
          ],
          "name": "stderr"
        },
        {
          "output_type": "stream",
          "text": [
            "\n",
            "loss :  81.7327974839644 val loss :  32.33711679246691 \n",
            "\n",
            "EarlyStopping counter: 2 out of 6\n"
          ],
          "name": "stdout"
        },
        {
          "output_type": "stream",
          "text": [
            "\n",
            "\n",
            "\n",
            "  2%|▎         | 25/1000 [02:56<1:54:43,  7.06s/it]\u001b[A\u001b[A\u001b[A"
          ],
          "name": "stderr"
        },
        {
          "output_type": "stream",
          "text": [
            "\n",
            "loss :  81.0068977355957 val loss :  17.107863426208496 \n",
            "\n",
            "EarlyStopping counter: 3 out of 6\n"
          ],
          "name": "stdout"
        },
        {
          "output_type": "stream",
          "text": [
            "\n",
            "\n",
            "\n",
            "  3%|▎         | 26/1000 [03:03<1:54:17,  7.04s/it]\u001b[A\u001b[A\u001b[A"
          ],
          "name": "stderr"
        },
        {
          "output_type": "stream",
          "text": [
            "\n",
            "loss :  79.24760052074086 val loss :  24.51580315907796 \n",
            "\n",
            "EarlyStopping counter: 4 out of 6\n"
          ],
          "name": "stdout"
        },
        {
          "output_type": "stream",
          "text": [
            "\n",
            "\n",
            "\n",
            "  3%|▎         | 27/1000 [03:10<1:54:08,  7.04s/it]\u001b[A\u001b[A\u001b[A"
          ],
          "name": "stderr"
        },
        {
          "output_type": "stream",
          "text": [
            "\n",
            "loss :  80.7051233326305 val loss :  17.527181964450413 \n",
            "\n",
            "EarlyStopping counter: 5 out of 6\n",
            "\n",
            "loss :  78.62247737537731 val loss :  24.206098492940267 \n",
            "\n",
            "EarlyStopping counter: 6 out of 6\n",
            "Early stopping\n"
          ],
          "name": "stdout"
        }
      ]
    },
    {
      "cell_type": "code",
      "metadata": {
        "id": "0YugWGXc1Jy6",
        "colab_type": "code",
        "outputId": "52dc4777-4008-41e8-a78d-8d4a11d9b84e",
        "colab": {
          "base_uri": "https://localhost:8080/",
          "height": 585
        }
      },
      "source": [
        "# visualize the loss as the network trained\n",
        "fig = plt.figure(figsize=(10,8))\n",
        "plt.plot(range(1,len(train_loss)+1),train_loss, label='Training Loss')\n",
        "plt.plot(range(1,len(valid_loss)+1),valid_loss,label='Validation Loss')\n",
        "\n",
        "# find position of lowest validation loss\n",
        "minposs = valid_loss.index(min(valid_loss))+1 \n",
        "plt.axvline(minposs, linestyle='--', color='r',label='Early Stopping Checkpoint')\n",
        "\n",
        "plt.xlabel('epochs')\n",
        "plt.ylabel('loss')\n",
        "plt.ylim(0, 300) # consistent scale\n",
        "plt.xlim(0, len(train_loss)+1) # consistent scale\n",
        "plt.grid(True)\n",
        "plt.legend()\n",
        "plt.tight_layout()\n",
        "plt.show()\n",
        "fig.savefig('loss_plot.png', bbox_inches='tight')"
      ],
      "execution_count": 73,
      "outputs": [
        {
          "output_type": "display_data",
          "data": {
            "image/png": "[encoded data removed]",
            "text/plain": [
              "<Figure size 720x576 with 1 Axes>"
            ]
          },
          "metadata": {
            "tags": [],
            "needs_background": "light"
          }
        }
      ]
    },
    {
      "cell_type": "code",
      "metadata": {
        "id": "Lbzek-ME1ML7",
        "colab_type": "code",
        "colab": {}
      },
      "source": [
        "def test(net):\n",
        "    predictions = []\n",
        "    with torch.no_grad():\n",
        "        for i, sample in enumerate(testloader):\n",
        "            predict = []\n",
        "            x ,y = sample\n",
        "            x = x.view(-1, IMG_CHANNELS, IMG_SIZE, IMG_SIZE)\n",
        "            \n",
        "            x = x.to(device)\n",
        "            y = y.to(device)\n",
        "            \n",
        "            a, b, xy, d = net(x)\n",
        "\n",
        "            #get class of a, b, d\n",
        "            #_, aa = a.max(1)\n",
        "            #_, bb = b.max(1)\n",
        "            #_, dd = d.max(1)\n",
        "\n",
        "            final_result = torch.cat([a, b, xy, d], dim = 1)\n",
        "            #print(final_result.shape)\n",
        "            #print(type(final_result))\n",
        "            final_result = final_result.to(\"cpu\")\n",
        "          \n",
        "            predictions.append(final_result.numpy())\n",
        "            \n",
        "\n",
        "    print(predictions)\n",
        "    predictions = np.array(predictions)\n",
        "    predictions = predictions.reshape(-1, OUTPUT_LABEL_SIZE)\n",
        "    #print()\n",
        "    #predictions = np.array(predictions)\n",
        "    #predictions = predictions.reshape(-1, OUTPUT_LABEL_SIZE)\n",
        "    df = DataFrame(predictions)\n",
        "    df.to_excel('predictions.xlsx', header=None)"
      ],
      "execution_count": 0,
      "outputs": []
    },
    {
      "cell_type": "code",
      "metadata": {
        "id": "M1WBAWnftkzr",
        "colab_type": "code",
        "colab": {}
      },
      "source": [
        "#for f in tqdm(os.listdir(TEST_PATH_LABEL)):\n",
        "#  path  = os.path.join(TEST_PATH_LABEL, f)\n",
        "# testset = DataCaller_Excel(path, IMG_SIZE)\n",
        "#  print(testset.__len__())\n",
        "#  testsets.append(testset)\n",
        "\n",
        "#testset = ConcatDataset(testsets)"
      ],
      "execution_count": 0,
      "outputs": []
    },
    {
      "cell_type": "code",
      "metadata": {
        "id": "xB9Ta8kV1Oay",
        "colab_type": "code",
        "colab": {
          "base_uri": "https://localhost:8080/",
          "height": 149
        },
        "outputId": "73d1c76f-51fc-4e43-a0d2-77787a62ed0f"
      },
      "source": [
        "testloader = DataLoader(testset, batch_size=1, shuffle=False)\n",
        "trained_net = Net()\n",
        "trained_net.load_state_dict(torch.load('checkpoint.pt'))\n",
        "trained_net.to(device)\n",
        "trained_net.eval()\n",
        "test(trained_net)"
      ],
      "execution_count": 76,
      "outputs": [
        {
          "output_type": "stream",
          "text": [
            "[array([[31.88322 , 13.140922, -7.457351, 37.387672]], dtype=float32), array([[23.590134 , 14.645549 , -6.4328866, 33.591053 ]], dtype=float32), array([[ 27.237152,  10.62564 , -15.979871,  25.410622]], dtype=float32), array([[59.685455, 91.484245, 45.79695 , 42.06288 ]], dtype=float32), array([[ 31.350555,  29.940262, -49.864967,  35.31233 ]], dtype=float32), array([[25.314802,  9.427336, -7.383525, 22.441982]], dtype=float32), array([[ 18.517744,  14.139503, -24.786173,  52.24604 ]], dtype=float32), array([[45.55709  , 15.192203 , -3.0359707, 39.397533 ]], dtype=float32), array([[ 26.297644,  15.564988, -36.232113,  48.603817]], dtype=float32), array([[34.830585 , 12.648577 , -5.0898023, 27.551006 ]], dtype=float32), array([[ 23.454912,  43.482006, -28.410223,  25.59731 ]], dtype=float32), array([[19.075043, 19.152477, 13.398307, 11.484597]], dtype=float32), array([[ 44.820644,  38.383812, -40.965855,  34.937283]], dtype=float32), array([[31.53859  , 10.581897 , -3.0559592, 22.685041 ]], dtype=float32), array([[ 27.062908,  13.078333, -11.184574,  36.074608]], dtype=float32), array([[ 20.430891,  12.353437, -18.43938 ,  29.835793]], dtype=float32), array([[ 20.556883,  13.846872, -17.244696,  34.175682]], dtype=float32), array([[25.854937 , 13.361367 , -7.8093133, 34.46998  ]], dtype=float32), array([[25.558468,  9.017806, -9.210207, 24.510773]], dtype=float32), array([[34.422714 , 12.259767 , -7.6130424, 28.520887 ]], dtype=float32), array([[ 26.98203 ,  29.321283, -36.735325,  30.574545]], dtype=float32), array([[ 26.84565 ,  17.55411 , -37.53275 ,  47.397907]], dtype=float32), array([[23.953568, 29.045088,  7.764409, 29.674742]], dtype=float32), array([[46.30434  , 16.050858 , -4.9028616, 35.210033 ]], dtype=float32), array([[ 45.096996,  60.15453 , -19.330061,  39.46555 ]], dtype=float32), array([[26.929504, 13.314522, -4.865766, 28.902374]], dtype=float32), array([[ 24.452423,  13.589413, -13.856671,  38.04742 ]], dtype=float32), array([[ 27.107502,  19.546608, -35.0419  ,  48.400303]], dtype=float32), array([[ 52.220577,  60.48399 , -17.184927,  50.222363]], dtype=float32), array([[ 28.50309 ,  26.072697, -39.997955,  34.59647 ]], dtype=float32), array([[22.511936, 27.770512, 20.560856,  8.884629]], dtype=float32), array([[30.524725, 13.302676, -7.686663, 35.502327]], dtype=float32), array([[15.679883, 21.082602, 13.098075, 25.506533]], dtype=float32), array([[ 19.805344,  19.286331, -19.967037,  18.055937]], dtype=float32), array([[22.584072 ,  8.641818 , -1.3610026, 25.31104  ]], dtype=float32), array([[ 25.236935,  24.617964, -39.010174,  29.238466]], dtype=float32), array([[ 30.776514,  12.962103, -17.172626,  47.357906]], dtype=float32), array([[30.784721 , 24.62944  ,  9.329425 , 11.9351015]], dtype=float32), array([[ 44.42516  ,  15.363628 , -14.6642275,  31.61945  ]],\n",
            "      dtype=float32), array([[47.34955 , 86.48105 , 39.424206, 46.41381 ]], dtype=float32), array([[38.250748 , 12.581264 , -2.1977692, 40.705753 ]], dtype=float32), array([[ 20.09637 ,  16.980537, -37.932262,  41.132965]], dtype=float32), array([[25.509995 ,  9.032864 , -3.6080062, 20.108374 ]], dtype=float32), array([[ 31.537136,  31.046728, -51.93979 ,  29.74467 ]], dtype=float32), array([[18.30909 ,  9.636202,  2.480431, 19.035633]], dtype=float32), array([[ 47.6508  ,  16.617573, -13.30918 ,  29.526209]], dtype=float32), array([[ 46.57988 ,  40.73252 , -16.187836,  29.938234]], dtype=float32), array([[ 24.051355,  18.69037 , -24.380333,  30.619452]], dtype=float32), array([[14.853388 , 28.775759 ,  4.5900064, 23.603493 ]], dtype=float32), array([[18.838278  , 10.927931  ,  0.20319577, 15.839552  ]],\n",
            "      dtype=float32), array([[21.171782, 35.913094, 12.887987, 23.818474]], dtype=float32), array([[ 35.571384,  22.604162, -45.029675,  52.19886 ]], dtype=float32), array([[32.815746, 11.669641, -9.736754, 32.487675]], dtype=float32), array([[36.87638  , 12.546577 , -5.8275647, 34.20756  ]], dtype=float32), array([[17.137442  ,  9.962935  , -0.05750424, 24.230942  ]],\n",
            "      dtype=float32), array([[ 46.650852,  16.162384, -17.386204,  37.633934]], dtype=float32), array([[ 25.316875,  37.266556, -11.55755 ,  28.15336 ]], dtype=float32), array([[26.368187 ,  9.391897 ,  3.3894289, 34.48698  ]], dtype=float32), array([[24.486776, 19.927467, 11.82507 , 10.143304]], dtype=float32), array([[ 20.535889,  13.253817, -22.72542 ,  48.454563]], dtype=float32), array([[ 25.870401,  19.150284, -35.92618 ,  26.763803]], dtype=float32), array([[38.299175, 13.539147, -4.411395, 31.449734]], dtype=float32), array([[ 23.254631,   9.617217, -16.002296,  33.925343]], dtype=float32), array([[38.28918  , 12.938014 , -6.9661636, 37.83408  ]], dtype=float32), array([[ 23.980322,  14.143392, -13.050882,  34.22575 ]], dtype=float32), array([[22.654308 , 10.208998 , -7.9863815, 28.130268 ]], dtype=float32), array([[ 27.243826,  16.148691, -27.698809,  50.309635]], dtype=float32), array([[ 40.143948,  14.260779, -18.85624 ,  38.40115 ]], dtype=float32), array([[ 31.722223,  11.031711, -16.71849 ,  43.41923 ]], dtype=float32), array([[ 27.575565,  10.879571, -17.95262 ,  42.08188 ]], dtype=float32), array([[21.61462 , 10.599587, -4.795048, 20.017633]], dtype=float32), array([[40.79525  , 14.057994 , -4.3164783, 34.326416 ]], dtype=float32), array([[21.51509  , 16.065723 ,  7.8206162, 20.238304 ]], dtype=float32), array([[ 22.941677,  19.770372, -33.372505,  21.781937]], dtype=float32), array([[ 21.712866 ,  27.643553 , -30.510777 ,  15.9932375]],\n",
            "      dtype=float32), array([[19.801088, 31.17648 , 12.063825, 48.536137]], dtype=float32), array([[24.909235, 10.219564, -8.154409, 26.47948 ]], dtype=float32), array([[ 29.073553,  11.004692, -11.693461,  34.244625]], dtype=float32), array([[19.660223 , 16.151564 , -0.0792204, 17.332533 ]], dtype=float32), array([[21.336536 , 12.209661 , -7.7664156, 28.862204 ]], dtype=float32), array([[37.004593 , 19.180548 ,  0.5945392, 12.448722 ]], dtype=float32), array([[50.283203, 16.85972 , -2.514499, 44.790977]], dtype=float32), array([[27.281113, 10.289922, -7.887732, 29.620413]], dtype=float32), array([[ 29.380554,  10.512223, -11.359744,  48.655746]], dtype=float32), array([[ 16.8303  ,  16.931473, -20.419367,  24.193773]], dtype=float32), array([[ 27.325731,  11.42256 , -11.177822,  42.979797]], dtype=float32), array([[39.99736  , 13.581274 ,  1.9925705, 37.607086 ]], dtype=float32), array([[ 21.700256,  16.043755, -39.022907,  48.18161 ]], dtype=float32), array([[24.316746 , 13.343778 ,  5.8589416, 15.692834 ]], dtype=float32), array([[ 48.329796,  54.824886, -14.844958,  34.782585]], dtype=float32), array([[34.165157, 11.5918  , -7.506758, 27.721264]], dtype=float32), array([[ 22.236986,  18.104582, -40.528957,  34.64012 ]], dtype=float32), array([[ 33.450222,  32.097008, -47.033016,  33.85917 ]], dtype=float32), array([[13.9498625, 29.253256 ,  3.8410325, 15.664761 ]], dtype=float32), array([[ 20.647673,  15.624518, -30.076294,  29.794287]], dtype=float32), array([[ 24.687403,  14.951551, -34.06287 ,  36.30656 ]], dtype=float32), array([[26.065973, 17.623829, -4.529022, 42.829987]], dtype=float32), array([[36.570255 , 12.683111 ,  1.3528136, 35.342335 ]], dtype=float32), array([[ 36.388405,  36.48445 , -23.327374,  21.83529 ]], dtype=float32), array([[ 22.822073,  17.86565 , -28.974672,  37.71446 ]], dtype=float32), array([[33.51869  , 11.191785 ,  1.3019348, 32.567154 ]], dtype=float32), array([[26.059393 ,  8.917817 ,  0.9113179, 27.180744 ]], dtype=float32), array([[ 22.207985,  16.951542, -32.31028 ,  44.625507]], dtype=float32), array([[30.694424, 11.008397, -8.264155, 23.393888]], dtype=float32), array([[ 24.560505,  21.786894, -48.265938,  35.761456]], dtype=float32), array([[ 19.891716,  17.147854, -22.51752 ,  26.9323  ]], dtype=float32), array([[24.528793, 17.614271, 10.154993, 13.223707]], dtype=float32), array([[ 30.577465 ,  11.4699955, -18.268805 ,  41.297318 ]],\n",
            "      dtype=float32), array([[34.828205 , 11.787972 , -1.6675637, 23.53217  ]], dtype=float32), array([[ 25.232922,   9.709392, -13.882014,  34.409546]], dtype=float32), array([[19.039488 ,  9.576163 ,  3.5503154, 25.188389 ]], dtype=float32), array([[35.93388 , 47.313614, 11.178713, 56.35839 ]], dtype=float32), array([[ 18.584171,  24.041164, -11.653177,  29.011501]], dtype=float32), array([[ 33.28756 ,  11.75993 , -13.763016,  43.569412]], dtype=float32), array([[36.023808, 11.994876, -2.190912, 34.585873]], dtype=float32), array([[ 22.97285 ,  14.449204, -25.268063,  31.68624 ]], dtype=float32), array([[45.843716, 16.369905, -9.739203, 30.741348]], dtype=float32), array([[ 25.03794 ,  14.97128 , -23.229345,  43.38742 ]], dtype=float32), array([[ 26.833067,  13.619687, -12.442992,  35.80312 ]], dtype=float32), array([[54.785503, 18.73244 , -8.941259, 36.426098]], dtype=float32), array([[37.2969   , 12.289118 , -6.8289204, 26.339684 ]], dtype=float32), array([[ 27.039238,  26.142656, -28.167608,  30.406826]], dtype=float32), array([[33.91573 , 11.979129, -4.133366, 38.37016 ]], dtype=float32), array([[ 28.038166,  14.207024, -21.943258,  51.83356 ]], dtype=float32), array([[25.095411, 10.169904, -4.626119, 24.317633]], dtype=float32), array([[32.45154 , 11.289296, -4.806455, 29.348812]], dtype=float32), array([[27.921629 , 10.391461 , -6.0598454, 27.848923 ]], dtype=float32), array([[32.890827 , 11.568133 , -5.0033703, 29.294733 ]], dtype=float32), array([[ 21.400846,  15.075516, -32.320957,  51.046635]], dtype=float32), array([[24.494442 ,  9.290314 , -1.6804003, 26.348497 ]], dtype=float32), array([[ 24.063326,  17.416283, -40.583652,  44.972794]], dtype=float32), array([[28.55113  , 10.363237 ,  3.7169728, 26.681652 ]], dtype=float32), array([[19.038944 , 14.1954975,  2.9106755, 29.237646 ]], dtype=float32), array([[23.840122 , 10.229024 ,  2.7815866, 22.705423 ]], dtype=float32), array([[ 19.351864,  16.431301, -25.7191  ,  31.533598]], dtype=float32), array([[19.074461 , 15.605152 ,  3.8392782, 30.74665  ]], dtype=float32), array([[28.49269  , 13.204843 ,  1.9236029, 15.480721 ]], dtype=float32), array([[ 23.836185,  17.554565, -35.42361 ,  24.533367]], dtype=float32), array([[ 24.739807,  11.24569 , -19.176107,  50.669914]], dtype=float32), array([[ 18.269371,  23.023785, -15.949039,  19.956335]], dtype=float32), array([[19.742373, 24.130095, -7.83682 , 31.329714]], dtype=float32), array([[22.21573  , 16.750456 , -2.0936978, 21.721754 ]], dtype=float32), array([[ 32.27402 ,  11.701881, -15.255491,  33.31884 ]], dtype=float32), array([[ 29.481905,  28.98196 , -51.289597,  29.5987  ]], dtype=float32), array([[30.922476, 12.240659, -9.092244, 38.517654]], dtype=float32), array([[ 24.52369 ,  23.29026 , -40.76235 ,  28.082548]], dtype=float32), array([[ 21.685835,  36.485798, -22.987232,  31.535439]], dtype=float32), array([[ 26.465736,   9.435882, -10.704665,  34.79235 ]], dtype=float32), array([[ 35.77544 ,  12.309644, -14.048268,  38.68392 ]], dtype=float32), array([[40.332947 , 13.473003 , -0.8406861, 30.488117 ]], dtype=float32), array([[ 51.63749 , 110.19411 ,  40.747326,  53.16472 ]], dtype=float32), array([[ 23.797998,  13.744247, -21.794302,  30.976889]], dtype=float32), array([[27.237484 ,  9.7103815, -7.9813423, 33.346794 ]], dtype=float32), array([[27.013979, 15.789238,  7.5766  ,  9.333321]], dtype=float32), array([[23.379192, 24.44694 , -8.048441, 24.786987]], dtype=float32), array([[ 28.485497,  31.787844, -35.17588 ,  25.384264]], dtype=float32), array([[46.20338  , 16.000956 , -1.4943825, 37.474358 ]], dtype=float32), array([[ 29.356373,  35.666725, -28.140205,  37.383392]], dtype=float32), array([[31.06963 , 10.458669, -6.794642, 24.626875]], dtype=float32), array([[ 23.66542 ,  18.91932 , -26.527042,  32.46175 ]], dtype=float32), array([[ 21.839817,  13.04377 , -24.092028,  42.289593]], dtype=float32), array([[ 60.16672,  71.4813 , -15.44033,  43.03855]], dtype=float32), array([[11.271496 , 24.078648 ,  2.5137265, 17.458088 ]], dtype=float32), array([[ 19.503296,  11.465758, -17.620134,  28.896414]], dtype=float32), array([[ 24.38758 ,  24.879211, -41.969826,  28.95571 ]], dtype=float32), array([[ 28.035683,  10.335748, -21.678053,  38.99861 ]], dtype=float32), array([[28.675894, 10.48907 , -8.044417, 30.701002]], dtype=float32), array([[ 31.425816,  11.199745, -11.515345,  30.653177]], dtype=float32), array([[ 23.621113,  30.213837, -20.416063,  17.184988]], dtype=float32), array([[ 20.913435,  16.094683, -28.645666,  34.287872]], dtype=float32), array([[ 23.773067,   9.624978, -17.043459,  37.96679 ]], dtype=float32), array([[ 19.626654,  23.092556, -45.787083,  21.814045]], dtype=float32), array([[17.295218, 18.82652 ,  8.428251, 22.025793]], dtype=float32), array([[27.266815 ,  9.290427 , -2.8213494, 19.87688  ]], dtype=float32), array([[ 26.125414,   9.450188, -13.301852,  33.797504]], dtype=float32), array([[ 20.190361,  17.022203, -37.17388 ,  40.477745]], dtype=float32), array([[10.790702 , 19.074211 ,  1.3850769, 17.366022 ]], dtype=float32), array([[32.72075 , 11.076745, -4.956135, 24.199568]], dtype=float32), array([[ 28.990404,  19.85467 , -28.373363,  52.01643 ]], dtype=float32), array([[ 21.58083 ,  10.91184 , -17.720684,  43.969738]], dtype=float32), array([[ 18.735573,  22.415592, -12.461578,  21.71629 ]], dtype=float32), array([[ 22.615572,  23.922148, -17.239365,  16.448086]], dtype=float32), array([[23.152205,  9.42694 , -9.811587, 25.869421]], dtype=float32), array([[28.977137, 10.124392, -6.758797, 32.02065 ]], dtype=float32), array([[ 24.678154,  11.743099, -17.656666,  43.144085]], dtype=float32), array([[33.08113 , 14.831982, 13.512369, 18.463072]], dtype=float32), array([[ 19.103949,  18.547941, -16.528822,  17.812645]], dtype=float32), array([[28.998768, 10.270619, -9.73797 , 37.472668]], dtype=float32), array([[ 27.821203,  27.94802 , -49.0462  ,  28.284632]], dtype=float32), array([[ 19.278458,  18.306536, -11.691425,  39.42645 ]], dtype=float32), array([[ 30.021894,  11.734899, -19.46124 ,  44.395523]], dtype=float32), array([[ 23.87834 ,  18.912792, -37.76569 ,  24.79509 ]], dtype=float32), array([[ 48.991596,  61.33289 , -28.257294,  36.187897]], dtype=float32), array([[ 59.70565 ,  32.259895, -53.84253 ,  39.012497]], dtype=float32), array([[27.724142 , 27.665041 , -6.8367586, 30.464008 ]], dtype=float32), array([[ 25.319649,  10.00335 , -17.700308,  38.729565]], dtype=float32), array([[ 19.844505,  23.125612, -35.96487 ,  29.410614]], dtype=float32), array([[24.64864  , 16.026655 , 10.4450655, 14.756139 ]], dtype=float32), array([[26.262089, 13.985277, -9.436969, 38.913326]], dtype=float32), array([[16.851456, 33.265278, 14.215073, 25.246979]], dtype=float32)]\n"
          ],
          "name": "stdout"
        }
      ]
    },
    {
      "cell_type": "code",
      "metadata": {
        "id": "TUGAIXy_1PnL",
        "colab_type": "code",
        "outputId": "5266174d-a883-4423-a693-2a44c134d6f5",
        "colab": {
          "base_uri": "https://localhost:8080/",
          "height": 251
        }
      },
      "source": [
        "testloader = DataLoader(testset, batch_size=1, shuffle=False)\n",
        "#trained_net = Net()\n",
        "load_net.load_state_dict(torch.load(LOAD_PRETRAINED_PATH))\n",
        "load_net.to(device)\n",
        "load_net.eval()\n",
        "test(load_net)"
      ],
      "execution_count": 23,
      "outputs": [
        {
          "output_type": "error",
          "ename": "NameError",
          "evalue": "ignored",
          "traceback": [
            "\u001b[0;31m---------------------------------------------------------------------------\u001b[0m",
            "\u001b[0;31mNameError\u001b[0m                                 Traceback (most recent call last)",
            "\u001b[0;32m<ipython-input-23-72c7045d4cd4>\u001b[0m in \u001b[0;36m<module>\u001b[0;34m()\u001b[0m\n\u001b[1;32m      1\u001b[0m \u001b[0mtestloader\u001b[0m \u001b[0;34m=\u001b[0m \u001b[0mDataLoader\u001b[0m\u001b[0;34m(\u001b[0m\u001b[0mtestset\u001b[0m\u001b[0;34m,\u001b[0m \u001b[0mbatch_size\u001b[0m\u001b[0;34m=\u001b[0m\u001b[0;36m1\u001b[0m\u001b[0;34m,\u001b[0m \u001b[0mshuffle\u001b[0m\u001b[0;34m=\u001b[0m\u001b[0;32mFalse\u001b[0m\u001b[0;34m)\u001b[0m\u001b[0;34m\u001b[0m\u001b[0;34m\u001b[0m\u001b[0m\n\u001b[1;32m      2\u001b[0m \u001b[0;31m#trained_net = Net()\u001b[0m\u001b[0;34m\u001b[0m\u001b[0;34m\u001b[0m\u001b[0;34m\u001b[0m\u001b[0m\n\u001b[0;32m----> 3\u001b[0;31m \u001b[0mload_net\u001b[0m\u001b[0;34m.\u001b[0m\u001b[0mload_state_dict\u001b[0m\u001b[0;34m(\u001b[0m\u001b[0mtorch\u001b[0m\u001b[0;34m.\u001b[0m\u001b[0mload\u001b[0m\u001b[0;34m(\u001b[0m\u001b[0mLOAD_PRETRAINED_PATH\u001b[0m\u001b[0;34m)\u001b[0m\u001b[0;34m)\u001b[0m\u001b[0;34m\u001b[0m\u001b[0;34m\u001b[0m\u001b[0m\n\u001b[0m\u001b[1;32m      4\u001b[0m \u001b[0mload_net\u001b[0m\u001b[0;34m.\u001b[0m\u001b[0mto\u001b[0m\u001b[0;34m(\u001b[0m\u001b[0mdevice\u001b[0m\u001b[0;34m)\u001b[0m\u001b[0;34m\u001b[0m\u001b[0;34m\u001b[0m\u001b[0m\n\u001b[1;32m      5\u001b[0m \u001b[0mload_net\u001b[0m\u001b[0;34m.\u001b[0m\u001b[0meval\u001b[0m\u001b[0;34m(\u001b[0m\u001b[0;34m)\u001b[0m\u001b[0;34m\u001b[0m\u001b[0;34m\u001b[0m\u001b[0m\n",
            "\u001b[0;31mNameError\u001b[0m: name 'load_net' is not defined"
          ]
        }
      ]
    },
    {
      "cell_type": "code",
      "metadata": {
        "id": "BnCvX8R-LlSi",
        "colab_type": "code",
        "colab": {}
      },
      "source": [
        ""
      ],
      "execution_count": 0,
      "outputs": []
    }
  ]
}
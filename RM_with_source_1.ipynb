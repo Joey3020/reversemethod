{
 "cells": [
  {
   "cell_type": "code",
   "execution_count": 1,
   "metadata": {},
   "outputs": [
    {
     "name": "stdout",
     "output_type": "stream",
     "text": [
      "cpu\n"
     ]
    }
   ],
   "source": [
    "import numpy as np\n",
    "import pandas as pd\n",
    "from pandas import DataFrame\n",
    "import torch\n",
    "import torch.nn as nn\n",
    "import torch.nn.functional as F\n",
    "import torch.optim as optim\n",
    "from torch.utils.data import Dataset\n",
    "from torch.utils.data import DataLoader\n",
    "import matplotlib.pyplot as plt\n",
    "import math\n",
    "import os\n",
    "from tqdm import tqdm\n",
    "import time\n",
    "from DataCaller import DataCaller\n",
    "from Model import Net\n",
    "from EarlyStop import EarlyStopping\n",
    "\n",
    "#use gpu    please somebody buy me a gpu .......\n",
    "USE_GPU = True\n",
    "if USE_GPU and torch.cuda.is_available():\n",
    "    device = torch.device('cuda')\n",
    "else:\n",
    "    device = torch.device('cpu')\n",
    "print(device)\n",
    "\n",
    "#Global variables\n",
    "LOAD_DATA = True\n",
    "BATCH_SIZE = 10\n",
    "VAL_BATCH_SIZE = 2\n",
    "LEARNING_RATE = 1e-3\n",
    "EPOCHS = 50\n",
    "PATIENCE = 20\n",
    "VALIDATE_EVERY = 5\n",
    "MODEL_NAME = f\"model-{int(time.time())}\""
   ]
  },
  {
   "cell_type": "code",
   "execution_count": 2,
   "metadata": {},
   "outputs": [],
   "source": [
    "#data path\n",
    "TRAIN_PATH_IMG = os.path.join('images', 'train')\n",
    "TRAIN_PATH_LABEL = 'traindata(small).xlsx'\n",
    "VAL_PATH_IMG = os.path.join('images', 'val')\n",
    "VAL_PATH_LABEL = 'valdata(small).xlsx'\n",
    "TEST_PATH_IMG = os.path.join('images', 'test')\n",
    "TEST_PATH_LABEL = 'testdata(small).xlsx'\n",
    "IMG_SIZE = 64\n"
   ]
  },
  {
   "cell_type": "code",
   "execution_count": 3,
   "metadata": {},
   "outputs": [],
   "source": [
    "#load data\n",
    "if LOAD_DATA:\n",
    "    trainset = DataCaller(TRAIN_PATH_IMG, TRAIN_PATH_LABEL, IMG_SIZE)\n",
    "    valset = DataCaller(VAL_PATH_IMG, VAL_PATH_LABEL, IMG_SIZE)\n",
    "    testset = DataCaller(TEST_PATH_IMG, TEST_PATH_LABEL, IMG_SIZE)\n",
    "    print(trainset.__len__())\n",
    "    print(valset.__len__())\n",
    "    print(testset.__len__())"
   ]
  },
  {
   "cell_type": "code",
   "execution_count": 4,
   "metadata": {},
   "outputs": [],
   "source": [
    "#define dataloaders\n",
    "trainloader = DataLoader(trainset, batch_size = BATCH_SIZE, shuffle=True)\n",
    "valloader = DataLoader(valset, batch_size=BATCH_SIZE, shuffle=True)\n",
    "testloader = DataLoader(testset, batch_size=1, shuffle=False)"
   ]
  },
  {
   "cell_type": "code",
   "execution_count": 5,
   "metadata": {},
   "outputs": [
    {
     "data": {
      "image/png": "[encoded data removed]",
      "text/plain": [
       "<Figure size 432x288 with 1 Axes>"
      ]
     },
     "metadata": {
      "needs_background": "light"
     },
     "output_type": "display_data"
    },
    {
     "name": "stdout",
     "output_type": "stream",
     "text": [
      "tensor([[15.1805, 19.4362,  9.6808, 18.6140,  1.9628],\n",
      "        [12.5479, 12.2404,  8.3799, 10.3357,  2.3778],\n",
      "        [16.9989, 16.3853,  0.5712,  1.1274,  2.2784],\n",
      "        [16.4762, 16.7902, 10.4753, 15.8696,  1.8357],\n",
      "        [17.7016, 13.2247, 13.8911,  6.2336,  1.1431],\n",
      "        [16.5961, 15.1859, 16.1475,  9.8556,  4.2013],\n",
      "        [17.7880, 14.2345,  1.6156,  3.7931,  1.6146],\n",
      "        [11.2061, 15.8951,  2.5347,  6.1135,  3.3319],\n",
      "        [11.3607, 18.6929,  6.5858, 10.2785,  1.5798],\n",
      "        [16.0739, 11.9175, 11.8694,  2.8941,  4.6697]])\n"
     ]
    }
   ],
   "source": [
    "#just checking if the data is loaded properly\n",
    "for i, data in enumerate(trainloader):\n",
    "    x, y = data\n",
    "    #print(x)\n",
    "    x = np.array(x)\n",
    "    x = x.reshape(IMG_SIZE, IMG_SIZE, -1)\n",
    "    #print(x)\n",
    "    x = x.astype(int)\n",
    "    plt.imshow(x[0])\n",
    "    plt.show()\n",
    "    print(y)\n",
    "    break"
   ]
  },
  {
   "cell_type": "code",
   "execution_count": 6,
   "metadata": {},
   "outputs": [],
   "source": [
    "#train the model\n",
    "def train(net, model_name, patience, validate_every):\n",
    "    \n",
    "    optimizer = optim.Adam(net.parameters(), LEARNING_RATE, betas=(0.9, 0.999), eps=1e-08, weight_decay=0, amsgrad=False)\n",
    "    loss_function = nn.MSELoss()\n",
    "    \n",
    "    train_losses = []\n",
    "    val_losses = []\n",
    "    avg_train_losses = []\n",
    "    avg_val_losses = []\n",
    "    early_stopping = EarlyStopping(patience=patience, verbose=True)\n",
    "\n",
    "    with open(\"model.log\", \"a\") as f:\n",
    "        for epoch in tqdm(range(EPOCHS)):\n",
    "                net.train()\n",
    "                for batch_idx, samples in enumerate(trainloader):\n",
    "                    x, y = samples\n",
    "                    x = x.view(-1, 3, IMG_SIZE, IMG_SIZE)\n",
    "\n",
    "                    net.zero_grad()\n",
    "                    pred = net(x)\n",
    "                    loss = loss_function(pred, y)\n",
    "                    loss.backward()\n",
    "                    optimizer.step()\n",
    "                    \n",
    "                    error = (pred - y) / y\n",
    "                    error = error.mean(0)\n",
    "                    train_losses.append(loss.item())\n",
    "                    \n",
    "                    #if idx%validate_every == 0:\n",
    "                net.eval()\n",
    "                for batch_idx, samples in enumerate(valloader):\n",
    "                    val_x, val_y = samples\n",
    "                    val_x = val_x.view(-1, 3, IMG_SIZE, IMG_SIZE)\n",
    "                    val_pred = net(val_x)\n",
    "                    val_loss = loss_function(val_pred, val_y)\n",
    "                    val_error = (val_pred - val_y) / val_y\n",
    "                    val_error = val_error.mean(0)\n",
    "                    val_losses.append(val_loss.item())\n",
    "                    \n",
    "                train_loss = np.average(train_losses)\n",
    "                valid_loss = np.average(val_losses)\n",
    "                avg_train_losses.append(train_loss)\n",
    "                avg_val_losses.append(valid_loss)\n",
    "                \n",
    "                train_losses = []\n",
    "                val_losses = []\n",
    "                \n",
    "                f.write(f\"{MODEL_NAME},{round(time.time(),3)},  {round(float(loss), 4)},  {round(float(val_loss),4)}\\n\")\n",
    "                print(\"batch : \", batch_idx)\n",
    "                print(\"loss : \", loss, \"\\nval loss : \", val_loss, \"\\n\")\n",
    "                print(\"error : \", error, \"\\nval error : \", val_error)\n",
    "                \n",
    "                early_stopping(valid_loss, net)\n",
    "                \n",
    "                if early_stopping.early_stop:\n",
    "                    print(\"Early stopping\")\n",
    "                    break\n",
    "        # load the last checkpoint with the best model\n",
    "        net.load_state_dict(torch.load('checkpoint.pt'))\n",
    "        \n",
    "        return avg_train_losses, avg_val_losses"
   ]
  },
  {
   "cell_type": "code",
   "execution_count": 7,
   "metadata": {},
   "outputs": [
    {
     "name": "stderr",
     "output_type": "stream",
     "text": [
      "  2%|█▋                                                                                 | 1/50 [00:01<01:35,  1.96s/it]"
     ]
    },
    {
     "name": "stdout",
     "output_type": "stream",
     "text": [
      "batch :  9\n",
      "loss :  tensor(57.2146, grad_fn=<MseLossBackward>) \n",
      "val loss :  tensor(64.1871, grad_fn=<MseLossBackward>) \n",
      "\n",
      "error :  tensor([-7.1837e-03,  4.2803e-01,  1.6990e+01,  3.9738e-01,  2.8046e+00],\n",
      "       grad_fn=<MeanBackward1>) \n",
      "val error :  tensor([0.1857, 0.7570, 2.6017, 6.2722, 0.6067], grad_fn=<MeanBackward1>)\n",
      "Validation loss decreased (inf --> 50.737295).  Saving model ...\n"
     ]
    },
    {
     "name": "stderr",
     "output_type": "stream",
     "text": [
      "\r",
      "  4%|███▎                                                                               | 2/50 [00:03<01:32,  1.93s/it]"
     ]
    },
    {
     "name": "stdout",
     "output_type": "stream",
     "text": [
      "batch :  9\n",
      "loss :  tensor(27.9316, grad_fn=<MseLossBackward>) \n",
      "val loss :  tensor(19.1935, grad_fn=<MseLossBackward>) \n",
      "\n",
      "error :  tensor([0.1745, 0.1073, 0.4275, 2.0702, 0.0822], grad_fn=<MeanBackward1>) \n",
      "val error :  tensor([ 0.0152, -0.1324,  0.8501,  0.7994, -0.0961], grad_fn=<MeanBackward1>)\n",
      "Validation loss decreased (50.737295 --> 16.608881).  Saving model ...\n"
     ]
    },
    {
     "name": "stderr",
     "output_type": "stream",
     "text": [
      "\r",
      "  6%|████▉                                                                              | 3/50 [00:05<01:31,  1.95s/it]"
     ]
    },
    {
     "name": "stdout",
     "output_type": "stream",
     "text": [
      "batch :  9\n",
      "loss :  tensor(23.0691, grad_fn=<MseLossBackward>) \n",
      "val loss :  tensor(17.3287, grad_fn=<MseLossBackward>) \n",
      "\n",
      "error :  tensor([ 0.1783,  0.1325,  0.7336, -0.3711,  0.4232], grad_fn=<MeanBackward1>) \n",
      "val error :  tensor([-0.0671, -0.0042,  1.0686,  1.9495,  0.3776], grad_fn=<MeanBackward1>)\n",
      "EarlyStopping counter: 1 out of 20\n"
     ]
    },
    {
     "name": "stderr",
     "output_type": "stream",
     "text": [
      "\r",
      "  8%|██████▋                                                                            | 4/50 [00:07<01:29,  1.94s/it]"
     ]
    },
    {
     "name": "stdout",
     "output_type": "stream",
     "text": [
      "batch :  9\n",
      "loss :  tensor(30.2144, grad_fn=<MseLossBackward>) \n",
      "val loss :  tensor(29.0638, grad_fn=<MseLossBackward>) \n",
      "\n",
      "error :  tensor([-0.3405, -0.3693,  4.7756,  0.1437,  0.1225], grad_fn=<MeanBackward1>) \n",
      "val error :  tensor([-0.3699, -0.3051,  0.1488, -0.1576, -0.2984], grad_fn=<MeanBackward1>)\n",
      "EarlyStopping counter: 2 out of 20\n"
     ]
    },
    {
     "name": "stderr",
     "output_type": "stream",
     "text": [
      "\r",
      " 10%|████████▎                                                                          | 5/50 [00:10<01:32,  2.04s/it]"
     ]
    },
    {
     "name": "stdout",
     "output_type": "stream",
     "text": [
      "batch :  9\n",
      "loss :  tensor(21.2931, grad_fn=<MseLossBackward>) \n",
      "val loss :  tensor(18.2376, grad_fn=<MseLossBackward>) \n",
      "\n",
      "error :  tensor([-0.2638, -0.2314, -0.2601,  1.2613, -0.2295], grad_fn=<MeanBackward1>) \n",
      "val error :  tensor([-0.1955, -0.1114,  5.2088, 63.4111, -0.0742], grad_fn=<MeanBackward1>)\n",
      "EarlyStopping counter: 3 out of 20\n"
     ]
    },
    {
     "name": "stderr",
     "output_type": "stream",
     "text": [
      "\r",
      " 12%|█████████▉                                                                         | 6/50 [00:12<01:30,  2.07s/it]"
     ]
    },
    {
     "name": "stdout",
     "output_type": "stream",
     "text": [
      "batch :  9\n",
      "loss :  tensor(17.9951, grad_fn=<MseLossBackward>) \n",
      "val loss :  tensor(14.5867, grad_fn=<MseLossBackward>) \n",
      "\n",
      "error :  tensor([0.0604, 0.0711, 0.1598, 0.4657, 0.2967], grad_fn=<MeanBackward1>) \n",
      "val error :  tensor([0.0899, 0.1516, 0.2126, 2.4296, 0.4069], grad_fn=<MeanBackward1>)\n",
      "Validation loss decreased (16.608881 --> 14.358925).  Saving model ...\n"
     ]
    },
    {
     "name": "stderr",
     "output_type": "stream",
     "text": [
      "\r",
      " 14%|███████████▌                                                                       | 7/50 [00:14<01:28,  2.07s/it]"
     ]
    },
    {
     "name": "stdout",
     "output_type": "stream",
     "text": [
      "batch :  9\n",
      "loss :  tensor(9.7290, grad_fn=<MseLossBackward>) \n",
      "val loss :  tensor(9.5723, grad_fn=<MseLossBackward>) \n",
      "\n",
      "error :  tensor([ 0.0773, -0.0726,  1.7623,  0.8352, -0.0679], grad_fn=<MeanBackward1>) \n",
      "val error :  tensor([-1.2101e-04,  1.0122e-01,  7.4621e-01,  8.0536e-01, -3.1353e-02],\n",
      "       grad_fn=<MeanBackward1>)\n",
      "EarlyStopping counter: 1 out of 20\n"
     ]
    },
    {
     "name": "stderr",
     "output_type": "stream",
     "text": [
      "\r",
      " 16%|█████████████▎                                                                     | 8/50 [00:16<01:26,  2.06s/it]"
     ]
    },
    {
     "name": "stdout",
     "output_type": "stream",
     "text": [
      "batch :  9\n",
      "loss :  tensor(12.0696, grad_fn=<MseLossBackward>) \n",
      "val loss :  tensor(19.5962, grad_fn=<MseLossBackward>) \n",
      "\n",
      "error :  tensor([-0.0468, -0.1329, -0.0990,  0.0190,  0.1673], grad_fn=<MeanBackward1>) \n",
      "val error :  tensor([-0.1937, -0.0333,  3.8076,  4.0895, -0.0742], grad_fn=<MeanBackward1>)\n",
      "EarlyStopping counter: 2 out of 20\n"
     ]
    },
    {
     "name": "stderr",
     "output_type": "stream",
     "text": [
      "\r",
      " 18%|██████████████▉                                                                    | 9/50 [00:18<01:24,  2.07s/it]"
     ]
    },
    {
     "name": "stdout",
     "output_type": "stream",
     "text": [
      "batch :  9\n",
      "loss :  tensor(14.2012, grad_fn=<MseLossBackward>) \n",
      "val loss :  tensor(10.2330, grad_fn=<MseLossBackward>) \n",
      "\n",
      "error :  tensor([-0.1557, -0.1324,  0.4234,  0.5307, -0.2811], grad_fn=<MeanBackward1>) \n",
      "val error :  tensor([-0.0847,  0.0546,  2.3125,  0.0469,  0.1897], grad_fn=<MeanBackward1>)\n",
      "Validation loss decreased (14.358925 --> 14.130838).  Saving model ...\n"
     ]
    },
    {
     "name": "stderr",
     "output_type": "stream",
     "text": [
      "\r",
      " 20%|████████████████▍                                                                 | 10/50 [00:20<01:24,  2.10s/it]"
     ]
    },
    {
     "name": "stdout",
     "output_type": "stream",
     "text": [
      "batch :  9\n",
      "loss :  tensor(25.1442, grad_fn=<MseLossBackward>) \n",
      "val loss :  tensor(19.8163, grad_fn=<MseLossBackward>) \n",
      "\n",
      "error :  tensor([-0.1588, -0.1741,  0.2699, -0.1149,  0.1747], grad_fn=<MeanBackward1>) \n",
      "val error :  tensor([0.2246, 0.2509, 6.6522, 6.6058, 0.0828], grad_fn=<MeanBackward1>)\n",
      "EarlyStopping counter: 1 out of 20\n"
     ]
    },
    {
     "name": "stderr",
     "output_type": "stream",
     "text": [
      "\r",
      " 22%|██████████████████                                                                | 11/50 [00:22<01:21,  2.09s/it]"
     ]
    },
    {
     "name": "stdout",
     "output_type": "stream",
     "text": [
      "batch :  9\n",
      "loss :  tensor(18.7959, grad_fn=<MseLossBackward>) \n",
      "val loss :  tensor(21.0964, grad_fn=<MseLossBackward>) \n",
      "\n",
      "error :  tensor([0.1143, 0.1399, 1.2459, 0.7133, 0.2788], grad_fn=<MeanBackward1>) \n",
      "val error :  tensor([0.2026, 0.1538, 2.1041, 2.0504, 0.4076], grad_fn=<MeanBackward1>)\n",
      "EarlyStopping counter: 2 out of 20\n"
     ]
    },
    {
     "name": "stderr",
     "output_type": "stream",
     "text": [
      "\r",
      " 24%|███████████████████▋                                                              | 12/50 [00:24<01:18,  2.06s/it]"
     ]
    },
    {
     "name": "stdout",
     "output_type": "stream",
     "text": [
      "batch :  9\n",
      "loss :  tensor(12.6752, grad_fn=<MseLossBackward>) \n",
      "val loss :  tensor(19.1004, grad_fn=<MseLossBackward>) \n",
      "\n",
      "error :  tensor([-0.1032,  0.0306,  0.3438,  0.5138,  0.0225], grad_fn=<MeanBackward1>) \n",
      "val error :  tensor([-0.1651, -0.1888,  0.1983,  0.7253,  0.0091], grad_fn=<MeanBackward1>)\n",
      "EarlyStopping counter: 3 out of 20\n"
     ]
    },
    {
     "name": "stderr",
     "output_type": "stream",
     "text": [
      "\r",
      " 26%|█████████████████████▎                                                            | 13/50 [00:26<01:16,  2.07s/it]"
     ]
    },
    {
     "name": "stdout",
     "output_type": "stream",
     "text": [
      "batch :  9\n",
      "loss :  tensor(17.7483, grad_fn=<MseLossBackward>) \n",
      "val loss :  tensor(17.7261, grad_fn=<MseLossBackward>) \n",
      "\n",
      "error :  tensor([0.1336, 0.0507, 0.3323, 1.0463, 0.2890], grad_fn=<MeanBackward1>) \n",
      "val error :  tensor([-1.5576e-01, -4.0671e-02,  7.4393e-01,  6.6040e+01, -3.2793e-01],\n",
      "       grad_fn=<MeanBackward1>)\n",
      "EarlyStopping counter: 4 out of 20\n"
     ]
    },
    {
     "name": "stderr",
     "output_type": "stream",
     "text": [
      "\r",
      " 28%|██████████████████████▉                                                           | 14/50 [00:28<01:15,  2.09s/it]"
     ]
    },
    {
     "name": "stdout",
     "output_type": "stream",
     "text": [
      "batch :  9\n",
      "loss :  tensor(19.3045, grad_fn=<MseLossBackward>) \n",
      "val loss :  tensor(14.7123, grad_fn=<MseLossBackward>) \n",
      "\n",
      "error :  tensor([-0.2677, -0.1993,  1.7378,  0.9210, -0.2119], grad_fn=<MeanBackward1>) \n",
      "val error :  tensor([-0.2304, -0.1764,  1.1936,  0.6182, -0.2358], grad_fn=<MeanBackward1>)\n",
      "EarlyStopping counter: 5 out of 20\n"
     ]
    },
    {
     "name": "stderr",
     "output_type": "stream",
     "text": [
      "\r",
      " 30%|████████████████████████▌                                                         | 15/50 [00:30<01:11,  2.05s/it]"
     ]
    },
    {
     "name": "stdout",
     "output_type": "stream",
     "text": [
      "batch :  9\n",
      "loss :  tensor(20.7377, grad_fn=<MseLossBackward>) \n",
      "val loss :  tensor(13.3711, grad_fn=<MseLossBackward>) \n",
      "\n",
      "error :  tensor([-0.1294, -0.1434,  0.0438,  1.8092, -0.2095], grad_fn=<MeanBackward1>) \n",
      "val error :  tensor([ 0.0432,  0.1687,  1.4632,  2.9314, -0.1197], grad_fn=<MeanBackward1>)\n",
      "Validation loss decreased (14.130838 --> 13.497696).  Saving model ...\n"
     ]
    },
    {
     "name": "stderr",
     "output_type": "stream",
     "text": [
      "\r",
      " 32%|██████████████████████████▏                                                       | 16/50 [00:32<01:09,  2.04s/it]"
     ]
    },
    {
     "name": "stdout",
     "output_type": "stream",
     "text": [
      "batch :  9\n",
      "loss :  tensor(11.7489, grad_fn=<MseLossBackward>) \n",
      "val loss :  tensor(11.2759, grad_fn=<MseLossBackward>) \n",
      "\n",
      "error :  tensor([ 6.4501e-03, -9.4225e-02,  7.8687e+00,  3.9402e-01,  1.0829e-01],\n",
      "       grad_fn=<MeanBackward1>) \n",
      "val error :  tensor([ 0.0380,  0.0616,  0.9375, -0.0305,  0.3213], grad_fn=<MeanBackward1>)\n",
      "EarlyStopping counter: 1 out of 20\n"
     ]
    },
    {
     "name": "stderr",
     "output_type": "stream",
     "text": [
      "\r",
      " 34%|███████████████████████████▉                                                      | 17/50 [00:34<01:06,  2.03s/it]"
     ]
    },
    {
     "name": "stdout",
     "output_type": "stream",
     "text": [
      "batch :  9\n",
      "loss :  tensor(20.2964, grad_fn=<MseLossBackward>) \n",
      "val loss :  tensor(10.5428, grad_fn=<MseLossBackward>) \n",
      "\n",
      "error :  tensor([-0.0300, -0.0251,  0.2701,  0.0347,  0.9000], grad_fn=<MeanBackward1>) \n",
      "val error :  tensor([0.1918, 0.1540, 0.6876, 1.6271, 0.0976], grad_fn=<MeanBackward1>)\n",
      "EarlyStopping counter: 2 out of 20\n"
     ]
    },
    {
     "name": "stderr",
     "output_type": "stream",
     "text": [
      "\r",
      " 36%|█████████████████████████████▌                                                    | 18/50 [00:36<01:04,  2.00s/it]"
     ]
    },
    {
     "name": "stdout",
     "output_type": "stream",
     "text": [
      "batch :  9\n",
      "loss :  tensor(22.2814, grad_fn=<MseLossBackward>) \n",
      "val loss :  tensor(11.8931, grad_fn=<MseLossBackward>) \n",
      "\n",
      "error :  tensor([-0.2373, -0.1272,  5.9246,  0.5912, -0.2639], grad_fn=<MeanBackward1>) \n",
      "val error :  tensor([ 0.2691,  0.1593,  0.9653,  0.5013, -0.0933], grad_fn=<MeanBackward1>)\n",
      "EarlyStopping counter: 3 out of 20\n"
     ]
    },
    {
     "name": "stderr",
     "output_type": "stream",
     "text": [
      "\r",
      " 38%|███████████████████████████████▏                                                  | 19/50 [00:38<01:02,  2.00s/it]"
     ]
    },
    {
     "name": "stdout",
     "output_type": "stream",
     "text": [
      "batch :  9\n",
      "loss :  tensor(20.7876, grad_fn=<MseLossBackward>) \n",
      "val loss :  tensor(11.9207, grad_fn=<MseLossBackward>) \n",
      "\n",
      "error :  tensor([0.0990, 0.0207, 1.2728, 6.7580, 0.1487], grad_fn=<MeanBackward1>) \n",
      "val error :  tensor([0.0391, 0.0529, 2.6109, 0.2922, 0.4995], grad_fn=<MeanBackward1>)\n",
      "Validation loss decreased (13.497696 --> 13.118647).  Saving model ...\n"
     ]
    },
    {
     "name": "stderr",
     "output_type": "stream",
     "text": [
      "\r",
      " 40%|████████████████████████████████▊                                                 | 20/50 [00:40<00:59,  2.00s/it]"
     ]
    },
    {
     "name": "stdout",
     "output_type": "stream",
     "text": [
      "batch :  9\n",
      "loss :  tensor(8.7363, grad_fn=<MseLossBackward>) \n",
      "val loss :  tensor(10.6898, grad_fn=<MseLossBackward>) \n",
      "\n",
      "error :  tensor([ 0.0966, -0.0761,  0.3562,  0.1117,  0.1898], grad_fn=<MeanBackward1>) \n",
      "val error :  tensor([-0.0556, -0.0282,  0.5505,  1.1946, -0.0380], grad_fn=<MeanBackward1>)\n",
      "EarlyStopping counter: 1 out of 20\n"
     ]
    },
    {
     "name": "stderr",
     "output_type": "stream",
     "text": [
      "\r",
      " 42%|██████████████████████████████████▍                                               | 21/50 [00:42<00:59,  2.07s/it]"
     ]
    },
    {
     "name": "stdout",
     "output_type": "stream",
     "text": [
      "batch :  9\n",
      "loss :  tensor(22.8922, grad_fn=<MseLossBackward>) \n",
      "val loss :  tensor(17.2411, grad_fn=<MseLossBackward>) \n",
      "\n",
      "error :  tensor([0.1771, 0.2620, 2.0212, 5.4135, 1.2264], grad_fn=<MeanBackward1>) \n",
      "val error :  tensor([-1.6749e-01,  1.3313e-02,  3.5075e+00,  7.1238e+01,  1.3314e-01],\n",
      "       grad_fn=<MeanBackward1>)\n",
      "EarlyStopping counter: 2 out of 20\n"
     ]
    },
    {
     "name": "stderr",
     "output_type": "stream",
     "text": [
      "\r",
      " 44%|████████████████████████████████████                                              | 22/50 [00:44<00:57,  2.07s/it]"
     ]
    },
    {
     "name": "stdout",
     "output_type": "stream",
     "text": [
      "batch :  9\n",
      "loss :  tensor(17.2364, grad_fn=<MseLossBackward>) \n",
      "val loss :  tensor(21.8737, grad_fn=<MseLossBackward>) \n",
      "\n",
      "error :  tensor([-0.1119, -0.0999,  0.4118,  0.6822,  0.1437], grad_fn=<MeanBackward1>) \n",
      "val error :  tensor([-2.7860e-01, -1.7603e-01,  6.8371e-01,  6.2901e+01, -7.6762e-03],\n",
      "       grad_fn=<MeanBackward1>)\n",
      "EarlyStopping counter: 3 out of 20\n"
     ]
    },
    {
     "name": "stderr",
     "output_type": "stream",
     "text": [
      "\r",
      " 46%|█████████████████████████████████████▋                                            | 23/50 [00:46<00:55,  2.04s/it]"
     ]
    },
    {
     "name": "stdout",
     "output_type": "stream",
     "text": [
      "batch :  9\n",
      "loss :  tensor(17.1416, grad_fn=<MseLossBackward>) \n",
      "val loss :  tensor(13.9223, grad_fn=<MseLossBackward>) \n",
      "\n",
      "error :  tensor([-0.0858, -0.0866, 15.9680,  0.7347, -0.0333], grad_fn=<MeanBackward1>) \n",
      "val error :  tensor([-0.1174, -0.1042,  0.7692,  2.1237, -0.3273], grad_fn=<MeanBackward1>)\n",
      "EarlyStopping counter: 4 out of 20\n"
     ]
    },
    {
     "name": "stderr",
     "output_type": "stream",
     "text": [
      "\r",
      " 48%|███████████████████████████████████████▎                                          | 24/50 [00:49<00:53,  2.05s/it]"
     ]
    },
    {
     "name": "stdout",
     "output_type": "stream",
     "text": [
      "batch :  9\n",
      "loss :  tensor(16.7642, grad_fn=<MseLossBackward>) \n",
      "val loss :  tensor(14.2736, grad_fn=<MseLossBackward>) \n",
      "\n",
      "error :  tensor([-0.0189, -0.1692,  0.1896,  0.0857, -0.1163], grad_fn=<MeanBackward1>) \n",
      "val error :  tensor([-0.0746, -0.1928,  0.8387,  0.8350, -0.0492], grad_fn=<MeanBackward1>)\n",
      "EarlyStopping counter: 5 out of 20\n"
     ]
    },
    {
     "name": "stderr",
     "output_type": "stream",
     "text": [
      "\r",
      " 50%|█████████████████████████████████████████                                         | 25/50 [00:51<00:50,  2.03s/it]"
     ]
    },
    {
     "name": "stdout",
     "output_type": "stream",
     "text": [
      "batch :  9\n",
      "loss :  tensor(18.4752, grad_fn=<MseLossBackward>) \n",
      "val loss :  tensor(17.1137, grad_fn=<MseLossBackward>) \n",
      "\n",
      "error :  tensor([-0.1694, -0.2140,  0.2241, -0.3179, -0.0894], grad_fn=<MeanBackward1>) \n",
      "val error :  tensor([-0.2163, -0.0034,  1.3532,  1.9442,  0.0511], grad_fn=<MeanBackward1>)\n",
      "EarlyStopping counter: 6 out of 20\n"
     ]
    },
    {
     "name": "stderr",
     "output_type": "stream",
     "text": [
      "\r",
      " 52%|██████████████████████████████████████████▋                                       | 26/50 [00:53<00:48,  2.01s/it]"
     ]
    },
    {
     "name": "stdout",
     "output_type": "stream",
     "text": [
      "batch :  9\n",
      "loss :  tensor(19.3229, grad_fn=<MseLossBackward>) \n",
      "val loss :  tensor(20.3294, grad_fn=<MseLossBackward>) \n",
      "\n",
      "error :  tensor([-0.1369, -0.1036,  0.6098,  1.9006, -0.0661], grad_fn=<MeanBackward1>) \n",
      "val error :  tensor([-0.2109, -0.0931,  3.9596,  0.5391, -0.2470], grad_fn=<MeanBackward1>)\n",
      "EarlyStopping counter: 7 out of 20\n"
     ]
    },
    {
     "name": "stderr",
     "output_type": "stream",
     "text": [
      "\r",
      " 54%|████████████████████████████████████████████▎                                     | 27/50 [00:54<00:46,  2.00s/it]"
     ]
    },
    {
     "name": "stdout",
     "output_type": "stream",
     "text": [
      "batch :  9\n",
      "loss :  tensor(15.3497, grad_fn=<MseLossBackward>) \n",
      "val loss :  tensor(15.3168, grad_fn=<MseLossBackward>) \n",
      "\n",
      "error :  tensor([-0.1350, -0.1971, -0.1742,  0.0491, -0.0829], grad_fn=<MeanBackward1>) \n",
      "val error :  tensor([-0.2206, -0.1622,  2.0796,  0.6686, -0.0093], grad_fn=<MeanBackward1>)\n",
      "EarlyStopping counter: 8 out of 20\n"
     ]
    },
    {
     "name": "stderr",
     "output_type": "stream",
     "text": [
      "\r",
      " 56%|█████████████████████████████████████████████▉                                    | 28/50 [00:57<00:45,  2.08s/it]"
     ]
    },
    {
     "name": "stdout",
     "output_type": "stream",
     "text": [
      "batch :  9\n",
      "loss :  tensor(15.5598, grad_fn=<MseLossBackward>) \n",
      "val loss :  tensor(18.8970, grad_fn=<MseLossBackward>) \n",
      "\n",
      "error :  tensor([-0.0455, -0.1919,  1.3390,  0.6240, -0.1843], grad_fn=<MeanBackward1>) \n",
      "val error :  tensor([-0.1579,  0.0528,  0.6670,  1.3224, -0.0825], grad_fn=<MeanBackward1>)\n",
      "EarlyStopping counter: 9 out of 20\n"
     ]
    },
    {
     "name": "stderr",
     "output_type": "stream",
     "text": [
      "\r",
      " 58%|███████████████████████████████████████████████▌                                  | 29/50 [00:59<00:43,  2.07s/it]"
     ]
    },
    {
     "name": "stdout",
     "output_type": "stream",
     "text": [
      "batch :  9\n",
      "loss :  tensor(17.8496, grad_fn=<MseLossBackward>) \n",
      "val loss :  tensor(19.2534, grad_fn=<MseLossBackward>) \n",
      "\n",
      "error :  tensor([-0.2825, -0.2311,  0.0850,  0.3156, -0.1639], grad_fn=<MeanBackward1>) \n",
      "val error :  tensor([-0.1551, -0.1348,  0.9726, -0.4230, -0.1629], grad_fn=<MeanBackward1>)\n",
      "EarlyStopping counter: 10 out of 20\n"
     ]
    },
    {
     "name": "stderr",
     "output_type": "stream",
     "text": [
      "\r",
      " 60%|█████████████████████████████████████████████████▏                                | 30/50 [01:01<00:40,  2.04s/it]"
     ]
    },
    {
     "name": "stdout",
     "output_type": "stream",
     "text": [
      "batch :  9\n",
      "loss :  tensor(17.2490, grad_fn=<MseLossBackward>) \n",
      "val loss :  tensor(14.3264, grad_fn=<MseLossBackward>) \n",
      "\n",
      "error :  tensor([ 0.0474, -0.0247,  1.5727,  3.9179,  0.0392], grad_fn=<MeanBackward1>) \n",
      "val error :  tensor([-0.1576, -0.1376,  1.3590,  0.4419, -0.0177], grad_fn=<MeanBackward1>)\n",
      "EarlyStopping counter: 11 out of 20\n"
     ]
    },
    {
     "name": "stderr",
     "output_type": "stream",
     "text": [
      "\r",
      " 62%|██████████████████████████████████████████████████▊                               | 31/50 [01:03<00:38,  2.01s/it]"
     ]
    },
    {
     "name": "stdout",
     "output_type": "stream",
     "text": [
      "batch :  9\n",
      "loss :  tensor(15.4225, grad_fn=<MseLossBackward>) \n",
      "val loss :  tensor(12.6608, grad_fn=<MseLossBackward>) \n",
      "\n",
      "error :  tensor([-0.0428, -0.0317,  0.1413,  2.9192,  0.0946], grad_fn=<MeanBackward1>) \n",
      "val error :  tensor([ 0.0098, -0.0606,  1.2545,  1.0075,  0.0396], grad_fn=<MeanBackward1>)\n",
      "EarlyStopping counter: 12 out of 20\n"
     ]
    },
    {
     "name": "stderr",
     "output_type": "stream",
     "text": [
      "\r",
      " 64%|████████████████████████████████████████████████████▍                             | 32/50 [01:05<00:35,  1.99s/it]"
     ]
    },
    {
     "name": "stdout",
     "output_type": "stream",
     "text": [
      "batch :  9\n",
      "loss :  tensor(17.4829, grad_fn=<MseLossBackward>) \n",
      "val loss :  tensor(10.2947, grad_fn=<MseLossBackward>) \n",
      "\n",
      "error :  tensor([ 0.1248,  0.0889,  0.0210,  4.1353, -0.0941], grad_fn=<MeanBackward1>) \n",
      "val error :  tensor([-0.0421,  0.0558,  0.8446,  1.1025,  0.1725], grad_fn=<MeanBackward1>)\n",
      "EarlyStopping counter: 13 out of 20\n"
     ]
    },
    {
     "name": "stderr",
     "output_type": "stream",
     "text": [
      "\r",
      " 66%|██████████████████████████████████████████████████████                            | 33/50 [01:07<00:34,  2.02s/it]"
     ]
    },
    {
     "name": "stdout",
     "output_type": "stream",
     "text": [
      "batch :  9\n",
      "loss :  tensor(18.0896, grad_fn=<MseLossBackward>) \n",
      "val loss :  tensor(12.6535, grad_fn=<MseLossBackward>) \n",
      "\n",
      "error :  tensor([ 0.0247, -0.1212,  3.0741,  3.4614,  0.2784], grad_fn=<MeanBackward1>) \n",
      "val error :  tensor([0.0635, 0.0263, 1.9852, 0.3819, 0.0733], grad_fn=<MeanBackward1>)\n",
      "EarlyStopping counter: 14 out of 20\n"
     ]
    },
    {
     "name": "stderr",
     "output_type": "stream",
     "text": [
      "\r",
      " 68%|███████████████████████████████████████████████████████▊                          | 34/50 [01:09<00:32,  2.01s/it]"
     ]
    },
    {
     "name": "stdout",
     "output_type": "stream",
     "text": [
      "batch :  9\n",
      "loss :  tensor(19.5721, grad_fn=<MseLossBackward>) \n",
      "val loss :  tensor(12.8977, grad_fn=<MseLossBackward>) \n",
      "\n",
      "error :  tensor([-0.0752, -0.1315,  0.0620,  0.2347,  0.2073], grad_fn=<MeanBackward1>) \n",
      "val error :  tensor([0.1212, 0.2022, 0.1279, 3.7685, 0.3078], grad_fn=<MeanBackward1>)\n",
      "EarlyStopping counter: 15 out of 20\n"
     ]
    },
    {
     "name": "stderr",
     "output_type": "stream",
     "text": [
      "\r",
      " 70%|█████████████████████████████████████████████████████████▍                        | 35/50 [01:11<00:29,  1.98s/it]"
     ]
    },
    {
     "name": "stdout",
     "output_type": "stream",
     "text": [
      "batch :  9\n",
      "loss :  tensor(11.9718, grad_fn=<MseLossBackward>) \n",
      "val loss :  tensor(13.0633, grad_fn=<MseLossBackward>) \n",
      "\n",
      "error :  tensor([ 0.0486,  0.0599, 12.8829, -0.1529,  0.1133], grad_fn=<MeanBackward1>) \n",
      "val error :  tensor([0.1300, 0.1379, 0.9083, 0.6967, 0.4498], grad_fn=<MeanBackward1>)\n",
      "EarlyStopping counter: 16 out of 20\n"
     ]
    },
    {
     "name": "stderr",
     "output_type": "stream",
     "text": [
      "\r",
      " 72%|███████████████████████████████████████████████████████████                       | 36/50 [01:13<00:27,  1.96s/it]"
     ]
    },
    {
     "name": "stdout",
     "output_type": "stream",
     "text": [
      "batch :  9\n",
      "loss :  tensor(14.4238, grad_fn=<MseLossBackward>) \n",
      "val loss :  tensor(13.5517, grad_fn=<MseLossBackward>) \n",
      "\n",
      "error :  tensor([-0.1937, -0.0980,  4.3543,  0.0172, -0.0198], grad_fn=<MeanBackward1>) \n",
      "val error :  tensor([0.0318, 0.2178, 0.5026, 2.0696, 0.1847], grad_fn=<MeanBackward1>)\n",
      "EarlyStopping counter: 17 out of 20\n"
     ]
    },
    {
     "name": "stderr",
     "output_type": "stream",
     "text": [
      "\r",
      " 74%|████████████████████████████████████████████████████████████▋                     | 37/50 [01:14<00:25,  1.95s/it]"
     ]
    },
    {
     "name": "stdout",
     "output_type": "stream",
     "text": [
      "batch :  9\n",
      "loss :  tensor(13.4082, grad_fn=<MseLossBackward>) \n",
      "val loss :  tensor(14.4960, grad_fn=<MseLossBackward>) \n",
      "\n",
      "error :  tensor([-0.0198, -0.0146,  6.0223,  2.9848,  0.3028], grad_fn=<MeanBackward1>) \n",
      "val error :  tensor([0.1266, 0.1891, 0.9810, 1.4484, 0.2628], grad_fn=<MeanBackward1>)\n",
      "EarlyStopping counter: 18 out of 20\n"
     ]
    },
    {
     "name": "stderr",
     "output_type": "stream",
     "text": [
      "\r",
      " 76%|██████████████████████████████████████████████████████████████▎                   | 38/50 [01:16<00:23,  1.95s/it]"
     ]
    },
    {
     "name": "stdout",
     "output_type": "stream",
     "text": [
      "batch :  9\n",
      "loss :  tensor(14.1208, grad_fn=<MseLossBackward>) \n",
      "val loss :  tensor(20.2912, grad_fn=<MseLossBackward>) \n",
      "\n",
      "error :  tensor([-0.0617, -0.0921,  0.5736,  1.1866, -0.1108], grad_fn=<MeanBackward1>) \n",
      "val error :  tensor([-0.1360, -0.0996,  3.8800,  0.9965, -0.1957], grad_fn=<MeanBackward1>)\n",
      "EarlyStopping counter: 19 out of 20\n",
      "batch :  9\n",
      "loss :  tensor(13.8978, grad_fn=<MseLossBackward>) \n",
      "val loss :  tensor(17.6576, grad_fn=<MseLossBackward>) \n",
      "\n",
      "error :  tensor([ 0.1127,  0.0191,  2.6398,  0.6325, -0.0234], grad_fn=<MeanBackward1>) \n",
      "val error :  tensor([-0.2490, -0.0929,  0.7137,  0.8174, -0.1444], grad_fn=<MeanBackward1>)\n",
      "EarlyStopping counter: 20 out of 20\n",
      "Early stopping\n"
     ]
    }
   ],
   "source": [
    "net = Net()\n",
    "train_loss, valid_loss = train(net, MODEL_NAME, PATIENCE, VALIDATE_EVERY)"
   ]
  },
  {
   "cell_type": "code",
   "execution_count": 11,
   "metadata": {},
   "outputs": [
    {
     "data": {
      "image/png": "[encoded data removed]",
      "text/plain": [
       "<Figure size 720x576 with 1 Axes>"
      ]
     },
     "metadata": {
      "needs_background": "light"
     },
     "output_type": "display_data"
    }
   ],
   "source": [
    "# visualize the loss as the network trained\n",
    "fig = plt.figure(figsize=(10,8))\n",
    "plt.plot(range(1,len(train_loss)+1),train_loss, label='Training Loss')\n",
    "plt.plot(range(1,len(valid_loss)+1),valid_loss,label='Validation Loss')\n",
    "\n",
    "# find position of lowest validation loss\n",
    "minposs = valid_loss.index(min(valid_loss))+1 \n",
    "plt.axvline(minposs, linestyle='--', color='r',label='Early Stopping Checkpoint')\n",
    "\n",
    "plt.xlabel('epochs')\n",
    "plt.ylabel('loss')\n",
    "plt.ylim(0, 100) # consistent scale\n",
    "plt.xlim(0, len(train_loss)+1) # consistent scale\n",
    "plt.grid(True)\n",
    "plt.legend()\n",
    "plt.tight_layout()\n",
    "plt.show()\n",
    "fig.savefig('loss_plot.png', bbox_inches='tight')"
   ]
  },
  {
   "cell_type": "code",
   "execution_count": 52,
   "metadata": {},
   "outputs": [],
   "source": [
    "def test(net):\n",
    "    predictions = []\n",
    "    with torch.no_grad():\n",
    "        for i, sample in enumerate(testloader):\n",
    "            x ,y = sample\n",
    "            x = x.view(-1, 3, IMG_SIZE, IMG_SIZE)\n",
    "            predict = net(x)\n",
    "            predict = np.array(predict)\n",
    "            predictions.append(predict)\n",
    "            #error = predict - labels\n",
    "            #relative_error = error / labels\n",
    "            #predictions = np.array(predictions)\n",
    "            #pred_df = DataFrame(np.array(predictions))\n",
    "            #pred_df.to_csv('prediction.csv')\n",
    "    \n",
    "    #print(predictions)\n",
    "    predictions = np.array(predictions)\n",
    "    predictions = predictions.reshape(-1, 5)\n",
    "    df = DataFrame(predictions)\n",
    "    df.to_csv('predicitons.csv')\n",
    "            #rel_df = DataFrame(relative_error.numpy())\n",
    "            #rel_df.to_csv('error.csv')"
   ]
  },
  {
   "cell_type": "code",
   "execution_count": 53,
   "metadata": {},
   "outputs": [
    {
     "name": "stdout",
     "output_type": "stream",
     "text": [
      "[array([[14.408528 , 14.875278 ,  7.8463087,  7.145646 ,  2.6185865]],\n",
      "      dtype=float32), array([[13.812449 , 14.262942 ,  7.5249834,  6.849246 ,  2.5162094]],\n",
      "      dtype=float32), array([[14.26262  , 14.723856 ,  7.76816  ,  7.0731893,  2.5948582]],\n",
      "      dtype=float32), array([[15.120591 , 15.606199 ,  8.229019 ,  7.501471 ,  2.7367845]],\n",
      "      dtype=float32), array([[14.474114 , 14.94224  ,  7.8816624,  7.1795015,  2.631055 ]],\n",
      "      dtype=float32), array([[15.19247  , 15.678636 ,  8.268939 ,  7.535783 ,  2.7501156]],\n",
      "      dtype=float32), array([[14.958732 , 15.437266 ,  8.144362 ,  7.416491 ,  2.7100716]],\n",
      "      dtype=float32), array([[14.429027 , 14.89684  ,  7.857196 ,  7.1576815,  2.6235006]],\n",
      "      dtype=float32), array([[15.22238  , 15.711544 ,  8.283905 ,  7.554471 ,  2.7579362]],\n",
      "      dtype=float32), array([[13.790433 , 14.237912 ,  7.513514 ,  6.835364 ,  2.5110362]],\n",
      "      dtype=float32), array([[14.959693 , 15.446193 ,  8.142784 ,  7.4266763,  2.717471 ]],\n",
      "      dtype=float32), array([[15.1889925, 15.673627 ,  8.266382 ,  7.5351005,  2.7520542]],\n",
      "      dtype=float32), array([[15.165072 , 15.650725 ,  8.252947 ,  7.525321 ,  2.7494934]],\n",
      "      dtype=float32), array([[15.170337 , 15.65607  ,  8.254718 ,  7.5299397,  2.7518482]],\n",
      "      dtype=float32), array([[14.188304 , 14.6479435,  7.727749 ,  7.035577 ,  2.5807836]],\n",
      "      dtype=float32), array([[15.039905 , 15.524297 ,  8.187583 ,  7.4599915,  2.724941 ]],\n",
      "      dtype=float32), array([[14.543656 , 15.0183   ,  7.917716 ,  7.2188272,  2.6441128]],\n",
      "      dtype=float32), array([[14.970242 , 15.451424 ,  8.151606 ,  7.4225607,  2.7133708]],\n",
      "      dtype=float32), array([[14.727737 , 15.206574 ,  8.0180645,  7.3100653,  2.6770546]],\n",
      "      dtype=float32), array([[15.199457 , 15.687294 ,  8.273584 ,  7.5398273,  2.753617 ]],\n",
      "      dtype=float32), array([[15.224519 , 15.713914 ,  8.284828 ,  7.555295 ,  2.7574322]],\n",
      "      dtype=float32), array([[14.388936 , 14.853989 ,  7.836306 ,  7.1363583,  2.616543 ]],\n",
      "      dtype=float32), array([[14.391864 , 14.858071 ,  7.8367085,  7.1390147,  2.6164556]],\n",
      "      dtype=float32), array([[13.765826 , 14.214564 ,  7.49935  ,  6.8255186,  2.5072691]],\n",
      "      dtype=float32), array([[15.360427 , 15.853965 ,  8.358389 ,  7.6233892,  2.7814944]],\n",
      "      dtype=float32), array([[15.324559 , 15.817319 ,  8.339607 ,  7.6047673,  2.7755477]],\n",
      "      dtype=float32), array([[14.200037 , 14.6610155,  7.733235 ,  7.0433283,  2.5829995]],\n",
      "      dtype=float32), array([[15.03877  , 15.521776 ,  8.186213 ,  7.458651 ,  2.7230074]],\n",
      "      dtype=float32), array([[14.795083 , 15.274295 ,  8.05452  ,  7.34191  ,  2.6885688]],\n",
      "      dtype=float32), array([[14.973224 , 15.453734 ,  8.151705 ,  7.4260535,  2.7134633]],\n",
      "      dtype=float32), array([[15.322095 , 15.817136 ,  8.338598 ,  7.6069565,  2.7803738]],\n",
      "      dtype=float32), array([[15.532391 , 16.033728 ,  8.45135  ,  7.7132025,  2.817239 ]],\n",
      "      dtype=float32), array([[14.383014, 14.84962 ,  7.832198,  7.134281,  2.615362]],\n",
      "      dtype=float32), array([[14.405073 , 14.871757 ,  7.8444223,  7.14619  ,  2.620157 ]],\n",
      "      dtype=float32), array([[14.971256 , 15.450902 ,  8.150467 ,  7.4241095,  2.712125 ]],\n",
      "      dtype=float32), array([[14.962718 , 15.446956 ,  8.144684 ,  7.4269056,  2.7179518]],\n",
      "      dtype=float32), array([[14.53431  , 15.004842 ,  7.91427  ,  7.209625 ,  2.6416242]],\n",
      "      dtype=float32), array([[15.190406 , 15.677799 ,  8.267716 ,  7.537137 ,  2.7522614]],\n",
      "      dtype=float32), array([[14.102075 , 14.562263 ,  7.680411 ,  6.995715 ,  2.5667078]],\n",
      "      dtype=float32), array([[14.383796 , 14.850205 ,  7.8330765,  7.1349087,  2.616226 ]],\n",
      "      dtype=float32), array([[15.064038 , 15.545899 ,  8.201616 ,  7.468222 ,  2.7281158]],\n",
      "      dtype=float32), array([[14.693365 , 15.169566 ,  7.999486 ,  7.291342 ,  2.6707053]],\n",
      "      dtype=float32), array([[15.346025 , 15.836812 ,  8.350887 ,  7.6141176,  2.7774394]],\n",
      "      dtype=float32), array([[15.231655 , 15.720597 ,  8.289512 ,  7.5575147,  2.757733 ]],\n",
      "      dtype=float32), array([[15.1725855, 15.659661 ,  8.259373 ,  7.5251884,  2.7472122]],\n",
      "      dtype=float32), array([[15.082472 , 15.564369 ,  8.209784 ,  7.4800844,  2.7321727]],\n",
      "      dtype=float32), array([[14.186399 , 14.645478 ,  7.726748 ,  7.035717 ,  2.5811496]],\n",
      "      dtype=float32), array([[15.1842165, 15.670615 ,  8.264296 ,  7.5325317,  2.7490394]],\n",
      "      dtype=float32), array([[14.632807 , 15.105587 ,  7.96679  ,  7.2595134,  2.6588852]],\n",
      "      dtype=float32), array([[15.206549 , 15.694887 ,  8.276255 ,  7.545192 ,  2.7556047]],\n",
      "      dtype=float32), array([[15.349368 , 15.842472 ,  8.354179 ,  7.615226 ,  2.7793534]],\n",
      "      dtype=float32), array([[14.191107 , 14.653501 ,  7.7276144,  7.0399847,  2.5814636]],\n",
      "      dtype=float32), array([[15.082486 , 15.566691 ,  8.208958 ,  7.4825387,  2.7309654]],\n",
      "      dtype=float32), array([[14.841819 , 15.323472 ,  8.079574 ,  7.3660707,  2.696584 ]],\n",
      "      dtype=float32), array([[14.346776 , 14.815048 ,  7.8114004,  7.1184373,  2.6080558]],\n",
      "      dtype=float32), array([[14.927136 , 15.407252 ,  8.126534 ,  7.4041257,  2.7060509]],\n",
      "      dtype=float32), array([[14.428572 , 14.899299 ,  7.855691 ,  7.159493 ,  2.6227005]],\n",
      "      dtype=float32), array([[15.020947 , 15.501359 ,  8.177468 ,  7.448764 ,  2.7220917]],\n",
      "      dtype=float32), array([[15.341401 , 15.832227 ,  8.348235 ,  7.612852 ,  2.7780535]],\n",
      "      dtype=float32), array([[15.354225 , 15.845654 ,  8.354262 ,  7.6202464,  2.7799428]],\n",
      "      dtype=float32), array([[14.899955 , 15.381545 ,  8.111355 ,  7.3943615,  2.7068174]],\n",
      "      dtype=float32), array([[15.253646, 15.741361,  8.302418,  7.566317,  2.762015]],\n",
      "      dtype=float32), array([[14.321476 , 14.78821  ,  7.7977405,  7.10546  ,  2.603666 ]],\n",
      "      dtype=float32), array([[14.798545 , 15.276038 ,  8.056416 ,  7.3421516,  2.6877816]],\n",
      "      dtype=float32), array([[15.013322 , 15.499468 ,  8.171911 ,  7.4522676,  2.7260013]],\n",
      "      dtype=float32), array([[14.238793 , 14.701187 ,  7.7540903,  7.0624323,  2.5898037]],\n",
      "      dtype=float32), array([[15.070722 , 15.554664 ,  8.204117 ,  7.474777 ,  2.7299197]],\n",
      "      dtype=float32), array([[15.138086 , 15.629353 ,  8.238871 ,  7.51674  ,  2.7493837]],\n",
      "      dtype=float32), array([[14.547925 , 15.021365 ,  7.9205866,  7.219172 ,  2.6446202]],\n",
      "      dtype=float32), array([[14.543023 , 15.014284 ,  7.918869 ,  7.215392 ,  2.6442804]],\n",
      "      dtype=float32), array([[14.080168 , 14.536153 ,  7.669658 ,  6.9806614,  2.5620997]],\n",
      "      dtype=float32), array([[14.341752 , 14.802743 ,  7.8093033,  7.1091304,  2.5995443]],\n",
      "      dtype=float32), array([[15.0182   , 15.498334 ,  8.176346 ,  7.4457884,  2.7195842]],\n",
      "      dtype=float32), array([[15.133224 , 15.618425 ,  8.23642  ,  7.5068216,  2.7386205]],\n",
      "      dtype=float32), array([[14.716988 , 15.194636 ,  8.012213 ,  7.3032107,  2.674115 ]],\n",
      "      dtype=float32), array([[14.868823 , 15.34736  ,  8.096348 ,  7.3717403,  2.6940038]],\n",
      "      dtype=float32), array([[15.134335 , 15.619002 ,  8.236738 ,  7.5083065,  2.7409487]],\n",
      "      dtype=float32), array([[14.26894  , 14.73372  ,  7.7700157,  7.079418 ,  2.5959537]],\n",
      "      dtype=float32), array([[14.52686  , 14.996392 ,  7.909689 ,  7.2063503,  2.6399696]],\n",
      "      dtype=float32), array([[15.320761 , 15.810888 ,  8.337063 ,  7.6036987,  2.7762692]],\n",
      "      dtype=float32), array([[15.063823 , 15.549051 ,  8.201048 ,  7.4709167,  2.7286937]],\n",
      "      dtype=float32), array([[14.246003 , 14.708803 ,  7.7586555,  7.066507 ,  2.5921323]],\n",
      "      dtype=float32), array([[15.122171 , 15.607949 ,  8.230724 ,  7.502519 ,  2.7396433]],\n",
      "      dtype=float32), array([[15.09149  , 15.574513 ,  8.2156315,  7.4842596,  2.7335088]],\n",
      "      dtype=float32), array([[15.239941 , 15.727805 ,  8.292912 ,  7.5623426,  2.760814 ]],\n",
      "      dtype=float32), array([[15.110192 , 15.593419 ,  8.225674 ,  7.491841 ,  2.7344224]],\n",
      "      dtype=float32), array([[15.251133, 15.740884,  8.299898,  7.567873,  2.762162]],\n",
      "      dtype=float32), array([[15.001237 , 15.4874735,  8.16513  ,  7.4466133,  2.7244124]],\n",
      "      dtype=float32), array([[15.168111 , 15.655812 ,  8.256316 ,  7.524827 ,  2.7477987]],\n",
      "      dtype=float32), array([[14.795232 , 15.275899 ,  8.054165 ,  7.344043 ,  2.6887665]],\n",
      "      dtype=float32), array([[14.24858  , 14.710157 ,  7.760224 ,  7.0658264,  2.5914452]],\n",
      "      dtype=float32), array([[14.438428 , 14.908238 ,  7.861759 ,  7.1640215,  2.6255906]],\n",
      "      dtype=float32), array([[13.613839 , 14.0582075,  7.4178753,  6.748865 ,  2.481019 ]],\n",
      "      dtype=float32), array([[15.190951 , 15.679983 ,  8.266812 ,  7.539112 ,  2.7530663]],\n",
      "      dtype=float32), array([[15.043901 , 15.526601 ,  8.188503 ,  7.4632816,  2.7258546]],\n",
      "      dtype=float32), array([[13.797661 , 14.24627  ,  7.517014 ,  6.840242 ,  2.5128014]],\n",
      "      dtype=float32), array([[14.952023 , 15.430928 ,  8.140713 ,  7.4145436,  2.7103527]],\n",
      "      dtype=float32), array([[15.213351 , 15.700981 ,  8.281124 ,  7.5459375,  2.7548192]],\n",
      "      dtype=float32), array([[14.837926 , 15.321402 ,  8.076189 ,  7.366532 ,  2.6957238]],\n",
      "      dtype=float32), array([[15.024442 , 15.510407 ,  8.177628 ,  7.4574523,  2.7279978]],\n",
      "      dtype=float32)]\n"
     ]
    }
   ],
   "source": [
    "test(net)"
   ]
  },
  {
   "cell_type": "code",
   "execution_count": null,
   "metadata": {},
   "outputs": [],
   "source": []
  }
 ],
 "metadata": {
  "kernelspec": {
   "display_name": "Python 3",
   "language": "python",
   "name": "python3"
  },
  "language_info": {
   "codemirror_mode": {
    "name": "ipython",
    "version": 3
   },
   "file_extension": ".py",
   "mimetype": "text/x-python",
   "name": "python",
   "nbconvert_exporter": "python",
   "pygments_lexer": "ipython3",
   "version": "3.7.5"
  }
 },
 "nbformat": 4,
 "nbformat_minor": 2
}
